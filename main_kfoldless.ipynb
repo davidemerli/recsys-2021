{
 "cells": [
  {
   "cell_type": "code",
   "execution_count": 9,
   "metadata": {},
   "outputs": [
    {
     "name": "stdout",
     "output_type": "stream",
     "text": [
      "env: OPENBLAS_NUM_THREADS=1\n"
     ]
    }
   ],
   "source": [
    "# from Recommenders.Hybrid.SimilarityMergedHybridRecommender import SimilarityMergedHybridRecommender\n",
    "# from src.GraphBased.P3alphaRecommender import P3alphaRecommender\n",
    "from Recommenders.GraphBased.RP3betaCBFRecommender import RP3betaCBFRecommender\n",
    "from Recommenders.KNN.ItemKNNCFRecommender import ItemKNNCFRecommender\n",
    "from Recommenders.MatrixFactorization.PureSVDRecommender import PureSVDItemRecommender\n",
    "from Recommenders.Hybrid.GeneralizedMergedHybridRecommender import (\n",
    "    GeneralizedMergedHybridRecommender,\n",
    ")\n",
    "from Recommenders.SLIM.SLIMElasticNetRecommender import MultiThreadSLIM_ElasticNet\n",
    "from Recommenders.Implicit.FeatureCombinedImplicitALSRecommender import (\n",
    "    FeatureCombinedImplicitALSRecommender,\n",
    ")\n",
    "from Recommenders.Hybrid.GeneralizedSimilarityMergedHybridRecommender import (\n",
    "    GeneralizedSimilarityMergedHybridRecommender,\n",
    ")\n",
    "from Utils.ICM_preprocessing import *\n",
    "from Utils.data_loader import load_URM, load_ICM\n",
    "from Utils.confidence_scaling import *\n",
    "from Utils.write_submission import write_submission\n",
    "from Data_manager.split_functions.split_train_validation_random_holdout import (\n",
    "    split_train_in_two_percentage_global_sample,\n",
    ")\n",
    "from Evaluation.K_Fold_Evaluator import K_Fold_Evaluator_MAP\n",
    "from bayes_opt import BayesianOptimization\n",
    "\n",
    "from Evaluation.Evaluator import EvaluatorHoldout\n",
    "from tqdm import tqdm\n",
    "%env OPENBLAS_NUM_THREADS=1\n"
   ]
  },
  {
   "cell_type": "code",
   "execution_count": 2,
   "metadata": {},
   "outputs": [],
   "source": [
    "URM_all = load_URM(\"input/data_train.csv\")\n",
    "ICM_channel = load_ICM(\"input/data_ICM_channel.csv\")\n",
    "ICM_subgenre = load_ICM(\"input/data_ICM_subgenre.csv\")\n",
    "ICM_genre = load_ICM(\"input/data_ICM_genre.csv\")\n",
    "ICM_event = load_ICM(\"input/data_ICM_event.csv\")\n",
    "\n",
    "ICM_combined_channel = combine(ICM=ICM_channel, URM = URM_all)\n",
    "ICM_combined_genre = combine(ICM=ICM_genre, URM = URM_all)\n",
    "ICM_combined_subgenre = combine(ICM=ICM_subgenre, URM = URM_all)\n",
    "ICM_combined_event = combine(ICM=ICM_event, URM = URM_all)\n"
   ]
  },
  {
   "cell_type": "code",
   "execution_count": 34,
   "metadata": {},
   "outputs": [
    {
     "name": "stdout",
     "output_type": "stream",
     "text": [
      "(13650, 18059) (18059, 213) (18059, 113) (18059, 8) (18059, 358070)\n"
     ]
    }
   ],
   "source": [
    "print(URM_all.shape, ICM_channel.shape, ICM_subgenre.shape, ICM_genre.shape, ICM_event.shape)"
   ]
  },
  {
   "cell_type": "code",
   "execution_count": 3,
   "metadata": {},
   "outputs": [
    {
     "name": "stdout",
     "output_type": "stream",
     "text": [
      "Warning: 9 (0.07 %) of 13650 users have no sampled items\n"
     ]
    }
   ],
   "source": [
    "URM_train, URM_validation = split_train_in_two_percentage_global_sample(\n",
    "    URM_all, train_percentage=0.80\n",
    ")\n"
   ]
  },
  {
   "cell_type": "code",
   "execution_count": 4,
   "metadata": {},
   "outputs": [],
   "source": [
    "# evaluator_validation = K_Fold_Evaluator_MAP(\n",
    "#     URM_validation, cutoff_list=[10], verbose=False\n",
    "# )\n",
    "\n",
    "#ICM_combined = combine(ICM=ICM_all, URM=URM_train)\n"
   ]
  },
  {
   "cell_type": "code",
   "execution_count": 5,
   "metadata": {},
   "outputs": [],
   "source": [
    "# IALS_recommender_channel = FeatureCombinedImplicitALSRecommender(\n",
    "#     URM_train=URM_train, ICM_train=ICM_channel, verbose=True\n",
    "#     )\n",
    "\n",
    "# IALS_recommender_channel.fit(\n",
    "#     factors=int(398.601583855084),\n",
    "#     regularization=0.01,\n",
    "#     use_gpu=False,\n",
    "#     iterations=int(94.22855449116447),\n",
    "#     num_threads=6,\n",
    "#     confidence_scaling=linear_scaling_confidence,\n",
    "#     **{\n",
    "#         \"URM\": {\"alpha\": 42.07374324671451}, \n",
    "#         \"ICM\": {\"alpha\": 41.72067133975204}}\n",
    "# )\n",
    "\n",
    "# #-----------------------------------------\n",
    "# IALS_recommender_subgenre = FeatureCombinedImplicitALSRecommender(\n",
    "#     URM_train=URM_train, ICM_train=ICM_subgenre, verbose=True\n",
    "#     )\n",
    "\n",
    "# IALS_recommender_subgenre.fit(\n",
    "#     factors=int(398.601583855084),\n",
    "#     regularization=0.01,\n",
    "#     use_gpu=False,\n",
    "#     iterations=int(94.22855449116447),\n",
    "#     num_threads=6,\n",
    "#     confidence_scaling=linear_scaling_confidence,\n",
    "#     **{\n",
    "#         \"URM\": {\"alpha\": 42.07374324671451}, \n",
    "#         \"ICM\": {\"alpha\": 41.72067133975204}}\n",
    "# )\n",
    "\n",
    "# #-----------------------------------------\n",
    "# IALS_recommender_genre = FeatureCombinedImplicitALSRecommender(\n",
    "#     URM_train=URM_train, ICM_train=ICM_genre, verbose=True\n",
    "#     )\n",
    "\n",
    "# IALS_recommender_genre.fit(\n",
    "#     factors=int(398.601583855084),\n",
    "#     regularization=0.01,\n",
    "#     use_gpu=False,\n",
    "#     iterations=int(94.22855449116447),\n",
    "#     num_threads=6,\n",
    "#     confidence_scaling=linear_scaling_confidence,\n",
    "#     **{\n",
    "#         \"URM\": {\"alpha\": 42.07374324671451}, \n",
    "#         \"ICM\": {\"alpha\": 41.72067133975204}}\n",
    "# )\n",
    "# #-------------------------------------------\n",
    "# IALS_recommender_event = FeatureCombinedImplicitALSRecommender(\n",
    "#     URM_train=URM_train, ICM_train=ICM_event, verbose=True\n",
    "#     )\n",
    "\n",
    "# IALS_recommender_event.fit(\n",
    "#     factors=int(398.601583855084),\n",
    "#     regularization=0.01,\n",
    "#     use_gpu=False,\n",
    "#     iterations=int(94.22855449116447),\n",
    "#     num_threads=6,\n",
    "#     confidence_scaling=linear_scaling_confidence,\n",
    "#     **{\n",
    "#         \"URM\": {\"alpha\": 42.07374324671451}, \n",
    "#         \"ICM\": {\"alpha\": 41.72067133975204}}\n",
    "# )\n"
   ]
  },
  {
   "cell_type": "code",
   "execution_count": 6,
   "metadata": {},
   "outputs": [],
   "source": [
    "rp3betaCBF_recommender_subgenre =  RP3betaCBFRecommender(\n",
    "        URM_train=URM_train, \n",
    "        ICM_train=ICM_combined_subgenre, \n",
    "        verbose=False\n",
    ")\n",
    "\n",
    "#-------------------------\n",
    "rp3betaCBF_recommender_genre =  RP3betaCBFRecommender(\n",
    "        URM_train=URM_train, \n",
    "        ICM_train=ICM_combined_genre, \n",
    "        verbose=False\n",
    ")\n",
    "#-------------------------\n",
    "rp3betaCBF_recommender_channel=  RP3betaCBFRecommender(\n",
    "        URM_train=URM_train, \n",
    "        ICM_train=ICM_combined_channel, \n",
    "        verbose=False\n",
    ")\n",
    "#-------------------------\n",
    "rp3betaCBF_recommender_event =  RP3betaCBFRecommender(\n",
    "        URM_train=URM_train, \n",
    "        ICM_train=ICM_combined_event, \n",
    "        verbose=False\n",
    ")\n",
    "\n",
    "rp3beta_recommenders = [rp3betaCBF_recommender_subgenre, rp3betaCBF_recommender_genre, rp3betaCBF_recommender_channel, rp3betaCBF_recommender_event]"
   ]
  },
  {
   "cell_type": "code",
   "execution_count": 38,
   "metadata": {},
   "outputs": [
    {
     "name": "stderr",
     "output_type": "stream",
     "text": [
      "100%|██████████| 4/4 [01:47<00:00, 26.81s/it]\n"
     ]
    }
   ],
   "source": [
    "for rp3 in tqdm(rp3beta_recommenders):\n",
    "    rp3.fit(\n",
    "        topK=int(529.1628484087545),\n",
    "        alpha=0.7,\n",
    "        beta=0.3,\n",
    "        implicit=True,\n",
    "    )\n"
   ]
  },
  {
   "cell_type": "code",
   "execution_count": 39,
   "metadata": {},
   "outputs": [
    {
     "name": "stdout",
     "output_type": "stream",
     "text": [
      "EvaluatorHoldout: Ignoring 13641 ( 0.1%) Users that have less than 1 test interactions\n"
     ]
    }
   ],
   "source": [
    "evaluator_validation = EvaluatorHoldout(URM_validation, cutoff_list=[10])"
   ]
  },
  {
   "cell_type": "code",
   "execution_count": 40,
   "metadata": {},
   "outputs": [
    {
     "name": "stderr",
     "output_type": "stream",
     "text": [
      "  0%|          | 0/4 [00:00<?, ?it/s]"
     ]
    },
    {
     "name": "stdout",
     "output_type": "stream",
     "text": [
      "EvaluatorHoldout: Processed 13641 (100.0%) in 6.99 sec. Users per second: 1953\n"
     ]
    },
    {
     "name": "stderr",
     "output_type": "stream",
     "text": [
      " 25%|██▌       | 1/4 [00:06<00:20,  6.99s/it]"
     ]
    },
    {
     "name": "stdout",
     "output_type": "stream",
     "text": [
      "0.20912788011864294\n",
      "EvaluatorHoldout: Processed 13641 (100.0%) in 6.90 sec. Users per second: 1977\n"
     ]
    },
    {
     "name": "stderr",
     "output_type": "stream",
     "text": [
      " 50%|█████     | 2/4 [00:13<00:13,  6.94s/it]"
     ]
    },
    {
     "name": "stdout",
     "output_type": "stream",
     "text": [
      "0.20904076820230313\n",
      "EvaluatorHoldout: Processed 13641 (100.0%) in 7.12 sec. Users per second: 1917\n"
     ]
    },
    {
     "name": "stderr",
     "output_type": "stream",
     "text": [
      " 75%|███████▌  | 3/4 [00:21<00:07,  7.02s/it]"
     ]
    },
    {
     "name": "stdout",
     "output_type": "stream",
     "text": [
      "0.2091322640778324\n",
      "EvaluatorHoldout: Processed 13641 (100.0%) in 6.87 sec. Users per second: 1986\n"
     ]
    },
    {
     "name": "stderr",
     "output_type": "stream",
     "text": [
      "100%|██████████| 4/4 [00:27<00:00,  6.97s/it]"
     ]
    },
    {
     "name": "stdout",
     "output_type": "stream",
     "text": [
      "0.20844995188408524\n"
     ]
    },
    {
     "name": "stderr",
     "output_type": "stream",
     "text": [
      "\n"
     ]
    }
   ],
   "source": [
    "for rp3 in tqdm(rp3beta_recommenders):\n",
    "    result_df, _ = evaluator_validation.evaluateRecommender(rp3)\n",
    "    print(result_df.loc[10][\"MAP\"])"
   ]
  },
  {
   "cell_type": "code",
   "execution_count": 41,
   "metadata": {},
   "outputs": [],
   "source": [
    "#write_submission(recommender=recommender, target_users_path=\"input/data_target_users_test.csv\",\n",
    "#                    out_path='output/{}_submission.csv'.format(recommender.RECOMMENDER_NAME))"
   ]
  },
  {
   "cell_type": "code",
   "execution_count": 42,
   "metadata": {},
   "outputs": [],
   "source": [
    "#print('output/{}_submission.csv'.format(recommender.RECOMMENDER_NAME))"
   ]
  },
  {
   "cell_type": "code",
   "execution_count": 43,
   "metadata": {},
   "outputs": [],
   "source": [
    "# p3alpha_recommender = P3alphaRecommender(\n",
    "#     URM_train=URM_all,\n",
    "#     verbose=False\n",
    "# )\n",
    "#\n",
    "# p3alpha_recommender.fit(\n",
    "#     topK=int(212.8832860130684),\n",
    "#     alpha=0.4729294763382114,\n",
    "#     implicit=True\n",
    "# )\n"
   ]
  },
  {
   "cell_type": "code",
   "execution_count": 44,
   "metadata": {},
   "outputs": [],
   "source": [
    "# RP3 BETA (Combined) -----------------------------------------\n",
    "\n",
    "# rp3betaCombined_recommender= RP3betaCBFRecommender(\n",
    "#     URM_train=URM_all,\n",
    "#     ICM_train=ICM_combined,\n",
    "#     verbose=False\n",
    "# )\n",
    "\n",
    "# rp3betaCombined_recommender.fit(\n",
    "#     topK=int(529.1628484087545),\n",
    "#     alpha=0.45304737831676245,\n",
    "#     beta=0.226647894170121,\n",
    "#     implicit=True\n",
    "# )\n"
   ]
  },
  {
   "cell_type": "code",
   "execution_count": 45,
   "metadata": {},
   "outputs": [],
   "source": [
    "# IALS -----------------------------------------\n",
    "\n",
    "# IALS_recommender= FeatureCombinedImplicitALSRecommender(\n",
    "#     URM_train=URM_all,\n",
    "#     ICM_train=ICM_all,\n",
    "#     verbose=True\n",
    "# )\n",
    "\n",
    "# IALS_recommender.fit(\n",
    "#     factors=int(398.601583855084),\n",
    "#     regularization=0.01,\n",
    "#     use_gpu=False,\n",
    "#     iterations=int(94.22855449116447),\n",
    "#     num_threads=6,\n",
    "#     confidence_scaling=linear_scaling_confidence,\n",
    "#     **{\n",
    "#         'URM': {\"alpha\": 42.07374324671451},\n",
    "#         'ICM': {\"alpha\": 41.72067133975204}\n",
    "#     }\n",
    "# )\n"
   ]
  },
  {
   "cell_type": "code",
   "execution_count": 46,
   "metadata": {},
   "outputs": [],
   "source": [
    "# SLIM -----------------------------------------\n",
    "\n",
    "# SLIM_recommender = MultiThreadSLIM_ElasticNet(\n",
    "#         URM_train=ICM_combined.T,\n",
    "#         verbose=False\n",
    "#     )\n",
    "\n",
    "# SLIM_recommender.fit(\n",
    "#     alpha=0.00026894910579512645,\n",
    "#     l1_ratio=0.08074126876487486,\n",
    "#     topK=int(395.376118479588),\n",
    "#     workers=6\n",
    "# )\n",
    "\n",
    "# SLIM_recommender.URM_train = URM_all\n"
   ]
  },
  {
   "cell_type": "code",
   "execution_count": 47,
   "metadata": {},
   "outputs": [],
   "source": [
    "# OTHER STUFF ----------------------------------\n",
    "\n",
    "# rp3betaCBF_recommender= RP3betaCBFRecommender(\n",
    "#     URM_train=URM_all,\n",
    "#     ICM_train=ICM_all,\n",
    "#     verbose=False\n",
    "# )\n",
    "#\n",
    "# rp3betaCBF_recommender.fit(\n",
    "#     topK=int(117.1),\n",
    "#     alpha=0.9882,\n",
    "#     beta=0.7703,\n",
    "#     implicit=False\n",
    "# )\n",
    "\n",
    "# itemKNN_recommender= ItemKNNCFRecommender(\n",
    "#     URM_train=URM_all,\n",
    "#     verbose=False\n",
    "# )\n",
    "#\n",
    "# itemKNN_recommender.fit(\n",
    "#     topK=100,\n",
    "#     shrink=50\n",
    "# )\n",
    "#\n",
    "# pureSVD_recommender= PureSVDItemRecommender(\n",
    "#     URM_train=URM_all,\n",
    "#     verbose=False\n",
    "# )\n",
    "#\n",
    "#\n",
    "# pureSVD_recommender.fit(\n",
    "#     num_factors=772,\n",
    "#     topK= 599\n",
    "# )\n"
   ]
  },
  {
   "cell_type": "code",
   "execution_count": 48,
   "metadata": {},
   "outputs": [],
   "source": [
    "# Generalized Merged Hybrid -----------------------------------------\n",
    "\n",
    "recommender = GeneralizedMergedHybridRecommender(\n",
    "    URM_train=URM_train,\n",
    "    recommenders=[\n",
    "        rp3betaCBF_recommender_subgenre,\n",
    "        rp3betaCBF_recommender_channel\n",
    "    ],\n",
    "    verbose=False\n",
    ")\n"
   ]
  },
  {
   "cell_type": "code",
   "execution_count": 49,
   "metadata": {},
   "outputs": [],
   "source": [
    "recommender.fit(\n",
    "    alphas=[\n",
    "        0.9,\n",
    "        0.1\n",
    "    ]\n",
    ")\n"
   ]
  },
  {
   "cell_type": "code",
   "execution_count": 50,
   "metadata": {},
   "outputs": [
    {
     "name": "stdout",
     "output_type": "stream",
     "text": [
      "EvaluatorHoldout: Processed 13641 (100.0%) in 10.27 sec. Users per second: 1329\n",
      "0.20917159171172794\n"
     ]
    }
   ],
   "source": [
    "result_df, _ = evaluator_validation.evaluateRecommender(recommender)\n",
    "print(result_df.loc[10][\"MAP\"])"
   ]
  },
  {
   "cell_type": "code",
   "execution_count": 51,
   "metadata": {},
   "outputs": [],
   "source": [
    "# write_submission(recommender=recommender, target_users_path=\"input/data_target_users_test.csv\",\n",
    "#                     out_path='output/{}_submission.csv'.format(recommender.RECOMMENDER_NAME))\n"
   ]
  }
 ],
 "metadata": {
  "interpreter": {
   "hash": "132c138808ab9756e2bef2b134cfc077b14fd347b0b11605502e12e9dfc3f6d2"
  },
  "kernelspec": {
   "display_name": "Python 3.9.7 64-bit ('base': conda)",
   "language": "python",
   "name": "python3"
  },
  "language_info": {
   "codemirror_mode": {
    "name": "ipython",
    "version": 3
   },
   "file_extension": ".py",
   "mimetype": "text/x-python",
   "name": "python",
   "nbconvert_exporter": "python",
   "pygments_lexer": "ipython3",
   "version": "3.9.7"
  },
  "orig_nbformat": 4
 },
 "nbformat": 4,
 "nbformat_minor": 2
}
