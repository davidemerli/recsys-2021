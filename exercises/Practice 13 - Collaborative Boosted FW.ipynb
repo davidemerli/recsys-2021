{
 "cells": [
  {
   "cell_type": "markdown",
   "metadata": {},
   "source": [
    "# Recommender Systems 2020/21\n",
    "\n",
    "### Practice - Collaborative Boosted FW\n",
    "\n",
    "\n",
    "### Underlying idea... the way to capture the feature importance from the user point of view, is to... use their point of view (e.g., ratings, collaborative similarity)"
   ]
  },
  {
   "cell_type": "markdown",
   "metadata": {},
   "source": [
    "## A few info about feature weightign techniques\n",
    "\n",
    "* Information retrieval methods (TF-IDF, BM25..) do not optimize a predictive model\n",
    "* Embedding methods (FISM, UFSM, Factorization Machines) optimize everything at the same time, model and weights, but are difficult to train and sensitive to noise\n",
    "* Wrapper methods (LFW, CFW) apply a two step approach approximating an already built collaborative model, more robust and easier to tune\n"
   ]
  },
  {
   "cell_type": "code",
   "execution_count": 1,
   "metadata": {},
   "outputs": [
    {
     "name": "stdout",
     "output_type": "stream",
     "text": [
      "Movielens10M: Verifying data consistency...\n",
      "Movielens10M: Verifying data consistency... Passed!\n",
      "DataReader: current dataset is: <class 'Data_manager.Dataset.Dataset'>\n",
      "\tNumber of items: 10681\n",
      "\tNumber of users: 69878\n",
      "\tNumber of interactions in URM_all: 10000054\n",
      "\tValue range in URM_all: 0.50-5.00\n",
      "\tInteraction density: 1.34E-02\n",
      "\tInteractions per user:\n",
      "\t\t Min: 2.00E+01\n",
      "\t\t Avg: 1.43E+02\n",
      "\t\t Max: 7.36E+03\n",
      "\tInteractions per item:\n",
      "\t\t Min: 0.00E+00\n",
      "\t\t Avg: 9.36E+02\n",
      "\t\t Max: 3.49E+04\n",
      "\tGini Index: 0.57\n",
      "\n",
      "\tICM name: ICM_genres, Value range: 1.00 / 1.00, Num features: 20, feature occurrences: 21564, density 1.01E-01\n",
      "\tICM name: ICM_tags, Value range: 1.00 / 69.00, Num features: 10217, feature occurrences: 108563, density 9.95E-04\n",
      "\tICM name: ICM_all, Value range: 1.00 / 69.00, Num features: 10237, feature occurrences: 130127, density 1.19E-03\n",
      "\n",
      "\n"
     ]
    }
   ],
   "source": [
    "import numpy as np\n",
    "from Data_manager.split_functions.split_train_validation_random_holdout import split_train_in_two_percentage_global_sample\n",
    "from Data_manager.Movielens.Movielens10MReader import Movielens10MReader\n",
    "\n",
    "data_reader = Movielens10MReader()\n",
    "data_loaded = data_reader.load_data()\n",
    "\n",
    "URM_all = data_loaded.get_URM_all()\n",
    "ICM_tags = data_loaded.get_ICM_from_name(\"ICM_tags\")\n",
    "ICM_genres = data_loaded.get_ICM_from_name(\"ICM_genres\")"
   ]
  },
  {
   "cell_type": "code",
   "execution_count": 2,
   "metadata": {},
   "outputs": [],
   "source": [
    "URM_train, URM_test = split_train_in_two_percentage_global_sample(URM_all, train_percentage = 0.8)\n",
    "URM_train, URM_validation = split_train_in_two_percentage_global_sample(URM_train, train_percentage = 0.9)"
   ]
  },
  {
   "cell_type": "markdown",
   "metadata": {},
   "source": [
    "### To shorten the notebook let's use the parameters we computed the previous time (Warning: not very clean, the data split may be different, also, running BayesianSearch multiple times may result in a different solution)"
   ]
  },
  {
   "cell_type": "code",
   "execution_count": 3,
   "metadata": {},
   "outputs": [],
   "source": [
    "best_params_ItemKNNCF = {'topK': 700, 'shrink': 200, 'similarity': 'cosine', 'normalize': True}\n",
    "best_params_ItemKNNCBF = {'topK': 500, 'shrink': 1000, 'similarity': 'cosine', 'normalize': True}"
   ]
  },
  {
   "cell_type": "markdown",
   "metadata": {},
   "source": [
    "### Step 1: Create the two models, collaborative and content based"
   ]
  },
  {
   "cell_type": "code",
   "execution_count": 4,
   "metadata": {},
   "outputs": [
    {
     "name": "stdout",
     "output_type": "stream",
     "text": [
      "ItemKNNCFRecommender: URM Detected 49 (0.46 %) cold items.\n",
      "Similarity column 10681 ( 100 % ), 899.83 column/sec, elapsed time 0.20 min\n",
      "ItemKNNCBFRecommender: URM Detected 49 (0.46 %) cold items.\n",
      "Similarity column 10681 ( 100 % ), 9965.86 column/sec, elapsed time 0.02 min\n"
     ]
    }
   ],
   "source": [
    "from KNN.ItemKNNCFRecommender import ItemKNNCFRecommender\n",
    "from KNN.ItemKNNCBFRecommender import ItemKNNCBFRecommender\n",
    "\n",
    "\n",
    "itemKNNCF = ItemKNNCFRecommender(URM_train)\n",
    "itemKNNCF.fit(**best_params_ItemKNNCF)\n",
    "\n",
    "itemKNNCBF = ItemKNNCBFRecommender(URM_train, ICM_tags)\n",
    "itemKNNCBF.fit(**best_params_ItemKNNCBF)"
   ]
  },
  {
   "cell_type": "markdown",
   "metadata": {},
   "source": [
    "### Question, how the two similarities differ?"
   ]
  },
  {
   "cell_type": "code",
   "execution_count": 5,
   "metadata": {},
   "outputs": [],
   "source": [
    "W_sparse_CF = itemKNNCF.W_sparse\n",
    "W_sparse_CBF = itemKNNCBF.W_sparse"
   ]
  },
  {
   "cell_type": "markdown",
   "metadata": {},
   "source": [
    "## Let's plt the global similarity distribution "
   ]
  },
  {
   "cell_type": "code",
   "execution_count": 6,
   "metadata": {},
   "outputs": [],
   "source": [
    "W_sparse_CF_sorted = np.sort(W_sparse_CF.data.copy())\n",
    "W_sparse_CBF_sorted = np.sort(W_sparse_CBF.data.copy())"
   ]
  },
  {
   "cell_type": "code",
   "execution_count": 7,
   "metadata": {},
   "outputs": [
    {
     "data": {
      "text/plain": [
       "array([7.9525911e-05, 8.0648650e-05, 8.8569628e-05, ..., 5.9590876e-01,\n",
       "       6.0201591e-01, 6.0201591e-01], dtype=float32)"
      ]
     },
     "execution_count": 7,
     "metadata": {},
     "output_type": "execute_result"
    }
   ],
   "source": [
    "W_sparse_CF_sorted"
   ]
  },
  {
   "cell_type": "code",
   "execution_count": 8,
   "metadata": {},
   "outputs": [
    {
     "data": {
      "text/plain": [
       "array([5.2332488e-04, 5.8817206e-04, 5.9291383e-04, ..., 6.8691748e-01,\n",
       "       6.9236338e-01, 6.9236338e-01], dtype=float32)"
      ]
     },
     "execution_count": 8,
     "metadata": {},
     "output_type": "execute_result"
    }
   ],
   "source": [
    "W_sparse_CBF_sorted"
   ]
  },
  {
   "cell_type": "code",
   "execution_count": 9,
   "metadata": {},
   "outputs": [
    {
     "data": {
      "image/png": "[encoded data removed]",
      "text/plain": [
       "<Figure size 432x288 with 1 Axes>"
      ]
     },
     "metadata": {
      "needs_background": "light"
     },
     "output_type": "display_data"
    }
   ],
   "source": [
    "import numpy as np\n",
    "import matplotlib.pyplot as pyplot\n",
    "\n",
    "\n",
    "pyplot.plot(W_sparse_CF_sorted, label = 'CF')\n",
    "pyplot.plot(W_sparse_CBF_sorted, label = 'CBF')\n",
    "pyplot.ylabel('Similarity value')\n",
    "pyplot.xlabel('Sorted similarity index')\n",
    "pyplot.legend()\n",
    "pyplot.show()"
   ]
  },
  {
   "cell_type": "markdown",
   "metadata": {},
   "source": [
    "## Let's now plot the delta for the common values"
   ]
  },
  {
   "cell_type": "code",
   "execution_count": 10,
   "metadata": {},
   "outputs": [],
   "source": [
    "# Get common structure\n",
    "W_sparse_CF_structure = W_sparse_CF.copy()\n",
    "W_sparse_CF_structure.data = np.ones_like(W_sparse_CF_structure.data)\n",
    "\n",
    "W_sparse_CBF_structure = W_sparse_CBF.copy()\n",
    "W_sparse_CBF_structure.data = np.ones_like(W_sparse_CBF_structure.data)\n",
    "\n",
    "W_sparse_common = W_sparse_CF_structure.multiply(W_sparse_CBF_structure)\n",
    "\n",
    "# Get values of both in common structure of CF\n",
    "W_sparse_delta = W_sparse_CBF.copy().multiply(W_sparse_common)\n",
    "W_sparse_delta -= W_sparse_CF.copy().multiply(W_sparse_common)"
   ]
  },
  {
   "cell_type": "code",
   "execution_count": 11,
   "metadata": {},
   "outputs": [],
   "source": [
    "W_sparse_delta_sorted = np.sort(W_sparse_delta.data.copy())"
   ]
  },
  {
   "cell_type": "code",
   "execution_count": 12,
   "metadata": {},
   "outputs": [
    {
     "data": {
      "image/png": "[encoded data removed]",
      "text/plain": [
       "<Figure size 432x288 with 1 Axes>"
      ]
     },
     "metadata": {
      "needs_background": "light"
     },
     "output_type": "display_data"
    }
   ],
   "source": [
    "pyplot.plot(W_sparse_delta_sorted, label = 'delta')\n",
    "pyplot.ylabel('Similarity value')\n",
    "pyplot.xlabel('Sorted similarity index')\n",
    "pyplot.legend()\n",
    "pyplot.show()"
   ]
  },
  {
   "cell_type": "code",
   "execution_count": 13,
   "metadata": {},
   "outputs": [
    {
     "name": "stdout",
     "output_type": "stream",
     "text": [
      "W_sparse_CF has 7.41E+06 values and 10.62 % in common with CBF\n",
      "W_sparse_CBF has 3.10E+06 values and 25.38 % in common with CF\n",
      "W_sparse_delta has 7.87E+05 values\n"
     ]
    }
   ],
   "source": [
    "# How many values we have in common?\n",
    "\n",
    "print(\"W_sparse_CF has {:.2E} values and {:.2f} % in common with CBF\".format(W_sparse_CF.nnz, W_sparse_common.nnz/W_sparse_CF.nnz*100))\n",
    "print(\"W_sparse_CBF has {:.2E} values and {:.2f} % in common with CF\".format(W_sparse_CBF.nnz, W_sparse_common.nnz/W_sparse_CBF.nnz*100))\n",
    "\n",
    "print(\"W_sparse_delta has {:.2E} values\".format(W_sparse_delta.nnz))\n"
   ]
  },
  {
   "cell_type": "markdown",
   "metadata": {},
   "source": [
    "## What do we see?\n",
    "## The great majority of similarities are not common... the models are modeling two very different phenomena"
   ]
  },
  {
   "cell_type": "markdown",
   "metadata": {},
   "source": [
    "# Idea: \n",
    "\n",
    "## what if we were to weight features in such a way to approximate as well as possible the collaborative similarity?\n",
    "\n",
    "### Basic model:  $S_{CBF} = ICM \\cdot diag(feature\\_weights) \\cdot ICM^{T}$ \n",
    "\n",
    "\n",
    "### We want  $S_{CBF} = S_{CF}$\n",
    "\n",
    "### Hence we wish to find the weights such that  $S_{CF} = ICM \\cdot diag(feature\\_weights) \\cdot ICM^{T}$ \n",
    "\n",
    "### Now, we can rearrange the equations considering that we need only weights for features the two items have in common... this becomes a regression problem in form Ax = b. In our case A are the common features, x the weights and b the collaborative similarity\n"
   ]
  },
  {
   "cell_type": "markdown",
   "metadata": {},
   "source": [
    "### Since it is a regression problem, we can use an already available solver like linalg in scipy.sparse\n",
    "\n",
    "### It takes as imput two data structures, one is sparse and the other is the target value"
   ]
  },
  {
   "cell_type": "code",
   "execution_count": 14,
   "metadata": {},
   "outputs": [],
   "source": [
    "W_sparse_delta = W_sparse_delta.tocoo()\n",
    "\n",
    "\n",
    "item_index_1 = W_sparse_delta.row[666]\n",
    "item_index_2 = W_sparse_delta.col[666]"
   ]
  },
  {
   "cell_type": "code",
   "execution_count": 15,
   "metadata": {},
   "outputs": [
    {
     "name": "stdout",
     "output_type": "stream",
     "text": [
      "Item indices are 7 and 14\n"
     ]
    }
   ],
   "source": [
    "print(\"Item indices are {} and {}\".format(item_index_1, item_index_2))"
   ]
  },
  {
   "cell_type": "code",
   "execution_count": 16,
   "metadata": {},
   "outputs": [
    {
     "name": "stdout",
     "output_type": "stream",
     "text": [
      "Collaborative similarity value is 0.5295509099960327\n",
      "Content-based similarity value is 0.24285197257995605\n"
     ]
    }
   ],
   "source": [
    "print(\"Collaborative similarity value is {}\".format(W_sparse_CF[item_index_1, item_index_2]))\n",
    "print(\"Content-based similarity value is {}\".format(W_sparse_CBF[item_index_1, item_index_2]))"
   ]
  },
  {
   "cell_type": "markdown",
   "metadata": {},
   "source": [
    "### Compute the common features"
   ]
  },
  {
   "cell_type": "code",
   "execution_count": 17,
   "metadata": {},
   "outputs": [
    {
     "data": {
      "text/plain": [
       "<1x10217 sparse matrix of type '<class 'numpy.float64'>'\n",
       "\twith 25 stored elements in Compressed Sparse Row format>"
      ]
     },
     "execution_count": 17,
     "metadata": {},
     "output_type": "execute_result"
    }
   ],
   "source": [
    "common_features = ICM_tags[item_index_1,:].multiply(ICM_tags[item_index_2,:])\n",
    "common_features"
   ]
  },
  {
   "cell_type": "code",
   "execution_count": 18,
   "metadata": {},
   "outputs": [
    {
     "data": {
      "text/plain": [
       "array([  72,   73,  123,  138,  145,  146,  150,  246,  313,  511,  516,\n",
       "        561,  605,  714,  888,  918, 1155, 1514, 2091, 2357, 2462, 2463,\n",
       "       2579, 4573, 8075], dtype=int32)"
      ]
     },
     "execution_count": 18,
     "metadata": {},
     "output_type": "execute_result"
    }
   ],
   "source": [
    "common_features.indices"
   ]
  },
  {
   "cell_type": "markdown",
   "metadata": {},
   "source": [
    "## These items have just a common feature, that is a common scenario\n",
    "\n",
    "### Let's look for items having  a few features in common, say 5"
   ]
  },
  {
   "cell_type": "code",
   "execution_count": 19,
   "metadata": {},
   "outputs": [
    {
     "name": "stdout",
     "output_type": "stream",
     "text": [
      "Item indices are 1 and 11\n",
      "Collaborative similarity value is 0.3872489929199219\n",
      "Content-based similarity value is 0.10348083078861237\n"
     ]
    },
    {
     "data": {
      "text/plain": [
       "array([   8,  494,  678,  679, 2634], dtype=int32)"
      ]
     },
     "execution_count": 19,
     "metadata": {},
     "output_type": "execute_result"
    }
   ],
   "source": [
    "min_common_features = 5\n",
    "\n",
    "for inner_index in range(len(W_sparse_delta.row)):\n",
    "\n",
    "    item_index_1 = W_sparse_delta.row[inner_index]\n",
    "    item_index_2 = W_sparse_delta.col[inner_index]\n",
    "\n",
    "    common_features = ICM_tags[item_index_1,:].multiply(ICM_tags[item_index_2,:])\n",
    "    \n",
    "    if common_features.nnz >= min_common_features:\n",
    "        \n",
    "        # Bad programming, don't do this at home\n",
    "        break\n",
    "        \n",
    "        \n",
    "\n",
    "print(\"Item indices are {} and {}\".format(item_index_1, item_index_2))\n",
    "\n",
    "print(\"Collaborative similarity value is {}\".format(W_sparse_CF[item_index_1, item_index_2]))\n",
    "print(\"Content-based similarity value is {}\".format(W_sparse_CBF[item_index_1, item_index_2]))\n",
    "    \n",
    "common_features.indices"
   ]
  },
  {
   "cell_type": "code",
   "execution_count": 20,
   "metadata": {},
   "outputs": [],
   "source": [
    "from scipy.sparse import linalg\n",
    "\n",
    "loss_tolerance = 1e-6\n",
    "iteration_limit = 50000\n",
    "damp_coeff=0.0\n",
    "\n",
    "W_sparse_CF_value = W_sparse_CF[item_index_1, item_index_2]"
   ]
  },
  {
   "cell_type": "code",
   "execution_count": 21,
   "metadata": {},
   "outputs": [],
   "source": [
    "linalg_result = linalg.lsqr(common_features, W_sparse_CF_value, show = False,\n",
    "                            atol=loss_tolerance, btol=loss_tolerance,\n",
    "                            iter_lim = iteration_limit, damp=damp_coeff)"
   ]
  },
  {
   "cell_type": "code",
   "execution_count": 22,
   "metadata": {},
   "outputs": [
    {
     "data": {
      "text/plain": [
       "array([0., 0., 0., ..., 0., 0., 0.])"
      ]
     },
     "execution_count": 22,
     "metadata": {},
     "output_type": "execute_result"
    }
   ],
   "source": [
    "feature_weights = linalg_result[0].copy()\n",
    "feature_weights"
   ]
  },
  {
   "cell_type": "code",
   "execution_count": 23,
   "metadata": {},
   "outputs": [
    {
     "data": {
      "text/plain": [
       "array([3.38969983e-04, 4.84242832e-05, 3.05072984e-03, 3.05072984e-03,\n",
       "       1.45272850e-04])"
      ]
     },
     "execution_count": 23,
     "metadata": {},
     "output_type": "execute_result"
    }
   ],
   "source": [
    "feature_weights[common_features.indices]"
   ]
  },
  {
   "cell_type": "markdown",
   "metadata": {},
   "source": [
    "### Note that all weights will be zeros except for the features those items have in common, nothing can be learned if a feature is not common\n",
    "\n",
    "### If a dataset has a very sparse ICM, this FW method will struggle"
   ]
  },
  {
   "cell_type": "code",
   "execution_count": 24,
   "metadata": {},
   "outputs": [
    {
     "data": {
      "text/plain": [
       "array([0.38724899])"
      ]
     },
     "execution_count": 24,
     "metadata": {},
     "output_type": "execute_result"
    }
   ],
   "source": [
    "new_CBF_value = common_features.dot(feature_weights)\n",
    "new_CBF_value"
   ]
  },
  {
   "cell_type": "code",
   "execution_count": 25,
   "metadata": {},
   "outputs": [
    {
     "name": "stdout",
     "output_type": "stream",
     "text": [
      "Collaborative similarity value is 0.3872489929199219\n",
      "Content-based similarity value is 0.10348083078861237\n",
      "Weighted Content-based similarity value is 0.38724899291992176\n"
     ]
    }
   ],
   "source": [
    "print(\"Collaborative similarity value is {}\".format(W_sparse_CF[item_index_1, item_index_2]))\n",
    "print(\"Content-based similarity value is {}\".format(W_sparse_CBF[item_index_1, item_index_2]))\n",
    "\n",
    "print(\"Weighted Content-based similarity value is {}\".format(new_CBF_value[0]))"
   ]
  },
  {
   "cell_type": "markdown",
   "metadata": {},
   "source": [
    "### Note that we learned the CF similarity amost exactly...\n",
    "\n",
    "### Warning: 5 common features and 1 similarity value, more parameters than data points, overfitting!\n",
    "\n",
    "### if we want to apply this method to the whole dataset we have to compute the common features of all items having a common similarity value. Whe already know who they are, thanks to W_sparse_delta"
   ]
  },
  {
   "cell_type": "code",
   "execution_count": 26,
   "metadata": {},
   "outputs": [],
   "source": [
    "from FeatureWeighting.CFW_D_Similarity_Linalg import CFW_D_Similarity_Linalg"
   ]
  },
  {
   "cell_type": "code",
   "execution_count": 27,
   "metadata": {},
   "outputs": [
    {
     "name": "stdout",
     "output_type": "stream",
     "text": [
      "CFW_D_Similarity_Linalg: URM Detected 49 (0.46 %) cold items.\n",
      "CFW_D_Similarity_Linalg: Generating train data\n",
      "Similarity column 10681 ( 100 % ), 14888.50 column/sec, elapsed time 0.01 min\n",
      "CFW_D_Similarity_Linalg: Collaborative S density: 6.49E-02, nonzero cells 7408876\n",
      "CFW_D_Similarity_Linalg: Content S density: 1.73E-02, nonzero cells 1976311\n",
      "CFW_D_Similarity_Linalg: Content S structure has 566789 out of 1976311 ( 28.68%) nonzero collaborative cells\n",
      "CFW_D_Similarity_Linalg: Nonzero collaborative cell sum is: 7.51E+04, average is: 1.32E-01, average over all collaborative data is 8.65E-02\n",
      "Similarity column 10681 ( 100 % ), 16694.89 column/sec, elapsed time 0.01 min\n"
     ]
    }
   ],
   "source": [
    "CFW_weithing = CFW_D_Similarity_Linalg(URM_train, ICM_tags, W_sparse_CF)\n",
    "CFW_weithing.fit()"
   ]
  },
  {
   "cell_type": "code",
   "execution_count": 28,
   "metadata": {},
   "outputs": [],
   "source": [
    "from Base.Evaluation.Evaluator import EvaluatorHoldout\n",
    "\n",
    "evaluator_validation = EvaluatorHoldout(URM_validation, cutoff_list=[5])\n",
    "evaluator_test = EvaluatorHoldout(URM_test, cutoff_list=[5])\n"
   ]
  },
  {
   "cell_type": "code",
   "execution_count": 29,
   "metadata": {},
   "outputs": [
    {
     "name": "stdout",
     "output_type": "stream",
     "text": [
      "EvaluatorHoldout: Processed 34000 ( 48.71% ) in 30.23 sec. Users per second: 1125\n",
      "EvaluatorHoldout: Processed 68000 ( 97.42% ) in 1.01 min. Users per second: 1122\n",
      "EvaluatorHoldout: Processed 69804 ( 100.00% ) in 1.04 min. Users per second: 1120\n"
     ]
    },
    {
     "data": {
      "text/plain": [
       "{5: {'ROC_AUC': 0.43311749087922413,\n",
       "  'PRECISION': 0.3117099306630827,\n",
       "  'PRECISION_RECALL_MIN_DEN': 0.31834851870960196,\n",
       "  'RECALL': 0.10381715744556805,\n",
       "  'MAP': 0.2338118477769968,\n",
       "  'MRR': 0.5153410501785864,\n",
       "  'NDCG': 0.15113096399648668,\n",
       "  'F1': 0.15575802336397737,\n",
       "  'HIT_RATE': 1.5585496533149963,\n",
       "  'ARHR': 0.7722000171909487,\n",
       "  'NOVELTY': 0.004278369748676905,\n",
       "  'AVERAGE_POPULARITY': 0.5617964021167546,\n",
       "  'DIVERSITY_MEAN_INTER_LIST': 0.9296870686082285,\n",
       "  'DIVERSITY_HERFINDAHL': 0.9859347500144983,\n",
       "  'COVERAGE_ITEM': 0.13481883718752927,\n",
       "  'COVERAGE_ITEM_CORRECT': 0.07564834753300252,\n",
       "  'COVERAGE_USER': 0.9989410114771459,\n",
       "  'COVERAGE_USER_CORRECT': 0.7273104553650648,\n",
       "  'DIVERSITY_GINI': 0.009607359053473404,\n",
       "  'SHANNON_ENTROPY': 6.957441386591916}}"
      ]
     },
     "execution_count": 29,
     "metadata": {},
     "output_type": "execute_result"
    }
   ],
   "source": [
    "results_dict, _ = evaluator_test.evaluateRecommender(itemKNNCF)\n",
    "results_dict"
   ]
  },
  {
   "cell_type": "code",
   "execution_count": 30,
   "metadata": {},
   "outputs": [
    {
     "name": "stdout",
     "output_type": "stream",
     "text": [
      "EvaluatorHoldout: Processed 38000 ( 54.44% ) in 30.72 sec. Users per second: 1237\n",
      "EvaluatorHoldout: Processed 69804 ( 100.00% ) in 56.76 sec. Users per second: 1230\n"
     ]
    },
    {
     "data": {
      "text/plain": [
       "{5: {'ROC_AUC': 0.2667779305865951,\n",
       "  'PRECISION': 0.13209558191505644,\n",
       "  'PRECISION_RECALL_MIN_DEN': 0.1335546673542885,\n",
       "  'RECALL': 0.03252643425271064,\n",
       "  'MAP': 0.0897336669659144,\n",
       "  'MRR': 0.2831917464137816,\n",
       "  'NDCG': 0.062344355605169204,\n",
       "  'F1': 0.05219955823958507,\n",
       "  'HIT_RATE': 0.6604779095753825,\n",
       "  'ARHR': 0.3537051362863675,\n",
       "  'NOVELTY': 0.004327740319201193,\n",
       "  'AVERAGE_POPULARITY': 0.549577191560567,\n",
       "  'DIVERSITY_MEAN_INTER_LIST': 0.7136408482930834,\n",
       "  'DIVERSITY_HERFINDAHL': 0.9427261249596072,\n",
       "  'COVERAGE_ITEM': 0.03941578503885404,\n",
       "  'COVERAGE_ITEM_CORRECT': 0.018069469150828573,\n",
       "  'COVERAGE_USER': 0.9989410114771459,\n",
       "  'COVERAGE_USER_CORRECT': 0.43201007470162284,\n",
       "  'DIVERSITY_GINI': 0.0024442123987768096,\n",
       "  'SHANNON_ENTROPY': 4.877963904314825}}"
      ]
     },
     "execution_count": 30,
     "metadata": {},
     "output_type": "execute_result"
    }
   ],
   "source": [
    "results_dict, _ = evaluator_test.evaluateRecommender(itemKNNCBF)\n",
    "results_dict"
   ]
  },
  {
   "cell_type": "code",
   "execution_count": 31,
   "metadata": {},
   "outputs": [
    {
     "name": "stdout",
     "output_type": "stream",
     "text": [
      "EvaluatorHoldout: Processed 42000 ( 60.17% ) in 30.59 sec. Users per second: 1373\n",
      "EvaluatorHoldout: Processed 69804 ( 100.00% ) in 50.81 sec. Users per second: 1374\n"
     ]
    },
    {
     "data": {
      "text/plain": [
       "{5: {'ROC_AUC': 0.23673905984375296,\n",
       "  'PRECISION': 0.1299151911065066,\n",
       "  'PRECISION_RECALL_MIN_DEN': 0.13094879949571223,\n",
       "  'RECALL': 0.02882869501845794,\n",
       "  'MAP': 0.08527318555447344,\n",
       "  'MRR': 0.2554180276202147,\n",
       "  'NDCG': 0.055955297916752474,\n",
       "  'F1': 0.047186515513748195,\n",
       "  'HIT_RATE': 0.6495759555326343,\n",
       "  'ARHR': 0.3278255305331231,\n",
       "  'NOVELTY': 0.004455054445241026,\n",
       "  'AVERAGE_POPULARITY': 0.5004756900966632,\n",
       "  'DIVERSITY_MEAN_INTER_LIST': 0.7355381939417537,\n",
       "  'DIVERSITY_HERFINDAHL': 0.9471055313498259,\n",
       "  'COVERAGE_ITEM': 0.05926411384701807,\n",
       "  'COVERAGE_ITEM_CORRECT': 0.018631214305776612,\n",
       "  'COVERAGE_USER': 0.9989410114771459,\n",
       "  'COVERAGE_USER_CORRECT': 0.41133117719453904,\n",
       "  'DIVERSITY_GINI': 0.0025451980768019015,\n",
       "  'SHANNON_ENTROPY': 4.949569220480511}}"
      ]
     },
     "execution_count": 31,
     "metadata": {},
     "output_type": "execute_result"
    }
   ],
   "source": [
    "results_dict, _ = evaluator_test.evaluateRecommender(CFW_weithing)\n",
    "results_dict"
   ]
  },
  {
   "cell_type": "markdown",
   "metadata": {},
   "source": [
    "### This algorithm has hyperparameters too:\n",
    "* topK, the usual number of neighbors\n",
    "* add_zeros_quota, the percentage of zero collaborative similarities to add to the train set, this helps the regressor in finding non-relevant features\n",
    "* normalize_similarity, apply or not the usual cosine denominator"
   ]
  },
  {
   "cell_type": "code",
   "execution_count": 32,
   "metadata": {},
   "outputs": [],
   "source": [
    "from ParameterTuning.SearchBayesianSkopt import SearchBayesianSkopt\n",
    "from skopt.space import Real, Integer, Categorical\n",
    "from ParameterTuning.SearchAbstractClass import SearchInputRecommenderArgs\n",
    "\n",
    "\n",
    "def hyperparameter_optimization_CFW_D(URM_train, ICM_train, W_sparse_CF):\n",
    "\n",
    "    recommender_class = CFW_D_Similarity_Linalg\n",
    "\n",
    "    parameterSearch = SearchBayesianSkopt(recommender_class,\n",
    "                                     evaluator_validation=evaluator_validation,\n",
    "                                     evaluator_test=evaluator_test)\n",
    "\n",
    "\n",
    "    hyperparameters_range_dictionary = {}\n",
    "    hyperparameters_range_dictionary[\"topK\"] = Integer(5, 1000)\n",
    "    hyperparameters_range_dictionary[\"add_zeros_quota\"] = Real(low = 0, high = 1, prior = 'uniform')\n",
    "    hyperparameters_range_dictionary[\"normalize_similarity\"] = Categorical([True, False])\n",
    "\n",
    "\n",
    "    recommender_input_args = SearchInputRecommenderArgs(\n",
    "        CONSTRUCTOR_POSITIONAL_ARGS = [URM_train, ICM_train, W_sparse_CF],\n",
    "        CONSTRUCTOR_KEYWORD_ARGS = {},\n",
    "        FIT_POSITIONAL_ARGS = [],\n",
    "        FIT_KEYWORD_ARGS = {}\n",
    "    )\n",
    "\n",
    "\n",
    "    output_folder_path = \"result_experiments/\"\n",
    "\n",
    "    import os\n",
    "\n",
    "    # If directory does not exist, create\n",
    "    if not os.path.exists(output_folder_path):\n",
    "        os.makedirs(output_folder_path)\n",
    "\n",
    "    n_cases = 10\n",
    "    metric_to_optimize = \"MAP\"\n",
    "\n",
    "\n",
    "    # Clone data structure to perform the fitting with the best hyperparameters on train + validation data\n",
    "    recommender_input_args_last_test = recommender_input_args.copy()\n",
    "    recommender_input_args_last_test.CONSTRUCTOR_POSITIONAL_ARGS[0] = URM_train + URM_validation\n",
    "\n",
    "\n",
    "    parameterSearch.search(recommender_input_args,\n",
    "                           recommender_input_args_last_test = recommender_input_args_last_test,\n",
    "                           parameter_search_space = hyperparameters_range_dictionary,\n",
    "                           n_cases = n_cases,\n",
    "                           n_random_starts = int(n_cases/3),\n",
    "                           save_model = \"no\",\n",
    "                           output_folder_path = output_folder_path,\n",
    "                           output_file_name_root = recommender_class.RECOMMENDER_NAME,\n",
    "                           metric_to_optimize = metric_to_optimize\n",
    "                          )\n"
   ]
  },
  {
   "cell_type": "code",
   "execution_count": 33,
   "metadata": {},
   "outputs": [
    {
     "name": "stdout",
     "output_type": "stream",
     "text": [
      "Iteration No: 1 started. Evaluating function at random point.\n",
      "CFW_D_Similarity_Linalg: URM Detected 49 (0.46 %) cold items.\n",
      "SearchBayesianSkopt: Testing config: {'topK': 738, 'add_zeros_quota': 0.19340815501997705, 'normalize_similarity': False}\n",
      "CFW_D_Similarity_Linalg: Generating train data\n",
      "Similarity column 10681 ( 100 % ), 14083.22 column/sec, elapsed time 0.01 min\n",
      "CFW_D_Similarity_Linalg: Collaborative S density: 6.49E-02, nonzero cells 7408876\n",
      "CFW_D_Similarity_Linalg: Content S density: 3.75E-02, nonzero cells 4275326\n",
      "CFW_D_Similarity_Linalg: Generating train data. Sample 1288344 ( 35.96 %) \n",
      "CFW_D_Similarity_Linalg: Content S structure has 1031048 out of 4275326 ( 24.12%) nonzero collaborative cells\n",
      "CFW_D_Similarity_Linalg: Nonzero collaborative cell sum is: 1.33E+05, average is: 1.29E-01, average over all collaborative data is 8.65E-02\n",
      "Similarity column 10681 ( 100 % ), 14284.63 column/sec, elapsed time 0.01 min\n",
      "EvaluatorHoldout: Processed 36000 ( 53.34% ) in 30.36 sec. Users per second: 1186\n",
      "EvaluatorHoldout: Processed 67487 ( 100.00% ) in 56.50 sec. Users per second: 1194\n",
      "SearchBayesianSkopt: New best config found. Config 0: {'topK': 738, 'add_zeros_quota': 0.19340815501997705, 'normalize_similarity': False} - results: ROC_AUC: 0.1147172, PRECISION: 0.0478611, PRECISION_RECALL_MIN_DEN: 0.0536419, RECALL: 0.0262032, MAP: 0.0307601, MRR: 0.1133643, NDCG: 0.0372975, F1: 0.0338656, HIT_RATE: 0.2393053, ARHR: 0.1246850, NOVELTY: 0.0044362, AVERAGE_POPULARITY: 0.5151070, DIVERSITY_MEAN_INTER_LIST: 0.6181416, DIVERSITY_HERFINDAHL: 0.9236265, COVERAGE_ITEM: 0.0339856, COVERAGE_ITEM_CORRECT: 0.0090815, COVERAGE_USER: 0.9657832, COVERAGE_USER_CORRECT: 0.1930937, DIVERSITY_GINI: 0.0015152, SHANNON_ENTROPY: 4.2515738, \n",
      "\n",
      "EvaluatorHoldout: Processed 35000 ( 50.14% ) in 30.02 sec. Users per second: 1166\n",
      "EvaluatorHoldout: Processed 69804 ( 100.00% ) in 59.23 sec. Users per second: 1179\n",
      "SearchBayesianSkopt: Best config evaluated with evaluator_test. Config: {'topK': 738, 'add_zeros_quota': 0.19340815501997705, 'normalize_similarity': False} - results:\n",
      "CUTOFF: 5 - ROC_AUC: 0.2246421, PRECISION: 0.1154633, PRECISION_RECALL_MIN_DEN: 0.1165330, RECALL: 0.0262936, MAP: 0.0758153, MRR: 0.2412144, NDCG: 0.0522114, F1: 0.0428331, HIT_RATE: 0.5773165, ARHR: 0.2998450, NOVELTY: 0.0044365, AVERAGE_POPULARITY: 0.5151237, DIVERSITY_MEAN_INTER_LIST: 0.6191762, DIVERSITY_HERFINDAHL: 0.9238335, COVERAGE_ITEM: 0.0349218, COVERAGE_ITEM_CORRECT: 0.0125456, COVERAGE_USER: 0.9989410, COVERAGE_USER_CORRECT: 0.3813647, DIVERSITY_GINI: 0.0015310, SHANNON_ENTROPY: 4.2620133, \n",
      "\n",
      "\n",
      "DataIO: Json dumps supports only 'str' as dictionary keys. Transforming keys to string, note that this will alter the mapper content.\n",
      "Iteration No: 1 ended. Evaluation done at random point.\n",
      "Time taken: 448.1565\n",
      "Function value obtained: -0.0308\n",
      "Current minimum: -0.0308\n",
      "Iteration No: 2 started. Evaluating function at random point.\n",
      "CFW_D_Similarity_Linalg: URM Detected 49 (0.46 %) cold items.\n",
      "SearchBayesianSkopt: Testing config: {'topK': 295, 'add_zeros_quota': 0.6174506263210966, 'normalize_similarity': True}\n",
      "CFW_D_Similarity_Linalg: Generating train data\n",
      "Similarity column 10681 ( 100 % ), 15567.48 column/sec, elapsed time 0.01 min\n",
      "CFW_D_Similarity_Linalg: Collaborative S density: 6.49E-02, nonzero cells 7408876\n",
      "CFW_D_Similarity_Linalg: Content S density: 1.71E-02, nonzero cells 1946465\n",
      "CFW_D_Similarity_Linalg: Content S structure has 559634 out of 1946465 ( 28.75%) nonzero collaborative cells\n",
      "CFW_D_Similarity_Linalg: Nonzero collaborative cell sum is: 2.09E+07, average is: 3.73E+01, average over all collaborative data is 8.65E-02\n",
      "Similarity column 10681 ( 100 % ), 11175.65 column/sec, elapsed time 0.02 min\n",
      "EvaluatorHoldout: Processed 46000 ( 68.16% ) in 30.44 sec. Users per second: 1511\n",
      "EvaluatorHoldout: Processed 67487 ( 100.00% ) in 44.94 sec. Users per second: 1502\n",
      "SearchBayesianSkopt: Config 1 is suboptimal. Config: {'topK': 295, 'add_zeros_quota': 0.6174506263210966, 'normalize_similarity': True} - results: ROC_AUC: 0.0051220, PRECISION: 0.0018907, PRECISION_RECALL_MIN_DEN: 0.0021347, RECALL: 0.0009764, MAP: 0.0010670, MRR: 0.0047708, NDCG: 0.0008292, F1: 0.0012877, HIT_RATE: 0.0094537, ARHR: 0.0048076, NOVELTY: 0.0070330, AVERAGE_POPULARITY: 0.0204508, DIVERSITY_MEAN_INTER_LIST: 0.7752774, DIVERSITY_HERFINDAHL: 0.9550532, COVERAGE_ITEM: 0.0939051, COVERAGE_ITEM_CORRECT: 0.0101114, COVERAGE_USER: 0.9657832, COVERAGE_USER_CORRECT: 0.0090157, DIVERSITY_GINI: 0.0051867, SHANNON_ENTROPY: 5.6482931, \n",
      "\n",
      "Iteration No: 2 ended. Evaluation done at random point.\n",
      "Time taken: 365.9481\n",
      "Function value obtained: -0.0011\n",
      "Current minimum: -0.0308\n",
      "Iteration No: 3 started. Evaluating function at random point.\n",
      "CFW_D_Similarity_Linalg: URM Detected 49 (0.46 %) cold items.\n",
      "SearchBayesianSkopt: Testing config: {'topK': 398, 'add_zeros_quota': 0.38443825905322837, 'normalize_similarity': False}\n",
      "CFW_D_Similarity_Linalg: Generating train data\n",
      "Similarity column 10681 ( 100 % ), 14039.62 column/sec, elapsed time 0.01 min\n",
      "CFW_D_Similarity_Linalg: Collaborative S density: 6.49E-02, nonzero cells 7408876\n",
      "CFW_D_Similarity_Linalg: Content S density: 2.23E-02, nonzero cells 2543376\n",
      "CFW_D_Similarity_Linalg: Content S structure has 695203 out of 2543376 ( 27.33%) nonzero collaborative cells\n",
      "CFW_D_Similarity_Linalg: Nonzero collaborative cell sum is: 9.13E+04, average is: 1.31E-01, average over all collaborative data is 8.65E-02\n",
      "Similarity column 10681 ( 100 % ), 13965.17 column/sec, elapsed time 0.01 min\n",
      "EvaluatorHoldout: Processed 38000 ( 56.31% ) in 30.40 sec. Users per second: 1250\n",
      "EvaluatorHoldout: Processed 67487 ( 100.00% ) in 52.87 sec. Users per second: 1276\n",
      "SearchBayesianSkopt: New best config found. Config 2: {'topK': 398, 'add_zeros_quota': 0.38443825905322837, 'normalize_similarity': False} - results: ROC_AUC: 0.1297361, PRECISION: 0.0554062, PRECISION_RECALL_MIN_DEN: 0.0618623, RECALL: 0.0300236, MAP: 0.0356707, MRR: 0.1282101, NDCG: 0.0424462, F1: 0.0389441, HIT_RATE: 0.2770311, ARHR: 0.1434084, NOVELTY: 0.0043458, AVERAGE_POPULARITY: 0.5524141, DIVERSITY_MEAN_INTER_LIST: 0.6870370, DIVERSITY_HERFINDAHL: 0.9374054, COVERAGE_ITEM: 0.0457822, COVERAGE_ITEM_CORRECT: 0.0124520, COVERAGE_USER: 0.9657832, COVERAGE_USER_CORRECT: 0.2174075, DIVERSITY_GINI: 0.0019747, SHANNON_ENTROPY: 4.6202129, \n",
      "\n",
      "EvaluatorHoldout: Processed 39000 ( 55.87% ) in 30.07 sec. Users per second: 1297\n",
      "EvaluatorHoldout: Processed 69804 ( 100.00% ) in 56.20 sec. Users per second: 1242\n",
      "SearchBayesianSkopt: Best config evaluated with evaluator_test. Config: {'topK': 398, 'add_zeros_quota': 0.38443825905322837, 'normalize_similarity': False} - results:\n",
      "CUTOFF: 5 - ROC_AUC: 0.2483872, PRECISION: 0.1338863, PRECISION_RECALL_MIN_DEN: 0.1350195, RECALL: 0.0300150, MAP: 0.0902459, MRR: 0.2689146, NDCG: 0.0591692, F1: 0.0490368, HIT_RATE: 0.6694316, ARHR: 0.3455664, NOVELTY: 0.0043460, AVERAGE_POPULARITY: 0.5524019, DIVERSITY_MEAN_INTER_LIST: 0.6881645, DIVERSITY_HERFINDAHL: 0.9376309, COVERAGE_ITEM: 0.0467185, COVERAGE_ITEM_CORRECT: 0.0154480, COVERAGE_USER: 0.9989410, COVERAGE_USER_CORRECT: 0.4186725, DIVERSITY_GINI: 0.0020015, SHANNON_ENTROPY: 4.6339741, \n",
      "\n",
      "\n",
      "Iteration No: 3 ended. Evaluation done at random point.\n",
      "Time taken: 380.7363\n",
      "Function value obtained: -0.0357\n",
      "Current minimum: -0.0357\n",
      "Iteration No: 4 started. Searching for the next optimal point.\n",
      "CFW_D_Similarity_Linalg: URM Detected 49 (0.46 %) cold items.\n",
      "SearchBayesianSkopt: Testing config: {'topK': 21, 'add_zeros_quota': 0.9970204201303217, 'normalize_similarity': False}\n",
      "CFW_D_Similarity_Linalg: Generating train data\n",
      "Similarity column 10681 ( 100 % ), 16054.40 column/sec, elapsed time 0.01 min\n",
      "CFW_D_Similarity_Linalg: Collaborative S density: 6.49E-02, nonzero cells 7408876\n",
      "CFW_D_Similarity_Linalg: Content S density: 1.37E-03, nonzero cells 156468\n",
      "CFW_D_Similarity_Linalg: Content S structure has 58939 out of 156468 ( 37.67%) nonzero collaborative cells\n",
      "CFW_D_Similarity_Linalg: Nonzero collaborative cell sum is: 8.36E+03, average is: 1.42E-01, average over all collaborative data is 8.65E-02\n",
      "Similarity column 10681 ( 100 % ), 17225.65 column/sec, elapsed time 0.01 min\n",
      "EvaluatorHoldout: Processed 53000 ( 78.53% ) in 30.36 sec. Users per second: 1746\n"
     ]
    },
    {
     "name": "stdout",
     "output_type": "stream",
     "text": [
      "EvaluatorHoldout: Processed 67487 ( 100.00% ) in 38.42 sec. Users per second: 1757\n",
      "SearchBayesianSkopt: New best config found. Config 3: {'topK': 21, 'add_zeros_quota': 0.9970204201303217, 'normalize_similarity': False} - results: ROC_AUC: 0.1708601, PRECISION: 0.0748352, PRECISION_RECALL_MIN_DEN: 0.0839426, RECALL: 0.0418051, MAP: 0.0497524, MRR: 0.1694729, NDCG: 0.0594688, F1: 0.0536434, HIT_RATE: 0.3741758, ARHR: 0.1943579, NOVELTY: 0.0043615, AVERAGE_POPULARITY: 0.5319102, DIVERSITY_MEAN_INTER_LIST: 0.9067758, DIVERSITY_HERFINDAHL: 0.9813525, COVERAGE_ITEM: 0.0978373, COVERAGE_ITEM_CORRECT: 0.0291171, COVERAGE_USER: 0.9657832, COVERAGE_USER_CORRECT: 0.2805175, DIVERSITY_GINI: 0.0073059, SHANNON_ENTROPY: 6.5358250, \n",
      "\n",
      "EvaluatorHoldout: Processed 52000 ( 74.49% ) in 30.06 sec. Users per second: 1730\n",
      "EvaluatorHoldout: Processed 69804 ( 100.00% ) in 40.23 sec. Users per second: 1735\n",
      "SearchBayesianSkopt: Best config evaluated with evaluator_test. Config: {'topK': 21, 'add_zeros_quota': 0.9970204201303217, 'normalize_similarity': False} - results:\n",
      "CUTOFF: 5 - ROC_AUC: 0.3083873, PRECISION: 0.1804940, PRECISION_RECALL_MIN_DEN: 0.1822625, RECALL: 0.0417864, MAP: 0.1287235, MRR: 0.3406259, NDCG: 0.0822566, F1: 0.0678619, HIT_RATE: 0.9024698, ARHR: 0.4646329, NOVELTY: 0.0043640, AVERAGE_POPULARITY: 0.5309032, DIVERSITY_MEAN_INTER_LIST: 0.9076154, DIVERSITY_HERFINDAHL: 0.9815205, COVERAGE_ITEM: 0.0995225, COVERAGE_ITEM_CORRECT: 0.0397903, COVERAGE_USER: 0.9989410, COVERAGE_USER_CORRECT: 0.5032485, DIVERSITY_GINI: 0.0074347, SHANNON_ENTROPY: 6.5561975, \n",
      "\n",
      "\n",
      "Iteration No: 4 ended. Search finished for the next optimal point.\n",
      "Time taken: 124.0652\n",
      "Function value obtained: -0.0498\n",
      "Current minimum: -0.0498\n",
      "Iteration No: 5 started. Searching for the next optimal point.\n",
      "CFW_D_Similarity_Linalg: URM Detected 49 (0.46 %) cold items.\n",
      "SearchBayesianSkopt: Testing config: {'topK': 975, 'add_zeros_quota': 0.9992090128219687, 'normalize_similarity': False}\n",
      "CFW_D_Similarity_Linalg: Generating train data\n",
      "Similarity column 10681 ( 100 % ), 12882.15 column/sec, elapsed time 0.01 min\n",
      "CFW_D_Similarity_Linalg: Collaborative S density: 6.49E-02, nonzero cells 7408876\n",
      "CFW_D_Similarity_Linalg: Content S density: 4.64E-02, nonzero cells 5298598\n",
      "CFW_D_Similarity_Linalg: Generating train data. Sample 2540392 ( 95.85 %) \n",
      "CFW_D_Similarity_Linalg: Content S structure has 1200019 out of 5298598 ( 22.65%) nonzero collaborative cells\n",
      "CFW_D_Similarity_Linalg: Nonzero collaborative cell sum is: 1.54E+05, average is: 1.29E-01, average over all collaborative data is 8.65E-02\n",
      "Similarity column 10681 ( 100 % ), 12711.66 column/sec, elapsed time 0.01 min\n",
      "EvaluatorHoldout: Processed 32000 ( 47.42% ) in 30.12 sec. Users per second: 1063\n",
      "EvaluatorHoldout: Processed 64000 ( 94.83% ) in 1.01 min. Users per second: 1059\n",
      "EvaluatorHoldout: Processed 67487 ( 100.00% ) in 1.06 min. Users per second: 1060\n",
      "SearchBayesianSkopt: Config 4 is suboptimal. Config: {'topK': 975, 'add_zeros_quota': 0.9992090128219687, 'normalize_similarity': False} - results: ROC_AUC: 0.1260675, PRECISION: 0.0539778, PRECISION_RECALL_MIN_DEN: 0.0605504, RECALL: 0.0298846, MAP: 0.0346608, MRR: 0.1247746, NDCG: 0.0415482, F1: 0.0384703, HIT_RATE: 0.2698890, ARHR: 0.1389971, NOVELTY: 0.0042986, AVERAGE_POPULARITY: 0.5818300, DIVERSITY_MEAN_INTER_LIST: 0.5993590, DIVERSITY_HERFINDAHL: 0.9198700, COVERAGE_ITEM: 0.0305215, COVERAGE_ITEM_CORRECT: 0.0086134, COVERAGE_USER: 0.9657832, COVERAGE_USER_CORRECT: 0.2138584, DIVERSITY_GINI: 0.0013637, SHANNON_ENTROPY: 4.1284689, \n",
      "\n",
      "Iteration No: 5 ended. Search finished for the next optimal point.\n",
      "Time taken: 754.5678\n",
      "Function value obtained: -0.0347\n",
      "Current minimum: -0.0498\n",
      "Iteration No: 6 started. Searching for the next optimal point.\n",
      "CFW_D_Similarity_Linalg: URM Detected 49 (0.46 %) cold items.\n",
      "SearchBayesianSkopt: Testing config: {'topK': 5, 'add_zeros_quota': 1.0, 'normalize_similarity': False}\n",
      "CFW_D_Similarity_Linalg: Generating train data\n",
      "Similarity column 10681 ( 100 % ), 17229.18 column/sec, elapsed time 0.01 min\n",
      "CFW_D_Similarity_Linalg: Collaborative S density: 6.49E-02, nonzero cells 7408876\n",
      "CFW_D_Similarity_Linalg: Content S density: 3.31E-04, nonzero cells 37722\n",
      "CFW_D_Similarity_Linalg: Content S structure has 14953 out of 37722 ( 39.64%) nonzero collaborative cells\n",
      "CFW_D_Similarity_Linalg: Nonzero collaborative cell sum is: 2.18E+03, average is: 1.46E-01, average over all collaborative data is 8.65E-02\n",
      "Similarity column 10681 ( 100 % ), 18425.74 column/sec, elapsed time 0.01 min\n",
      "EvaluatorHoldout: Processed 64000 ( 94.83% ) in 30.48 sec. Users per second: 2100\n",
      "EvaluatorHoldout: Processed 67487 ( 100.00% ) in 32.18 sec. Users per second: 2097\n",
      "SearchBayesianSkopt: Config 5 is suboptimal. Config: {'topK': 5, 'add_zeros_quota': 1.0, 'normalize_similarity': False} - results: ROC_AUC: 0.1197082, PRECISION: 0.0516159, PRECISION_RECALL_MIN_DEN: 0.0587456, RECALL: 0.0307691, MAP: 0.0316900, MRR: 0.1149661, NDCG: 0.0397635, F1: 0.0385549, HIT_RATE: 0.2580793, ARHR: 0.1264367, NOVELTY: 0.0047119, AVERAGE_POPULARITY: 0.3827555, DIVERSITY_MEAN_INTER_LIST: 0.9483734, DIVERSITY_HERFINDAHL: 0.9896719, COVERAGE_ITEM: 0.1200262, COVERAGE_ITEM_CORRECT: 0.0338920, COVERAGE_USER: 0.9657832, COVERAGE_USER_CORRECT: 0.2105241, DIVERSITY_GINI: 0.0118320, SHANNON_ENTROPY: 7.3153614, \n",
      "\n",
      "Iteration No: 6 ended. Search finished for the next optimal point.\n",
      "Time taken: 48.8650\n",
      "Function value obtained: -0.0317\n",
      "Current minimum: -0.0498\n",
      "Iteration No: 7 started. Searching for the next optimal point.\n"
     ]
    },
    {
     "name": "stderr",
     "output_type": "stream",
     "text": [
      "C:\\Users\\ferra\\Anaconda3\\envs\\RecSysCourse\\lib\\site-packages\\skopt\\optimizer\\optimizer.py:399: UserWarning: The objective has been evaluated at this point before.\n",
      "  warnings.warn(\"The objective has been evaluated \"\n"
     ]
    },
    {
     "name": "stdout",
     "output_type": "stream",
     "text": [
      "CFW_D_Similarity_Linalg: URM Detected 49 (0.46 %) cold items.\n",
      "SearchBayesianSkopt: Testing config: {'topK': 5, 'add_zeros_quota': 1.0, 'normalize_similarity': False}\n",
      "CFW_D_Similarity_Linalg: Generating train data\n",
      "Similarity column 10681 ( 100 % ), 16122.99 column/sec, elapsed time 0.01 min\n",
      "CFW_D_Similarity_Linalg: Collaborative S density: 6.49E-02, nonzero cells 7408876\n",
      "CFW_D_Similarity_Linalg: Content S density: 3.31E-04, nonzero cells 37722\n",
      "CFW_D_Similarity_Linalg: Content S structure has 14953 out of 37722 ( 39.64%) nonzero collaborative cells\n",
      "CFW_D_Similarity_Linalg: Nonzero collaborative cell sum is: 2.18E+03, average is: 1.46E-01, average over all collaborative data is 8.65E-02\n",
      "Similarity column 10681 ( 100 % ), 18427.29 column/sec, elapsed time 0.01 min\n",
      "EvaluatorHoldout: Processed 59000 ( 87.42% ) in 30.12 sec. Users per second: 1959\n",
      "EvaluatorHoldout: Processed 67487 ( 100.00% ) in 34.22 sec. Users per second: 1972\n",
      "SearchBayesianSkopt: Config 6 is suboptimal. Config: {'topK': 5, 'add_zeros_quota': 1.0, 'normalize_similarity': False} - results: ROC_AUC: 0.1197082, PRECISION: 0.0516159, PRECISION_RECALL_MIN_DEN: 0.0587456, RECALL: 0.0307691, MAP: 0.0316900, MRR: 0.1149661, NDCG: 0.0397635, F1: 0.0385549, HIT_RATE: 0.2580793, ARHR: 0.1264367, NOVELTY: 0.0047119, AVERAGE_POPULARITY: 0.3827555, DIVERSITY_MEAN_INTER_LIST: 0.9483734, DIVERSITY_HERFINDAHL: 0.9896719, COVERAGE_ITEM: 0.1200262, COVERAGE_ITEM_CORRECT: 0.0338920, COVERAGE_USER: 0.9657832, COVERAGE_USER_CORRECT: 0.2105241, DIVERSITY_GINI: 0.0118320, SHANNON_ENTROPY: 7.3153614, \n",
      "\n",
      "Iteration No: 7 ended. Search finished for the next optimal point.\n",
      "Time taken: 51.5599\n",
      "Function value obtained: -0.0317\n",
      "Current minimum: -0.0498\n",
      "Iteration No: 8 started. Searching for the next optimal point.\n"
     ]
    },
    {
     "name": "stderr",
     "output_type": "stream",
     "text": [
      "C:\\Users\\ferra\\Anaconda3\\envs\\RecSysCourse\\lib\\site-packages\\skopt\\optimizer\\optimizer.py:399: UserWarning: The objective has been evaluated at this point before.\n",
      "  warnings.warn(\"The objective has been evaluated \"\n"
     ]
    },
    {
     "name": "stdout",
     "output_type": "stream",
     "text": [
      "CFW_D_Similarity_Linalg: URM Detected 49 (0.46 %) cold items.\n",
      "SearchBayesianSkopt: Testing config: {'topK': 5, 'add_zeros_quota': 1.0, 'normalize_similarity': False}\n",
      "CFW_D_Similarity_Linalg: Generating train data\n",
      "Similarity column 10681 ( 100 % ), 15825.80 column/sec, elapsed time 0.01 min\n",
      "CFW_D_Similarity_Linalg: Collaborative S density: 6.49E-02, nonzero cells 7408876\n",
      "CFW_D_Similarity_Linalg: Content S density: 3.31E-04, nonzero cells 37722\n",
      "CFW_D_Similarity_Linalg: Content S structure has 14953 out of 37722 ( 39.64%) nonzero collaborative cells\n",
      "CFW_D_Similarity_Linalg: Nonzero collaborative cell sum is: 2.18E+03, average is: 1.46E-01, average over all collaborative data is 8.65E-02\n",
      "Similarity column 10681 ( 100 % ), 17506.34 column/sec, elapsed time 0.01 min\n",
      "EvaluatorHoldout: Processed 62000 ( 91.87% ) in 30.20 sec. Users per second: 2053\n",
      "EvaluatorHoldout: Processed 67487 ( 100.00% ) in 32.93 sec. Users per second: 2050\n",
      "SearchBayesianSkopt: Config 7 is suboptimal. Config: {'topK': 5, 'add_zeros_quota': 1.0, 'normalize_similarity': False} - results: ROC_AUC: 0.1197082, PRECISION: 0.0516159, PRECISION_RECALL_MIN_DEN: 0.0587456, RECALL: 0.0307691, MAP: 0.0316900, MRR: 0.1149661, NDCG: 0.0397635, F1: 0.0385549, HIT_RATE: 0.2580793, ARHR: 0.1264367, NOVELTY: 0.0047119, AVERAGE_POPULARITY: 0.3827555, DIVERSITY_MEAN_INTER_LIST: 0.9483734, DIVERSITY_HERFINDAHL: 0.9896719, COVERAGE_ITEM: 0.1200262, COVERAGE_ITEM_CORRECT: 0.0338920, COVERAGE_USER: 0.9657832, COVERAGE_USER_CORRECT: 0.2105241, DIVERSITY_GINI: 0.0118320, SHANNON_ENTROPY: 7.3153614, \n",
      "\n",
      "Iteration No: 8 ended. Search finished for the next optimal point.\n",
      "Time taken: 50.1201\n",
      "Function value obtained: -0.0317\n",
      "Current minimum: -0.0498\n",
      "Iteration No: 9 started. Searching for the next optimal point.\n",
      "CFW_D_Similarity_Linalg: URM Detected 49 (0.46 %) cold items.\n",
      "SearchBayesianSkopt: Testing config: {'topK': 109, 'add_zeros_quota': 0.7014081878487206, 'normalize_similarity': False}\n",
      "CFW_D_Similarity_Linalg: Generating train data\n",
      "Similarity column 10681 ( 100 % ), 15259.65 column/sec, elapsed time 0.01 min\n",
      "CFW_D_Similarity_Linalg: Collaborative S density: 6.49E-02, nonzero cells 7408876\n",
      "CFW_D_Similarity_Linalg: Content S density: 6.74E-03, nonzero cells 768817\n",
      "CFW_D_Similarity_Linalg: Content S structure has 250935 out of 768817 ( 32.64%) nonzero collaborative cells\n",
      "CFW_D_Similarity_Linalg: Nonzero collaborative cell sum is: 3.42E+04, average is: 1.36E-01, average over all collaborative data is 8.65E-02\n",
      "Similarity column 10681 ( 100 % ), 16285.97 column/sec, elapsed time 0.01 min\n",
      "EvaluatorHoldout: Processed 45000 ( 66.68% ) in 30.14 sec. Users per second: 1493\n",
      "EvaluatorHoldout: Processed 67487 ( 100.00% ) in 44.71 sec. Users per second: 1509\n",
      "SearchBayesianSkopt: Config 8 is suboptimal. Config: {'topK': 109, 'add_zeros_quota': 0.7014081878487206, 'normalize_similarity': False} - results: ROC_AUC: 0.1519280, PRECISION: 0.0666647, PRECISION_RECALL_MIN_DEN: 0.0742669, RECALL: 0.0361778, MAP: 0.0430913, MRR: 0.1500437, NDCG: 0.0511441, F1: 0.0469024, HIT_RATE: 0.3333235, ARHR: 0.1710989, NOVELTY: 0.0043132, AVERAGE_POPULARITY: 0.5640230, DIVERSITY_MEAN_INTER_LIST: 0.8004935, DIVERSITY_HERFINDAHL: 0.9600963, COVERAGE_ITEM: 0.0692819, COVERAGE_ITEM_CORRECT: 0.0195675, COVERAGE_USER: 0.9657832, COVERAGE_USER_CORRECT: 0.2537136, DIVERSITY_GINI: 0.0035258, SHANNON_ENTROPY: 5.4301284, \n",
      "\n",
      "Iteration No: 9 ended. Search finished for the next optimal point.\n",
      "Time taken: 187.6550\n",
      "Function value obtained: -0.0431\n",
      "Current minimum: -0.0498\n",
      "Iteration No: 10 started. Searching for the next optimal point.\n",
      "CFW_D_Similarity_Linalg: URM Detected 49 (0.46 %) cold items.\n",
      "SearchBayesianSkopt: Testing config: {'topK': 558, 'add_zeros_quota': 0.9916479993848962, 'normalize_similarity': True}\n",
      "CFW_D_Similarity_Linalg: Generating train data\n",
      "Similarity column 10681 ( 100 % ), 13871.39 column/sec, elapsed time 0.01 min\n",
      "CFW_D_Similarity_Linalg: Collaborative S density: 6.49E-02, nonzero cells 7408876\n",
      "CFW_D_Similarity_Linalg: Content S density: 2.99E-02, nonzero cells 3408074\n",
      "CFW_D_Similarity_Linalg: Generating train data. Sample 2487521 ( 145.37 %) \n",
      "CFW_D_Similarity_Linalg: Content S structure has 870841 out of 3408074 ( 25.55%) nonzero collaborative cells\n",
      "CFW_D_Similarity_Linalg: Nonzero collaborative cell sum is: 2.82E+07, average is: 3.24E+01, average over all collaborative data is 8.65E-02\n",
      "Similarity column 10681 ( 100 % ), 9537.08 column/sec, elapsed time 0.02 min\n",
      "EvaluatorHoldout: Processed 39000 ( 57.79% ) in 30.75 sec. Users per second: 1268\n",
      "EvaluatorHoldout: Processed 67487 ( 100.00% ) in 52.54 sec. Users per second: 1284\n",
      "SearchBayesianSkopt: Config 9 is suboptimal. Config: {'topK': 558, 'add_zeros_quota': 0.9916479993848962, 'normalize_similarity': True} - results: ROC_AUC: 0.0068087, PRECISION: 0.0026761, PRECISION_RECALL_MIN_DEN: 0.0029438, RECALL: 0.0012481, MAP: 0.0014039, MRR: 0.0063225, NDCG: 0.0010943, F1: 0.0017023, HIT_RATE: 0.0133804, ARHR: 0.0064274, NOVELTY: 0.0066951, AVERAGE_POPULARITY: 0.0304717, DIVERSITY_MEAN_INTER_LIST: 0.6987859, DIVERSITY_HERFINDAHL: 0.9397551, COVERAGE_ITEM: 0.0824829, COVERAGE_ITEM_CORRECT: 0.0093624, COVERAGE_USER: 0.9657832, COVERAGE_USER_CORRECT: 0.0125648, DIVERSITY_GINI: 0.0038452, SHANNON_ENTROPY: 5.1445020, \n",
      "\n",
      "Iteration No: 10 ended. Search finished for the next optimal point.\n",
      "Time taken: 673.3635\n",
      "Function value obtained: -0.0014\n",
      "Current minimum: -0.0498\n",
      "SearchBayesianSkopt: Search complete. Best config is 3: {'topK': 21, 'add_zeros_quota': 0.9970204201303217, 'normalize_similarity': False}\n",
      "\n",
      "CFW_D_Similarity_Linalg: URM Detected 28 (0.26 %) cold items.\n",
      "SearchBayesianSkopt: Evaluation with constructor data for final test. Using best config: {'topK': 21, 'add_zeros_quota': 0.9970204201303217, 'normalize_similarity': False}\n",
      "CFW_D_Similarity_Linalg: Generating train data\n",
      "Similarity column 10681 ( 100 % ), 16697.62 column/sec, elapsed time 0.01 min\n",
      "CFW_D_Similarity_Linalg: Collaborative S density: 6.49E-02, nonzero cells 7408876\n",
      "CFW_D_Similarity_Linalg: Content S density: 1.37E-03, nonzero cells 156468\n",
      "CFW_D_Similarity_Linalg: Content S structure has 58939 out of 156468 ( 37.67%) nonzero collaborative cells\n",
      "CFW_D_Similarity_Linalg: Nonzero collaborative cell sum is: 8.36E+03, average is: 1.42E-01, average over all collaborative data is 8.65E-02\n",
      "Similarity column 10681 ( 100 % ), 16084.92 column/sec, elapsed time 0.01 min\n",
      "EvaluatorHoldout: Processed 52000 ( 74.49% ) in 30.24 sec. Users per second: 1720\n",
      "EvaluatorHoldout: Processed 69804 ( 100.00% ) in 40.37 sec. Users per second: 1729\n",
      "SearchBayesianSkopt: Best config evaluated with evaluator_test with constructor data for final test. Config: {'topK': 21, 'add_zeros_quota': 0.9970204201303217, 'normalize_similarity': False} - results:\n",
      "CUTOFF: 5 - ROC_AUC: 0.3402849, PRECISION: 0.2056329, PRECISION_RECALL_MIN_DEN: 0.2075151, RECALL: 0.0452813, MAP: 0.1592698, MRR: 0.3757609, NDCG: 0.0913245, F1: 0.0742193, HIT_RATE: 1.0281646, ARHR: 0.5402525, NOVELTY: 0.0043710, AVERAGE_POPULARITY: 0.5228334, DIVERSITY_MEAN_INTER_LIST: 0.9088161, DIVERSITY_HERFINDAHL: 0.9817606, COVERAGE_ITEM: 0.0960584, COVERAGE_ITEM_CORRECT: 0.0401648, COVERAGE_USER: 0.9989410, COVERAGE_USER_CORRECT: 0.5181745, DIVERSITY_GINI: 0.0072256, SHANNON_ENTROPY: 6.5345659, \n",
      "\n",
      "\n"
     ]
    }
   ],
   "source": [
    "hyperparameter_optimization_CFW_D(URM_train, ICM_tags, W_sparse_CF)"
   ]
  },
  {
   "cell_type": "markdown",
   "metadata": {},
   "source": [
    "### The best solution has a MAP of 0.159, better than the pure CBF\n",
    "\n",
    "### Let's try another ICM, the genres of the movie"
   ]
  },
  {
   "cell_type": "code",
   "execution_count": 34,
   "metadata": {},
   "outputs": [
    {
     "name": "stdout",
     "output_type": "stream",
     "text": [
      "CFW_D_Similarity_Linalg: URM Detected 49 (0.46 %) cold items.\n",
      "CFW_D_Similarity_Linalg: Generating train data\n",
      "Similarity column 10681 ( 100 % ), 9564.49 column/sec, elapsed time 0.02 min\n",
      "CFW_D_Similarity_Linalg: Collaborative S density: 6.49E-02, nonzero cells 7408876\n",
      "CFW_D_Similarity_Linalg: Content S density: 2.80E-02, nonzero cells 3199455\n",
      "CFW_D_Similarity_Linalg: Content S structure has 410297 out of 3199455 ( 12.82%) nonzero collaborative cells\n",
      "CFW_D_Similarity_Linalg: Nonzero collaborative cell sum is: 3.95E+04, average is: 9.63E-02, average over all collaborative data is 8.65E-02\n",
      "Similarity column 10681 ( 100 % ), 10001.63 column/sec, elapsed time 0.02 min\n",
      "EvaluatorHoldout: Processed 52000 ( 74.49% ) in 30.35 sec. Users per second: 1713\n",
      "EvaluatorHoldout: Processed 69804 ( 100.00% ) in 40.77 sec. Users per second: 1712\n"
     ]
    },
    {
     "data": {
      "text/plain": [
       "{5: {'ROC_AUC': 0.02916499532022997,\n",
       "  'PRECISION': 0.014420377055757095,\n",
       "  'PRECISION_RECALL_MIN_DEN': 0.014520180314405115,\n",
       "  'RECALL': 0.0027071735335412205,\n",
       "  'MAP': 0.006545446297251523,\n",
       "  'MRR': 0.02858097912249547,\n",
       "  'NDCG': 0.0033676185970134987,\n",
       "  'F1': 0.004558557618089629,\n",
       "  'HIT_RATE': 0.07210188527878059,\n",
       "  'ARHR': 0.030465541611751086,\n",
       "  'NOVELTY': 0.006578383126401176,\n",
       "  'AVERAGE_POPULARITY': 0.06496611868265492,\n",
       "  'DIVERSITY_MEAN_INTER_LIST': 0.9513712398493762,\n",
       "  'DIVERSITY_HERFINDAHL': 0.9902715221339924,\n",
       "  'COVERAGE_ITEM': 0.2863964048310083,\n",
       "  'COVERAGE_ITEM_CORRECT': 0.03913491246138002,\n",
       "  'COVERAGE_USER': 0.9989410114771459,\n",
       "  'COVERAGE_USER_CORRECT': 0.0648702023526718,\n",
       "  'DIVERSITY_GINI': 0.028092501784572593,\n",
       "  'SHANNON_ENTROPY': 8.16199141786077}}"
      ]
     },
     "execution_count": 34,
     "metadata": {},
     "output_type": "execute_result"
    }
   ],
   "source": [
    "CFW_weithing_genre = CFW_D_Similarity_Linalg(URM_train, ICM_genres, W_sparse_CF)\n",
    "CFW_weithing_genre.fit()\n",
    "\n",
    "results_dict, _ = evaluator_test.evaluateRecommender(CFW_weithing_genre)\n",
    "results_dict"
   ]
  },
  {
   "cell_type": "code",
   "execution_count": 35,
   "metadata": {},
   "outputs": [
    {
     "name": "stdout",
     "output_type": "stream",
     "text": [
      "Iteration No: 1 started. Evaluating function at random point.\n",
      "CFW_D_Similarity_Linalg: URM Detected 49 (0.46 %) cold items.\n",
      "SearchBayesianSkopt: Testing config: {'topK': 311, 'add_zeros_quota': 0.10513502946331879, 'normalize_similarity': False}\n",
      "CFW_D_Similarity_Linalg: Generating train data\n",
      "Similarity column 10681 ( 100 % ), 9754.11 column/sec, elapsed time 0.02 min\n",
      "CFW_D_Similarity_Linalg: Collaborative S density: 6.49E-02, nonzero cells 7408876\n",
      "CFW_D_Similarity_Linalg: Content S density: 2.91E-02, nonzero cells 3315747\n",
      "CFW_D_Similarity_Linalg: Content S structure has 422479 out of 3315747 ( 12.74%) nonzero collaborative cells\n",
      "CFW_D_Similarity_Linalg: Nonzero collaborative cell sum is: 4.06E+04, average is: 9.61E-02, average over all collaborative data is 8.65E-02\n",
      "Similarity column 10681 ( 100 % ), 9549.04 column/sec, elapsed time 0.02 min\n",
      "EvaluatorHoldout: Processed 51000 ( 75.57% ) in 30.19 sec. Users per second: 1689\n",
      "EvaluatorHoldout: Processed 67487 ( 100.00% ) in 39.82 sec. Users per second: 1695\n",
      "SearchBayesianSkopt: New best config found. Config 0: {'topK': 311, 'add_zeros_quota': 0.10513502946331879, 'normalize_similarity': False} - results: ROC_AUC: 0.0130754, PRECISION: 0.0062738, PRECISION_RECALL_MIN_DEN: 0.0069174, RECALL: 0.0031046, MAP: 0.0029256, MRR: 0.0124214, NDCG: 0.0029497, F1: 0.0041537, HIT_RATE: 0.0313690, ARHR: 0.0128146, NOVELTY: 0.0064127, AVERAGE_POPULARITY: 0.0722308, DIVERSITY_MEAN_INTER_LIST: 0.9472505, DIVERSITY_HERFINDAHL: 0.9894473, COVERAGE_ITEM: 0.2612115, COVERAGE_ITEM_CORRECT: 0.0232188, COVERAGE_USER: 0.9657832, COVERAGE_USER_CORRECT: 0.0288217, DIVERSITY_GINI: 0.0234124, SHANNON_ENTROPY: 7.8786651, \n",
      "\n",
      "EvaluatorHoldout: Processed 49000 ( 70.20% ) in 30.04 sec. Users per second: 1631\n",
      "EvaluatorHoldout: Processed 69804 ( 100.00% ) in 42.30 sec. Users per second: 1650\n",
      "SearchBayesianSkopt: Best config evaluated with evaluator_test. Config: {'topK': 311, 'add_zeros_quota': 0.10513502946331879, 'normalize_similarity': False} - results:\n",
      "CUTOFF: 5 - ROC_AUC: 0.0286970, PRECISION: 0.0146897, PRECISION_RECALL_MIN_DEN: 0.0148466, RECALL: 0.0031115, MAP: 0.0064701, MRR: 0.0279850, NDCG: 0.0038041, F1: 0.0051353, HIT_RATE: 0.0734485, ARHR: 0.0298954, NOVELTY: 0.0064128, AVERAGE_POPULARITY: 0.0723724, DIVERSITY_MEAN_INTER_LIST: 0.9479385, DIVERSITY_HERFINDAHL: 0.9895850, COVERAGE_ITEM: 0.2664545, COVERAGE_ITEM_CORRECT: 0.0340792, COVERAGE_USER: 0.9989410, COVERAGE_USER_CORRECT: 0.0660437, DIVERSITY_GINI: 0.0237827, SHANNON_ENTROPY: 7.9009519, \n",
      "\n",
      "\n",
      "DataIO: Json dumps supports only 'str' as dictionary keys. Transforming keys to string, note that this will alter the mapper content.\n",
      "Iteration No: 1 ended. Evaluation done at random point.\n",
      "Time taken: 105.8075\n",
      "Function value obtained: -0.0029\n",
      "Current minimum: -0.0029\n",
      "Iteration No: 2 started. Evaluating function at random point.\n",
      "CFW_D_Similarity_Linalg: URM Detected 49 (0.46 %) cold items.\n",
      "SearchBayesianSkopt: Testing config: {'topK': 733, 'add_zeros_quota': 0.3386570654013438, 'normalize_similarity': True}\n",
      "CFW_D_Similarity_Linalg: Generating train data\n",
      "Similarity column 10681 ( 100 % ), 8794.61 column/sec, elapsed time 0.02 min\n",
      "CFW_D_Similarity_Linalg: Collaborative S density: 6.49E-02, nonzero cells 7408876\n",
      "CFW_D_Similarity_Linalg: Content S density: 6.72E-02, nonzero cells 7665992\n",
      "CFW_D_Similarity_Linalg: Generating train data. Sample 2123339 ( 37.08 %) \n",
      "CFW_D_Similarity_Linalg: Content S structure has 862610 out of 7665992 ( 11.25%) nonzero collaborative cells\n",
      "CFW_D_Similarity_Linalg: Nonzero collaborative cell sum is: 2.12E+05, average is: 2.46E-01, average over all collaborative data is 8.65E-02\n",
      "Similarity column 10681 ( 100 % ), 6176.71 column/sec, elapsed time 0.03 min\n",
      "EvaluatorHoldout: Processed 40000 ( 59.27% ) in 30.34 sec. Users per second: 1318\n",
      "EvaluatorHoldout: Processed 67487 ( 100.00% ) in 50.69 sec. Users per second: 1331\n",
      "SearchBayesianSkopt: New best config found. Config 1: {'topK': 733, 'add_zeros_quota': 0.3386570654013438, 'normalize_similarity': True} - results: ROC_AUC: 0.0151387, PRECISION: 0.0067806, PRECISION_RECALL_MIN_DEN: 0.0074503, RECALL: 0.0030645, MAP: 0.0033666, MRR: 0.0142440, NDCG: 0.0030298, F1: 0.0042212, HIT_RATE: 0.0339028, ARHR: 0.0147060, NOVELTY: 0.0066102, AVERAGE_POPULARITY: 0.0724974, DIVERSITY_MEAN_INTER_LIST: 0.9810454, DIVERSITY_HERFINDAHL: 0.9962062, COVERAGE_ITEM: 0.4531411, COVERAGE_ITEM_CORRECT: 0.0325812, COVERAGE_USER: 0.9657832, COVERAGE_USER_CORRECT: 0.0310255, DIVERSITY_GINI: 0.0578154, SHANNON_ENTROPY: 9.3206447, \n",
      "\n",
      "EvaluatorHoldout: Processed 41000 ( 58.74% ) in 30.36 sec. Users per second: 1350\n",
      "EvaluatorHoldout: Processed 69804 ( 100.00% ) in 51.33 sec. Users per second: 1360\n",
      "SearchBayesianSkopt: Best config evaluated with evaluator_test. Config: {'topK': 733, 'add_zeros_quota': 0.3386570654013438, 'normalize_similarity': True} - results:\n",
      "CUTOFF: 5 - ROC_AUC: 0.0330151, PRECISION: 0.0158472, PRECISION_RECALL_MIN_DEN: 0.0159845, RECALL: 0.0029810, MAP: 0.0075780, MRR: 0.0320944, NDCG: 0.0039486, F1: 0.0050180, HIT_RATE: 0.0792361, ARHR: 0.0346575, NOVELTY: 0.0066085, AVERAGE_POPULARITY: 0.0726897, DIVERSITY_MEAN_INTER_LIST: 0.9812930, DIVERSITY_HERFINDAHL: 0.9962558, COVERAGE_ITEM: 0.4567924, COVERAGE_ITEM_CORRECT: 0.0489655, COVERAGE_USER: 0.9989410, COVERAGE_USER_CORRECT: 0.0696070, DIVERSITY_GINI: 0.0584840, SHANNON_ENTROPY: 9.3400308, \n",
      "\n",
      "\n",
      "Iteration No: 2 ended. Evaluation done at random point.\n",
      "Time taken: 155.7800\n",
      "Function value obtained: -0.0034\n",
      "Current minimum: -0.0034\n",
      "Iteration No: 3 started. Evaluating function at random point.\n",
      "CFW_D_Similarity_Linalg: URM Detected 49 (0.46 %) cold items.\n",
      "SearchBayesianSkopt: Testing config: {'topK': 142, 'add_zeros_quota': 0.21765604733227412, 'normalize_similarity': True}\n",
      "CFW_D_Similarity_Linalg: Generating train data\n",
      "Similarity column 10681 ( 100 % ), 9258.07 column/sec, elapsed time 0.02 min\n",
      "CFW_D_Similarity_Linalg: Collaborative S density: 6.49E-02, nonzero cells 7408876\n",
      "CFW_D_Similarity_Linalg: Content S density: 1.33E-02, nonzero cells 1516446\n",
      "CFW_D_Similarity_Linalg: Content S structure has 209554 out of 1516446 ( 13.82%) nonzero collaborative cells\n",
      "CFW_D_Similarity_Linalg: Nonzero collaborative cell sum is: 5.81E+04, average is: 2.77E-01, average over all collaborative data is 8.65E-02\n",
      "Similarity column 10681 ( 100 % ), 7233.21 column/sec, elapsed time 0.02 min\n",
      "EvaluatorHoldout: Processed 59000 ( 87.42% ) in 30.13 sec. Users per second: 1958\n",
      "EvaluatorHoldout: Processed 67487 ( 100.00% ) in 34.35 sec. Users per second: 1964\n",
      "SearchBayesianSkopt: New best config found. Config 2: {'topK': 142, 'add_zeros_quota': 0.21765604733227412, 'normalize_similarity': True} - results: ROC_AUC: 0.0209460, PRECISION: 0.0091455, PRECISION_RECALL_MIN_DEN: 0.0096527, RECALL: 0.0035217, MAP: 0.0045711, MRR: 0.0197361, NDCG: 0.0037909, F1: 0.0050852, HIT_RATE: 0.0457273, ARHR: 0.0206815, NOVELTY: 0.0063633, AVERAGE_POPULARITY: 0.0854621, DIVERSITY_MEAN_INTER_LIST: 0.9764181, DIVERSITY_HERFINDAHL: 0.9952807, COVERAGE_ITEM: 0.4541710, COVERAGE_ITEM_CORRECT: 0.0307087, COVERAGE_USER: 0.9657832, COVERAGE_USER_CORRECT: 0.0410000, DIVERSITY_GINI: 0.0537483, SHANNON_ENTROPY: 9.1711103, \n",
      "\n",
      "EvaluatorHoldout: Processed 58000 ( 83.09% ) in 30.17 sec. Users per second: 1923\n",
      "EvaluatorHoldout: Processed 69804 ( 100.00% ) in 36.41 sec. Users per second: 1917\n",
      "SearchBayesianSkopt: Best config evaluated with evaluator_test. Config: {'topK': 142, 'add_zeros_quota': 0.21765604733227412, 'normalize_similarity': True} - results:\n",
      "CUTOFF: 5 - ROC_AUC: 0.0450106, PRECISION: 0.0219013, PRECISION_RECALL_MIN_DEN: 0.0220226, RECALL: 0.0035593, MAP: 0.0109355, MRR: 0.0443301, NDCG: 0.0049489, F1: 0.0061235, HIT_RATE: 0.1095066, ARHR: 0.0490569, NOVELTY: 0.0063659, AVERAGE_POPULARITY: 0.0852008, DIVERSITY_MEAN_INTER_LIST: 0.9769219, DIVERSITY_HERFINDAHL: 0.9953816, COVERAGE_ITEM: 0.4615673, COVERAGE_ITEM_CORRECT: 0.0494336, COVERAGE_USER: 0.9989410, COVERAGE_USER_CORRECT: 0.0925327, DIVERSITY_GINI: 0.0544877, SHANNON_ENTROPY: 9.1950034, \n",
      "\n",
      "\n",
      "Iteration No: 3 ended. Evaluation done at random point.\n",
      "Time taken: 85.9167\n",
      "Function value obtained: -0.0046\n",
      "Current minimum: -0.0046\n",
      "Iteration No: 4 started. Searching for the next optimal point.\n"
     ]
    },
    {
     "name": "stdout",
     "output_type": "stream",
     "text": [
      "CFW_D_Similarity_Linalg: URM Detected 49 (0.46 %) cold items.\n",
      "SearchBayesianSkopt: Testing config: {'topK': 994, 'add_zeros_quota': 0.9914471839151962, 'normalize_similarity': False}\n",
      "CFW_D_Similarity_Linalg: Generating train data\n",
      "Similarity column 10681 ( 100 % ), 7664.34 column/sec, elapsed time 0.02 min\n",
      "CFW_D_Similarity_Linalg: Collaborative S density: 6.49E-02, nonzero cells 7408876\n",
      "CFW_D_Similarity_Linalg: Content S density: 9.02E-02, nonzero cells 10284772\n",
      "CFW_D_Similarity_Linalg: Generating train data. Sample 4057703 ( 78.57 %) \n",
      "CFW_D_Similarity_Linalg: Content S structure has 1130295 out of 10284772 ( 10.99%) nonzero collaborative cells\n",
      "CFW_D_Similarity_Linalg: Nonzero collaborative cell sum is: 1.06E+05, average is: 9.37E-02, average over all collaborative data is 8.65E-02\n",
      "Similarity column 10681 ( 100 % ), 9096.08 column/sec, elapsed time 0.02 min\n",
      "EvaluatorHoldout: Processed 39000 ( 57.79% ) in 30.02 sec. Users per second: 1299\n",
      "EvaluatorHoldout: Processed 67487 ( 100.00% ) in 51.17 sec. Users per second: 1319\n",
      "SearchBayesianSkopt: Config 3 is suboptimal. Config: {'topK': 994, 'add_zeros_quota': 0.9914471839151962, 'normalize_similarity': False} - results: ROC_AUC: 0.0084535, PRECISION: 0.0041104, PRECISION_RECALL_MIN_DEN: 0.0045085, RECALL: 0.0018923, MAP: 0.0018082, MRR: 0.0079413, NDCG: 0.0015965, F1: 0.0025916, HIT_RATE: 0.0205521, ARHR: 0.0081216, NOVELTY: 0.0066073, AVERAGE_POPULARITY: 0.0577826, DIVERSITY_MEAN_INTER_LIST: 0.8795143, DIVERSITY_HERFINDAHL: 0.9759002, COVERAGE_ITEM: 0.1718004, COVERAGE_ITEM_CORRECT: 0.0147926, COVERAGE_USER: 0.9657832, COVERAGE_USER_CORRECT: 0.0191906, DIVERSITY_GINI: 0.0107694, SHANNON_ENTROPY: 6.6325294, \n",
      "\n",
      "Iteration No: 4 ended. Search finished for the next optimal point.\n",
      "Time taken: 136.8538\n",
      "Function value obtained: -0.0018\n",
      "Current minimum: -0.0046\n",
      "Iteration No: 5 started. Searching for the next optimal point.\n",
      "CFW_D_Similarity_Linalg: URM Detected 49 (0.46 %) cold items.\n",
      "SearchBayesianSkopt: Testing config: {'topK': 14, 'add_zeros_quota': 0.9884275648687755, 'normalize_similarity': True}\n",
      "CFW_D_Similarity_Linalg: Generating train data\n",
      "Similarity column 10681 ( 100 % ), 10628.69 column/sec, elapsed time 0.02 min\n",
      "CFW_D_Similarity_Linalg: Collaborative S density: 6.49E-02, nonzero cells 7408876\n",
      "CFW_D_Similarity_Linalg: Content S density: 1.31E-03, nonzero cells 149520\n",
      "CFW_D_Similarity_Linalg: Content S structure has 22923 out of 149520 ( 15.33%) nonzero collaborative cells\n",
      "CFW_D_Similarity_Linalg: Nonzero collaborative cell sum is: 7.27E+03, average is: 3.17E-01, average over all collaborative data is 8.65E-02\n",
      "Similarity column 10681 ( 100 % ), 7653.69 column/sec, elapsed time 0.02 min\n",
      "EvaluatorHoldout: Processed 67487 ( 100.00% ) in 27.38 sec. Users per second: 2465\n",
      "SearchBayesianSkopt: Config 4 is suboptimal. Config: {'topK': 14, 'add_zeros_quota': 0.9884275648687755, 'normalize_similarity': True} - results: ROC_AUC: 0.0160673, PRECISION: 0.0071866, PRECISION_RECALL_MIN_DEN: 0.0078000, RECALL: 0.0031577, MAP: 0.0035877, MRR: 0.0152350, NDCG: 0.0031300, F1: 0.0043875, HIT_RATE: 0.0359328, ARHR: 0.0159300, NOVELTY: 0.0065896, AVERAGE_POPULARITY: 0.0709215, DIVERSITY_MEAN_INTER_LIST: 0.9817950, DIVERSITY_HERFINDAHL: 0.9963561, COVERAGE_ITEM: 0.3262803, COVERAGE_ITEM_CORRECT: 0.0323940, COVERAGE_USER: 0.9657832, COVERAGE_USER_CORRECT: 0.0323135, DIVERSITY_GINI: 0.0464914, SHANNON_ENTROPY: 9.1741055, \n",
      "\n",
      "Iteration No: 5 ended. Search finished for the next optimal point.\n",
      "Time taken: 33.8981\n",
      "Function value obtained: -0.0036\n",
      "Current minimum: -0.0046\n",
      "Iteration No: 6 started. Searching for the next optimal point.\n",
      "CFW_D_Similarity_Linalg: URM Detected 49 (0.46 %) cold items.\n",
      "SearchBayesianSkopt: Testing config: {'topK': 11, 'add_zeros_quota': 0.0025526477649099326, 'normalize_similarity': False}\n",
      "CFW_D_Similarity_Linalg: Generating train data\n",
      "Similarity column 10681 ( 100 % ), 10374.31 column/sec, elapsed time 0.02 min\n",
      "CFW_D_Similarity_Linalg: Collaborative S density: 6.49E-02, nonzero cells 7408876\n",
      "CFW_D_Similarity_Linalg: Content S density: 1.03E-03, nonzero cells 117480\n",
      "CFW_D_Similarity_Linalg: Content S structure has 17997 out of 117480 ( 15.32%) nonzero collaborative cells\n",
      "CFW_D_Similarity_Linalg: Nonzero collaborative cell sum is: 1.87E+03, average is: 1.04E-01, average over all collaborative data is 8.65E-02\n",
      "Similarity column 10681 ( 100 % ), 9933.59 column/sec, elapsed time 0.02 min\n",
      "EvaluatorHoldout: Processed 67487 ( 100.00% ) in 28.37 sec. Users per second: 2379\n",
      "SearchBayesianSkopt: New best config found. Config 5: {'topK': 11, 'add_zeros_quota': 0.0025526477649099326, 'normalize_similarity': False} - results: ROC_AUC: 0.0214239, PRECISION: 0.0088580, PRECISION_RECALL_MIN_DEN: 0.0096078, RECALL: 0.0038324, MAP: 0.0046988, MRR: 0.0199955, NDCG: 0.0042951, F1: 0.0053501, HIT_RATE: 0.0442900, ARHR: 0.0208887, NOVELTY: 0.0065242, AVERAGE_POPULARITY: 0.0737152, DIVERSITY_MEAN_INTER_LIST: 0.9771148, DIVERSITY_HERFINDAHL: 0.9954201, COVERAGE_ITEM: 0.3001592, COVERAGE_ITEM_CORRECT: 0.0357644, COVERAGE_USER: 0.9657832, COVERAGE_USER_CORRECT: 0.0396978, DIVERSITY_GINI: 0.0443297, SHANNON_ENTROPY: 9.0274463, \n",
      "\n",
      "EvaluatorHoldout: Processed 69804 ( 100.00% ) in 30.23 sec. Users per second: 2309\n",
      "SearchBayesianSkopt: Best config evaluated with evaluator_test. Config: {'topK': 11, 'add_zeros_quota': 0.0025526477649099326, 'normalize_similarity': False} - results:\n",
      "CUTOFF: 5 - ROC_AUC: 0.0450893, PRECISION: 0.0205117, PRECISION_RECALL_MIN_DEN: 0.0206244, RECALL: 0.0037064, MAP: 0.0106282, MRR: 0.0433366, NDCG: 0.0055019, F1: 0.0062783, HIT_RATE: 0.1025586, ARHR: 0.0478015, NOVELTY: 0.0065249, AVERAGE_POPULARITY: 0.0738220, DIVERSITY_MEAN_INTER_LIST: 0.9772859, DIVERSITY_HERFINDAHL: 0.9954544, COVERAGE_ITEM: 0.3046531, COVERAGE_ITEM_CORRECT: 0.0494336, COVERAGE_USER: 0.9989410, COVERAGE_USER_CORRECT: 0.0872091, DIVERSITY_GINI: 0.0446314, SHANNON_ENTROPY: 9.0370955, \n",
      "\n",
      "\n",
      "Iteration No: 6 ended. Search finished for the next optimal point.\n",
      "Time taken: 64.4853\n",
      "Function value obtained: -0.0047\n",
      "Current minimum: -0.0047\n",
      "Iteration No: 7 started. Searching for the next optimal point.\n",
      "CFW_D_Similarity_Linalg: URM Detected 49 (0.46 %) cold items.\n",
      "SearchBayesianSkopt: Testing config: {'topK': 984, 'add_zeros_quota': 0.018205983460970358, 'normalize_similarity': True}\n",
      "CFW_D_Similarity_Linalg: Generating train data\n",
      "Similarity column 10681 ( 100 % ), 8353.72 column/sec, elapsed time 0.02 min\n",
      "CFW_D_Similarity_Linalg: Collaborative S density: 6.49E-02, nonzero cells 7408876\n",
      "CFW_D_Similarity_Linalg: Content S density: 8.93E-02, nonzero cells 10184997\n",
      "CFW_D_Similarity_Linalg: Generating train data. Sample 825747 ( 8.26 %) \n",
      "CFW_D_Similarity_Linalg: Content S structure has 1120416 out of 10184997 ( 11.00%) nonzero collaborative cells\n",
      "CFW_D_Similarity_Linalg: Nonzero collaborative cell sum is: 2.69E+05, average is: 2.40E-01, average over all collaborative data is 8.65E-02\n",
      "Similarity column 10681 ( 100 % ), 5825.42 column/sec, elapsed time 0.03 min\n",
      "EvaluatorHoldout: Processed 38000 ( 56.31% ) in 30.32 sec. Users per second: 1253\n",
      "EvaluatorHoldout: Processed 67487 ( 100.00% ) in 53.41 sec. Users per second: 1264\n",
      "SearchBayesianSkopt: Config 6 is suboptimal. Config: {'topK': 984, 'add_zeros_quota': 0.018205983460970358, 'normalize_similarity': True} - results: ROC_AUC: 0.0187283, PRECISION: 0.0083246, PRECISION_RECALL_MIN_DEN: 0.0089257, RECALL: 0.0034301, MAP: 0.0040561, MRR: 0.0175789, NDCG: 0.0036256, F1: 0.0048584, HIT_RATE: 0.0416228, ARHR: 0.0182509, NOVELTY: 0.0065275, AVERAGE_POPULARITY: 0.0837429, DIVERSITY_MEAN_INTER_LIST: 0.9762434, DIVERSITY_HERFINDAHL: 0.9952458, COVERAGE_ITEM: 0.6614549, COVERAGE_ITEM_CORRECT: 0.0386668, COVERAGE_USER: 0.9657832, COVERAGE_USER_CORRECT: 0.0377086, DIVERSITY_GINI: 0.1022198, SHANNON_ENTROPY: 9.7377491, \n",
      "\n",
      "Iteration No: 7 ended. Search finished for the next optimal point.\n",
      "Time taken: 108.7568\n",
      "Function value obtained: -0.0041\n",
      "Current minimum: -0.0047\n",
      "Iteration No: 8 started. Searching for the next optimal point.\n",
      "CFW_D_Similarity_Linalg: URM Detected 49 (0.46 %) cold items.\n",
      "SearchBayesianSkopt: Testing config: {'topK': 5, 'add_zeros_quota': 0.0, 'normalize_similarity': True}\n",
      "CFW_D_Similarity_Linalg: Generating train data\n"
     ]
    },
    {
     "name": "stdout",
     "output_type": "stream",
     "text": [
      "Similarity column 10681 ( 100 % ), 10222.89 column/sec, elapsed time 0.02 min\n",
      "CFW_D_Similarity_Linalg: Collaborative S density: 6.49E-02, nonzero cells 7408876\n",
      "CFW_D_Similarity_Linalg: Content S density: 4.68E-04, nonzero cells 53400\n",
      "CFW_D_Similarity_Linalg: Content S structure has 7976 out of 53400 ( 14.94%) nonzero collaborative cells\n",
      "CFW_D_Similarity_Linalg: Nonzero collaborative cell sum is: 2.61E+03, average is: 3.28E-01, average over all collaborative data is 8.65E-02\n",
      "Similarity column 10681 ( 100 % ), 7097.04 column/sec, elapsed time 0.03 min\n",
      "EvaluatorHoldout: Processed 67487 ( 100.00% ) in 28.24 sec. Users per second: 2390\n",
      "SearchBayesianSkopt: Config 7 is suboptimal. Config: {'topK': 5, 'add_zeros_quota': 0.0, 'normalize_similarity': True} - results: ROC_AUC: 0.0210090, PRECISION: 0.0083068, PRECISION_RECALL_MIN_DEN: 0.0090533, RECALL: 0.0037604, MAP: 0.0045966, MRR: 0.0194492, NDCG: 0.0042334, F1: 0.0051772, HIT_RATE: 0.0415339, ARHR: 0.0202829, NOVELTY: 0.0066238, AVERAGE_POPULARITY: 0.0797949, DIVERSITY_MEAN_INTER_LIST: 0.9820339, DIVERSITY_HERFINDAHL: 0.9964039, COVERAGE_ITEM: 0.4039884, COVERAGE_ITEM_CORRECT: 0.0323003, COVERAGE_USER: 0.9657832, COVERAGE_USER_CORRECT: 0.0373937, DIVERSITY_GINI: 0.0489991, SHANNON_ENTROPY: 9.1904173, \n",
      "\n",
      "Iteration No: 8 ended. Search finished for the next optimal point.\n",
      "Time taken: 34.0706\n",
      "Function value obtained: -0.0046\n",
      "Current minimum: -0.0047\n",
      "Iteration No: 9 started. Searching for the next optimal point.\n",
      "CFW_D_Similarity_Linalg: URM Detected 49 (0.46 %) cold items.\n",
      "SearchBayesianSkopt: Testing config: {'topK': 998, 'add_zeros_quota': 0.9867897848202423, 'normalize_similarity': False}\n",
      "CFW_D_Similarity_Linalg: Generating train data\n",
      "Similarity column 10681 ( 100 % ), 8296.07 column/sec, elapsed time 0.02 min\n",
      "CFW_D_Similarity_Linalg: Collaborative S density: 6.49E-02, nonzero cells 7408876\n",
      "CFW_D_Similarity_Linalg: Content S density: 9.05E-02, nonzero cells 10324644\n",
      "CFW_D_Similarity_Linalg: Generating train data. Sample 4049400 ( 77.92 %) \n",
      "CFW_D_Similarity_Linalg: Content S structure has 1134187 out of 10324644 ( 10.99%) nonzero collaborative cells\n",
      "CFW_D_Similarity_Linalg: Nonzero collaborative cell sum is: 1.06E+05, average is: 9.37E-02, average over all collaborative data is 8.65E-02\n",
      "Similarity column 10681 ( 100 % ), 8383.81 column/sec, elapsed time 0.02 min\n",
      "EvaluatorHoldout: Processed 38000 ( 56.31% ) in 30.34 sec. Users per second: 1253\n",
      "EvaluatorHoldout: Processed 67487 ( 100.00% ) in 53.62 sec. Users per second: 1259\n",
      "SearchBayesianSkopt: Config 8 is suboptimal. Config: {'topK': 998, 'add_zeros_quota': 0.9867897848202423, 'normalize_similarity': False} - results: ROC_AUC: 0.0083325, PRECISION: 0.0040186, PRECISION_RECALL_MIN_DEN: 0.0044292, RECALL: 0.0018746, MAP: 0.0017789, MRR: 0.0077956, NDCG: 0.0015853, F1: 0.0025566, HIT_RATE: 0.0200928, ARHR: 0.0079726, NOVELTY: 0.0066072, AVERAGE_POPULARITY: 0.0574816, DIVERSITY_MEAN_INTER_LIST: 0.8784679, DIVERSITY_HERFINDAHL: 0.9756910, COVERAGE_ITEM: 0.1703024, COVERAGE_ITEM_CORRECT: 0.0140436, COVERAGE_USER: 0.9657832, COVERAGE_USER_CORRECT: 0.0187326, DIVERSITY_GINI: 0.0107106, SHANNON_ENTROPY: 6.6180073, \n",
      "\n",
      "Iteration No: 9 ended. Search finished for the next optimal point.\n",
      "Time taken: 141.5292\n",
      "Function value obtained: -0.0018\n",
      "Current minimum: -0.0047\n",
      "Iteration No: 10 started. Searching for the next optimal point.\n",
      "CFW_D_Similarity_Linalg: URM Detected 49 (0.46 %) cold items.\n",
      "SearchBayesianSkopt: Testing config: {'topK': 10, 'add_zeros_quota': 0.9868939699474233, 'normalize_similarity': False}\n",
      "CFW_D_Similarity_Linalg: Generating train data\n",
      "Similarity column 10681 ( 100 % ), 10432.60 column/sec, elapsed time 0.02 min\n",
      "CFW_D_Similarity_Linalg: Collaborative S density: 6.49E-02, nonzero cells 7408876\n",
      "CFW_D_Similarity_Linalg: Content S density: 9.36E-04, nonzero cells 106800\n",
      "CFW_D_Similarity_Linalg: Content S structure has 16316 out of 106800 ( 15.28%) nonzero collaborative cells\n",
      "CFW_D_Similarity_Linalg: Nonzero collaborative cell sum is: 1.70E+03, average is: 1.04E-01, average over all collaborative data is 8.65E-02\n",
      "Similarity column 10681 ( 100 % ), 10878.25 column/sec, elapsed time 0.02 min\n",
      "EvaluatorHoldout: Processed 67487 ( 100.00% ) in 28.04 sec. Users per second: 2407\n",
      "SearchBayesianSkopt: New best config found. Config 9: {'topK': 10, 'add_zeros_quota': 0.9868939699474233, 'normalize_similarity': False} - results: ROC_AUC: 0.0227068, PRECISION: 0.0096670, PRECISION_RECALL_MIN_DEN: 0.0105141, RECALL: 0.0044033, MAP: 0.0050471, MRR: 0.0211947, NDCG: 0.0046920, F1: 0.0060506, HIT_RATE: 0.0483352, ARHR: 0.0223092, NOVELTY: 0.0063443, AVERAGE_POPULARITY: 0.0877874, DIVERSITY_MEAN_INTER_LIST: 0.9567825, DIVERSITY_HERFINDAHL: 0.9913537, COVERAGE_ITEM: 0.2595263, COVERAGE_ITEM_CORRECT: 0.0271510, COVERAGE_USER: 0.9657832, COVERAGE_USER_CORRECT: 0.0430465, DIVERSITY_GINI: 0.0275096, SHANNON_ENTROPY: 8.1607306, \n",
      "\n",
      "EvaluatorHoldout: Processed 69804 ( 100.00% ) in 29.17 sec. Users per second: 2393\n",
      "SearchBayesianSkopt: Best config evaluated with evaluator_test. Config: {'topK': 10, 'add_zeros_quota': 0.9868939699474233, 'normalize_similarity': False} - results:\n",
      "CUTOFF: 5 - ROC_AUC: 0.0489239, PRECISION: 0.0228354, PRECISION_RECALL_MIN_DEN: 0.0229485, RECALL: 0.0042091, MAP: 0.0119453, MRR: 0.0475742, NDCG: 0.0061491, F1: 0.0071081, HIT_RATE: 0.1141768, ARHR: 0.0530801, NOVELTY: 0.0063432, AVERAGE_POPULARITY: 0.0879623, DIVERSITY_MEAN_INTER_LIST: 0.9570249, DIVERSITY_HERFINDAHL: 0.9914022, COVERAGE_ITEM: 0.2637394, COVERAGE_ITEM_CORRECT: 0.0364198, COVERAGE_USER: 0.9989410, COVERAGE_USER_CORRECT: 0.0953519, DIVERSITY_GINI: 0.0279432, SHANNON_ENTROPY: 8.1784491, \n",
      "\n",
      "\n",
      "Iteration No: 10 ended. Search finished for the next optimal point.\n",
      "Time taken: 63.0220\n",
      "Function value obtained: -0.0050\n",
      "Current minimum: -0.0050\n",
      "SearchBayesianSkopt: Search complete. Best config is 9: {'topK': 10, 'add_zeros_quota': 0.9868939699474233, 'normalize_similarity': False}\n",
      "\n",
      "CFW_D_Similarity_Linalg: URM Detected 28 (0.26 %) cold items.\n",
      "SearchBayesianSkopt: Evaluation with constructor data for final test. Using best config: {'topK': 10, 'add_zeros_quota': 0.9868939699474233, 'normalize_similarity': False}\n",
      "CFW_D_Similarity_Linalg: Generating train data\n",
      "Similarity column 10681 ( 100 % ), 10308.83 column/sec, elapsed time 0.02 min\n",
      "CFW_D_Similarity_Linalg: Collaborative S density: 6.49E-02, nonzero cells 7408876\n",
      "CFW_D_Similarity_Linalg: Content S density: 9.36E-04, nonzero cells 106800\n",
      "CFW_D_Similarity_Linalg: Content S structure has 16316 out of 106800 ( 15.28%) nonzero collaborative cells\n",
      "CFW_D_Similarity_Linalg: Nonzero collaborative cell sum is: 1.70E+03, average is: 1.04E-01, average over all collaborative data is 8.65E-02\n",
      "Similarity column 10681 ( 100 % ), 11055.13 column/sec, elapsed time 0.02 min\n",
      "EvaluatorHoldout: Processed 69804 ( 100.00% ) in 29.59 sec. Users per second: 2359\n",
      "SearchBayesianSkopt: Best config evaluated with evaluator_test with constructor data for final test. Config: {'topK': 10, 'add_zeros_quota': 0.9868939699474233, 'normalize_similarity': False} - results:\n",
      "CUTOFF: 5 - ROC_AUC: 0.0510692, PRECISION: 0.0240932, PRECISION_RECALL_MIN_DEN: 0.0242147, RECALL: 0.0043749, MAP: 0.0128674, MRR: 0.0499678, NDCG: 0.0064915, F1: 0.0074052, HIT_RATE: 0.1204659, ARHR: 0.0564502, NOVELTY: 0.0063514, AVERAGE_POPULARITY: 0.0861611, DIVERSITY_MEAN_INTER_LIST: 0.9536432, DIVERSITY_HERFINDAHL: 0.9907259, COVERAGE_ITEM: 0.2520363, COVERAGE_ITEM_CORRECT: 0.0346410, COVERAGE_USER: 0.9989410, COVERAGE_USER_CORRECT: 0.0987865, DIVERSITY_GINI: 0.0260290, SHANNON_ENTROPY: 8.0660685, \n",
      "\n",
      "\n"
     ]
    }
   ],
   "source": [
    "hyperparameter_optimization_CFW_D(URM_train, ICM_genres, W_sparse_CF)"
   ]
  },
  {
   "cell_type": "markdown",
   "metadata": {},
   "source": [
    "### Here the best solution has a MAP of 0.0123... not great"
   ]
  },
  {
   "cell_type": "markdown",
   "metadata": {},
   "source": [
    "### Since we are weighting features, and weights can be applied only to common features, we may expect a sparse ICM to have limited quality gains because the items will tend to have few features in common and so only few parameters that can be learned. A more dense ICM may exhibit much higher improvements due to more common features and model parameters, however, very different items may have the same features in common, choking the model.\n",
    "\n",
    "## Improvements of CF+CBF greatly depend on the ICM structure and collaborative data distribution...\n",
    "\n",
    "## Tip:\n",
    "### If your ICM is very sparse and you get poor results, you may try to aggregate features (e.g., put them in OR, add them...) to reduce their number and get a new denser ICM on which to try feature weighting"
   ]
  },
  {
   "cell_type": "markdown",
   "metadata": {},
   "source": [
    "## How about using these feature weights to perform feature selection?\n",
    "## Let's try to select the x% features with highest value"
   ]
  },
  {
   "cell_type": "code",
   "execution_count": 36,
   "metadata": {},
   "outputs": [
    {
     "name": "stderr",
     "output_type": "stream",
     "text": [
      "No handles with labels found to put in legend.\n"
     ]
    },
    {
     "data": {
      "image/png": "[encoded data removed]",
      "text/plain": [
       "<Figure size 432x288 with 1 Axes>"
      ]
     },
     "metadata": {
      "needs_background": "light"
     },
     "output_type": "display_data"
    }
   ],
   "source": [
    "import matplotlib.pyplot as pyplot\n",
    "%matplotlib inline  \n",
    "\n",
    "pyplot.plot(np.sort(CFW_weithing.D_best))\n",
    "pyplot.ylabel('Weight')\n",
    "pyplot.xlabel('Sorted features')\n",
    "pyplot.legend()\n",
    "pyplot.show()"
   ]
  },
  {
   "cell_type": "markdown",
   "metadata": {},
   "source": [
    "### Something to think about... do we select features with the 'highest' weight, hence excluding the negative ones, or do we select those that have the 'highest absolute' value, accounting also for the strong negative ones?"
   ]
  },
  {
   "cell_type": "code",
   "execution_count": 37,
   "metadata": {},
   "outputs": [
    {
     "name": "stdout",
     "output_type": "stream",
     "text": [
      "Selected 3065/10217 features, weights: 3.39E-03 to 2.64E-01\n",
      "ItemKNNCBFRecommender: URM Detected 49 (0.46 %) cold items.\n",
      "Similarity column 10681 ( 100 % ), 10919.31 column/sec, elapsed time 0.02 min\n",
      "EvaluatorHoldout: Processed 39000 ( 55.87% ) in 30.06 sec. Users per second: 1297\n",
      "EvaluatorHoldout: Processed 69804 ( 100.00% ) in 53.74 sec. Users per second: 1299\n",
      "Selected 5108/10217 features, weights: 0.00E+00 to 2.64E-01\n",
      "ItemKNNCBFRecommender: URM Detected 49 (0.46 %) cold items.\n",
      "Similarity column 10681 ( 100 % ), 10281.99 column/sec, elapsed time 0.02 min\n",
      "EvaluatorHoldout: Processed 37000 ( 53.01% ) in 30.32 sec. Users per second: 1220\n",
      "EvaluatorHoldout: Processed 69804 ( 100.00% ) in 56.56 sec. Users per second: 1234\n",
      "Selected 7151/10217 features, weights: 0.00E+00 to 2.64E-01\n",
      "ItemKNNCBFRecommender: URM Detected 49 (0.46 %) cold items.\n",
      "Similarity column 10681 ( 100 % ), 8883.01 column/sec, elapsed time 0.02 min\n",
      "EvaluatorHoldout: Processed 38000 ( 54.44% ) in 30.22 sec. Users per second: 1258\n",
      "EvaluatorHoldout: Processed 69804 ( 100.00% ) in 57.68 sec. Users per second: 1210\n",
      "Selected 9195/10217 features, weights: -1.33E-03 to 2.64E-01\n",
      "ItemKNNCBFRecommender: URM Detected 49 (0.46 %) cold items.\n",
      "Similarity column 10681 ( 100 % ), 9496.84 column/sec, elapsed time 0.02 min\n",
      "EvaluatorHoldout: Processed 35000 ( 50.14% ) in 30.30 sec. Users per second: 1155\n",
      "EvaluatorHoldout: Processed 69804 ( 100.00% ) in 59.82 sec. Users per second: 1167\n"
     ]
    }
   ],
   "source": [
    "argsort_features = np.argsort(-CFW_weithing.D_best)\n",
    "\n",
    "map_list = []\n",
    "selection_quota_list = [0.3, 0.5, 0.7, 0.9]\n",
    "\n",
    "for selection_quota in selection_quota_list:\n",
    "    \n",
    "    n_to_select = int(selection_quota*len(argsort_features))\n",
    "    selected_features = argsort_features[:n_to_select]\n",
    "    \n",
    "    ICM_selected = ICM_tags[:,selected_features]\n",
    "    \n",
    "    print(\"Selected {}/{} features, weights: {:.2E} to {:.2E}\".format(n_to_select, len(argsort_features),\n",
    "                                                                min(CFW_weithing.D_best[selected_features]),\n",
    "                                                                max(CFW_weithing.D_best[selected_features])))\n",
    "    \n",
    "    itemKNNCBF = ItemKNNCBFRecommender(URM_train, ICM_selected)\n",
    "    itemKNNCBF.fit(**best_params_ItemKNNCBF)\n",
    "    \n",
    "    results_dict, _ = evaluator_test.evaluateRecommender(itemKNNCBF)\n",
    "    map_list.append(results_dict[5][\"MAP\"])\n",
    "    \n",
    "    "
   ]
  },
  {
   "cell_type": "code",
   "execution_count": 38,
   "metadata": {},
   "outputs": [
    {
     "name": "stderr",
     "output_type": "stream",
     "text": [
      "No handles with labels found to put in legend.\n"
     ]
    },
    {
     "data": {
      "image/png": "[encoded data removed]",
      "text/plain": [
       "<Figure size 432x288 with 1 Axes>"
      ]
     },
     "metadata": {
      "needs_background": "light"
     },
     "output_type": "display_data"
    }
   ],
   "source": [
    "pyplot.plot(selection_quota_list, map_list)\n",
    "pyplot.ylabel('MAP')\n",
    "pyplot.xlabel('Selected features')\n",
    "pyplot.legend()\n",
    "pyplot.show()"
   ]
  },
  {
   "cell_type": "code",
   "execution_count": null,
   "metadata": {},
   "outputs": [],
   "source": []
  }
 ],
 "metadata": {
  "kernelspec": {
   "display_name": "Python 3",
   "language": "python",
   "name": "python3"
  },
  "language_info": {
   "codemirror_mode": {
    "name": "ipython",
    "version": 3
   },
   "file_extension": ".py",
   "mimetype": "text/x-python",
   "name": "python",
   "nbconvert_exporter": "python",
   "pygments_lexer": "ipython3",
   "version": "3.6.10"
  }
 },
 "nbformat": 4,
 "nbformat_minor": 2
}
