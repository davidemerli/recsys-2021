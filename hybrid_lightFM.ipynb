{
 "cells": [
  {
   "cell_type": "code",
   "execution_count": 46,
   "metadata": {},
   "outputs": [],
   "source": [
    "from Data_manager.split_functions.split_train_validation_random_holdout import split_train_in_two_percentage_global_sample\n",
    "import numpy as np\n",
    "import matplotlib.pyplot as plt\n",
    "%matplotlib inline \n",
    "import pandas as pd\n",
    "import scipy.sparse as sps\n",
    "from Evaluation.Evaluator import EvaluatorHoldout\n",
    "from Recommenders.BaseRecommender import BaseRecommender\n",
    "from lightfm import LightFM\n",
    "from lightfm.evaluation import precision_at_k\n",
    "from lightfm.evaluation import auc_score\n",
    "import time\n"
   ]
  },
  {
   "cell_type": "markdown",
   "metadata": {},
   "source": [
    "<h3 style=\"color:yellow;background-color:blue\">Load all the input using the data loader.</h3>"
   ]
  },
  {
   "cell_type": "code",
   "execution_count": 19,
   "metadata": {},
   "outputs": [],
   "source": [
    "from data_loader import load_URM, load_ICM\n",
    "\n",
    "URM_all = load_URM('input/data_train.csv')\n",
    "ICM_genres = load_ICM('input/data_ICM_genre.csv')\n",
    "ICM_subgenres = load_ICM('input/data_ICM_subgenre.csv')\n",
    "ICM_event = load_ICM('input/data_ICM_event.csv')\n",
    "ICM_channel = load_ICM('input/data_ICM_channel.csv')"
   ]
  },
  {
   "cell_type": "code",
   "execution_count": 20,
   "metadata": {},
   "outputs": [
    {
     "name": "stdout",
     "output_type": "stream",
     "text": [
      "Warning: 31 (0.23 %) of 13650 users have no sampled items\n",
      "Warning: 47 (0.34 %) of 13650 users have no sampled items\n",
      "EvaluatorHoldout: Ignoring 13603 ( 0.3%) Users that have less than 1 test interactions\n",
      "EvaluatorHoldout: Ignoring 13619 ( 0.2%) Users that have less than 1 test interactions\n"
     ]
    }
   ],
   "source": [
    "URM_train_validation, URM_test = split_train_in_two_percentage_global_sample(URM_all, train_percentage = 0.9)\n",
    "URM_train, URM_validation = split_train_in_two_percentage_global_sample(URM_train_validation, train_percentage = 0.9)\n",
    "\n",
    "evaluator_validation = EvaluatorHoldout(URM_validation, cutoff_list=[10])\n",
    "evaluator_test = EvaluatorHoldout(URM_test, cutoff_list=[10])"
   ]
  },
  {
   "cell_type": "markdown",
   "metadata": {},
   "source": [
    "#### Approach 1: BPR"
   ]
  },
  {
   "cell_type": "code",
   "execution_count": 35,
   "metadata": {},
   "outputs": [
    {
     "name": "stdout",
     "output_type": "stream",
     "text": [
      "Precision: train 0.59, test 0.06.\n",
      "AUC: train 0.86, test 0.84.\n"
     ]
    }
   ],
   "source": [
    "model = LightFM(learning_rate=0.05, loss='bpr')\n",
    "model.fit(URM_train_validation, epochs=10)\n",
    "\n",
    "train_precision = precision_at_k(model, URM_train_validation, k=10).mean()\n",
    "test_precision = precision_at_k(model, URM_test, k=10).mean()\n",
    "\n",
    "train_auc = auc_score(model, URM_train_validation).mean()\n",
    "test_auc = auc_score(model, URM_test).mean()\n",
    "\n",
    "print('Precision: train %.2f, test %.2f.' % (train_precision, test_precision))\n",
    "print('AUC: train %.2f, test %.2f.' % (train_auc, test_auc))"
   ]
  },
  {
   "cell_type": "markdown",
   "metadata": {},
   "source": [
    "#### Approach 2: WARP"
   ]
  },
  {
   "cell_type": "code",
   "execution_count": 36,
   "metadata": {},
   "outputs": [
    {
     "name": "stdout",
     "output_type": "stream",
     "text": [
      "Precision: train 0.66, test 0.07.\n",
      "AUC: train 0.93, test 0.91.\n"
     ]
    }
   ],
   "source": [
    "model = LightFM(learning_rate=0.05, loss='warp')\n",
    "\n",
    "model.fit_partial(URM_train_validation, epochs=10)\n",
    "\n",
    "train_precision = precision_at_k(model, URM_train_validation, k=10).mean()\n",
    "test_precision = precision_at_k(model, URM_test, k=10).mean()\n",
    "\n",
    "train_auc = auc_score(model, URM_train_validation).mean()\n",
    "test_auc = auc_score(model, URM_test).mean()\n",
    "\n",
    "print('Precision: train %.2f, test %.2f.' % (train_precision, test_precision))\n",
    "print('AUC: train %.2f, test %.2f.' % (train_auc, test_auc))"
   ]
  },
  {
   "cell_type": "markdown",
   "metadata": {},
   "source": [
    "<h3 style=\"color:yellow;background-color:blue\">Approach 2 seems to be more effective both in Precision and AUC, so we prefer to use WARP loss.</h3>"
   ]
  },
  {
   "cell_type": "markdown",
   "metadata": {},
   "source": [
    "# Using different learning schedules\n",
    "`lightfm` implements two learning schedules: <b style=\"color:yellow\">adagrad</b> and <b style=\"color:yellow\">adadelta</b>. Neither is clearly superior, and, like other hyperparameter choices, the best learning schedule will differ based on the problem at hand.\n",
    "\n",
    "<h3 style=\"color:yellow;background-color:blue\">We have to try both schedules and see what performs better. </h3>\n",
    "<h4 style=\"color:yellow;background-color:blue\">How? Comparing two models with same #epochs and loss function, using ROC AUC on test set</h4>"
   ]
  },
  {
   "cell_type": "code",
   "execution_count": 40,
   "metadata": {},
   "outputs": [
    {
     "name": "stderr",
     "output_type": "stream",
     "text": [
      "fitting adagrad: 100%|██████████| 10/10 [04:36<00:00, 27.68s/it]\n",
      "fitting adadelta: 100%|██████████| 10/10 [04:24<00:00, 26.42s/it]\n"
     ]
    }
   ],
   "source": [
    "from tqdm import tqdm\n",
    "alpha = 1e-3\n",
    "epochs = 10\n",
    "\n",
    "# ADAGRAD MODEL --------------------------------------------------\n",
    "adagrad_model = LightFM(no_components=30,\n",
    "                        loss='warp',\n",
    "                        learning_schedule='adagrad',\n",
    "                        user_alpha=alpha,\n",
    "                        item_alpha=alpha)\n",
    "adagrad_auc = []\n",
    "\n",
    "for epoch in tqdm(range(epochs), desc=\"fitting adagrad\"):\n",
    "    adagrad_model.fit_partial(URM_train_validation, epochs=1)\n",
    "    adagrad_auc.append(auc_score(adagrad_model, URM_test).mean())\n",
    "\n",
    "\n",
    "# ADADELTA MODEL -------------------------------------------------\n",
    "adadelta_model = LightFM(no_components=30,\n",
    "                        loss='warp',\n",
    "                        learning_schedule='adadelta',\n",
    "                        user_alpha=alpha,\n",
    "                        item_alpha=alpha)    \n",
    "adadelta_auc = []\n",
    "\n",
    "for epoch in tqdm(range(epochs), desc=\"fitting adadelta\"):\n",
    "    adadelta_model.fit_partial(URM_train_validation, epochs=1)\n",
    "    adadelta_auc.append(auc_score(adadelta_model, URM_test).mean())"
   ]
  },
  {
   "cell_type": "code",
   "execution_count": 41,
   "metadata": {},
   "outputs": [
    {
     "data": {
      "image/png": "[encoded data removed]",
      "text/plain": [
       "<Figure size 432x288 with 1 Axes>"
      ]
     },
     "metadata": {
      "needs_background": "light"
     },
     "output_type": "display_data"
    }
   ],
   "source": [
    "x = np.arange(len(adagrad_auc))\n",
    "plt.plot(x, np.array(adagrad_auc))\n",
    "plt.plot(x, np.array(adadelta_auc))\n",
    "plt.legend(['adagrad', 'adadelta'], loc='lower right')\n",
    "plt.show()"
   ]
  },
  {
   "cell_type": "markdown",
   "metadata": {},
   "source": [
    "<h3 style=\"color:yellow;background-color:blue\">Adagrad seems to be way better than Adadelta, so we prefer to use it</h3>\n",
    "\n",
    "We can try the same for the k-OS loss."
   ]
  },
  {
   "cell_type": "code",
   "execution_count": 43,
   "metadata": {},
   "outputs": [
    {
     "name": "stderr",
     "output_type": "stream",
     "text": [
      "fitting adagrad (k-os): 100%|██████████| 10/10 [05:09<00:00, 30.90s/it]\n",
      "fitting adadelta (k-os): 100%|██████████| 10/10 [04:56<00:00, 29.67s/it]\n"
     ]
    }
   ],
   "source": [
    "# ADAGRAD (k-OS) --------------------------------\n",
    "adagrad_model = LightFM(no_components=30,\n",
    "                        loss='warp-kos',\n",
    "                        learning_schedule='adagrad',\n",
    "                        user_alpha=alpha, item_alpha=alpha)\n",
    "adagrad_auc = []\n",
    "\n",
    "for epoch in tqdm(range(epochs),desc=\"fitting adagrad (k-os)\"):\n",
    "    adagrad_model.fit_partial(URM_train_validation, epochs=1)\n",
    "    adagrad_auc.append(auc_score(adagrad_model, URM_test).mean())\n",
    "\n",
    "# ADADELTA (k-OS) --------------------------------\n",
    "adadelta_model = LightFM(no_components=30,\n",
    "                        loss='warp-kos',\n",
    "                        learning_schedule='adadelta',\n",
    "                        user_alpha=alpha, item_alpha=alpha)\n",
    "adadelta_auc = []\n",
    "\n",
    "for epoch in tqdm(range(epochs),desc=\"fitting adadelta (k-os)\"):\n",
    "    adadelta_model.fit_partial(URM_train_validation, epochs=1)\n",
    "    adadelta_auc.append(auc_score(adadelta_model, URM_test).mean())"
   ]
  },
  {
   "cell_type": "code",
   "execution_count": 44,
   "metadata": {},
   "outputs": [
    {
     "data": {
      "image/png": "[encoded data removed]",
      "text/plain": [
       "<Figure size 432x288 with 1 Axes>"
      ]
     },
     "metadata": {
      "needs_background": "light"
     },
     "output_type": "display_data"
    }
   ],
   "source": [
    "x = np.arange(len(adagrad_auc))\n",
    "plt.plot(x, np.array(adagrad_auc))\n",
    "plt.plot(x, np.array(adadelta_auc))\n",
    "plt.legend(['adagrad', 'adadelta'], loc='lower right')\n",
    "plt.show()"
   ]
  },
  {
   "cell_type": "markdown",
   "metadata": {},
   "source": [
    "<h3 style=\"color:yellow;background-color:blue\"> mmmkay, I don't even know what WARP-kos actually does, but I guess Adadelta still sucks so who cares, we will stick to Adagrad</h3>"
   ]
  },
  {
   "cell_type": "markdown",
   "metadata": {},
   "source": [
    "<h2 style=\"color:yellow;background-color:darkgreen\"> RECAP: we will use WARP as loss funciton and Adagrad as schedule</h2>"
   ]
  },
  {
   "cell_type": "code",
   "execution_count": 48,
   "metadata": {},
   "outputs": [
    {
     "name": "stderr",
     "output_type": "stream",
     "text": [
      "fitting WARP model: 100%|██████████| 70/70 [25:21<00:00, 21.74s/it]\n"
     ]
    },
    {
     "data": {
      "image/png": "[encoded data removed]",
      "text/plain": [
       "<Figure size 432x288 with 1 Axes>"
      ]
     },
     "metadata": {
      "needs_background": "light"
     },
     "output_type": "display_data"
    },
    {
     "data": {
      "image/png": "[encoded data removed]",
      "text/plain": [
       "<Figure size 432x288 with 1 Axes>"
      ]
     },
     "metadata": {
      "needs_background": "light"
     },
     "output_type": "display_data"
    }
   ],
   "source": [
    "alpha = 1e-05\n",
    "epochs = 70\n",
    "num_components = 32\n",
    "\n",
    "warp_model = LightFM(no_components=num_components,\n",
    "                     max_sampled=3,\n",
    "                    loss='warp',\n",
    "                    learning_schedule='adagrad',\n",
    "                    user_alpha=alpha,\n",
    "                    item_alpha=alpha)\n",
    "\n",
    "warp_duration = []\n",
    "warp_auc = []\n",
    "\n",
    "for epoch in tqdm(range(epochs), desc=\"fitting WARP model\")  :\n",
    "    start = time.time()\n",
    "    warp_model.fit_partial(URM_train_validation, epochs=1)\n",
    "    warp_duration.append(time.time() - start)\n",
    "    warp_auc.append(auc_score(warp_model, URM_test, train_interactions=URM_train_validation).mean())\n",
    "\n",
    "x = np.arange(epochs)\n",
    "plt.plot(x, np.array(warp_duration))\n",
    "plt.legend(['WARP duration'], loc='upper right')\n",
    "plt.title('Duration')\n",
    "plt.show()\n",
    "\n",
    "x = np.arange(epochs)\n",
    "plt.plot(x, np.array(warp_auc))\n",
    "plt.legend(['WARP AUC'], loc='upper right')\n",
    "plt.title('AUC')\n",
    "plt.show()"
   ]
  },
  {
   "cell_type": "code",
   "execution_count": 21,
   "metadata": {},
   "outputs": [],
   "source": [
    "# In order to evaluate put it in a recommender class\n",
    "class LightFMWrapper(BaseRecommender):\n",
    "    \"\"\"LightFMWrapper\"\"\"\n",
    "\n",
    "    RECOMMENDER_NAME = \"LightFMWrapper\"\n",
    "\n",
    "    def __init__(self, URM_train):\n",
    "        super(LightFMWrapper, self).__init__(URM_train)\n",
    "\n",
    "\n",
    "    def fit(self, ITEM_ALPHA, NUM_COMPONENTS, NUM_EPOCHS, NUM_THREADS):\n",
    "        \n",
    "        # Let's fit a WARP model\n",
    "        self.lightFM_model = LightFM(loss='warp',\n",
    "                                     item_alpha=ITEM_ALPHA,\n",
    "                                     no_components=NUM_COMPONENTS)\n",
    "\n",
    "        self.lightFM_model = self.lightFM_model.fit(URM_train, \n",
    "                                                    epochs=NUM_EPOCHS,\n",
    "                                                    num_threads=NUM_THREADS)\n",
    "\n",
    "\n",
    "    def _compute_item_score(self, user_id_array, items_to_compute = None):\n",
    "        \n",
    "        # Create a single (n_items, ) array with the item score, then copy it for every user\n",
    "        items_to_compute = np.arange(self.n_items) if items_to_compute is None else np.array(items_to_compute)\n",
    "        \n",
    "        item_scores = - np.ones((len(user_id_array), self.n_items)) * np.inf\n",
    "\n",
    "        for user_index, user_id in enumerate(user_id_array):\n",
    "            item_scores[user_index] = self.lightFM_model.predict(int(user_id), \n",
    "                                                                 items_to_compute)\n",
    "\n",
    "        return item_scores\n"
   ]
  },
  {
   "cell_type": "code",
   "execution_count": 31,
   "metadata": {},
   "outputs": [
    {
     "name": "stdout",
     "output_type": "stream",
     "text": [
      "LightFMWrapper: URM Detected 1 ( 0.0%) items with no interactions.\n"
     ]
    }
   ],
   "source": [
    "# Set the number of threads; you can increase this\n",
    "# if you have more physical cores available.\n",
    "NUM_THREADS = 4\n",
    "NUM_COMPONENTS = 10\n",
    "NUM_EPOCHS = 3\n",
    "ITEM_ALPHA = 1e-6\n",
    "\n",
    "recommender = LightFMWrapper(URM_train, ICM_event)\n",
    "recommender.fit(ITEM_ALPHA, NUM_COMPONENTS, NUM_EPOCHS, NUM_THREADS)"
   ]
  },
  {
   "cell_type": "code",
   "execution_count": 32,
   "metadata": {},
   "outputs": [
    {
     "name": "stdout",
     "output_type": "stream",
     "text": [
      "EvaluatorHoldout: Processed 13603 (100.0%) in 2.49 min. Users per second: 91\n"
     ]
    },
    {
     "data": {
      "text/html": [
       "<div>\n",
       "<style scoped>\n",
       "    .dataframe tbody tr th:only-of-type {\n",
       "        vertical-align: middle;\n",
       "    }\n",
       "\n",
       "    .dataframe tbody tr th {\n",
       "        vertical-align: top;\n",
       "    }\n",
       "\n",
       "    .dataframe thead th {\n",
       "        text-align: right;\n",
       "    }\n",
       "</style>\n",
       "<table border=\"1\" class=\"dataframe\">\n",
       "  <thead>\n",
       "    <tr style=\"text-align: right;\">\n",
       "      <th></th>\n",
       "      <th>PRECISION</th>\n",
       "      <th>PRECISION_RECALL_MIN_DEN</th>\n",
       "      <th>RECALL</th>\n",
       "      <th>MAP</th>\n",
       "      <th>MAP_MIN_DEN</th>\n",
       "      <th>MRR</th>\n",
       "      <th>NDCG</th>\n",
       "      <th>F1</th>\n",
       "      <th>HIT_RATE</th>\n",
       "      <th>ARHR_ALL_HITS</th>\n",
       "      <th>...</th>\n",
       "      <th>COVERAGE_ITEM_CORRECT</th>\n",
       "      <th>COVERAGE_USER</th>\n",
       "      <th>COVERAGE_USER_CORRECT</th>\n",
       "      <th>DIVERSITY_GINI</th>\n",
       "      <th>SHANNON_ENTROPY</th>\n",
       "      <th>RATIO_DIVERSITY_HERFINDAHL</th>\n",
       "      <th>RATIO_DIVERSITY_GINI</th>\n",
       "      <th>RATIO_SHANNON_ENTROPY</th>\n",
       "      <th>RATIO_AVERAGE_POPULARITY</th>\n",
       "      <th>RATIO_NOVELTY</th>\n",
       "    </tr>\n",
       "    <tr>\n",
       "      <th>cutoff</th>\n",
       "      <th></th>\n",
       "      <th></th>\n",
       "      <th></th>\n",
       "      <th></th>\n",
       "      <th></th>\n",
       "      <th></th>\n",
       "      <th></th>\n",
       "      <th></th>\n",
       "      <th></th>\n",
       "      <th></th>\n",
       "      <th></th>\n",
       "      <th></th>\n",
       "      <th></th>\n",
       "      <th></th>\n",
       "      <th></th>\n",
       "      <th></th>\n",
       "      <th></th>\n",
       "      <th></th>\n",
       "      <th></th>\n",
       "      <th></th>\n",
       "      <th></th>\n",
       "    </tr>\n",
       "  </thead>\n",
       "  <tbody>\n",
       "    <tr>\n",
       "      <th>10</th>\n",
       "      <td>0.004573</td>\n",
       "      <td>0.004611</td>\n",
       "      <td>0.001393</td>\n",
       "      <td>0.001473</td>\n",
       "      <td>0.001483</td>\n",
       "      <td>0.014254</td>\n",
       "      <td>0.004777</td>\n",
       "      <td>0.002135</td>\n",
       "      <td>0.044108</td>\n",
       "      <td>0.014477</td>\n",
       "      <td>...</td>\n",
       "      <td>0.002215</td>\n",
       "      <td>0.996557</td>\n",
       "      <td>0.043956</td>\n",
       "      <td>0.001793</td>\n",
       "      <td>5.382108</td>\n",
       "      <td>0.970839</td>\n",
       "      <td>0.007227</td>\n",
       "      <td>0.43436</td>\n",
       "      <td>0.24796</td>\n",
       "      <td>0.03704</td>\n",
       "    </tr>\n",
       "  </tbody>\n",
       "</table>\n",
       "<p>1 rows × 25 columns</p>\n",
       "</div>"
      ],
      "text/plain": [
       "       PRECISION PRECISION_RECALL_MIN_DEN    RECALL       MAP MAP_MIN_DEN  \\\n",
       "cutoff                                                                      \n",
       "10      0.004573                 0.004611  0.001393  0.001473    0.001483   \n",
       "\n",
       "             MRR      NDCG        F1  HIT_RATE ARHR_ALL_HITS  ...  \\\n",
       "cutoff                                                        ...   \n",
       "10      0.014254  0.004777  0.002135  0.044108      0.014477  ...   \n",
       "\n",
       "       COVERAGE_ITEM_CORRECT COVERAGE_USER COVERAGE_USER_CORRECT  \\\n",
       "cutoff                                                             \n",
       "10                  0.002215      0.996557              0.043956   \n",
       "\n",
       "       DIVERSITY_GINI SHANNON_ENTROPY RATIO_DIVERSITY_HERFINDAHL  \\\n",
       "cutoff                                                             \n",
       "10           0.001793        5.382108                   0.970839   \n",
       "\n",
       "       RATIO_DIVERSITY_GINI RATIO_SHANNON_ENTROPY RATIO_AVERAGE_POPULARITY  \\\n",
       "cutoff                                                                       \n",
       "10                 0.007227               0.43436                  0.24796   \n",
       "\n",
       "       RATIO_NOVELTY  \n",
       "cutoff                \n",
       "10           0.03704  \n",
       "\n",
       "[1 rows x 25 columns]"
      ]
     },
     "execution_count": 32,
     "metadata": {},
     "output_type": "execute_result"
    }
   ],
   "source": [
    "result_dict, _ = evaluator_validation.evaluateRecommender(recommender)\n",
    "result_dict"
   ]
  },
  {
   "cell_type": "code",
   "execution_count": 24,
   "metadata": {},
   "outputs": [],
   "source": [
    "class LightFMWrapper(BaseRecommender):\n",
    "    \"\"\"LightFMWrapper\"\"\"\n",
    "\n",
    "    RECOMMENDER_NAME = \"LightFMWrapper\"\n",
    "\n",
    "    def __init__(self, URM_train, ICM_train):\n",
    "        super(LightFMWrapper, self).__init__(URM_train)\n",
    "        \n",
    "        self.ICM_train = ICM_train.copy()\n",
    "\n",
    "\n",
    "    def fit(self, ITEM_ALPHA, NUM_COMPONENTS, NUM_EPOCHS, NUM_THREADS):\n",
    "        \n",
    "        # Let's fit a WARP model\n",
    "        self.lightFM_model = LightFM(loss='warp',\n",
    "                                     item_alpha=ITEM_ALPHA,\n",
    "                                     no_components=NUM_COMPONENTS)\n",
    "\n",
    "        self.lightFM_model = self.lightFM_model.fit(URM_train, \n",
    "                                       item_features=self.ICM_train, \n",
    "                                       epochs=NUM_EPOCHS, \n",
    "                                       num_threads=NUM_THREADS)\n",
    "\n",
    "\n",
    "    def _compute_item_score(self, user_id_array, items_to_compute = None):\n",
    "        \n",
    "        # Create a single (n_items, ) array with the item score, then copy it for every user\n",
    "        if items_to_compute is None:\n",
    "            items_to_compute = np.arange(self.n_items)\n",
    "            item_features = self.ICM_train \n",
    "        else:     \n",
    "            items_to_compute = np.array(items_to_compute)\n",
    "            item_features = self.ICM_train[items_to_compute,:]\n",
    "        \n",
    "        item_scores = - np.ones((len(user_id_array), self.n_items)) * np.inf\n",
    "\n",
    "        for user_index, user_id in enumerate(user_id_array):\n",
    "            item_scores[user_index] = self.lightFM_model.predict(int(user_id), \n",
    "                                                                 items_to_compute,\n",
    "                                                                 item_features = item_features)\n",
    "\n",
    "        return item_scores\n"
   ]
  },
  {
   "cell_type": "code",
   "execution_count": 25,
   "metadata": {},
   "outputs": [
    {
     "name": "stdout",
     "output_type": "stream",
     "text": [
      "LightFMWrapper: URM Detected 1 ( 0.0%) items with no interactions.\n",
      "EvaluatorHoldout: Processed 13603 (100.0%) in 13.74 sec. Users per second: 990\n"
     ]
    },
    {
     "data": {
      "text/html": [
       "<div>\n",
       "<style scoped>\n",
       "    .dataframe tbody tr th:only-of-type {\n",
       "        vertical-align: middle;\n",
       "    }\n",
       "\n",
       "    .dataframe tbody tr th {\n",
       "        vertical-align: top;\n",
       "    }\n",
       "\n",
       "    .dataframe thead th {\n",
       "        text-align: right;\n",
       "    }\n",
       "</style>\n",
       "<table border=\"1\" class=\"dataframe\">\n",
       "  <thead>\n",
       "    <tr style=\"text-align: right;\">\n",
       "      <th></th>\n",
       "      <th>PRECISION</th>\n",
       "      <th>PRECISION_RECALL_MIN_DEN</th>\n",
       "      <th>RECALL</th>\n",
       "      <th>MAP</th>\n",
       "      <th>MAP_MIN_DEN</th>\n",
       "      <th>MRR</th>\n",
       "      <th>NDCG</th>\n",
       "      <th>F1</th>\n",
       "      <th>HIT_RATE</th>\n",
       "      <th>ARHR_ALL_HITS</th>\n",
       "      <th>...</th>\n",
       "      <th>COVERAGE_ITEM_CORRECT</th>\n",
       "      <th>COVERAGE_USER</th>\n",
       "      <th>COVERAGE_USER_CORRECT</th>\n",
       "      <th>DIVERSITY_GINI</th>\n",
       "      <th>SHANNON_ENTROPY</th>\n",
       "      <th>RATIO_DIVERSITY_HERFINDAHL</th>\n",
       "      <th>RATIO_DIVERSITY_GINI</th>\n",
       "      <th>RATIO_SHANNON_ENTROPY</th>\n",
       "      <th>RATIO_AVERAGE_POPULARITY</th>\n",
       "      <th>RATIO_NOVELTY</th>\n",
       "    </tr>\n",
       "    <tr>\n",
       "      <th>cutoff</th>\n",
       "      <th></th>\n",
       "      <th></th>\n",
       "      <th></th>\n",
       "      <th></th>\n",
       "      <th></th>\n",
       "      <th></th>\n",
       "      <th></th>\n",
       "      <th></th>\n",
       "      <th></th>\n",
       "      <th></th>\n",
       "      <th></th>\n",
       "      <th></th>\n",
       "      <th></th>\n",
       "      <th></th>\n",
       "      <th></th>\n",
       "      <th></th>\n",
       "      <th></th>\n",
       "      <th></th>\n",
       "      <th></th>\n",
       "      <th></th>\n",
       "      <th></th>\n",
       "    </tr>\n",
       "  </thead>\n",
       "  <tbody>\n",
       "    <tr>\n",
       "      <th>10</th>\n",
       "      <td>0.005513</td>\n",
       "      <td>0.00558</td>\n",
       "      <td>0.001588</td>\n",
       "      <td>0.00273</td>\n",
       "      <td>0.002761</td>\n",
       "      <td>0.026555</td>\n",
       "      <td>0.007408</td>\n",
       "      <td>0.002466</td>\n",
       "      <td>0.053077</td>\n",
       "      <td>0.02692</td>\n",
       "      <td>...</td>\n",
       "      <td>0.002436</td>\n",
       "      <td>0.996557</td>\n",
       "      <td>0.052894</td>\n",
       "      <td>0.001361</td>\n",
       "      <td>4.886134</td>\n",
       "      <td>0.95517</td>\n",
       "      <td>0.005486</td>\n",
       "      <td>0.394333</td>\n",
       "      <td>0.251741</td>\n",
       "      <td>0.038959</td>\n",
       "    </tr>\n",
       "  </tbody>\n",
       "</table>\n",
       "<p>1 rows × 25 columns</p>\n",
       "</div>"
      ],
      "text/plain": [
       "       PRECISION PRECISION_RECALL_MIN_DEN    RECALL      MAP MAP_MIN_DEN  \\\n",
       "cutoff                                                                     \n",
       "10      0.005513                  0.00558  0.001588  0.00273    0.002761   \n",
       "\n",
       "             MRR      NDCG        F1  HIT_RATE ARHR_ALL_HITS  ...  \\\n",
       "cutoff                                                        ...   \n",
       "10      0.026555  0.007408  0.002466  0.053077       0.02692  ...   \n",
       "\n",
       "       COVERAGE_ITEM_CORRECT COVERAGE_USER COVERAGE_USER_CORRECT  \\\n",
       "cutoff                                                             \n",
       "10                  0.002436      0.996557              0.052894   \n",
       "\n",
       "       DIVERSITY_GINI SHANNON_ENTROPY RATIO_DIVERSITY_HERFINDAHL  \\\n",
       "cutoff                                                             \n",
       "10           0.001361        4.886134                    0.95517   \n",
       "\n",
       "       RATIO_DIVERSITY_GINI RATIO_SHANNON_ENTROPY RATIO_AVERAGE_POPULARITY  \\\n",
       "cutoff                                                                       \n",
       "10                 0.005486              0.394333                 0.251741   \n",
       "\n",
       "       RATIO_NOVELTY  \n",
       "cutoff                \n",
       "10          0.038959  \n",
       "\n",
       "[1 rows x 25 columns]"
      ]
     },
     "execution_count": 25,
     "metadata": {},
     "output_type": "execute_result"
    }
   ],
   "source": [
    "recommender = LightFMWrapper(URM_train, ICM_genres)\n",
    "recommender.fit(ITEM_ALPHA, NUM_COMPONENTS, NUM_EPOCHS, NUM_THREADS)\n",
    "\n",
    "result_dict, _ = evaluator_validation.evaluateRecommender(recommender)\n",
    "result_dict"
   ]
  }
 ],
 "metadata": {
  "interpreter": {
   "hash": "85e6bdaf04969da74e0b053bf30384823f732f6f0a778a846a8abd48cc7690ff"
  },
  "kernelspec": {
   "display_name": "Python 3.10.0 64-bit ('venv': venv)",
   "language": "python",
   "name": "python3"
  },
  "language_info": {
   "codemirror_mode": {
    "name": "ipython",
    "version": 3
   },
   "file_extension": ".py",
   "mimetype": "text/x-python",
   "name": "python",
   "nbconvert_exporter": "python",
   "pygments_lexer": "ipython3",
   "version": "3.9.7"
  },
  "orig_nbformat": 4
 },
 "nbformat": 4,
 "nbformat_minor": 2
}
