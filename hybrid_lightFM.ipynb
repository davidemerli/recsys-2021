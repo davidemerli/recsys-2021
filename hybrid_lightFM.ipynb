{
 "cells": [
  {
   "cell_type": "code",
   "execution_count": 1,
   "metadata": {},
   "outputs": [],
   "source": [
    "from Data_manager.split_functions.split_train_validation_random_holdout import split_train_in_two_percentage_global_sample\n",
    "import numpy as np\n",
    "import matplotlib.pyplot as pyplot\n",
    "%matplotlib inline  \n",
    "import pandas as pd\n",
    "import scipy.sparse as sps\n",
    "\n",
    "from Data_manager.Movielens.Movielens10MReader import Movielens10MReader\n",
    "from Evaluation.Evaluator import EvaluatorHoldout\n",
    "from Data_manager.split_functions.split_train_validation_random_holdout import split_train_in_two_percentage_global_sample\n"
   ]
  },
  {
   "cell_type": "code",
   "execution_count": 2,
   "metadata": {},
   "outputs": [],
   "source": [
    "def load_URM(file_path):\n",
    "\n",
    "    data = pd.read_csv(file_path)\n",
    "\n",
    "\n",
    "    user_list = data['row'].tolist()\n",
    "    item_list = data['col'].tolist()\n",
    "    rating_list = data['data'].tolist()\n",
    "\n",
    "    return sps.coo_matrix((rating_list, (user_list, item_list))).tocsr()"
   ]
  },
  {
   "cell_type": "code",
   "execution_count": 3,
   "metadata": {},
   "outputs": [],
   "source": [
    "def load_ICM(file_path):\n",
    "\n",
    "    data = pd.read_csv(file_path)\n",
    "\n",
    "    item_list = data['row'].tolist()\n",
    "    attribute_list = data['col'].tolist()\n",
    "    rating_list = data['data'].tolist()\n",
    "\n",
    "    return sps.coo_matrix((rating_list, (item_list, attribute_list))).tocsr()"
   ]
  },
  {
   "cell_type": "code",
   "execution_count": 4,
   "metadata": {},
   "outputs": [],
   "source": [
    "URM_all = load_URM('input/data_train.csv')\n",
    "ICM_genres = load_ICM('input/data_ICM_genre.csv')"
   ]
  },
  {
   "cell_type": "code",
   "execution_count": 6,
   "metadata": {},
   "outputs": [
    {
     "name": "stdout",
     "output_type": "stream",
     "text": [
      "Warning: 10 (0.07 %) of 13650 users have no sampled items\n",
      "Warning: 11 (0.08 %) of 13650 users have no sampled items\n",
      "EvaluatorHoldout: Ignoring 13639 ( 0.1%) Users that have less than 1 test interactions\n",
      "EvaluatorHoldout: Ignoring 13640 ( 0.1%) Users that have less than 1 test interactions\n"
     ]
    }
   ],
   "source": [
    "from Evaluation.Evaluator import EvaluatorHoldout\n",
    "\n",
    "URM_train_validation, URM_test = split_train_in_two_percentage_global_sample(URM_all, train_percentage = 0.8)\n",
    "URM_train, URM_validation = split_train_in_two_percentage_global_sample(URM_train_validation, train_percentage = 0.8)\n",
    "\n",
    "evaluator_validation = EvaluatorHoldout(URM_validation, cutoff_list=[10])\n",
    "evaluator_test = EvaluatorHoldout(URM_test, cutoff_list=[10])"
   ]
  },
  {
   "cell_type": "code",
   "execution_count": null,
   "metadata": {},
   "outputs": [],
   "source": [
    "# In order to evaluate put it in a recommender class\n",
    "from Recommenders import BaseRecommender\n",
    "from lightfm import LightFM\n",
    "import numpy as np\n",
    "\n",
    "class LightFMWrapper(BaseRecommender):\n",
    "    \"\"\"LightFMWrapper\"\"\"\n",
    "\n",
    "    RECOMMENDER_NAME = \"LightFMWrapper\"\n",
    "\n",
    "    def __init__(self, URM_train):\n",
    "        super(LightFMWrapper, self).__init__(URM_train)\n",
    "\n",
    "\n",
    "    def fit(self, ITEM_ALPHA, NUM_COMPONENTS, NUM_EPOCHS, NUM_THREADS):\n",
    "        \n",
    "        # Let's fit a WARP model\n",
    "        self.lightFM_model = LightFM(loss='warp',\n",
    "                                     item_alpha=ITEM_ALPHA,\n",
    "                                     no_components=NUM_COMPONENTS)\n",
    "\n",
    "        self.lightFM_model = self.lightFM_model.fit(URM_train, \n",
    "                                       epochs=NUM_EPOCHS,\n",
    "                                       num_threads=NUM_THREADS)\n",
    "\n",
    "\n",
    "    def _compute_item_score(self, user_id_array, items_to_compute = None):\n",
    "        \n",
    "        # Create a single (n_items, ) array with the item score, then copy it for every user\n",
    "        items_to_compute = np.arange(self.n_items) if items_to_compute is None else np.array(items_to_compute)\n",
    "        \n",
    "        item_scores = - np.ones((len(user_id_array), self.n_items)) * np.inf\n",
    "\n",
    "        for user_index, user_id in enumerate(user_id_array):\n",
    "            item_scores[user_index] = self.lightFM_model.predict(int(user_id), \n",
    "                                                                 items_to_compute)\n",
    "\n",
    "        return item_scores\n"
   ]
  }
 ],
 "metadata": {
  "interpreter": {
   "hash": "85e6bdaf04969da74e0b053bf30384823f732f6f0a778a846a8abd48cc7690ff"
  },
  "kernelspec": {
   "display_name": "Python 3.10.0 64-bit ('venv': venv)",
   "language": "python",
   "name": "python3"
  },
  "language_info": {
   "codemirror_mode": {
    "name": "ipython",
    "version": 3
   },
   "file_extension": ".py",
   "mimetype": "text/x-python",
   "name": "python",
   "nbconvert_exporter": "python",
   "pygments_lexer": "ipython3",
   "version": "3.10.0"
  },
  "orig_nbformat": 4
 },
 "nbformat": 4,
 "nbformat_minor": 2
}
