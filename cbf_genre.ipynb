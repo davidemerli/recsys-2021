{
 "cells": [
  {
   "cell_type": "code",
   "execution_count": 1,
   "metadata": {},
   "outputs": [],
   "source": [
    "import numpy as np\n",
    "import matplotlib.pyplot as pyplot\n",
    "%matplotlib inline  \n",
    "import pandas as pd\n",
    "import scipy.sparse as sps\n",
    "\n",
    "from Data_manager.Movielens.Movielens10MReader import Movielens10MReader\n",
    "from Evaluation.Evaluator import EvaluatorHoldout\n",
    "from Data_manager.split_functions.split_train_validation_random_holdout import split_train_in_two_percentage_global_sample"
   ]
  },
  {
   "cell_type": "code",
   "execution_count": 2,
   "metadata": {},
   "outputs": [],
   "source": [
    "def load_URM(file_path):\n",
    "\n",
    "    data = pd.read_csv(file_path)\n",
    "\n",
    "\n",
    "    user_list = data['row'].tolist()\n",
    "    item_list = data['col'].tolist()\n",
    "    rating_list = data['data'].tolist()\n",
    "\n",
    "    return sps.coo_matrix((rating_list, (user_list, item_list))).tocsr()"
   ]
  },
  {
   "cell_type": "code",
   "execution_count": 3,
   "metadata": {},
   "outputs": [],
   "source": [
    "def load_ICM(file_path):\n",
    "\n",
    "    data = pd.read_csv(file_path)\n",
    "\n",
    "    item_list = data['row'].tolist()\n",
    "    attribute_list = data['col'].tolist()\n",
    "    rating_list = data['data'].tolist()\n",
    "\n",
    "    return sps.coo_matrix((rating_list, (item_list, attribute_list))).tocsr()"
   ]
  },
  {
   "cell_type": "code",
   "execution_count": 4,
   "metadata": {},
   "outputs": [],
   "source": [
    "URM_all = load_URM('input/data_train.csv')\n",
    "ICM_all = load_ICM('input/data_ICM_genre.csv')\n",
    "#print(ICM_all)"
   ]
  },
  {
   "cell_type": "code",
   "execution_count": 5,
   "metadata": {},
   "outputs": [
    {
     "data": {
      "text/plain": [
       "(18059, 8)"
      ]
     },
     "execution_count": 5,
     "metadata": {},
     "output_type": "execute_result"
    }
   ],
   "source": [
    "ICM_all.shape"
   ]
  },
  {
   "cell_type": "code",
   "execution_count": 6,
   "metadata": {},
   "outputs": [],
   "source": [
    "ICM_all = sps.csr_matrix(ICM_all)\n",
    "features_per_item = np.ediff1d(ICM_all.indptr)\n",
    "\n",
    "ICM_all = sps.csc_matrix(ICM_all)\n",
    "items_per_feature = np.ediff1d(ICM_all.indptr)\n",
    "\n",
    "ICM_all = sps.csr_matrix(ICM_all)"
   ]
  },
  {
   "cell_type": "code",
   "execution_count": 7,
   "metadata": {},
   "outputs": [
    {
     "name": "stdout",
     "output_type": "stream",
     "text": [
      "(18059,)\n",
      "(8,)\n"
     ]
    }
   ],
   "source": [
    "print(features_per_item.shape)\n",
    "print(items_per_feature.shape)"
   ]
  },
  {
   "cell_type": "code",
   "execution_count": 8,
   "metadata": {},
   "outputs": [],
   "source": [
    "features_per_item = np.sort(features_per_item)\n",
    "items_per_feature = np.sort(items_per_feature)"
   ]
  },
  {
   "cell_type": "code",
   "execution_count": 9,
   "metadata": {},
   "outputs": [
    {
     "data": {
      "image/png": "[encoded data removed]",
      "text/plain": [
       "<Figure size 432x288 with 1 Axes>"
      ]
     },
     "metadata": {
      "needs_background": "light"
     },
     "output_type": "display_data"
    }
   ],
   "source": [
    "import matplotlib.pyplot as pyplot\n",
    "%matplotlib inline  \n",
    "\n",
    "pyplot.plot(features_per_item, 'ro')\n",
    "pyplot.ylabel('Num features ')\n",
    "pyplot.xlabel('Sorted items')\n",
    "pyplot.show()"
   ]
  },
  {
   "cell_type": "code",
   "execution_count": 10,
   "metadata": {},
   "outputs": [
    {
     "data": {
      "image/png": "[encoded data removed]",
      "text/plain": [
       "<Figure size 432x288 with 1 Axes>"
      ]
     },
     "metadata": {
      "needs_background": "light"
     },
     "output_type": "display_data"
    }
   ],
   "source": [
    "pyplot.plot(items_per_feature, 'ro')\n",
    "pyplot.ylabel('Num items ')\n",
    "pyplot.xlabel('Sorted features')\n",
    "pyplot.show()"
   ]
  },
  {
   "cell_type": "code",
   "execution_count": 11,
   "metadata": {},
   "outputs": [
    {
     "name": "stdout",
     "output_type": "stream",
     "text": [
      "Warning: 6 (0.04 %) of 13650 users have no sampled items\n",
      "Warning: 11 (0.08 %) of 13650 users have no sampled items\n",
      "EvaluatorHoldout: Ignoring 13639 ( 0.1%) Users that have less than 1 test interactions\n",
      "EvaluatorHoldout: Ignoring 13644 ( 0.0%) Users that have less than 1 test interactions\n"
     ]
    }
   ],
   "source": [
    "from Evaluation.Evaluator import EvaluatorHoldout\n",
    "from Data_manager.split_functions.split_train_validation_random_holdout import split_train_in_two_percentage_global_sample\n",
    "\n",
    "URM_train, URM_test = split_train_in_two_percentage_global_sample(URM_all, train_percentage = 0.80)\n",
    "URM_train, URM_validation = split_train_in_two_percentage_global_sample(URM_train, train_percentage = 0.80)\n",
    "\n",
    "evaluator_validation = EvaluatorHoldout(URM_validation, cutoff_list=[10])\n",
    "evaluator_test = EvaluatorHoldout(URM_test, cutoff_list=[10])"
   ]
  },
  {
   "cell_type": "code",
   "execution_count": 12,
   "metadata": {},
   "outputs": [],
   "source": [
    "#import traceback\n",
    "\n",
    "#try:\n",
    "#    numerator_matrix = ICM_all.dot(ICM_all.T).toarray()\n",
    "    \n",
    "#except Exception as e:\n",
    "#    traceback.print_exc()"
   ]
  },
  {
   "cell_type": "code",
   "execution_count": 13,
   "metadata": {},
   "outputs": [],
   "source": [
    "#block_size = 100\n",
    "\n",
    "#numerator_block = ICM_all[0:block_size].dot(ICM_all.T).toarray()\n",
    "#numerator_block.shape"
   ]
  },
  {
   "cell_type": "code",
   "execution_count": 14,
   "metadata": {},
   "outputs": [
    {
     "name": "stdout",
     "output_type": "stream",
     "text": [
      "Similarity column 18059 (100.0%), 7332.77 column/sec. Elapsed time 2.46 sec\n"
     ]
    },
    {
     "data": {
      "text/plain": [
       "<18059x18059 sparse matrix of type '<class 'numpy.float32'>'\n",
       "\twith 1749930 stored elements in Compressed Sparse Row format>"
      ]
     },
     "execution_count": 14,
     "metadata": {},
     "output_type": "execute_result"
    }
   ],
   "source": [
    "from Recommenders.Similarity.Compute_Similarity_Python import Compute_Similarity_Python\n",
    "\n",
    "similarity_object = Compute_Similarity_Python(ICM_all.T, shrink=0.0, \n",
    "                                          topK=100,\n",
    "                                          normalize=True, \n",
    "                                          similarity = \"cosine\")\n",
    "\n",
    "W_sparse = similarity_object.compute_similarity()\n",
    "W_sparse"
   ]
  },
  {
   "cell_type": "code",
   "execution_count": 15,
   "metadata": {},
   "outputs": [],
   "source": [
    "from Recommenders.Similarity.Compute_Similarity_Python import Compute_Similarity_Python\n",
    "\n",
    "class ItemKNNCBFRecommender(object):\n",
    "    \n",
    "    def __init__(self, URM, ICM):\n",
    "        self.URM = URM\n",
    "        self.ICM = ICM\n",
    "        \n",
    "            \n",
    "    def fit(self, topK=50, shrink=100, normalize = True, similarity = \"cosine\"):\n",
    "        \n",
    "        similarity_object = Compute_Similarity_Python(self.ICM.T, shrink=shrink, \n",
    "                                                  topK=topK, normalize=normalize, \n",
    "                                                  similarity = similarity)\n",
    "        \n",
    "        self.W_sparse = similarity_object.compute_similarity()\n",
    "\n",
    "        \n",
    "    def recommend(self, user_id, at=None, exclude_seen=True):\n",
    "        # compute the scores using the dot product\n",
    "        user_profile = self.URM[user_id]\n",
    "        scores = user_profile.dot(self.W_sparse).toarray().ravel()\n",
    "\n",
    "        if exclude_seen:\n",
    "            scores = self.filter_seen(user_id, scores)\n",
    "\n",
    "        # rank items\n",
    "        ranking = scores.argsort()[::-1]\n",
    "            \n",
    "        return ranking[:at]\n",
    "    \n",
    "    \n",
    "    def filter_seen(self, user_id, scores):\n",
    "\n",
    "        start_pos = self.URM.indptr[user_id]\n",
    "        end_pos = self.URM.indptr[user_id+1]\n",
    "\n",
    "        user_profile = self.URM.indices[start_pos:end_pos]\n",
    "        \n",
    "        scores[user_profile] = -np.inf\n",
    "\n",
    "        return scores\n"
   ]
  },
  {
   "cell_type": "code",
   "execution_count": 16,
   "metadata": {},
   "outputs": [
    {
     "name": "stdout",
     "output_type": "stream",
     "text": [
      "Similarity column 18059 (100.0%), 6756.75 column/sec. Elapsed time 2.67 sec\n"
     ]
    }
   ],
   "source": [
    "recommender = ItemKNNCBFRecommender(URM_train, ICM_all)\n",
    "recommender.fit(shrink=0.0, topK=50)"
   ]
  },
  {
   "cell_type": "code",
   "execution_count": 17,
   "metadata": {},
   "outputs": [
    {
     "name": "stdout",
     "output_type": "stream",
     "text": [
      "[ 7733 15609 15636  4116 15634]\n",
      "[ 512 1030   74  371  579]\n",
      "[ 9029  9322  7962 16365 16364]\n",
      "[16875 14652  3957 17343 15646]\n",
      "[ 9029  8974  9006  1607 17068]\n",
      "[ 4795 10822 10810 14101 14100]\n",
      "[13006  2062 10642  9614  7797]\n",
      "[ 3228  2321 13592 13594 13595]\n",
      "[5572 1766 6016 3208 3200]\n",
      "[5980 4275 5074 5066 4170]\n"
     ]
    }
   ],
   "source": [
    "for user_id in range(10):\n",
    "    print(recommender.recommend(user_id, at=5))"
   ]
  },
  {
   "cell_type": "markdown",
   "metadata": {},
   "source": [
    "# Hyperparameters tuning"
   ]
  },
  {
   "cell_type": "markdown",
   "metadata": {},
   "source": [
    "## Number of neighbors"
   ]
  },
  {
   "cell_type": "code",
   "execution_count": 18,
   "metadata": {},
   "outputs": [
    {
     "name": "stdout",
     "output_type": "stream",
     "text": [
      "ItemKNNCBFRecommender: URM Detected 3 ( 0.0%) items with no interactions.\n",
      "ItemKNNCBFRecommender: ICM Detected 559 ( 3.1%) items with no features.\n",
      "Unable to load Cython Compute_Similarity, reverting to Python\n",
      "Similarity column 18059 (100.0%), 8082.32 column/sec. Elapsed time 2.23 sec\n",
      "EvaluatorHoldout: Processed 13644 (100.0%) in 3.45 sec. Users per second: 3957\n",
      "ItemKNNCBFRecommender: URM Detected 3 ( 0.0%) items with no interactions.\n",
      "ItemKNNCBFRecommender: ICM Detected 559 ( 3.1%) items with no features.\n",
      "Unable to load Cython Compute_Similarity, reverting to Python\n",
      "Similarity column 18059 (100.0%), 8325.47 column/sec. Elapsed time 2.17 sec\n",
      "EvaluatorHoldout: Processed 13644 (100.0%) in 4.28 sec. Users per second: 3188\n",
      "ItemKNNCBFRecommender: URM Detected 3 ( 0.0%) items with no interactions.\n",
      "ItemKNNCBFRecommender: ICM Detected 559 ( 3.1%) items with no features.\n",
      "Unable to load Cython Compute_Similarity, reverting to Python\n",
      "Similarity column 18059 (100.0%), 7747.46 column/sec. Elapsed time 2.33 sec\n",
      "EvaluatorHoldout: Processed 13644 (100.0%) in 4.81 sec. Users per second: 2838\n",
      "ItemKNNCBFRecommender: URM Detected 3 ( 0.0%) items with no interactions.\n",
      "ItemKNNCBFRecommender: ICM Detected 559 ( 3.1%) items with no features.\n",
      "Unable to load Cython Compute_Similarity, reverting to Python\n",
      "Similarity column 18059 (100.0%), 7249.49 column/sec. Elapsed time 2.49 sec\n",
      "EvaluatorHoldout: Processed 13644 (100.0%) in 5.58 sec. Users per second: 2445\n",
      "ItemKNNCBFRecommender: URM Detected 3 ( 0.0%) items with no interactions.\n",
      "ItemKNNCBFRecommender: ICM Detected 559 ( 3.1%) items with no features.\n",
      "Unable to load Cython Compute_Similarity, reverting to Python\n",
      "Similarity column 18059 (100.0%), 6350.11 column/sec. Elapsed time 2.84 sec\n",
      "EvaluatorHoldout: Processed 13644 (100.0%) in 7.02 sec. Users per second: 1943\n"
     ]
    }
   ],
   "source": [
    "from Recommenders.KNN.ItemKNNCBFRecommender import ItemKNNCBFRecommender\n",
    "\n",
    "x_tick = [10, 50, 100, 200, 500]\n",
    "MAP_per_k = []\n",
    "\n",
    "for topK in x_tick:\n",
    "    \n",
    "    recommender = ItemKNNCBFRecommender(URM_train, ICM_all)\n",
    "    recommender.fit(shrink=0.0, topK=topK)\n",
    "    \n",
    "    result_df, _ = evaluator_test.evaluateRecommender(recommender)\n",
    "    \n",
    "    MAP_per_k.append(result_df.loc[10][\"MAP\"])"
   ]
  },
  {
   "cell_type": "code",
   "execution_count": 19,
   "metadata": {},
   "outputs": [
    {
     "data": {
      "image/png": "[encoded data removed]",
      "text/plain": [
       "<Figure size 432x288 with 1 Axes>"
      ]
     },
     "metadata": {
      "needs_background": "light"
     },
     "output_type": "display_data"
    }
   ],
   "source": [
    "pyplot.plot(x_tick, MAP_per_k)\n",
    "pyplot.ylabel('MAP')\n",
    "pyplot.xlabel('TopK')\n",
    "pyplot.show()"
   ]
  },
  {
   "cell_type": "markdown",
   "metadata": {},
   "source": [
    "#### So we should take TopK = 100 (I guess)"
   ]
  },
  {
   "cell_type": "markdown",
   "metadata": {},
   "source": [
    "## Shrinkage"
   ]
  },
  {
   "cell_type": "code",
   "execution_count": 20,
   "metadata": {},
   "outputs": [
    {
     "name": "stdout",
     "output_type": "stream",
     "text": [
      "ItemKNNCBFRecommender: URM Detected 3 ( 0.0%) items with no interactions.\n",
      "ItemKNNCBFRecommender: ICM Detected 559 ( 3.1%) items with no features.\n",
      "Unable to load Cython Compute_Similarity, reverting to Python\n",
      "Similarity column 18059 (100.0%), 7537.39 column/sec. Elapsed time 2.40 sec\n",
      "EvaluatorHoldout: Processed 13644 (100.0%) in 4.83 sec. Users per second: 2825\n",
      "ItemKNNCBFRecommender: URM Detected 3 ( 0.0%) items with no interactions.\n",
      "ItemKNNCBFRecommender: ICM Detected 559 ( 3.1%) items with no features.\n",
      "Unable to load Cython Compute_Similarity, reverting to Python\n",
      "Similarity column 18059 (100.0%), 7621.48 column/sec. Elapsed time 2.37 sec\n",
      "EvaluatorHoldout: Processed 13644 (100.0%) in 4.92 sec. Users per second: 2776\n",
      "ItemKNNCBFRecommender: URM Detected 3 ( 0.0%) items with no interactions.\n",
      "ItemKNNCBFRecommender: ICM Detected 559 ( 3.1%) items with no features.\n",
      "Unable to load Cython Compute_Similarity, reverting to Python\n",
      "Similarity column 18059 (100.0%), 7945.00 column/sec. Elapsed time 2.27 sec\n",
      "EvaluatorHoldout: Processed 13644 (100.0%) in 4.87 sec. Users per second: 2801\n",
      "ItemKNNCBFRecommender: URM Detected 3 ( 0.0%) items with no interactions.\n",
      "ItemKNNCBFRecommender: ICM Detected 559 ( 3.1%) items with no features.\n",
      "Unable to load Cython Compute_Similarity, reverting to Python\n",
      "Similarity column 18059 (100.0%), 7677.29 column/sec. Elapsed time 2.35 sec\n",
      "EvaluatorHoldout: Processed 13644 (100.0%) in 4.90 sec. Users per second: 2783\n",
      "ItemKNNCBFRecommender: URM Detected 3 ( 0.0%) items with no interactions.\n",
      "ItemKNNCBFRecommender: ICM Detected 559 ( 3.1%) items with no features.\n",
      "Unable to load Cython Compute_Similarity, reverting to Python\n",
      "Similarity column 18059 (100.0%), 7602.09 column/sec. Elapsed time 2.38 sec\n",
      "EvaluatorHoldout: Processed 13644 (100.0%) in 4.84 sec. Users per second: 2816\n",
      "ItemKNNCBFRecommender: URM Detected 3 ( 0.0%) items with no interactions.\n",
      "ItemKNNCBFRecommender: ICM Detected 559 ( 3.1%) items with no features.\n",
      "Unable to load Cython Compute_Similarity, reverting to Python\n",
      "Similarity column 18059 (100.0%), 7786.30 column/sec. Elapsed time 2.32 sec\n",
      "EvaluatorHoldout: Processed 13644 (100.0%) in 4.94 sec. Users per second: 2763\n",
      "ItemKNNCBFRecommender: URM Detected 3 ( 0.0%) items with no interactions.\n",
      "ItemKNNCBFRecommender: ICM Detected 559 ( 3.1%) items with no features.\n",
      "Unable to load Cython Compute_Similarity, reverting to Python\n",
      "Similarity column 18059 (100.0%), 7469.01 column/sec. Elapsed time 2.42 sec\n",
      "EvaluatorHoldout: Processed 13644 (100.0%) in 4.85 sec. Users per second: 2813\n",
      "ItemKNNCBFRecommender: URM Detected 3 ( 0.0%) items with no interactions.\n",
      "ItemKNNCBFRecommender: ICM Detected 559 ( 3.1%) items with no features.\n",
      "Unable to load Cython Compute_Similarity, reverting to Python\n",
      "Similarity column 18059 (100.0%), 7711.39 column/sec. Elapsed time 2.34 sec\n",
      "EvaluatorHoldout: Processed 13644 (100.0%) in 4.90 sec. Users per second: 2785\n",
      "ItemKNNCBFRecommender: URM Detected 3 ( 0.0%) items with no interactions.\n",
      "ItemKNNCBFRecommender: ICM Detected 559 ( 3.1%) items with no features.\n",
      "Unable to load Cython Compute_Similarity, reverting to Python\n",
      "Similarity column 18059 (100.0%), 7845.86 column/sec. Elapsed time 2.30 sec\n",
      "EvaluatorHoldout: Processed 13644 (100.0%) in 4.91 sec. Users per second: 2779\n",
      "ItemKNNCBFRecommender: URM Detected 3 ( 0.0%) items with no interactions.\n",
      "ItemKNNCBFRecommender: ICM Detected 559 ( 3.1%) items with no features.\n",
      "Unable to load Cython Compute_Similarity, reverting to Python\n",
      "Similarity column 18059 (100.0%), 7726.27 column/sec. Elapsed time 2.34 sec\n",
      "EvaluatorHoldout: Processed 13644 (100.0%) in 4.90 sec. Users per second: 2787\n",
      "ItemKNNCBFRecommender: URM Detected 3 ( 0.0%) items with no interactions.\n",
      "ItemKNNCBFRecommender: ICM Detected 559 ( 3.1%) items with no features.\n",
      "Unable to load Cython Compute_Similarity, reverting to Python\n",
      "Similarity column 18059 (100.0%), 7515.34 column/sec. Elapsed time 2.40 sec\n",
      "EvaluatorHoldout: Processed 13644 (100.0%) in 5.00 sec. Users per second: 2726\n"
     ]
    }
   ],
   "source": [
    "x_tick = range(0,11)\n",
    "MAP_per_shrinkage = []\n",
    "\n",
    "for shrink in x_tick:\n",
    "    \n",
    "    recommender = ItemKNNCBFRecommender(URM_train, ICM_all)\n",
    "    recommender.fit(shrink=shrink, topK=100)\n",
    "    \n",
    "    result_df, _ = evaluator_test.evaluateRecommender(recommender)\n",
    "    \n",
    "    MAP_per_shrinkage.append(result_df.loc[10][\"MAP\"])"
   ]
  },
  {
   "cell_type": "code",
   "execution_count": 21,
   "metadata": {},
   "outputs": [
    {
     "data": {
      "image/png": "[encoded data removed]",
      "text/plain": [
       "<Figure size 432x288 with 1 Axes>"
      ]
     },
     "metadata": {
      "needs_background": "light"
     },
     "output_type": "display_data"
    }
   ],
   "source": [
    "pyplot.plot(x_tick, MAP_per_shrinkage)\n",
    "pyplot.ylabel('MAP')\n",
    "pyplot.xlabel('Shrinkage')\n",
    "pyplot.show()"
   ]
  },
  {
   "cell_type": "markdown",
   "metadata": {},
   "source": [
    "#### ...dafuq?"
   ]
  },
  {
   "cell_type": "markdown",
   "metadata": {},
   "source": [
    "# Feature weighting"
   ]
  },
  {
   "cell_type": "markdown",
   "metadata": {},
   "source": [
    "## IDF"
   ]
  },
  {
   "cell_type": "code",
   "execution_count": 22,
   "metadata": {},
   "outputs": [
    {
     "name": "stdout",
     "output_type": "stream",
     "text": [
      "(18059, 8)\n",
      "(8,)\n"
     ]
    }
   ],
   "source": [
    "num_tot_items = ICM_all.shape[0]\n",
    "\n",
    "# let's count how many items have a certain feature\n",
    "items_per_feature = np.ediff1d(sps.csc_matrix(ICM_all).indptr)\n",
    "\n",
    "IDF = np.log(num_tot_items / items_per_feature)\n",
    "\n",
    "print(ICM_all.shape)\n",
    "print(IDF.shape)"
   ]
  },
  {
   "cell_type": "code",
   "execution_count": 23,
   "metadata": {},
   "outputs": [
    {
     "data": {
      "text/plain": [
       "array([  91,  103,  624, 1520, 1596, 3142, 5062, 5853], dtype=int32)"
      ]
     },
     "execution_count": 23,
     "metadata": {},
     "output_type": "execute_result"
    }
   ],
   "source": [
    "np.sort(items_per_feature)"
   ]
  },
  {
   "cell_type": "code",
   "execution_count": 24,
   "metadata": {},
   "outputs": [
    {
     "data": {
      "text/plain": [
       "array([1.12668983, 1.27188251, 1.74878464, 2.42614368, 2.47493384,\n",
       "       3.36524909, 5.16667047, 5.29053995])"
      ]
     },
     "execution_count": 24,
     "metadata": {},
     "output_type": "execute_result"
    }
   ],
   "source": [
    "np.sort(IDF)"
   ]
  },
  {
   "cell_type": "code",
   "execution_count": 25,
   "metadata": {},
   "outputs": [
    {
     "data": {
      "image/png": "[encoded data removed]",
      "text/plain": [
       "<Figure size 432x288 with 1 Axes>"
      ]
     },
     "metadata": {
      "needs_background": "light"
     },
     "output_type": "display_data"
    }
   ],
   "source": [
    "pyplot.plot(np.sort(IDF))\n",
    "pyplot.ylabel('IDF')\n",
    "pyplot.xlabel('Sorted feature')\n",
    "pyplot.show()"
   ]
  },
  {
   "cell_type": "code",
   "execution_count": 26,
   "metadata": {},
   "outputs": [
    {
     "data": {
      "text/plain": [
       "<8x8 sparse matrix of type '<class 'numpy.float64'>'\n",
       "\twith 8 stored elements (1 diagonals) in DIAgonal format>"
      ]
     },
     "execution_count": 26,
     "metadata": {},
     "output_type": "execute_result"
    }
   ],
   "source": [
    "from scipy.sparse import diags\n",
    "diags(IDF)"
   ]
  },
  {
   "cell_type": "code",
   "execution_count": 27,
   "metadata": {},
   "outputs": [],
   "source": [
    "ICM_idf = ICM_all.copy()\n",
    "ICM_idf = ICM_idf*diags(IDF)"
   ]
  },
  {
   "cell_type": "code",
   "execution_count": 28,
   "metadata": {},
   "outputs": [
    {
     "name": "stdout",
     "output_type": "stream",
     "text": [
      "ItemKNNCBFRecommender: URM Detected 3 ( 0.0%) items with no interactions.\n",
      "ItemKNNCBFRecommender: ICM Detected 559 ( 3.1%) items with no features.\n",
      "Unable to load Cython Compute_Similarity, reverting to Python\n",
      "Similarity column 18059 (100.0%), 7017.86 column/sec. Elapsed time 2.57 sec\n",
      "EvaluatorHoldout: Processed 13644 (100.0%) in 4.54 sec. Users per second: 3008\n"
     ]
    },
    {
     "data": {
      "text/plain": [
       "PRECISION                      0.010386\n",
       "PRECISION_RECALL_MIN_DEN       0.010395\n",
       "RECALL                         0.001321\n",
       "MAP                            0.002972\n",
       "MAP_MIN_DEN                     0.00298\n",
       "MRR                            0.027015\n",
       "NDCG                           0.010022\n",
       "F1                             0.002345\n",
       "HIT_RATE                       0.095866\n",
       "ARHR_ALL_HITS                  0.028322\n",
       "NOVELTY                        0.008637\n",
       "AVERAGE_POPULARITY             0.042426\n",
       "DIVERSITY_MEAN_INTER_LIST      0.985525\n",
       "DIVERSITY_HERFINDAHL           0.998545\n",
       "COVERAGE_ITEM                  0.308876\n",
       "COVERAGE_ITEM_CORRECT           0.03328\n",
       "COVERAGE_USER                   0.99956\n",
       "COVERAGE_USER_CORRECT          0.095824\n",
       "DIVERSITY_GINI                  0.07358\n",
       "SHANNON_ENTROPY               10.621173\n",
       "RATIO_DIVERSITY_HERFINDAHL     0.998931\n",
       "RATIO_DIVERSITY_GINI           0.297139\n",
       "RATIO_SHANNON_ENTROPY          0.857355\n",
       "RATIO_AVERAGE_POPULARITY        0.20978\n",
       "RATIO_NOVELTY                  0.050803\n",
       "Name: 10, dtype: object"
      ]
     },
     "execution_count": 28,
     "metadata": {},
     "output_type": "execute_result"
    }
   ],
   "source": [
    "recommender_idf = ItemKNNCBFRecommender(URM_train, ICM_idf)\n",
    "recommender_idf.fit(shrink=0.0, topK=50)\n",
    "\n",
    "result_df, _ = evaluator_test.evaluateRecommender(recommender_idf)\n",
    "result_df.loc[10]"
   ]
  },
  {
   "cell_type": "markdown",
   "metadata": {},
   "source": [
    "#### Alternative feature weighting: BM25"
   ]
  },
  {
   "cell_type": "markdown",
   "metadata": {},
   "source": [
    "# ..."
   ]
  },
  {
   "cell_type": "code",
   "execution_count": 29,
   "metadata": {},
   "outputs": [
    {
     "name": "stdout",
     "output_type": "stream",
     "text": [
      "ItemKNNCBFRecommender: URM Detected 3 ( 0.0%) items with no interactions.\n",
      "ItemKNNCBFRecommender: ICM Detected 559 ( 3.1%) items with no features.\n",
      "Unable to load Cython Compute_Similarity, reverting to Python\n",
      "Similarity column 18059 (100.0%), 7591.54 column/sec. Elapsed time 2.38 sec\n"
     ]
    }
   ],
   "source": [
    "recommender = ItemKNNCBFRecommender(URM_train, ICM_all)\n",
    "recommender.fit(shrink=0.0, topK=100)"
   ]
  },
  {
   "cell_type": "code",
   "execution_count": 30,
   "metadata": {},
   "outputs": [
    {
     "name": "stderr",
     "output_type": "stream",
     "text": [
      "getting recommendations: 100%|██████████| 13650/13650 [00:14<00:00, 966.08it/s]\n"
     ]
    },
    {
     "data": {
      "text/html": [
       "<div>\n",
       "<style scoped>\n",
       "    .dataframe tbody tr th:only-of-type {\n",
       "        vertical-align: middle;\n",
       "    }\n",
       "\n",
       "    .dataframe tbody tr th {\n",
       "        vertical-align: top;\n",
       "    }\n",
       "\n",
       "    .dataframe thead th {\n",
       "        text-align: right;\n",
       "    }\n",
       "</style>\n",
       "<table border=\"1\" class=\"dataframe\">\n",
       "  <thead>\n",
       "    <tr style=\"text-align: right;\">\n",
       "      <th></th>\n",
       "      <th>user_id</th>\n",
       "      <th>item_list</th>\n",
       "    </tr>\n",
       "  </thead>\n",
       "  <tbody>\n",
       "    <tr>\n",
       "      <th>0</th>\n",
       "      <td>0</td>\n",
       "      <td>2008 10943 16342 7001 12943 11057 6354 11613 3...</td>\n",
       "    </tr>\n",
       "    <tr>\n",
       "      <th>1</th>\n",
       "      <td>1</td>\n",
       "      <td>5241 5247 4843 5885 5599 5234 5900 1283 4940 4947</td>\n",
       "    </tr>\n",
       "    <tr>\n",
       "      <th>2</th>\n",
       "      <td>2</td>\n",
       "      <td>12132 9258 9640 12575 17344 1005 5603 3686 750...</td>\n",
       "    </tr>\n",
       "    <tr>\n",
       "      <th>3</th>\n",
       "      <td>3</td>\n",
       "      <td>17228 7715 11310 6675 2479 11311 15987 2471 24...</td>\n",
       "    </tr>\n",
       "    <tr>\n",
       "      <th>4</th>\n",
       "      <td>4</td>\n",
       "      <td>17553 8531 17911 17900 17259 17921 17578 10267...</td>\n",
       "    </tr>\n",
       "    <tr>\n",
       "      <th>...</th>\n",
       "      <td>...</td>\n",
       "      <td>...</td>\n",
       "    </tr>\n",
       "    <tr>\n",
       "      <th>13645</th>\n",
       "      <td>13645</td>\n",
       "      <td>14448 12584 15230 15785 15880 14917 1117 12556...</td>\n",
       "    </tr>\n",
       "    <tr>\n",
       "      <th>13646</th>\n",
       "      <td>13646</td>\n",
       "      <td>7483 7508 7455 12614 12549 12544 7506 12354 75...</td>\n",
       "    </tr>\n",
       "    <tr>\n",
       "      <th>13647</th>\n",
       "      <td>13647</td>\n",
       "      <td>615 4788 4852 13630 8572 11679 4837 9445 10753...</td>\n",
       "    </tr>\n",
       "    <tr>\n",
       "      <th>13648</th>\n",
       "      <td>13648</td>\n",
       "      <td>2987 4887 1185 12072 12073 13079 2154 12067 12...</td>\n",
       "    </tr>\n",
       "    <tr>\n",
       "      <th>13649</th>\n",
       "      <td>13649</td>\n",
       "      <td>6041 6112 6046 1551 1648 6051 4029 4025 1547 4055</td>\n",
       "    </tr>\n",
       "  </tbody>\n",
       "</table>\n",
       "<p>13650 rows × 2 columns</p>\n",
       "</div>"
      ],
      "text/plain": [
       "      user_id                                          item_list\n",
       "0           0  2008 10943 16342 7001 12943 11057 6354 11613 3...\n",
       "1           1  5241 5247 4843 5885 5599 5234 5900 1283 4940 4947\n",
       "2           2  12132 9258 9640 12575 17344 1005 5603 3686 750...\n",
       "3           3  17228 7715 11310 6675 2479 11311 15987 2471 24...\n",
       "4           4  17553 8531 17911 17900 17259 17921 17578 10267...\n",
       "...       ...                                                ...\n",
       "13645   13645  14448 12584 15230 15785 15880 14917 1117 12556...\n",
       "13646   13646  7483 7508 7455 12614 12549 12544 7506 12354 75...\n",
       "13647   13647  615 4788 4852 13630 8572 11679 4837 9445 10753...\n",
       "13648   13648  2987 4887 1185 12072 12073 13079 2154 12067 12...\n",
       "13649   13649  6041 6112 6046 1551 1648 6051 4029 4025 1547 4055\n",
       "\n",
       "[13650 rows x 2 columns]"
      ]
     },
     "execution_count": 30,
     "metadata": {},
     "output_type": "execute_result"
    }
   ],
   "source": [
    "import pandas as pd\n",
    "from tqdm import tqdm\n",
    "submission = pd.DataFrame(columns=['user_id', 'item_list'])\n",
    "\n",
    "for i in tqdm(range(13650), desc=\"getting recommendations\"):\n",
    "    item_list = recommender.recommend(i, 10)\n",
    "    submission.loc[i] = [i, ' '.join([str(i) for i in item_list])]\n",
    "\n",
    "submission"
   ]
  },
  {
   "cell_type": "code",
   "execution_count": 31,
   "metadata": {},
   "outputs": [],
   "source": [
    "from datetime import datetime\n",
    "submission.to_csv(f'output/cbf_genre_{str(datetime.now())}.csv', index=False)"
   ]
  }
 ],
 "metadata": {
  "interpreter": {
   "hash": "85e6bdaf04969da74e0b053bf30384823f732f6f0a778a846a8abd48cc7690ff"
  },
  "kernelspec": {
   "display_name": "Python 3.10.0 64-bit ('venv': venv)",
   "language": "python",
   "name": "python3"
  },
  "language_info": {
   "codemirror_mode": {
    "name": "ipython",
    "version": 3
   },
   "file_extension": ".py",
   "mimetype": "text/x-python",
   "name": "python",
   "nbconvert_exporter": "python",
   "pygments_lexer": "ipython3",
   "version": "3.10.0"
  },
  "orig_nbformat": 4
 },
 "nbformat": 4,
 "nbformat_minor": 2
}
