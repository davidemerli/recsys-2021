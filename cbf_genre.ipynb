{
 "cells": [
  {
   "cell_type": "code",
   "execution_count": 3,
   "metadata": {},
   "outputs": [],
   "source": [
    "import numpy as np\n",
    "import matplotlib.pyplot as pyplot\n",
    "%matplotlib inline  \n",
    "import pandas as pd\n",
    "import scipy.sparse as sps\n",
    "\n",
    "from Data_manager.Movielens.Movielens10MReader import Movielens10MReader\n",
    "from Evaluation.Evaluator import EvaluatorHoldout\n",
    "from Data_manager.split_functions.split_train_validation_random_holdout import split_train_in_two_percentage_global_sample"
   ]
  },
  {
   "cell_type": "code",
   "execution_count": 16,
   "metadata": {},
   "outputs": [],
   "source": [
    "def load_URM(file_path):\n",
    "\n",
    "    data = pd.read_csv(file_path)\n",
    "\n",
    "\n",
    "    user_list = data['row'].tolist()\n",
    "    item_list = data['col'].tolist()\n",
    "    rating_list = data['data'].tolist()\n",
    "\n",
    "    return sps.coo_matrix((rating_list, (user_list, item_list))).tocsr()"
   ]
  },
  {
   "cell_type": "code",
   "execution_count": 4,
   "metadata": {},
   "outputs": [],
   "source": [
    "def load_ICM(file_path):\n",
    "\n",
    "    data = pd.read_csv(file_path)\n",
    "\n",
    "    item_list = data['row'].tolist()\n",
    "    attribute_list = data['col'].tolist()\n",
    "    rating_list = data['data'].tolist()\n",
    "\n",
    "    return sps.coo_matrix((rating_list, (item_list, attribute_list))).tocsr()"
   ]
  },
  {
   "cell_type": "code",
   "execution_count": 18,
   "metadata": {},
   "outputs": [],
   "source": [
    "URM_all = load_URM('input/data_train.csv')\n",
    "ICM_all = load_ICM('input/data_ICM_genre.csv')\n",
    "#print(ICM_all)"
   ]
  },
  {
   "cell_type": "code",
   "execution_count": 9,
   "metadata": {},
   "outputs": [
    {
     "data": {
      "text/plain": [
       "(18059, 8)"
      ]
     },
     "execution_count": 9,
     "metadata": {},
     "output_type": "execute_result"
    }
   ],
   "source": [
    "ICM_all.shape"
   ]
  },
  {
   "cell_type": "code",
   "execution_count": 10,
   "metadata": {},
   "outputs": [],
   "source": [
    "ICM_all = sps.csr_matrix(ICM_all)\n",
    "features_per_item = np.ediff1d(ICM_all.indptr)\n",
    "\n",
    "ICM_all = sps.csc_matrix(ICM_all)\n",
    "items_per_feature = np.ediff1d(ICM_all.indptr)\n",
    "\n",
    "ICM_all = sps.csr_matrix(ICM_all)"
   ]
  },
  {
   "cell_type": "code",
   "execution_count": 11,
   "metadata": {},
   "outputs": [
    {
     "name": "stdout",
     "output_type": "stream",
     "text": [
      "(18059,)\n",
      "(8,)\n"
     ]
    }
   ],
   "source": [
    "print(features_per_item.shape)\n",
    "print(items_per_feature.shape)"
   ]
  },
  {
   "cell_type": "code",
   "execution_count": 12,
   "metadata": {},
   "outputs": [],
   "source": [
    "features_per_item = np.sort(features_per_item)\n",
    "items_per_feature = np.sort(items_per_feature)"
   ]
  },
  {
   "cell_type": "code",
   "execution_count": 13,
   "metadata": {},
   "outputs": [
    {
     "data": {
      "image/png": "[encoded data removed]",
      "text/plain": [
       "<Figure size 432x288 with 1 Axes>"
      ]
     },
     "metadata": {
      "needs_background": "light"
     },
     "output_type": "display_data"
    }
   ],
   "source": [
    "import matplotlib.pyplot as pyplot\n",
    "%matplotlib inline  \n",
    "\n",
    "pyplot.plot(features_per_item, 'ro')\n",
    "pyplot.ylabel('Num features ')\n",
    "pyplot.xlabel('Sorted items')\n",
    "pyplot.show()"
   ]
  },
  {
   "cell_type": "code",
   "execution_count": 14,
   "metadata": {},
   "outputs": [
    {
     "data": {
      "image/png": "[encoded data removed]",
      "text/plain": [
       "<Figure size 432x288 with 1 Axes>"
      ]
     },
     "metadata": {
      "needs_background": "light"
     },
     "output_type": "display_data"
    }
   ],
   "source": [
    "pyplot.plot(items_per_feature, 'ro')\n",
    "pyplot.ylabel('Num items ')\n",
    "pyplot.xlabel('Sorted features')\n",
    "pyplot.show()"
   ]
  },
  {
   "cell_type": "code",
   "execution_count": 20,
   "metadata": {},
   "outputs": [
    {
     "name": "stdout",
     "output_type": "stream",
     "text": [
      "Warning: 7 (0.05 %) of 13650 users have no sampled items\n",
      "Warning: 6 (0.04 %) of 13650 users have no sampled items\n",
      "EvaluatorHoldout: Ignoring 13644 ( 0.0%) Users that have less than 1 test interactions\n",
      "EvaluatorHoldout: Ignoring 13643 ( 0.1%) Users that have less than 1 test interactions\n"
     ]
    }
   ],
   "source": [
    "from Evaluation.Evaluator import EvaluatorHoldout\n",
    "from Data_manager.split_functions.split_train_validation_random_holdout import split_train_in_two_percentage_global_sample\n",
    "\n",
    "URM_train, URM_test = split_train_in_two_percentage_global_sample(URM_all, train_percentage = 0.80)\n",
    "URM_train, URM_validation = split_train_in_two_percentage_global_sample(URM_train, train_percentage = 0.80)\n",
    "\n",
    "evaluator_validation = EvaluatorHoldout(URM_validation, cutoff_list=[10])\n",
    "evaluator_test = EvaluatorHoldout(URM_test, cutoff_list=[10])"
   ]
  },
  {
   "cell_type": "code",
   "execution_count": 21,
   "metadata": {},
   "outputs": [],
   "source": [
    "#import traceback\n",
    "\n",
    "#try:\n",
    "#    numerator_matrix = ICM_all.dot(ICM_all.T).toarray()\n",
    "    \n",
    "#except Exception as e:\n",
    "#    traceback.print_exc()"
   ]
  },
  {
   "cell_type": "code",
   "execution_count": 23,
   "metadata": {},
   "outputs": [
    {
     "data": {
      "text/plain": [
       "(100, 18059)"
      ]
     },
     "execution_count": 23,
     "metadata": {},
     "output_type": "execute_result"
    }
   ],
   "source": [
    "#block_size = 100\n",
    "\n",
    "#numerator_block = ICM_all[0:block_size].dot(ICM_all.T).toarray()\n",
    "#numerator_block.shape"
   ]
  },
  {
   "cell_type": "code",
   "execution_count": 24,
   "metadata": {},
   "outputs": [
    {
     "name": "stdout",
     "output_type": "stream",
     "text": [
      "Similarity column 18059 (100.0%), 6644.49 column/sec. Elapsed time 2.72 sec\n"
     ]
    },
    {
     "data": {
      "text/plain": [
       "<18059x18059 sparse matrix of type '<class 'numpy.float32'>'\n",
       "\twith 1749930 stored elements in Compressed Sparse Row format>"
      ]
     },
     "execution_count": 24,
     "metadata": {},
     "output_type": "execute_result"
    }
   ],
   "source": [
    "from Recommenders.Similarity.Compute_Similarity_Python import Compute_Similarity_Python\n",
    "\n",
    "similarity_object = Compute_Similarity_Python(ICM_all.T, shrink=0.0, \n",
    "                                          topK=100,\n",
    "                                          normalize=True, \n",
    "                                          similarity = \"cosine\")\n",
    "\n",
    "W_sparse = similarity_object.compute_similarity()\n",
    "W_sparse"
   ]
  },
  {
   "cell_type": "code",
   "execution_count": 27,
   "metadata": {},
   "outputs": [],
   "source": [
    "from Recommenders.Similarity.Compute_Similarity_Python import Compute_Similarity_Python\n",
    "\n",
    "class ItemKNNCBFRecommender(object):\n",
    "    \n",
    "    def __init__(self, URM, ICM):\n",
    "        self.URM = URM\n",
    "        self.ICM = ICM\n",
    "        \n",
    "            \n",
    "    def fit(self, topK=50, shrink=100, normalize = True, similarity = \"cosine\"):\n",
    "        \n",
    "        similarity_object = Compute_Similarity_Python(self.ICM.T, shrink=shrink, \n",
    "                                                  topK=topK, normalize=normalize, \n",
    "                                                  similarity = similarity)\n",
    "        \n",
    "        self.W_sparse = similarity_object.compute_similarity()\n",
    "\n",
    "        \n",
    "    def recommend(self, user_id, at=None, exclude_seen=True):\n",
    "        # compute the scores using the dot product\n",
    "        user_profile = self.URM[user_id]\n",
    "        scores = user_profile.dot(self.W_sparse).toarray().ravel()\n",
    "\n",
    "        if exclude_seen:\n",
    "            scores = self.filter_seen(user_id, scores)\n",
    "\n",
    "        # rank items\n",
    "        ranking = scores.argsort()[::-1]\n",
    "            \n",
    "        return ranking[:at]\n",
    "    \n",
    "    \n",
    "    def filter_seen(self, user_id, scores):\n",
    "\n",
    "        start_pos = self.URM.indptr[user_id]\n",
    "        end_pos = self.URM.indptr[user_id+1]\n",
    "\n",
    "        user_profile = self.URM.indices[start_pos:end_pos]\n",
    "        \n",
    "        scores[user_profile] = -np.inf\n",
    "\n",
    "        return scores\n"
   ]
  },
  {
   "cell_type": "code",
   "execution_count": 28,
   "metadata": {},
   "outputs": [
    {
     "name": "stdout",
     "output_type": "stream",
     "text": [
      "Similarity column 18059 (100.0%), 7213.71 column/sec. Elapsed time 2.50 sec\n"
     ]
    }
   ],
   "source": [
    "recommender = ItemKNNCBFRecommender(URM_train, ICM_all)\n",
    "recommender.fit(shrink=0.0, topK=50)"
   ]
  },
  {
   "cell_type": "code",
   "execution_count": 29,
   "metadata": {},
   "outputs": [
    {
     "name": "stdout",
     "output_type": "stream",
     "text": [
      "[2008 4887 8841 2987 5015]\n",
      "[1070 5885  654  652  640]\n",
      "[14397  3459  3291  5819  5786]\n",
      "[ 329 1103  150  151  538]\n",
      "[17106 17584  4094 17733 17734]\n",
      "[13484 12067  9690  2514 15318]\n",
      "[ 2987  1185  6940  7083 10432]\n",
      "[1140 1040  720 1176  512]\n",
      "[ 5620  3200 12556  6530  5675]\n",
      "[4304 5099 5105 5110 5130]\n"
     ]
    }
   ],
   "source": [
    "for user_id in range(10):\n",
    "    print(recommender.recommend(user_id, at=5))"
   ]
  },
  {
   "cell_type": "markdown",
   "metadata": {},
   "source": [
    "# Hyperparameters tuning"
   ]
  },
  {
   "cell_type": "markdown",
   "metadata": {},
   "source": [
    "## Number of neighbors"
   ]
  },
  {
   "cell_type": "code",
   "execution_count": 30,
   "metadata": {},
   "outputs": [
    {
     "name": "stdout",
     "output_type": "stream",
     "text": [
      "ItemKNNCBFRecommender: URM Detected 2 ( 0.0%) items with no interactions.\n",
      "ItemKNNCBFRecommender: ICM Detected 559 ( 3.1%) items with no features.\n",
      "Unable to load Cython Compute_Similarity, reverting to Python\n",
      "Similarity column 18059 (100.0%), 6897.06 column/sec. Elapsed time 2.62 sec\n",
      "EvaluatorHoldout: Processed 13643 (100.0%) in 3.97 sec. Users per second: 3437\n",
      "ItemKNNCBFRecommender: URM Detected 2 ( 0.0%) items with no interactions.\n",
      "ItemKNNCBFRecommender: ICM Detected 559 ( 3.1%) items with no features.\n",
      "Unable to load Cython Compute_Similarity, reverting to Python\n",
      "Similarity column 18059 (100.0%), 6682.30 column/sec. Elapsed time 2.70 sec\n",
      "EvaluatorHoldout: Processed 13643 (100.0%) in 4.87 sec. Users per second: 2802\n",
      "ItemKNNCBFRecommender: URM Detected 2 ( 0.0%) items with no interactions.\n",
      "ItemKNNCBFRecommender: ICM Detected 559 ( 3.1%) items with no features.\n",
      "Unable to load Cython Compute_Similarity, reverting to Python\n",
      "Similarity column 18059 (100.0%), 6479.89 column/sec. Elapsed time 2.79 sec\n",
      "EvaluatorHoldout: Processed 13643 (100.0%) in 5.55 sec. Users per second: 2458\n",
      "ItemKNNCBFRecommender: URM Detected 2 ( 0.0%) items with no interactions.\n",
      "ItemKNNCBFRecommender: ICM Detected 559 ( 3.1%) items with no features.\n",
      "Unable to load Cython Compute_Similarity, reverting to Python\n",
      "Similarity column 18059 (100.0%), 6100.23 column/sec. Elapsed time 2.96 sec\n",
      "EvaluatorHoldout: Processed 13643 (100.0%) in 6.60 sec. Users per second: 2068\n",
      "ItemKNNCBFRecommender: URM Detected 2 ( 0.0%) items with no interactions.\n",
      "ItemKNNCBFRecommender: ICM Detected 559 ( 3.1%) items with no features.\n",
      "Unable to load Cython Compute_Similarity, reverting to Python\n",
      "Similarity column 18059 (100.0%), 5051.29 column/sec. Elapsed time 3.58 sec\n",
      "EvaluatorHoldout: Processed 13643 (100.0%) in 7.98 sec. Users per second: 1709\n"
     ]
    }
   ],
   "source": [
    "from Recommenders.KNN.ItemKNNCBFRecommender import ItemKNNCBFRecommender\n",
    "\n",
    "x_tick = [10, 50, 100, 200, 500]\n",
    "MAP_per_k = []\n",
    "\n",
    "for topK in x_tick:\n",
    "    \n",
    "    recommender = ItemKNNCBFRecommender(URM_train, ICM_all)\n",
    "    recommender.fit(shrink=0.0, topK=topK)\n",
    "    \n",
    "    result_df, _ = evaluator_test.evaluateRecommender(recommender)\n",
    "    \n",
    "    MAP_per_k.append(result_df.loc[10][\"MAP\"])"
   ]
  },
  {
   "cell_type": "code",
   "execution_count": 31,
   "metadata": {},
   "outputs": [
    {
     "data": {
      "image/png": "[encoded data removed]",
      "text/plain": [
       "<Figure size 432x288 with 1 Axes>"
      ]
     },
     "metadata": {
      "needs_background": "light"
     },
     "output_type": "display_data"
    }
   ],
   "source": [
    "pyplot.plot(x_tick, MAP_per_k)\n",
    "pyplot.ylabel('MAP')\n",
    "pyplot.xlabel('TopK')\n",
    "pyplot.show()"
   ]
  },
  {
   "cell_type": "markdown",
   "metadata": {},
   "source": [
    "#### So we should take TopK = 100 (I guess)"
   ]
  },
  {
   "cell_type": "markdown",
   "metadata": {},
   "source": [
    "## Shrinkage"
   ]
  },
  {
   "cell_type": "code",
   "execution_count": 47,
   "metadata": {},
   "outputs": [
    {
     "name": "stdout",
     "output_type": "stream",
     "text": [
      "ItemKNNCBFRecommender: URM Detected 2 ( 0.0%) items with no interactions.\n",
      "ItemKNNCBFRecommender: ICM Detected 559 ( 3.1%) items with no features.\n",
      "Unable to load Cython Compute_Similarity, reverting to Python\n",
      "Similarity column 18059 (100.0%), 6399.85 column/sec. Elapsed time 2.82 sec\n",
      "EvaluatorHoldout: Processed 13643 (100.0%) in 5.46 sec. Users per second: 2500\n",
      "ItemKNNCBFRecommender: URM Detected 2 ( 0.0%) items with no interactions.\n",
      "ItemKNNCBFRecommender: ICM Detected 559 ( 3.1%) items with no features.\n",
      "Unable to load Cython Compute_Similarity, reverting to Python\n",
      "Similarity column 18059 (100.0%), 6508.85 column/sec. Elapsed time 2.77 sec\n",
      "EvaluatorHoldout: Processed 13643 (100.0%) in 5.70 sec. Users per second: 2393\n",
      "ItemKNNCBFRecommender: URM Detected 2 ( 0.0%) items with no interactions.\n",
      "ItemKNNCBFRecommender: ICM Detected 559 ( 3.1%) items with no features.\n",
      "Unable to load Cython Compute_Similarity, reverting to Python\n",
      "Similarity column 18059 (100.0%), 6343.09 column/sec. Elapsed time 2.85 sec\n",
      "EvaluatorHoldout: Processed 13643 (100.0%) in 6.02 sec. Users per second: 2267\n",
      "ItemKNNCBFRecommender: URM Detected 2 ( 0.0%) items with no interactions.\n",
      "ItemKNNCBFRecommender: ICM Detected 559 ( 3.1%) items with no features.\n",
      "Unable to load Cython Compute_Similarity, reverting to Python\n",
      "Similarity column 18059 (100.0%), 6140.59 column/sec. Elapsed time 2.94 sec\n",
      "EvaluatorHoldout: Processed 13643 (100.0%) in 6.16 sec. Users per second: 2214\n",
      "ItemKNNCBFRecommender: URM Detected 2 ( 0.0%) items with no interactions.\n",
      "ItemKNNCBFRecommender: ICM Detected 559 ( 3.1%) items with no features.\n",
      "Unable to load Cython Compute_Similarity, reverting to Python\n",
      "Similarity column 18059 (100.0%), 5572.05 column/sec. Elapsed time 3.24 sec\n",
      "EvaluatorHoldout: Processed 13643 (100.0%) in 6.19 sec. Users per second: 2205\n",
      "ItemKNNCBFRecommender: URM Detected 2 ( 0.0%) items with no interactions.\n",
      "ItemKNNCBFRecommender: ICM Detected 559 ( 3.1%) items with no features.\n",
      "Unable to load Cython Compute_Similarity, reverting to Python\n",
      "Similarity column 18059 (100.0%), 6052.88 column/sec. Elapsed time 2.98 sec\n",
      "EvaluatorHoldout: Processed 13643 (100.0%) in 6.06 sec. Users per second: 2251\n",
      "ItemKNNCBFRecommender: URM Detected 2 ( 0.0%) items with no interactions.\n",
      "ItemKNNCBFRecommender: ICM Detected 559 ( 3.1%) items with no features.\n",
      "Unable to load Cython Compute_Similarity, reverting to Python\n",
      "Similarity column 18059 (100.0%), 6242.31 column/sec. Elapsed time 2.89 sec\n",
      "EvaluatorHoldout: Processed 13643 (100.0%) in 5.92 sec. Users per second: 2306\n",
      "ItemKNNCBFRecommender: URM Detected 2 ( 0.0%) items with no interactions.\n",
      "ItemKNNCBFRecommender: ICM Detected 559 ( 3.1%) items with no features.\n",
      "Unable to load Cython Compute_Similarity, reverting to Python\n",
      "Similarity column 18059 (100.0%), 6186.74 column/sec. Elapsed time 2.92 sec\n",
      "EvaluatorHoldout: Processed 13643 (100.0%) in 5.77 sec. Users per second: 2364\n",
      "ItemKNNCBFRecommender: URM Detected 2 ( 0.0%) items with no interactions.\n",
      "ItemKNNCBFRecommender: ICM Detected 559 ( 3.1%) items with no features.\n",
      "Unable to load Cython Compute_Similarity, reverting to Python\n",
      "Similarity column 18059 (100.0%), 6056.72 column/sec. Elapsed time 2.98 sec\n",
      "EvaluatorHoldout: Processed 13643 (100.0%) in 5.87 sec. Users per second: 2326\n",
      "ItemKNNCBFRecommender: URM Detected 2 ( 0.0%) items with no interactions.\n",
      "ItemKNNCBFRecommender: ICM Detected 559 ( 3.1%) items with no features.\n",
      "Unable to load Cython Compute_Similarity, reverting to Python\n",
      "Similarity column 18059 (100.0%), 5823.09 column/sec. Elapsed time 3.10 sec\n",
      "EvaluatorHoldout: Processed 13643 (100.0%) in 5.96 sec. Users per second: 2290\n",
      "ItemKNNCBFRecommender: URM Detected 2 ( 0.0%) items with no interactions.\n",
      "ItemKNNCBFRecommender: ICM Detected 559 ( 3.1%) items with no features.\n",
      "Unable to load Cython Compute_Similarity, reverting to Python\n",
      "Similarity column 18059 (100.0%), 5916.79 column/sec. Elapsed time 3.05 sec\n",
      "EvaluatorHoldout: Processed 13643 (100.0%) in 5.83 sec. Users per second: 2340\n"
     ]
    }
   ],
   "source": [
    "x_tick = range(0,11)\n",
    "MAP_per_shrinkage = []\n",
    "\n",
    "for shrink in x_tick:\n",
    "    \n",
    "    recommender = ItemKNNCBFRecommender(URM_train, ICM_all)\n",
    "    recommender.fit(shrink=shrink, topK=100)\n",
    "    \n",
    "    result_df, _ = evaluator_test.evaluateRecommender(recommender)\n",
    "    \n",
    "    MAP_per_shrinkage.append(result_df.loc[10][\"MAP\"])"
   ]
  },
  {
   "cell_type": "code",
   "execution_count": 49,
   "metadata": {},
   "outputs": [
    {
     "data": {
      "image/png": "[encoded data removed]",
      "text/plain": [
       "<Figure size 432x288 with 1 Axes>"
      ]
     },
     "metadata": {
      "needs_background": "light"
     },
     "output_type": "display_data"
    }
   ],
   "source": [
    "pyplot.plot(x_tick, MAP_per_shrinkage)\n",
    "pyplot.ylabel('MAP')\n",
    "pyplot.xlabel('Shrinkage')\n",
    "pyplot.show()"
   ]
  },
  {
   "cell_type": "markdown",
   "metadata": {},
   "source": [
    "#### ...dafuq?"
   ]
  },
  {
   "cell_type": "markdown",
   "metadata": {},
   "source": [
    "# Feature weighting"
   ]
  },
  {
   "cell_type": "markdown",
   "metadata": {},
   "source": [
    "## IDF"
   ]
  },
  {
   "cell_type": "code",
   "execution_count": 34,
   "metadata": {},
   "outputs": [
    {
     "name": "stdout",
     "output_type": "stream",
     "text": [
      "(18059, 8)\n",
      "(8,)\n"
     ]
    }
   ],
   "source": [
    "num_tot_items = ICM_all.shape[0]\n",
    "\n",
    "# let's count how many items have a certain feature\n",
    "items_per_feature = np.ediff1d(sps.csc_matrix(ICM_all).indptr)\n",
    "\n",
    "IDF = np.log(num_tot_items / items_per_feature)\n",
    "\n",
    "print(ICM_all.shape)\n",
    "print(IDF.shape)"
   ]
  },
  {
   "cell_type": "code",
   "execution_count": 35,
   "metadata": {},
   "outputs": [
    {
     "data": {
      "text/plain": [
       "array([  91,  103,  624, 1520, 1596, 3142, 5062, 5853], dtype=int32)"
      ]
     },
     "execution_count": 35,
     "metadata": {},
     "output_type": "execute_result"
    }
   ],
   "source": [
    "np.sort(items_per_feature)"
   ]
  },
  {
   "cell_type": "code",
   "execution_count": 36,
   "metadata": {},
   "outputs": [
    {
     "data": {
      "text/plain": [
       "array([1.12668983, 1.27188251, 1.74878464, 2.42614368, 2.47493384,\n",
       "       3.36524909, 5.16667047, 5.29053995])"
      ]
     },
     "execution_count": 36,
     "metadata": {},
     "output_type": "execute_result"
    }
   ],
   "source": [
    "np.sort(IDF)"
   ]
  },
  {
   "cell_type": "code",
   "execution_count": 37,
   "metadata": {},
   "outputs": [
    {
     "data": {
      "image/png": "[encoded data removed]",
      "text/plain": [
       "<Figure size 432x288 with 1 Axes>"
      ]
     },
     "metadata": {
      "needs_background": "light"
     },
     "output_type": "display_data"
    }
   ],
   "source": [
    "pyplot.plot(np.sort(IDF))\n",
    "pyplot.ylabel('IDF')\n",
    "pyplot.xlabel('Sorted feature')\n",
    "pyplot.show()"
   ]
  },
  {
   "cell_type": "code",
   "execution_count": 38,
   "metadata": {},
   "outputs": [
    {
     "data": {
      "text/plain": [
       "<8x8 sparse matrix of type '<class 'numpy.float64'>'\n",
       "\twith 8 stored elements (1 diagonals) in DIAgonal format>"
      ]
     },
     "execution_count": 38,
     "metadata": {},
     "output_type": "execute_result"
    }
   ],
   "source": [
    "from scipy.sparse import diags\n",
    "diags(IDF)"
   ]
  },
  {
   "cell_type": "code",
   "execution_count": 39,
   "metadata": {},
   "outputs": [],
   "source": [
    "ICM_idf = ICM_all.copy()\n",
    "ICM_idf = ICM_idf*diags(IDF)"
   ]
  },
  {
   "cell_type": "code",
   "execution_count": 40,
   "metadata": {},
   "outputs": [
    {
     "name": "stdout",
     "output_type": "stream",
     "text": [
      "ItemKNNCBFRecommender: URM Detected 2 ( 0.0%) items with no interactions.\n",
      "ItemKNNCBFRecommender: ICM Detected 559 ( 3.1%) items with no features.\n",
      "Unable to load Cython Compute_Similarity, reverting to Python\n",
      "Similarity column 18059 (100.0%), 7895.89 column/sec. Elapsed time 2.29 sec\n",
      "EvaluatorHoldout: Processed 13643 (100.0%) in 4.40 sec. Users per second: 3103\n"
     ]
    },
    {
     "data": {
      "text/plain": [
       "PRECISION                      0.010445\n",
       "PRECISION_RECALL_MIN_DEN       0.010479\n",
       "RECALL                         0.001348\n",
       "MAP                            0.002946\n",
       "MAP_MIN_DEN                    0.002954\n",
       "MRR                            0.026878\n",
       "NDCG                           0.010022\n",
       "F1                             0.002388\n",
       "HIT_RATE                        0.09624\n",
       "ARHR_ALL_HITS                  0.028108\n",
       "NOVELTY                        0.008634\n",
       "AVERAGE_POPULARITY             0.042886\n",
       "DIVERSITY_MEAN_INTER_LIST      0.985204\n",
       "DIVERSITY_HERFINDAHL           0.998513\n",
       "COVERAGE_ITEM                  0.300017\n",
       "COVERAGE_ITEM_CORRECT          0.033501\n",
       "COVERAGE_USER                  0.999487\n",
       "COVERAGE_USER_CORRECT           0.09619\n",
       "DIVERSITY_GINI                 0.072988\n",
       "SHANNON_ENTROPY               10.607408\n",
       "RATIO_DIVERSITY_HERFINDAHL     0.998898\n",
       "RATIO_DIVERSITY_GINI           0.294471\n",
       "RATIO_SHANNON_ENTROPY          0.856117\n",
       "RATIO_AVERAGE_POPULARITY       0.210652\n",
       "RATIO_NOVELTY                  0.050776\n",
       "Name: 10, dtype: object"
      ]
     },
     "execution_count": 40,
     "metadata": {},
     "output_type": "execute_result"
    }
   ],
   "source": [
    "recommender_idf = ItemKNNCBFRecommender(URM_train, ICM_idf)\n",
    "recommender_idf.fit(shrink=0.0, topK=50)\n",
    "\n",
    "result_df, _ = evaluator_test.evaluateRecommender(recommender_idf)\n",
    "result_df.loc[10]"
   ]
  },
  {
   "cell_type": "markdown",
   "metadata": {},
   "source": [
    "#### Alternative feature weighting: BM25"
   ]
  },
  {
   "cell_type": "markdown",
   "metadata": {},
   "source": [
    "# ..."
   ]
  },
  {
   "cell_type": "code",
   "execution_count": null,
   "metadata": {},
   "outputs": [],
   "source": [
    "recommender = ItemKNNCBFRecommender(URM_train, ICM_all)\n",
    "recommender.fit(shrink=0.0, topK=100)"
   ]
  },
  {
   "cell_type": "code",
   "execution_count": 53,
   "metadata": {},
   "outputs": [
    {
     "name": "stderr",
     "output_type": "stream",
     "text": [
      "getting recommendations: 100%|██████████| 13650/13650 [00:19<00:00, 716.04it/s]\n"
     ]
    },
    {
     "data": {
      "text/html": [
       "<div>\n",
       "<style scoped>\n",
       "    .dataframe tbody tr th:only-of-type {\n",
       "        vertical-align: middle;\n",
       "    }\n",
       "\n",
       "    .dataframe tbody tr th {\n",
       "        vertical-align: top;\n",
       "    }\n",
       "\n",
       "    .dataframe thead th {\n",
       "        text-align: right;\n",
       "    }\n",
       "</style>\n",
       "<table border=\"1\" class=\"dataframe\">\n",
       "  <thead>\n",
       "    <tr style=\"text-align: right;\">\n",
       "      <th></th>\n",
       "      <th>user_id</th>\n",
       "      <th>item_list</th>\n",
       "    </tr>\n",
       "  </thead>\n",
       "  <tbody>\n",
       "    <tr>\n",
       "      <th>0</th>\n",
       "      <td>0</td>\n",
       "      <td>7001 6354 10943 2008 11057 16342 8417 11948 12...</td>\n",
       "    </tr>\n",
       "    <tr>\n",
       "      <th>1</th>\n",
       "      <td>1</td>\n",
       "      <td>5027 1270 739 291 5902 5043 1283 5030 5051 757</td>\n",
       "    </tr>\n",
       "    <tr>\n",
       "      <th>2</th>\n",
       "      <td>2</td>\n",
       "      <td>5572 14963 5483 819 5434 3176 15119 12556 5849...</td>\n",
       "    </tr>\n",
       "    <tr>\n",
       "      <th>3</th>\n",
       "      <td>3</td>\n",
       "      <td>5432 4545 4571 895 5410 5414 5420 5422 5424 4556</td>\n",
       "    </tr>\n",
       "    <tr>\n",
       "      <th>4</th>\n",
       "      <td>4</td>\n",
       "      <td>13237 4265 1547 1554 10975 1605 11003 10978 16...</td>\n",
       "    </tr>\n",
       "    <tr>\n",
       "      <th>...</th>\n",
       "      <td>...</td>\n",
       "      <td>...</td>\n",
       "    </tr>\n",
       "    <tr>\n",
       "      <th>13645</th>\n",
       "      <td>13645</td>\n",
       "      <td>1229 1236 1205 14109 14102 1946 14473 14491 12...</td>\n",
       "    </tr>\n",
       "    <tr>\n",
       "      <th>13646</th>\n",
       "      <td>13646</td>\n",
       "      <td>16114 12765 6210 84 3890 16395 16469 16331 163...</td>\n",
       "    </tr>\n",
       "    <tr>\n",
       "      <th>13647</th>\n",
       "      <td>13647</td>\n",
       "      <td>6989 5090 8054 12227 5047 5050 7012 5052 5069 ...</td>\n",
       "    </tr>\n",
       "    <tr>\n",
       "      <th>13648</th>\n",
       "      <td>13648</td>\n",
       "      <td>2987 4887 1185 15342 15347 15371 15324 15373 6...</td>\n",
       "    </tr>\n",
       "    <tr>\n",
       "      <th>13649</th>\n",
       "      <td>13649</td>\n",
       "      <td>12943 16939 16934 3215 8207 3217 12951 12944 1...</td>\n",
       "    </tr>\n",
       "  </tbody>\n",
       "</table>\n",
       "<p>13650 rows × 2 columns</p>\n",
       "</div>"
      ],
      "text/plain": [
       "      user_id                                          item_list\n",
       "0           0  7001 6354 10943 2008 11057 16342 8417 11948 12...\n",
       "1           1     5027 1270 739 291 5902 5043 1283 5030 5051 757\n",
       "2           2  5572 14963 5483 819 5434 3176 15119 12556 5849...\n",
       "3           3   5432 4545 4571 895 5410 5414 5420 5422 5424 4556\n",
       "4           4  13237 4265 1547 1554 10975 1605 11003 10978 16...\n",
       "...       ...                                                ...\n",
       "13645   13645  1229 1236 1205 14109 14102 1946 14473 14491 12...\n",
       "13646   13646  16114 12765 6210 84 3890 16395 16469 16331 163...\n",
       "13647   13647  6989 5090 8054 12227 5047 5050 7012 5052 5069 ...\n",
       "13648   13648  2987 4887 1185 15342 15347 15371 15324 15373 6...\n",
       "13649   13649  12943 16939 16934 3215 8207 3217 12951 12944 1...\n",
       "\n",
       "[13650 rows x 2 columns]"
      ]
     },
     "execution_count": 53,
     "metadata": {},
     "output_type": "execute_result"
    }
   ],
   "source": [
    "import pandas as pd\n",
    "from tqdm import tqdm\n",
    "submission = pd.DataFrame(columns=['user_id', 'item_list'])\n",
    "\n",
    "for i in tqdm(range(13650), desc=\"getting recommendations\"):\n",
    "    item_list = recommender.recommend(i, 10)\n",
    "    submission.loc[i] = [i, ' '.join([str(i) for i in item_list])]\n",
    "\n",
    "submission"
   ]
  },
  {
   "cell_type": "code",
   "execution_count": 54,
   "metadata": {},
   "outputs": [],
   "source": [
    "from datetime import datetime\n",
    "submission.to_csv(f'output/cbf_genre_{str(datetime.now())}.csv', index=False)"
   ]
  }
 ],
 "metadata": {
  "interpreter": {
   "hash": "85e6bdaf04969da74e0b053bf30384823f732f6f0a778a846a8abd48cc7690ff"
  },
  "kernelspec": {
   "display_name": "Python 3.10.0 64-bit ('venv': venv)",
   "language": "python",
   "name": "python3"
  },
  "language_info": {
   "codemirror_mode": {
    "name": "ipython",
    "version": 3
   },
   "file_extension": ".py",
   "mimetype": "text/x-python",
   "name": "python",
   "nbconvert_exporter": "python",
   "pygments_lexer": "ipython3",
   "version": "3.10.0"
  },
  "orig_nbformat": 4
 },
 "nbformat": 4,
 "nbformat_minor": 2
}
