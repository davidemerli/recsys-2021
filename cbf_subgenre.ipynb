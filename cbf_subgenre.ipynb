{
 "cells": [
  {
   "cell_type": "code",
   "execution_count": 1,
   "metadata": {},
   "outputs": [],
   "source": [
    "import numpy as np\n",
    "import matplotlib.pyplot as pyplot\n",
    "%matplotlib inline  \n",
    "import pandas as pd\n",
    "import scipy.sparse as sps\n",
    "\n",
    "from Data_manager.Movielens.Movielens10MReader import Movielens10MReader\n",
    "from Evaluation.Evaluator import EvaluatorHoldout\n",
    "from Data_manager.split_functions.split_train_validation_random_holdout import split_train_in_two_percentage_global_sample"
   ]
  },
  {
   "cell_type": "code",
   "execution_count": 2,
   "metadata": {},
   "outputs": [],
   "source": [
    "def load_URM(file_path):\n",
    "\n",
    "    data = pd.read_csv(file_path)\n",
    "\n",
    "\n",
    "    user_list = data['row'].tolist()\n",
    "    item_list = data['col'].tolist()\n",
    "    rating_list = data['data'].tolist()\n",
    "\n",
    "    return sps.coo_matrix((rating_list, (user_list, item_list))).tocsr()"
   ]
  },
  {
   "cell_type": "code",
   "execution_count": 3,
   "metadata": {},
   "outputs": [],
   "source": [
    "def load_ICM(file_path):\n",
    "\n",
    "    data = pd.read_csv(file_path)\n",
    "\n",
    "    item_list = data['row'].tolist()\n",
    "    attribute_list = data['col'].tolist()\n",
    "    rating_list = data['data'].tolist()\n",
    "\n",
    "    return sps.coo_matrix((rating_list, (item_list, attribute_list))).tocsr()"
   ]
  },
  {
   "cell_type": "code",
   "execution_count": 4,
   "metadata": {},
   "outputs": [],
   "source": [
    "URM_all = load_URM('input/data_train.csv')\n",
    "ICM_all = load_ICM('input/data_ICM_subgenre.csv')\n",
    "#print(ICM_all)"
   ]
  },
  {
   "cell_type": "code",
   "execution_count": 5,
   "metadata": {},
   "outputs": [
    {
     "data": {
      "text/plain": [
       "(18059, 113)"
      ]
     },
     "execution_count": 5,
     "metadata": {},
     "output_type": "execute_result"
    }
   ],
   "source": [
    "ICM_all.shape"
   ]
  },
  {
   "cell_type": "code",
   "execution_count": 6,
   "metadata": {},
   "outputs": [],
   "source": [
    "ICM_all = sps.csr_matrix(ICM_all)\n",
    "features_per_item = np.ediff1d(ICM_all.indptr)\n",
    "\n",
    "ICM_all = sps.csc_matrix(ICM_all)\n",
    "items_per_feature = np.ediff1d(ICM_all.indptr)\n",
    "\n",
    "ICM_all = sps.csr_matrix(ICM_all)"
   ]
  },
  {
   "cell_type": "code",
   "execution_count": 7,
   "metadata": {},
   "outputs": [
    {
     "name": "stdout",
     "output_type": "stream",
     "text": [
      "(18059,)\n",
      "(113,)\n"
     ]
    }
   ],
   "source": [
    "print(features_per_item.shape)\n",
    "print(items_per_feature.shape)"
   ]
  },
  {
   "cell_type": "code",
   "execution_count": 8,
   "metadata": {},
   "outputs": [],
   "source": [
    "features_per_item = np.sort(features_per_item)\n",
    "items_per_feature = np.sort(items_per_feature)"
   ]
  },
  {
   "cell_type": "code",
   "execution_count": 9,
   "metadata": {},
   "outputs": [
    {
     "data": {
      "image/png": "[encoded data removed]",
      "text/plain": [
       "<Figure size 432x288 with 1 Axes>"
      ]
     },
     "metadata": {
      "needs_background": "light"
     },
     "output_type": "display_data"
    }
   ],
   "source": [
    "import matplotlib.pyplot as pyplot\n",
    "%matplotlib inline  \n",
    "\n",
    "pyplot.plot(features_per_item, 'ro')\n",
    "pyplot.ylabel('Num features ')\n",
    "pyplot.xlabel('Sorted items')\n",
    "pyplot.show()"
   ]
  },
  {
   "cell_type": "code",
   "execution_count": 10,
   "metadata": {},
   "outputs": [
    {
     "data": {
      "image/png": "[encoded data removed]",
      "text/plain": [
       "<Figure size 432x288 with 1 Axes>"
      ]
     },
     "metadata": {
      "needs_background": "light"
     },
     "output_type": "display_data"
    }
   ],
   "source": [
    "pyplot.plot(items_per_feature, 'ro')\n",
    "pyplot.ylabel('Num items ')\n",
    "pyplot.xlabel('Sorted features')\n",
    "pyplot.show()"
   ]
  },
  {
   "cell_type": "code",
   "execution_count": 11,
   "metadata": {},
   "outputs": [
    {
     "name": "stdout",
     "output_type": "stream",
     "text": [
      "Warning: 4 (0.03 %) of 13650 users have no sampled items\n",
      "Warning: 8 (0.06 %) of 13650 users have no sampled items\n",
      "EvaluatorHoldout: Ignoring 13642 ( 0.1%) Users that have less than 1 test interactions\n",
      "EvaluatorHoldout: Ignoring 13646 ( 0.0%) Users that have less than 1 test interactions\n"
     ]
    }
   ],
   "source": [
    "from Evaluation.Evaluator import EvaluatorHoldout\n",
    "from Data_manager.split_functions.split_train_validation_random_holdout import split_train_in_two_percentage_global_sample\n",
    "\n",
    "URM_train, URM_test = split_train_in_two_percentage_global_sample(URM_all, train_percentage = 0.80)\n",
    "URM_train, URM_validation = split_train_in_two_percentage_global_sample(URM_train, train_percentage = 0.80)\n",
    "\n",
    "evaluator_validation = EvaluatorHoldout(URM_validation, cutoff_list=[10])\n",
    "evaluator_test = EvaluatorHoldout(URM_test, cutoff_list=[10])"
   ]
  },
  {
   "cell_type": "code",
   "execution_count": 12,
   "metadata": {},
   "outputs": [],
   "source": [
    "#import traceback\n",
    "\n",
    "#try:\n",
    "#    numerator_matrix = ICM_all.dot(ICM_all.T).toarray()\n",
    "    \n",
    "#except Exception as e:\n",
    "#    traceback.print_exc()"
   ]
  },
  {
   "cell_type": "code",
   "execution_count": 13,
   "metadata": {},
   "outputs": [],
   "source": [
    "#block_size = 100\n",
    "\n",
    "#numerator_block = ICM_all[0:block_size].dot(ICM_all.T).toarray()\n",
    "#numerator_block.shape"
   ]
  },
  {
   "cell_type": "code",
   "execution_count": 14,
   "metadata": {},
   "outputs": [
    {
     "name": "stdout",
     "output_type": "stream",
     "text": [
      "Similarity column 18059 (100.0%), 8972.38 column/sec. Elapsed time 2.01 sec\n"
     ]
    },
    {
     "data": {
      "text/plain": [
       "<18059x18059 sparse matrix of type '<class 'numpy.float32'>'\n",
       "\twith 1679710 stored elements in Compressed Sparse Row format>"
      ]
     },
     "execution_count": 14,
     "metadata": {},
     "output_type": "execute_result"
    }
   ],
   "source": [
    "from Recommenders.Similarity.Compute_Similarity_Python import Compute_Similarity_Python\n",
    "\n",
    "similarity_object = Compute_Similarity_Python(ICM_all.T, shrink=0.0, \n",
    "                                          topK=100,\n",
    "                                          normalize=True, \n",
    "                                          similarity = \"cosine\")\n",
    "\n",
    "W_sparse = similarity_object.compute_similarity()\n",
    "W_sparse"
   ]
  },
  {
   "cell_type": "code",
   "execution_count": 15,
   "metadata": {},
   "outputs": [],
   "source": [
    "from Recommenders.Similarity.Compute_Similarity_Python import Compute_Similarity_Python\n",
    "\n",
    "class ItemKNNCBFRecommender(object):\n",
    "    \n",
    "    def __init__(self, URM, ICM):\n",
    "        self.URM = URM\n",
    "        self.ICM = ICM\n",
    "        \n",
    "            \n",
    "    def fit(self, topK=50, shrink=100, normalize = True, similarity = \"cosine\"):\n",
    "        \n",
    "        similarity_object = Compute_Similarity_Python(self.ICM.T, shrink=shrink, \n",
    "                                                  topK=topK, normalize=normalize, \n",
    "                                                  similarity = similarity)\n",
    "        \n",
    "        self.W_sparse = similarity_object.compute_similarity()\n",
    "\n",
    "        \n",
    "    def recommend(self, user_id, at=None, exclude_seen=True):\n",
    "        # compute the scores using the dot product\n",
    "        user_profile = self.URM[user_id]\n",
    "        scores = user_profile.dot(self.W_sparse).toarray().ravel()\n",
    "\n",
    "        if exclude_seen:\n",
    "            scores = self.filter_seen(user_id, scores)\n",
    "\n",
    "        # rank items\n",
    "        ranking = scores.argsort()[::-1]\n",
    "            \n",
    "        return ranking[:at]\n",
    "    \n",
    "    \n",
    "    def filter_seen(self, user_id, scores):\n",
    "\n",
    "        start_pos = self.URM.indptr[user_id]\n",
    "        end_pos = self.URM.indptr[user_id+1]\n",
    "\n",
    "        user_profile = self.URM.indices[start_pos:end_pos]\n",
    "        \n",
    "        scores[user_profile] = -np.inf\n",
    "\n",
    "        return scores\n"
   ]
  },
  {
   "cell_type": "code",
   "execution_count": 16,
   "metadata": {},
   "outputs": [
    {
     "name": "stdout",
     "output_type": "stream",
     "text": [
      "Similarity column 18059 (100.0%), 8465.87 column/sec. Elapsed time 2.13 sec\n"
     ]
    }
   ],
   "source": [
    "recommender = ItemKNNCBFRecommender(URM_train, ICM_all)\n",
    "recommender.fit(shrink=0.0, topK=50)"
   ]
  },
  {
   "cell_type": "code",
   "execution_count": 17,
   "metadata": {},
   "outputs": [
    {
     "name": "stdout",
     "output_type": "stream",
     "text": [
      "[ 1176  2418 10181 15507  7553]\n",
      "[ 6811 15461  7113   697 13236]\n",
      "[ 6233  9667  2283 16808  6975]\n",
      "[15992 11311 15503  4276  7052]\n",
      "[  739 17450 12712 12812 12794]\n",
      "[ 6811 10866  2200  2027 10267]\n",
      "[ 6923 11179  6981  2528  7051]\n",
      "[17246  4068 13861   787 16925]\n",
      "[14813 13630 13466  2200 13908]\n",
      "[ 2320  2328  9534   423 17284]\n"
     ]
    }
   ],
   "source": [
    "for user_id in range(10):\n",
    "    print(recommender.recommend(user_id, at=5))"
   ]
  },
  {
   "cell_type": "markdown",
   "metadata": {},
   "source": [
    "# Hyperparameters tuning"
   ]
  },
  {
   "cell_type": "markdown",
   "metadata": {},
   "source": [
    "## Number of neighbors"
   ]
  },
  {
   "cell_type": "code",
   "execution_count": 18,
   "metadata": {},
   "outputs": [
    {
     "name": "stdout",
     "output_type": "stream",
     "text": [
      "ItemKNNCBFRecommender: URM Detected 2 ( 0.0%) items with no interactions.\n",
      "ItemKNNCBFRecommender: ICM Detected 487 ( 2.7%) items with no features.\n",
      "Unable to load Cython Compute_Similarity, reverting to Python\n",
      "Similarity column 18059 (100.0%), 9201.75 column/sec. Elapsed time 1.96 sec\n",
      "EvaluatorHoldout: Processed 13646 (100.0%) in 3.68 sec. Users per second: 3705\n",
      "ItemKNNCBFRecommender: URM Detected 2 ( 0.0%) items with no interactions.\n",
      "ItemKNNCBFRecommender: ICM Detected 487 ( 2.7%) items with no features.\n",
      "Unable to load Cython Compute_Similarity, reverting to Python\n",
      "Similarity column 18059 (100.0%), 9059.24 column/sec. Elapsed time 1.99 sec\n",
      "EvaluatorHoldout: Processed 13646 (100.0%) in 4.72 sec. Users per second: 2891\n",
      "ItemKNNCBFRecommender: URM Detected 2 ( 0.0%) items with no interactions.\n",
      "ItemKNNCBFRecommender: ICM Detected 487 ( 2.7%) items with no features.\n",
      "Unable to load Cython Compute_Similarity, reverting to Python\n",
      "Similarity column 18059 (100.0%), 8564.93 column/sec. Elapsed time 2.11 sec\n",
      "EvaluatorHoldout: Processed 13646 (100.0%) in 5.20 sec. Users per second: 2626\n",
      "ItemKNNCBFRecommender: URM Detected 2 ( 0.0%) items with no interactions.\n",
      "ItemKNNCBFRecommender: ICM Detected 487 ( 2.7%) items with no features.\n",
      "Unable to load Cython Compute_Similarity, reverting to Python\n",
      "Similarity column 18059 (100.0%), 7626.96 column/sec. Elapsed time 2.37 sec\n",
      "EvaluatorHoldout: Processed 13646 (100.0%) in 6.02 sec. Users per second: 2267\n",
      "ItemKNNCBFRecommender: URM Detected 2 ( 0.0%) items with no interactions.\n",
      "ItemKNNCBFRecommender: ICM Detected 487 ( 2.7%) items with no features.\n",
      "Unable to load Cython Compute_Similarity, reverting to Python\n",
      "Similarity column 18059 (100.0%), 6777.91 column/sec. Elapsed time 2.66 sec\n",
      "EvaluatorHoldout: Processed 13646 (100.0%) in 6.72 sec. Users per second: 2031\n"
     ]
    }
   ],
   "source": [
    "from Recommenders.KNN.ItemKNNCBFRecommender import ItemKNNCBFRecommender\n",
    "\n",
    "x_tick = [10, 50, 100, 200, 500]\n",
    "MAP_per_k = []\n",
    "\n",
    "for topK in x_tick:\n",
    "    \n",
    "    recommender = ItemKNNCBFRecommender(URM_train, ICM_all)\n",
    "    recommender.fit(shrink=0.0, topK=topK)\n",
    "    \n",
    "    result_df, _ = evaluator_test.evaluateRecommender(recommender)\n",
    "    \n",
    "    MAP_per_k.append(result_df.loc[10][\"MAP\"])"
   ]
  },
  {
   "cell_type": "code",
   "execution_count": 19,
   "metadata": {},
   "outputs": [
    {
     "data": {
      "image/png": "[encoded data removed]",
      "text/plain": [
       "<Figure size 432x288 with 1 Axes>"
      ]
     },
     "metadata": {
      "needs_background": "light"
     },
     "output_type": "display_data"
    }
   ],
   "source": [
    "pyplot.plot(x_tick, MAP_per_k)\n",
    "pyplot.ylabel('MAP')\n",
    "pyplot.xlabel('TopK')\n",
    "pyplot.show()"
   ]
  },
  {
   "cell_type": "markdown",
   "metadata": {},
   "source": [
    "#### So we should take TopK = 100 (I guess)"
   ]
  },
  {
   "cell_type": "markdown",
   "metadata": {},
   "source": [
    "## Shrinkage"
   ]
  },
  {
   "cell_type": "code",
   "execution_count": 20,
   "metadata": {},
   "outputs": [
    {
     "name": "stdout",
     "output_type": "stream",
     "text": [
      "ItemKNNCBFRecommender: URM Detected 2 ( 0.0%) items with no interactions.\n",
      "ItemKNNCBFRecommender: ICM Detected 487 ( 2.7%) items with no features.\n",
      "Unable to load Cython Compute_Similarity, reverting to Python\n",
      "Similarity column 18059 (100.0%), 9064.44 column/sec. Elapsed time 1.99 sec\n",
      "EvaluatorHoldout: Processed 13646 (100.0%) in 5.18 sec. Users per second: 2632\n",
      "ItemKNNCBFRecommender: URM Detected 2 ( 0.0%) items with no interactions.\n",
      "ItemKNNCBFRecommender: ICM Detected 487 ( 2.7%) items with no features.\n",
      "Unable to load Cython Compute_Similarity, reverting to Python\n",
      "Similarity column 18059 (100.0%), 9171.89 column/sec. Elapsed time 1.97 sec\n",
      "EvaluatorHoldout: Processed 13646 (100.0%) in 5.19 sec. Users per second: 2627\n",
      "ItemKNNCBFRecommender: URM Detected 2 ( 0.0%) items with no interactions.\n",
      "ItemKNNCBFRecommender: ICM Detected 487 ( 2.7%) items with no features.\n",
      "Unable to load Cython Compute_Similarity, reverting to Python\n",
      "Similarity column 18059 (100.0%), 8765.67 column/sec. Elapsed time 2.06 sec\n",
      "EvaluatorHoldout: Processed 13646 (100.0%) in 5.15 sec. Users per second: 2652\n",
      "ItemKNNCBFRecommender: URM Detected 2 ( 0.0%) items with no interactions.\n",
      "ItemKNNCBFRecommender: ICM Detected 487 ( 2.7%) items with no features.\n",
      "Unable to load Cython Compute_Similarity, reverting to Python\n",
      "Similarity column 18059 (100.0%), 9265.77 column/sec. Elapsed time 1.95 sec\n",
      "EvaluatorHoldout: Processed 13646 (100.0%) in 5.17 sec. Users per second: 2641\n",
      "ItemKNNCBFRecommender: URM Detected 2 ( 0.0%) items with no interactions.\n",
      "ItemKNNCBFRecommender: ICM Detected 487 ( 2.7%) items with no features.\n",
      "Unable to load Cython Compute_Similarity, reverting to Python\n",
      "Similarity column 18059 (100.0%), 9152.15 column/sec. Elapsed time 1.97 sec\n",
      "EvaluatorHoldout: Processed 13646 (100.0%) in 5.19 sec. Users per second: 2629\n",
      "ItemKNNCBFRecommender: URM Detected 2 ( 0.0%) items with no interactions.\n",
      "ItemKNNCBFRecommender: ICM Detected 487 ( 2.7%) items with no features.\n",
      "Unable to load Cython Compute_Similarity, reverting to Python\n",
      "Similarity column 18059 (100.0%), 9167.58 column/sec. Elapsed time 1.97 sec\n",
      "EvaluatorHoldout: Processed 13646 (100.0%) in 5.31 sec. Users per second: 2568\n",
      "ItemKNNCBFRecommender: URM Detected 2 ( 0.0%) items with no interactions.\n",
      "ItemKNNCBFRecommender: ICM Detected 487 ( 2.7%) items with no features.\n",
      "Unable to load Cython Compute_Similarity, reverting to Python\n",
      "Similarity column 18059 (100.0%), 8261.52 column/sec. Elapsed time 2.19 sec\n",
      "EvaluatorHoldout: Processed 13646 (100.0%) in 5.21 sec. Users per second: 2621\n",
      "ItemKNNCBFRecommender: URM Detected 2 ( 0.0%) items with no interactions.\n",
      "ItemKNNCBFRecommender: ICM Detected 487 ( 2.7%) items with no features.\n",
      "Unable to load Cython Compute_Similarity, reverting to Python\n",
      "Similarity column 18059 (100.0%), 8860.03 column/sec. Elapsed time 2.04 sec\n",
      "EvaluatorHoldout: Processed 13646 (100.0%) in 5.26 sec. Users per second: 2595\n",
      "ItemKNNCBFRecommender: URM Detected 2 ( 0.0%) items with no interactions.\n",
      "ItemKNNCBFRecommender: ICM Detected 487 ( 2.7%) items with no features.\n",
      "Unable to load Cython Compute_Similarity, reverting to Python\n",
      "Similarity column 18059 (100.0%), 9118.76 column/sec. Elapsed time 1.98 sec\n",
      "EvaluatorHoldout: Processed 13646 (100.0%) in 5.17 sec. Users per second: 2638\n",
      "ItemKNNCBFRecommender: URM Detected 2 ( 0.0%) items with no interactions.\n",
      "ItemKNNCBFRecommender: ICM Detected 487 ( 2.7%) items with no features.\n",
      "Unable to load Cython Compute_Similarity, reverting to Python\n",
      "Similarity column 18059 (100.0%), 8976.65 column/sec. Elapsed time 2.01 sec\n",
      "EvaluatorHoldout: Processed 13646 (100.0%) in 5.22 sec. Users per second: 2616\n",
      "ItemKNNCBFRecommender: URM Detected 2 ( 0.0%) items with no interactions.\n",
      "ItemKNNCBFRecommender: ICM Detected 487 ( 2.7%) items with no features.\n",
      "Unable to load Cython Compute_Similarity, reverting to Python\n",
      "Similarity column 18059 (100.0%), 8874.46 column/sec. Elapsed time 2.03 sec\n",
      "EvaluatorHoldout: Processed 13646 (100.0%) in 5.23 sec. Users per second: 2610\n"
     ]
    }
   ],
   "source": [
    "x_tick = range(0,11)\n",
    "MAP_per_shrinkage = []\n",
    "\n",
    "for shrink in x_tick:\n",
    "    \n",
    "    recommender = ItemKNNCBFRecommender(URM_train, ICM_all)\n",
    "    recommender.fit(shrink=shrink, topK=100)\n",
    "    \n",
    "    result_df, _ = evaluator_test.evaluateRecommender(recommender)\n",
    "    \n",
    "    MAP_per_shrinkage.append(result_df.loc[10][\"MAP\"])"
   ]
  },
  {
   "cell_type": "code",
   "execution_count": 21,
   "metadata": {},
   "outputs": [
    {
     "data": {
      "image/png": "[encoded data removed]",
      "text/plain": [
       "<Figure size 432x288 with 1 Axes>"
      ]
     },
     "metadata": {
      "needs_background": "light"
     },
     "output_type": "display_data"
    }
   ],
   "source": [
    "pyplot.plot(x_tick, MAP_per_shrinkage)\n",
    "pyplot.ylabel('MAP')\n",
    "pyplot.xlabel('Shrinkage')\n",
    "pyplot.show()"
   ]
  },
  {
   "cell_type": "markdown",
   "metadata": {},
   "source": [
    "#### ...dafuq?"
   ]
  },
  {
   "cell_type": "markdown",
   "metadata": {},
   "source": [
    "# Feature weighting"
   ]
  },
  {
   "cell_type": "markdown",
   "metadata": {},
   "source": [
    "## IDF"
   ]
  },
  {
   "cell_type": "code",
   "execution_count": 22,
   "metadata": {},
   "outputs": [
    {
     "name": "stdout",
     "output_type": "stream",
     "text": [
      "(18059, 113)\n",
      "(113,)\n"
     ]
    }
   ],
   "source": [
    "num_tot_items = ICM_all.shape[0]\n",
    "\n",
    "# let's count how many items have a certain feature\n",
    "items_per_feature = np.ediff1d(sps.csc_matrix(ICM_all).indptr)\n",
    "\n",
    "IDF = np.log(num_tot_items / items_per_feature)\n",
    "\n",
    "print(ICM_all.shape)\n",
    "print(IDF.shape)"
   ]
  },
  {
   "cell_type": "code",
   "execution_count": 23,
   "metadata": {},
   "outputs": [
    {
     "data": {
      "text/plain": [
       "array([   3,    5,    5,    5,    5,    5,    6,    6,    6,    7,    7,\n",
       "          8,    8,    8,    9,    9,    9,   10,   10,   10,   10,   11,\n",
       "         14,   14,   14,   14,   14,   14,   15,   16,   16,   16,   17,\n",
       "         17,   18,   18,   19,   19,   20,   23,   24,   24,   27,   28,\n",
       "         29,   30,   32,   35,   36,   40,   42,   42,   43,   44,   50,\n",
       "         54,   56,   57,   58,   59,   67,   71,   71,   78,   80,   86,\n",
       "         90,   94,   94,   98,  106,  110,  117,  121,  122,  127,  133,\n",
       "        136,  140,  154,  162,  162,  170,  173,  174,  176,  183,  207,\n",
       "        219,  231,  232,  264,  267,  268,  279,  285,  292,  301,  321,\n",
       "        329,  347,  366,  402,  415,  504,  528,  551,  556,  604,  845,\n",
       "       1371, 1652, 1856], dtype=int32)"
      ]
     },
     "execution_count": 23,
     "metadata": {},
     "output_type": "execute_result"
    }
   ],
   "source": [
    "np.sort(items_per_feature)"
   ]
  },
  {
   "cell_type": "code",
   "execution_count": 24,
   "metadata": {},
   "outputs": [
    {
     "data": {
      "text/plain": [
       "array([2.27522054, 2.3916575 , 2.57810377, 3.06206283, 3.39782526,\n",
       "       3.48063116, 3.48966465, 3.53230317, 3.57882319, 3.77312093,\n",
       "       3.80494737, 3.89876612, 3.95207467, 4.0053417 , 4.02995833,\n",
       "       4.09428919, 4.12464565, 4.14891027, 4.17018767, 4.21041247,\n",
       "       4.2141508 , 4.22545035, 4.35466208, 4.35898174, 4.41232772,\n",
       "       4.46868066, 4.5919133 , 4.63091546, 4.64234416, 4.64810786,\n",
       "       4.66560102, 4.71380312, 4.71380312, 4.76444685, 4.85975703,\n",
       "       4.88874457, 4.91105033, 4.95721237, 4.99737841, 5.00560891,\n",
       "       5.03922552, 5.10091909, 5.13796036, 5.21643198, 5.25810467,\n",
       "       5.25810467, 5.30158978, 5.34705216, 5.41937282, 5.44469063,\n",
       "       5.53871958, 5.53871958, 5.59670684, 5.72386201, 5.74095644,\n",
       "       5.75834819, 5.77604776, 5.81241541, 5.88937645, 6.01720982,\n",
       "       6.04019934, 6.06372984, 6.06372984, 6.11252   , 6.21788052,\n",
       "       6.24605139, 6.33566355, 6.40020207, 6.43410362, 6.46919494,\n",
       "       6.50556259, 6.62334562, 6.62334562, 6.66590524, 6.80566718,\n",
       "       6.85696048, 6.85696048, 6.9110277 , 6.9110277 , 6.96818611,\n",
       "       6.96818611, 7.02881073, 7.02881073, 7.02881073, 7.09334925,\n",
       "       7.16234212, 7.16234212, 7.16234212, 7.16234212, 7.16234212,\n",
       "       7.16234212, 7.40350418, 7.49881436, 7.49881436, 7.49881436,\n",
       "       7.49881436, 7.60417488, 7.60417488, 7.60417488, 7.72195791,\n",
       "       7.72195791, 7.72195791, 7.85548931, 7.85548931, 8.00963999,\n",
       "       8.00963999, 8.00963999, 8.19196154, 8.19196154, 8.19196154,\n",
       "       8.19196154, 8.19196154, 8.70278717])"
      ]
     },
     "execution_count": 24,
     "metadata": {},
     "output_type": "execute_result"
    }
   ],
   "source": [
    "np.sort(IDF)"
   ]
  },
  {
   "cell_type": "code",
   "execution_count": 25,
   "metadata": {},
   "outputs": [
    {
     "data": {
      "image/png": "[encoded data removed]",
      "text/plain": [
       "<Figure size 432x288 with 1 Axes>"
      ]
     },
     "metadata": {
      "needs_background": "light"
     },
     "output_type": "display_data"
    }
   ],
   "source": [
    "pyplot.plot(np.sort(IDF))\n",
    "pyplot.ylabel('IDF')\n",
    "pyplot.xlabel('Sorted feature')\n",
    "pyplot.show()"
   ]
  },
  {
   "cell_type": "code",
   "execution_count": 26,
   "metadata": {},
   "outputs": [
    {
     "data": {
      "text/plain": [
       "<113x113 sparse matrix of type '<class 'numpy.float64'>'\n",
       "\twith 113 stored elements (1 diagonals) in DIAgonal format>"
      ]
     },
     "execution_count": 26,
     "metadata": {},
     "output_type": "execute_result"
    }
   ],
   "source": [
    "from scipy.sparse import diags\n",
    "diags(IDF)"
   ]
  },
  {
   "cell_type": "code",
   "execution_count": 27,
   "metadata": {},
   "outputs": [],
   "source": [
    "ICM_idf = ICM_all.copy()\n",
    "ICM_idf = ICM_idf*diags(IDF)"
   ]
  },
  {
   "cell_type": "code",
   "execution_count": 28,
   "metadata": {},
   "outputs": [
    {
     "name": "stdout",
     "output_type": "stream",
     "text": [
      "ItemKNNCBFRecommender: URM Detected 2 ( 0.0%) items with no interactions.\n",
      "ItemKNNCBFRecommender: ICM Detected 487 ( 2.7%) items with no features.\n",
      "Unable to load Cython Compute_Similarity, reverting to Python\n",
      "Similarity column 18059 (100.0%), 9152.00 column/sec. Elapsed time 1.97 sec\n",
      "EvaluatorHoldout: Processed 13646 (100.0%) in 5.15 sec. Users per second: 2652\n"
     ]
    },
    {
     "data": {
      "text/plain": [
       "PRECISION                     0.023707\n",
       "PRECISION_RECALL_MIN_DEN      0.023769\n",
       "RECALL                        0.003445\n",
       "MAP                           0.006826\n",
       "MAP_MIN_DEN                   0.006836\n",
       "MRR                           0.056622\n",
       "NDCG                          0.022456\n",
       "F1                            0.006015\n",
       "HIT_RATE                      0.201671\n",
       "ARHR_ALL_HITS                 0.062035\n",
       "NOVELTY                       0.008046\n",
       "AVERAGE_POPULARITY            0.068925\n",
       "DIVERSITY_MEAN_INTER_LIST     0.983421\n",
       "DIVERSITY_HERFINDAHL          0.998335\n",
       "COVERAGE_ITEM                 0.409657\n",
       "COVERAGE_ITEM_CORRECT         0.058918\n",
       "COVERAGE_USER                 0.999707\n",
       "COVERAGE_USER_CORRECT         0.201612\n",
       "DIVERSITY_GINI                0.091749\n",
       "SHANNON_ENTROPY               10.74905\n",
       "RATIO_DIVERSITY_HERFINDAHL     0.99872\n",
       "RATIO_DIVERSITY_GINI          0.370426\n",
       "RATIO_SHANNON_ENTROPY         0.867621\n",
       "RATIO_AVERAGE_POPULARITY      0.340104\n",
       "RATIO_NOVELTY                 0.047325\n",
       "Name: 10, dtype: object"
      ]
     },
     "execution_count": 28,
     "metadata": {},
     "output_type": "execute_result"
    }
   ],
   "source": [
    "recommender_idf = ItemKNNCBFRecommender(URM_train, ICM_idf)\n",
    "recommender_idf.fit(shrink=7.0, topK=100)\n",
    "\n",
    "result_df, _ = evaluator_test.evaluateRecommender(recommender_idf)\n",
    "result_df.loc[10]"
   ]
  },
  {
   "cell_type": "markdown",
   "metadata": {},
   "source": [
    "#### Alternative feature weighting: BM25"
   ]
  },
  {
   "cell_type": "markdown",
   "metadata": {},
   "source": [
    "# ..."
   ]
  },
  {
   "cell_type": "code",
   "execution_count": 29,
   "metadata": {},
   "outputs": [
    {
     "name": "stdout",
     "output_type": "stream",
     "text": [
      "ItemKNNCBFRecommender: URM Detected 2 ( 0.0%) items with no interactions.\n",
      "ItemKNNCBFRecommender: ICM Detected 487 ( 2.7%) items with no features.\n",
      "Unable to load Cython Compute_Similarity, reverting to Python\n",
      "Similarity column 18059 (100.0%), 9176.43 column/sec. Elapsed time 1.97 sec\n"
     ]
    }
   ],
   "source": [
    "recommender = ItemKNNCBFRecommender(URM_train, ICM_all)\n",
    "recommender.fit(shrink=0.0, topK=50)"
   ]
  },
  {
   "cell_type": "code",
   "execution_count": 30,
   "metadata": {},
   "outputs": [
    {
     "name": "stderr",
     "output_type": "stream",
     "text": [
      "getting recommendations: 100%|██████████| 13650/13650 [00:13<00:00, 977.29it/s]\n"
     ]
    },
    {
     "data": {
      "text/html": [
       "<div>\n",
       "<style scoped>\n",
       "    .dataframe tbody tr th:only-of-type {\n",
       "        vertical-align: middle;\n",
       "    }\n",
       "\n",
       "    .dataframe tbody tr th {\n",
       "        vertical-align: top;\n",
       "    }\n",
       "\n",
       "    .dataframe thead th {\n",
       "        text-align: right;\n",
       "    }\n",
       "</style>\n",
       "<table border=\"1\" class=\"dataframe\">\n",
       "  <thead>\n",
       "    <tr style=\"text-align: right;\">\n",
       "      <th></th>\n",
       "      <th>user_id</th>\n",
       "      <th>item_list</th>\n",
       "    </tr>\n",
       "  </thead>\n",
       "  <tbody>\n",
       "    <tr>\n",
       "      <th>0</th>\n",
       "      <td>0</td>\n",
       "      <td>2418 1176 2637 15507 10182 10181 5460 5432 739...</td>\n",
       "    </tr>\n",
       "    <tr>\n",
       "      <th>1</th>\n",
       "      <td>1</td>\n",
       "      <td>6811 2597 5221 5213 11829 5212 3249 11825 1538...</td>\n",
       "    </tr>\n",
       "    <tr>\n",
       "      <th>2</th>\n",
       "      <td>2</td>\n",
       "      <td>923 4965 16808 322 6233 13032 10726 10865 1562...</td>\n",
       "    </tr>\n",
       "    <tr>\n",
       "      <th>3</th>\n",
       "      <td>3</td>\n",
       "      <td>15641 6114 4746 2633 8185 15629 11419 1056 112...</td>\n",
       "    </tr>\n",
       "    <tr>\n",
       "      <th>4</th>\n",
       "      <td>4</td>\n",
       "      <td>739 17450 12821 10831 10791 12794 12714 12712 ...</td>\n",
       "    </tr>\n",
       "    <tr>\n",
       "      <th>...</th>\n",
       "      <td>...</td>\n",
       "      <td>...</td>\n",
       "    </tr>\n",
       "    <tr>\n",
       "      <th>13645</th>\n",
       "      <td>13645</td>\n",
       "      <td>10267 16778 13908 2298 9726 13630 13914 17553 ...</td>\n",
       "    </tr>\n",
       "    <tr>\n",
       "      <th>13646</th>\n",
       "      <td>13646</td>\n",
       "      <td>10181 10182 7553 7543 7495 7486 7464 10645 681...</td>\n",
       "    </tr>\n",
       "    <tr>\n",
       "      <th>13647</th>\n",
       "      <td>13647</td>\n",
       "      <td>8124 8202 8050 8060 5075 5074 8043 8299 8207 8009</td>\n",
       "    </tr>\n",
       "    <tr>\n",
       "      <th>13648</th>\n",
       "      <td>13648</td>\n",
       "      <td>6567 6570 8852 15659 8847 6552 8843 14918 2878...</td>\n",
       "    </tr>\n",
       "    <tr>\n",
       "      <th>13649</th>\n",
       "      <td>13649</td>\n",
       "      <td>17236 7376 6233 15626 4582 322 10445 10726 697...</td>\n",
       "    </tr>\n",
       "  </tbody>\n",
       "</table>\n",
       "<p>13650 rows × 2 columns</p>\n",
       "</div>"
      ],
      "text/plain": [
       "      user_id                                          item_list\n",
       "0           0  2418 1176 2637 15507 10182 10181 5460 5432 739...\n",
       "1           1  6811 2597 5221 5213 11829 5212 3249 11825 1538...\n",
       "2           2  923 4965 16808 322 6233 13032 10726 10865 1562...\n",
       "3           3  15641 6114 4746 2633 8185 15629 11419 1056 112...\n",
       "4           4  739 17450 12821 10831 10791 12794 12714 12712 ...\n",
       "...       ...                                                ...\n",
       "13645   13645  10267 16778 13908 2298 9726 13630 13914 17553 ...\n",
       "13646   13646  10181 10182 7553 7543 7495 7486 7464 10645 681...\n",
       "13647   13647  8124 8202 8050 8060 5075 5074 8043 8299 8207 8009\n",
       "13648   13648  6567 6570 8852 15659 8847 6552 8843 14918 2878...\n",
       "13649   13649  17236 7376 6233 15626 4582 322 10445 10726 697...\n",
       "\n",
       "[13650 rows x 2 columns]"
      ]
     },
     "execution_count": 30,
     "metadata": {},
     "output_type": "execute_result"
    }
   ],
   "source": [
    "import pandas as pd\n",
    "from tqdm import tqdm\n",
    "submission = pd.DataFrame(columns=['user_id', 'item_list'])\n",
    "\n",
    "for i in tqdm(range(13650), desc=\"getting recommendations\"):\n",
    "    item_list = recommender.recommend(i, 10)\n",
    "    submission.loc[i] = [i, ' '.join([str(i) for i in item_list])]\n",
    "\n",
    "submission"
   ]
  },
  {
   "cell_type": "code",
   "execution_count": 31,
   "metadata": {},
   "outputs": [],
   "source": [
    "from datetime import datetime\n",
    "submission.to_csv(f'output/cbf_subgenre_{str(datetime.now())}.csv', index=False)"
   ]
  }
 ],
 "metadata": {
  "interpreter": {
   "hash": "85e6bdaf04969da74e0b053bf30384823f732f6f0a778a846a8abd48cc7690ff"
  },
  "kernelspec": {
   "display_name": "Python 3.10.0 64-bit ('venv': venv)",
   "language": "python",
   "name": "python3"
  },
  "language_info": {
   "codemirror_mode": {
    "name": "ipython",
    "version": 3
   },
   "file_extension": ".py",
   "mimetype": "text/x-python",
   "name": "python",
   "nbconvert_exporter": "python",
   "pygments_lexer": "ipython3",
   "version": "3.9.7"
  },
  "orig_nbformat": 4
 },
 "nbformat": 4,
 "nbformat_minor": 2
}
