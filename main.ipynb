{
 "cells": [
  {
   "cell_type": "code",
   "execution_count": 1,
   "metadata": {},
   "outputs": [
    {
     "name": "stdout",
     "output_type": "stream",
     "text": [
      "env: OPENBLAS_NUM_THREADS=1\n"
     ]
    }
   ],
   "source": [
    "# from Recommenders.Hybrid.SimilarityMergedHybridRecommender import SimilarityMergedHybridRecommender\n",
    "# from src.GraphBased.P3alphaRecommender import P3alphaRecommender\n",
    "from Recommenders.GraphBased.RP3betaCBFRecommender import RP3betaCBFRecommender\n",
    "from Recommenders.KNN.ItemKNNCFRecommender import ItemKNNCFRecommender\n",
    "from Recommenders.MatrixFactorization.PureSVDRecommender import PureSVDItemRecommender\n",
    "from Recommenders.Hybrid.GeneralizedMergedHybridRecommender import (\n",
    "    GeneralizedMergedHybridRecommender,\n",
    ")\n",
    "from Recommenders.SLIM.SLIMElasticNetRecommender import MultiThreadSLIM_ElasticNet\n",
    "from Recommenders.Implicit.FeatureCombinedImplicitALSRecommender import (\n",
    "    FeatureCombinedImplicitALSRecommender,\n",
    ")\n",
    "from Recommenders.Hybrid.GeneralizedSimilarityMergedHybridRecommender import (\n",
    "    GeneralizedSimilarityMergedHybridRecommender,\n",
    ")\n",
    "from Utils.ICM_preprocessing import *\n",
    "from Utils.data_loader import load_URM, load_ICM\n",
    "from Utils.confidence_scaling import *\n",
    "from Utils.write_submission import write_submission\n",
    "from Data_manager.split_functions.split_train_validation_random_holdout import (\n",
    "    split_train_in_two_percentage_global_sample,\n",
    ")\n",
    "from Evaluation.K_Fold_Evaluator import K_Fold_Evaluator_MAP\n",
    "from bayes_opt import BayesianOptimization\n",
    "\n",
    "%env OPENBLAS_NUM_THREADS=1\n"
   ]
  },
  {
   "cell_type": "code",
   "execution_count": 2,
   "metadata": {},
   "outputs": [],
   "source": [
    "URM_all = load_URM(\"input/data_train.csv\")\n",
    "ICM_all = load_ICM(\"input/data_ICM_subgenre.csv\")\n",
    "\n",
    "# ICM_combined = combine(ICM=ICM_all, URM = URM_all)\n"
   ]
  },
  {
   "cell_type": "code",
   "execution_count": 3,
   "metadata": {},
   "outputs": [
    {
     "name": "stdout",
     "output_type": "stream",
     "text": [
      "Warning: 2 (0.01 %) of 13650 users have no sampled items\n",
      "Warning: 3 (0.02 %) of 13650 users have no sampled items\n"
     ]
    }
   ],
   "source": [
    "URMs_train = []\n",
    "URMs_validation = []\n",
    "\n",
    "for k in range(5):\n",
    "    URM_train, URM_validation = split_train_in_two_percentage_global_sample(\n",
    "        URM_all, train_percentage=0.80\n",
    "    )\n",
    "    URMs_train.append(URM_train)\n",
    "    URMs_validation.append(URM_validation)\n"
   ]
  },
  {
   "cell_type": "code",
   "execution_count": 4,
   "metadata": {},
   "outputs": [],
   "source": [
    "evaluator_validation = K_Fold_Evaluator_MAP(\n",
    "    URMs_validation, cutoff_list=[10], verbose=False\n",
    ")\n",
    "\n",
    "ICMs_combined = []\n",
    "for URM in URMs_train:\n",
    "    ICMs_combined.append(combine(ICM=ICM_all, URM=URM))\n"
   ]
  },
  {
   "cell_type": "code",
   "execution_count": 5,
   "metadata": {},
   "outputs": [
    {
     "name": "stderr",
     "output_type": "stream",
     "text": [
      "100%|██████████| 1/1 [00:07<00:00,  7.57s/it]\n",
      "100%|██████████| 1/1 [00:12<00:00, 12.38s/it]\n"
     ]
    }
   ],
   "source": [
    "IALS_recommenders = []\n",
    "rp3betaCBF_recommenders = []\n",
    "userRP3beta_recommenders = []\n",
    "\n",
    "for index in range(len(URMs_train)):\n",
    "    IALS_recommenders.append(\n",
    "        FeatureCombinedImplicitALSRecommender(\n",
    "            URM_train=URMs_train[index], ICM_train=ICM_all, verbose=True\n",
    "        )\n",
    "    )\n",
    "\n",
    "    # TODO: train this again by itself\n",
    "    IALS_recommenders[index].fit(\n",
    "        factors=int(250),\n",
    "        regularization=0.01,\n",
    "        use_gpu=False,\n",
    "        iterations=43,\n",
    "        num_threads=4,\n",
    "        confidence_scaling=linear_scaling_confidence,\n",
    "        **{\"URM\": {\"alpha\": 50}, \"ICM\": {\"alpha\": 50}}\n",
    "    )\n",
    "\n",
    "    rp3betaCBF_recommenders.append(\n",
    "        RP3betaCBFRecommender(\n",
    "            URM_train=URMs_train[index], ICM_train=ICMs_combined[index], verbose=False\n",
    "        )\n",
    "    )\n",
    "\n",
    "    # TODO: train this again by itself\n",
    "    rp3betaCBF_recommenders[index].fit(\n",
    "        topK=int(529.1628484087545),\n",
    "        alpha=0.45304737831676245,\n",
    "        beta=0.226647894170121,\n",
    "        implicit=False,\n",
    "    )\n",
    "\n",
    "    # userRP3beta_recommenders.append(\n",
    "    #     UserRP3betaRecommender(\n",
    "    #         URM_train=ICMs_combined[index].T,\n",
    "    #         verbose=False\n",
    "    #     )\n",
    "    # )\n",
    "\n",
    "    # userRP3beta_recommenders[index].fit(\n",
    "    #     topK=int(252.2),\n",
    "    #     alpha=0.2658,\n",
    "    #     beta=0.2847,\n",
    "    #     implicit=False\n",
    "    # )\n",
    "\n",
    "\n"
   ]
  },
  {
   "cell_type": "markdown",
   "metadata": {},
   "source": [
    "## Tuning hybrid weights"
   ]
  },
  {
   "cell_type": "code",
   "execution_count": 6,
   "metadata": {},
   "outputs": [],
   "source": [
    "tuning_params = {\n",
    "    \"hybridWeight1\":  (0, 1),\n",
    "    \"hybridWeight2\":  (0, 1),\n",
    "    # \"hybridWeight3\": (0, 1)\n",
    "}\n",
    "\n",
    "results = []\n",
    "\n",
    "def BO_func(\n",
    "    hybridWeight1,\n",
    "    hybridWeight2\n",
    "    # hybridWeight3\n",
    "):\n",
    "    recommenders = []\n",
    "\n",
    "    for index in range(len(URMs_train)):\n",
    "        recommender = GeneralizedMergedHybridRecommender(\n",
    "            URM_train=URMs_train[index],\n",
    "            recommenders=[\n",
    "                IALS_recommenders[index],\n",
    "                rp3betaCBF_recommenders[index],\n",
    "                # userRP3beta_recommenders[index],\n",
    "            ],\n",
    "            verbose=True,\n",
    "        )\n",
    "\n",
    "        totalWeight = hybridWeight1 + hybridWeight2  # +hybridWeight3\n",
    "        recommender.fit(\n",
    "            alphas=[\n",
    "                hybridWeight1 / totalWeight,\n",
    "                hybridWeight2 / totalWeight\n",
    "                # hybridWeight3/totalWeight\n",
    "            ]\n",
    "        )\n",
    "\n",
    "        recommenders.append(recommender)\n",
    "\n",
    "    result = evaluator_validation.evaluateRecommender(recommenders)\n",
    "    results.append(result)\n",
    "\n",
    "    return sum(result) / len(result)"
   ]
  },
  {
   "cell_type": "code",
   "execution_count": 7,
   "metadata": {},
   "outputs": [
    {
     "name": "stdout",
     "output_type": "stream",
     "text": [
      "|   iter    |  target   | hybrid... | hybrid... |\n",
      "-------------------------------------------------\n",
      "[0.1891604357403375, 0.19181556851264392]\n",
      "| \u001b[0m 1       \u001b[0m | \u001b[0m 0.1905  \u001b[0m | \u001b[0m 0.222   \u001b[0m | \u001b[0m 0.8707  \u001b[0m |\n",
      "[0.1891331249185879, 0.19179962512837767]\n",
      "| \u001b[0m 2       \u001b[0m | \u001b[0m 0.1905  \u001b[0m | \u001b[0m 0.2067  \u001b[0m | \u001b[0m 0.9186  \u001b[0m |\n",
      "[0.18941306302219937, 0.19199663045892898]\n",
      "| \u001b[95m 3       \u001b[0m | \u001b[95m 0.1907  \u001b[0m | \u001b[95m 0.4884  \u001b[0m | \u001b[95m 0.6117  \u001b[0m |\n",
      "[0.18955763330635003, 0.19220810201904873]\n",
      "| \u001b[95m 4       \u001b[0m | \u001b[95m 0.1909  \u001b[0m | \u001b[95m 0.7659  \u001b[0m | \u001b[95m 0.5184  \u001b[0m |\n",
      "[0.18957024344516907, 0.19218835525221434]\n",
      "| \u001b[0m 5       \u001b[0m | \u001b[0m 0.1909  \u001b[0m | \u001b[0m 0.2968  \u001b[0m | \u001b[0m 0.1877  \u001b[0m |\n",
      "[0.18907978551424467, 0.19170508431994368]\n",
      "| \u001b[0m 6       \u001b[0m | \u001b[0m 0.1904  \u001b[0m | \u001b[0m 0.08074 \u001b[0m | \u001b[0m 0.7384  \u001b[0m |\n",
      "[0.18971671818883773, 0.1924341648434852]\n",
      "| \u001b[95m 7       \u001b[0m | \u001b[95m 0.1911  \u001b[0m | \u001b[95m 0.4413  \u001b[0m | \u001b[95m 0.1583  \u001b[0m |\n",
      "[0.1896612533495221, 0.19246984917901633]\n",
      "| \u001b[0m 8       \u001b[0m | \u001b[0m 0.1911  \u001b[0m | \u001b[0m 0.8799  \u001b[0m | \u001b[0m 0.2741  \u001b[0m |\n",
      "[0.18952886288356588, 0.19219833186199334]\n",
      "| \u001b[0m 9       \u001b[0m | \u001b[0m 0.1909  \u001b[0m | \u001b[0m 0.4142  \u001b[0m | \u001b[0m 0.2961  \u001b[0m |\n",
      "[0.18943214832337685, 0.1921450437970548]\n",
      "| \u001b[0m 10      \u001b[0m | \u001b[0m 0.1908  \u001b[0m | \u001b[0m 0.6288  \u001b[0m | \u001b[0m 0.5798  \u001b[0m |\n",
      "[0.03618926373304326, 0.03563146909431837]\n",
      "| \u001b[0m 11      \u001b[0m | \u001b[0m 0.03591 \u001b[0m | \u001b[0m 0.7113  \u001b[0m | \u001b[0m 0.0     \u001b[0m |\n",
      "[0.189110957591321, 0.19176401057968323]\n",
      "| \u001b[0m 12      \u001b[0m | \u001b[0m 0.1904  \u001b[0m | \u001b[0m 0.01793 \u001b[0m | \u001b[0m 0.09928 \u001b[0m |\n",
      "[0.189349864041943, 0.1919613473977061]\n",
      "| \u001b[0m 13      \u001b[0m | \u001b[0m 0.1907  \u001b[0m | \u001b[0m 0.6758  \u001b[0m | \u001b[0m 1.0     \u001b[0m |\n",
      "=================================================\n"
     ]
    }
   ],
   "source": [
    "optimizer = BayesianOptimization(\n",
    "    f=BO_func,\n",
    "    pbounds=tuning_params,\n",
    "    verbose=5,\n",
    "    random_state=5,\n",
    ")\n",
    "\n",
    "optimizer.maximize(\n",
    "    init_points=30,\n",
    "    n_iter=50,\n",
    ")"
   ]
  },
  {
   "cell_type": "code",
   "execution_count": 23,
   "metadata": {},
   "outputs": [
    {
     "name": "stdout",
     "output_type": "stream",
     "text": [
      "TARGET MAP 0.19107544151616146\n",
      "HYBRID WEIGHTS 0.4413092228959531 0.1583098677126512\n",
      "ALPHAS 0.7359826093062363 0.26401739069376373\n"
     ]
    }
   ],
   "source": [
    "best = optimizer.max\n",
    "print(\"TARGET MAP\", best[\"target\"])\n",
    "\n",
    "hw1 = best[\"params\"][\"hybridWeight1\"]\n",
    "hw2 = best[\"params\"][\"hybridWeight2\"]\n",
    "\n",
    "print(\"HYBRID WEIGHTS\", hw1, hw2)\n",
    "\n",
    "totalWeight = hw1 + hw2\n",
    "totalWeight\n",
    "\n",
    "alpha1, alpha2 = hw1 / totalWeight, hw2 / totalWeight\n",
    "\n",
    "print(\"ALPHAS\", alpha1, alpha2)"
   ]
  },
  {
   "cell_type": "markdown",
   "metadata": {},
   "source": [
    "## Train final model with tuned hyperparameters"
   ]
  },
  {
   "cell_type": "code",
   "execution_count": 25,
   "metadata": {},
   "outputs": [],
   "source": [
    "recommender = GeneralizedMergedHybridRecommender(\n",
    "    URM_train=URMs_train[0], # maybe we can take a better option instead of taking the first one of everything?\n",
    "    recommenders=[\n",
    "        IALS_recommenders[0],\n",
    "        rp3betaCBF_recommenders[0],\n",
    "        # userRP3beta_recommenders[index],\n",
    "    ],\n",
    "    verbose=True,\n",
    ")\n",
    "\n",
    "recommender.fit(\n",
    "    alphas=[\n",
    "        alpha1,\n",
    "        alpha2\n",
    "        # alpha3\n",
    "    ]\n",
    ")\n"
   ]
  },
  {
   "cell_type": "code",
   "execution_count": 34,
   "metadata": {},
   "outputs": [],
   "source": [
    "write_submission(recommender=recommender, target_users_path=\"input/data_target_users_test.csv\",\n",
    "                    out_path='output/{}_submission.csv'.format(recommender.RECOMMENDER_NAME))"
   ]
  },
  {
   "cell_type": "code",
   "execution_count": 35,
   "metadata": {},
   "outputs": [
    {
     "name": "stdout",
     "output_type": "stream",
     "text": [
      "output/FeatureCombinedImplicitALSRP3betaCBFHybridRecommender_submission.csv\n"
     ]
    }
   ],
   "source": [
    "print('output/{}_submission.csv'.format(recommender.RECOMMENDER_NAME))"
   ]
  },
  {
   "cell_type": "code",
   "execution_count": 26,
   "metadata": {},
   "outputs": [],
   "source": [
    "# p3alpha_recommender = P3alphaRecommender(\n",
    "#     URM_train=URM_all,\n",
    "#     verbose=False\n",
    "# )\n",
    "#\n",
    "# p3alpha_recommender.fit(\n",
    "#     topK=int(212.8832860130684),\n",
    "#     alpha=0.4729294763382114,\n",
    "#     implicit=True\n",
    "# )\n"
   ]
  },
  {
   "cell_type": "code",
   "execution_count": 27,
   "metadata": {},
   "outputs": [],
   "source": [
    "# RP3 BETA (Combined) -----------------------------------------\n",
    "\n",
    "# rp3betaCombined_recommender= RP3betaCBFRecommender(\n",
    "#     URM_train=URM_all,\n",
    "#     ICM_train=ICM_combined,\n",
    "#     verbose=False\n",
    "# )\n",
    "\n",
    "# rp3betaCombined_recommender.fit(\n",
    "#     topK=int(529.1628484087545),\n",
    "#     alpha=0.45304737831676245,\n",
    "#     beta=0.226647894170121,\n",
    "#     implicit=True\n",
    "# )\n"
   ]
  },
  {
   "cell_type": "code",
   "execution_count": 28,
   "metadata": {},
   "outputs": [],
   "source": [
    "# IALS -----------------------------------------\n",
    "\n",
    "# IALS_recommender= FeatureCombinedImplicitALSRecommender(\n",
    "#     URM_train=URM_all,\n",
    "#     ICM_train=ICM_all,\n",
    "#     verbose=True\n",
    "# )\n",
    "\n",
    "# IALS_recommender.fit(\n",
    "#     factors=int(398.601583855084),\n",
    "#     regularization=0.01,\n",
    "#     use_gpu=False,\n",
    "#     iterations=int(94.22855449116447),\n",
    "#     num_threads=6,\n",
    "#     confidence_scaling=linear_scaling_confidence,\n",
    "#     **{\n",
    "#         'URM': {\"alpha\": 42.07374324671451},\n",
    "#         'ICM': {\"alpha\": 41.72067133975204}\n",
    "#     }\n",
    "# )\n"
   ]
  },
  {
   "cell_type": "code",
   "execution_count": 29,
   "metadata": {},
   "outputs": [],
   "source": [
    "# SLIM -----------------------------------------\n",
    "\n",
    "# SLIM_recommender = MultiThreadSLIM_ElasticNet(\n",
    "#         URM_train=ICM_combined.T,\n",
    "#         verbose=False\n",
    "#     )\n",
    "\n",
    "# SLIM_recommender.fit(\n",
    "#     alpha=0.00026894910579512645,\n",
    "#     l1_ratio=0.08074126876487486,\n",
    "#     topK=int(395.376118479588),\n",
    "#     workers=6\n",
    "# )\n",
    "\n",
    "# SLIM_recommender.URM_train = URM_all\n"
   ]
  },
  {
   "cell_type": "code",
   "execution_count": 30,
   "metadata": {},
   "outputs": [],
   "source": [
    "# OTHER STUFF ----------------------------------\n",
    "\n",
    "# rp3betaCBF_recommender= RP3betaCBFRecommender(\n",
    "#     URM_train=URM_all,\n",
    "#     ICM_train=ICM_all,\n",
    "#     verbose=False\n",
    "# )\n",
    "#\n",
    "# rp3betaCBF_recommender.fit(\n",
    "#     topK=int(117.1),\n",
    "#     alpha=0.9882,\n",
    "#     beta=0.7703,\n",
    "#     implicit=False\n",
    "# )\n",
    "\n",
    "# itemKNN_recommender= ItemKNNCFRecommender(\n",
    "#     URM_train=URM_all,\n",
    "#     verbose=False\n",
    "# )\n",
    "#\n",
    "# itemKNN_recommender.fit(\n",
    "#     topK=100,\n",
    "#     shrink=50\n",
    "# )\n",
    "#\n",
    "# pureSVD_recommender= PureSVDItemRecommender(\n",
    "#     URM_train=URM_all,\n",
    "#     verbose=False\n",
    "# )\n",
    "#\n",
    "#\n",
    "# pureSVD_recommender.fit(\n",
    "#     num_factors=772,\n",
    "#     topK= 599\n",
    "# )\n"
   ]
  },
  {
   "cell_type": "code",
   "execution_count": 31,
   "metadata": {},
   "outputs": [],
   "source": [
    "# Generalized Merged Hybrid -----------------------------------------\n",
    "\n",
    "# recommender = GeneralizedMergedHybridRecommender(\n",
    "#     URM_train=URM_all,\n",
    "#     recommenders=[\n",
    "#         IALS_recommender,\n",
    "#         rp3betaCombined_recommender\n",
    "#         #SLIM_recommender\n",
    "#     ],\n",
    "#     verbose=False\n",
    "# )\n"
   ]
  },
  {
   "cell_type": "code",
   "execution_count": 32,
   "metadata": {},
   "outputs": [],
   "source": [
    "# recommender.fit(\n",
    "#     alphas=[\n",
    "#         0.6836750866517823,\n",
    "#         0.45969038157844144,\n",
    "#         #0.2723405593515382\n",
    "#     ]\n",
    "# )\n"
   ]
  },
  {
   "cell_type": "code",
   "execution_count": 33,
   "metadata": {},
   "outputs": [],
   "source": [
    "# write_submission(recommender=recommender, target_users_path=\"input/data_target_users_test.csv\",\n",
    "#                     out_path='output/{}_submission.csv'.format(recommender.RECOMMENDER_NAME))\n"
   ]
  }
 ],
 "metadata": {
  "interpreter": {
   "hash": "132c138808ab9756e2bef2b134cfc077b14fd347b0b11605502e12e9dfc3f6d2"
  },
  "kernelspec": {
   "display_name": "Python 3.9.7 64-bit ('base': conda)",
   "language": "python",
   "name": "python3"
  },
  "language_info": {
   "codemirror_mode": {
    "name": "ipython",
    "version": 3
   },
   "file_extension": ".py",
   "mimetype": "text/x-python",
   "name": "python",
   "nbconvert_exporter": "python",
   "pygments_lexer": "ipython3",
   "version": "3.9.7"
  },
  "orig_nbformat": 4
 },
 "nbformat": 4,
 "nbformat_minor": 2
}
