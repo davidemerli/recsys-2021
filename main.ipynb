{
 "cells": [
  {
   "cell_type": "code",
   "execution_count": 43,
   "metadata": {},
   "outputs": [],
   "source": [
    "#from Recommenders.Hybrid.SimilarityMergedHybridRecommender import SimilarityMergedHybridRecommender\n",
    "#from src.GraphBased.P3alphaRecommender import P3alphaRecommender\n",
    "from Recommenders.GraphBased.RP3betaCBFRecommender import RP3betaCBFRecommender\n",
    "from Recommenders.KNN.ItemKNNCFRecommender import ItemKNNCFRecommender\n",
    "from Recommenders.MatrixFactorization.PureSVDRecommender import PureSVDItemRecommender\n",
    "from Recommenders.Hybrid.GeneralizedMergedHybridRecommender import GeneralizedMergedHybridRecommender\n",
    "from Recommenders.SLIM.SLIMElasticNetRecommender import MultiThreadSLIM_ElasticNet\n",
    "from Recommenders.Implicit.FeatureCombinedImplicitALSRecommender import FeatureCombinedImplicitALSRecommender\n",
    "from Recommenders.Hybrid.GeneralizedSimilarityMergedHybridRecommender import GeneralizedSimilarityMergedHybridRecommender\n",
    "from Utils.ICM_preprocessing import *\n",
    "from Utils.data_loader import load_URM, load_ICM\n",
    "from Utils.confidence_scaling import *\n",
    "from Utils.write_submission import write_submission\n",
    "from Data_manager.split_functions.split_train_validation_random_holdout import split_train_in_two_percentage_global_sample\n",
    "from Evaluation.K_Fold_Evaluator import K_Fold_Evaluator_MAP\n",
    "from bayes_opt import BayesianOptimization"
   ]
  },
  {
   "cell_type": "code",
   "execution_count": 44,
   "metadata": {},
   "outputs": [],
   "source": [
    "URM_all = load_URM(\"input/data_train.csv\")\n",
    "ICM_all = load_ICM(\"input/data_ICM_subgenre.csv\")\n",
    "\n",
    "#ICM_combined = combine(ICM=ICM_all, URM = URM_all)"
   ]
  },
  {
   "cell_type": "code",
   "execution_count": 45,
   "metadata": {},
   "outputs": [
    {
     "name": "stdout",
     "output_type": "stream",
     "text": [
      "Warning: 7 (0.05 %) of 13650 users have no sampled items\n",
      "Warning: 2 (0.01 %) of 13650 users have no sampled items\n"
     ]
    }
   ],
   "source": [
    "URMs_train = []\n",
    "URMs_validation = []\n",
    "\n",
    "for k in range(2):\n",
    "    URM_train, URM_validation = split_train_in_two_percentage_global_sample(URM_all, train_percentage=0.80)\n",
    "    URMs_train.append(URM_train)\n",
    "    URMs_validation.append(URM_validation)"
   ]
  },
  {
   "cell_type": "code",
   "execution_count": 46,
   "metadata": {},
   "outputs": [],
   "source": [
    "evaluator_validation = K_Fold_Evaluator_MAP(URMs_validation, cutoff_list=[10], verbose=False)\n",
    "\n",
    "ICMs_combined = []\n",
    "for URM in URMs_train:\n",
    "    ICMs_combined.append(combine(ICM=ICM_all, URM=URM))"
   ]
  },
  {
   "cell_type": "code",
   "execution_count": 47,
   "metadata": {},
   "outputs": [
    {
     "name": "stderr",
     "output_type": "stream",
     "text": [
      "100%|██████████| 43/43 [05:11<00:00,  7.25s/it]\n",
      "100%|██████████| 43/43 [04:18<00:00,  6.00s/it]\n"
     ]
    },
    {
     "name": "stdout",
     "output_type": "stream",
     "text": [
      "|   iter    |  target   | hybrid... | hybrid... |\n",
      "-------------------------------------------------\n"
     ]
    },
    {
     "ename": "IndexError",
     "evalue": "list index out of range",
     "output_type": "error",
     "traceback": [
      "\u001b[0;31m---------------------------------------------------------------------------\u001b[0m",
      "\u001b[0;31mKeyError\u001b[0m                                  Traceback (most recent call last)",
      "\u001b[0;32m~/miniforge3/lib/python3.9/site-packages/bayes_opt/target_space.py\u001b[0m in \u001b[0;36mprobe\u001b[0;34m(self, params)\u001b[0m\n\u001b[1;32m    190\u001b[0m         \u001b[0;32mtry\u001b[0m\u001b[0;34m:\u001b[0m\u001b[0;34m\u001b[0m\u001b[0;34m\u001b[0m\u001b[0m\n\u001b[0;32m--> 191\u001b[0;31m             \u001b[0mtarget\u001b[0m \u001b[0;34m=\u001b[0m \u001b[0mself\u001b[0m\u001b[0;34m.\u001b[0m\u001b[0m_cache\u001b[0m\u001b[0;34m[\u001b[0m\u001b[0m_hashable\u001b[0m\u001b[0;34m(\u001b[0m\u001b[0mx\u001b[0m\u001b[0;34m)\u001b[0m\u001b[0;34m]\u001b[0m\u001b[0;34m\u001b[0m\u001b[0;34m\u001b[0m\u001b[0m\n\u001b[0m\u001b[1;32m    192\u001b[0m         \u001b[0;32mexcept\u001b[0m \u001b[0mKeyError\u001b[0m\u001b[0;34m:\u001b[0m\u001b[0;34m\u001b[0m\u001b[0;34m\u001b[0m\u001b[0m\n",
      "\u001b[0;31mKeyError\u001b[0m: (0.22199317108973948, 0.8707323061773764)",
      "\nDuring handling of the above exception, another exception occurred:\n",
      "\u001b[0;31mIndexError\u001b[0m                                Traceback (most recent call last)",
      "\u001b[0;32m/var/folders/jh/1p6pr_n9211b_s8qr8gkyx600000gn/T/ipykernel_2357/2564564248.py\u001b[0m in \u001b[0;36m<module>\u001b[0;34m\u001b[0m\n\u001b[1;32m    104\u001b[0m )\n\u001b[1;32m    105\u001b[0m \u001b[0;34m\u001b[0m\u001b[0m\n\u001b[0;32m--> 106\u001b[0;31m optimizer.maximize(\n\u001b[0m\u001b[1;32m    107\u001b[0m     \u001b[0minit_points\u001b[0m\u001b[0;34m=\u001b[0m\u001b[0;36m30\u001b[0m\u001b[0;34m,\u001b[0m\u001b[0;34m\u001b[0m\u001b[0;34m\u001b[0m\u001b[0m\n\u001b[1;32m    108\u001b[0m     \u001b[0mn_iter\u001b[0m\u001b[0;34m=\u001b[0m\u001b[0;36m50\u001b[0m\u001b[0;34m,\u001b[0m\u001b[0;34m\u001b[0m\u001b[0;34m\u001b[0m\u001b[0m\n",
      "\u001b[0;32m~/miniforge3/lib/python3.9/site-packages/bayes_opt/bayesian_optimization.py\u001b[0m in \u001b[0;36mmaximize\u001b[0;34m(self, init_points, n_iter, acq, kappa, kappa_decay, kappa_decay_delay, xi, **gp_params)\u001b[0m\n\u001b[1;32m    183\u001b[0m                 \u001b[0miteration\u001b[0m \u001b[0;34m+=\u001b[0m \u001b[0;36m1\u001b[0m\u001b[0;34m\u001b[0m\u001b[0;34m\u001b[0m\u001b[0m\n\u001b[1;32m    184\u001b[0m \u001b[0;34m\u001b[0m\u001b[0m\n\u001b[0;32m--> 185\u001b[0;31m             \u001b[0mself\u001b[0m\u001b[0;34m.\u001b[0m\u001b[0mprobe\u001b[0m\u001b[0;34m(\u001b[0m\u001b[0mx_probe\u001b[0m\u001b[0;34m,\u001b[0m \u001b[0mlazy\u001b[0m\u001b[0;34m=\u001b[0m\u001b[0;32mFalse\u001b[0m\u001b[0;34m)\u001b[0m\u001b[0;34m\u001b[0m\u001b[0;34m\u001b[0m\u001b[0m\n\u001b[0m\u001b[1;32m    186\u001b[0m \u001b[0;34m\u001b[0m\u001b[0m\n\u001b[1;32m    187\u001b[0m             \u001b[0;32mif\u001b[0m \u001b[0mself\u001b[0m\u001b[0;34m.\u001b[0m\u001b[0m_bounds_transformer\u001b[0m\u001b[0;34m:\u001b[0m\u001b[0;34m\u001b[0m\u001b[0;34m\u001b[0m\u001b[0m\n",
      "\u001b[0;32m~/miniforge3/lib/python3.9/site-packages/bayes_opt/bayesian_optimization.py\u001b[0m in \u001b[0;36mprobe\u001b[0;34m(self, params, lazy)\u001b[0m\n\u001b[1;32m    114\u001b[0m             \u001b[0mself\u001b[0m\u001b[0;34m.\u001b[0m\u001b[0m_queue\u001b[0m\u001b[0;34m.\u001b[0m\u001b[0madd\u001b[0m\u001b[0;34m(\u001b[0m\u001b[0mparams\u001b[0m\u001b[0;34m)\u001b[0m\u001b[0;34m\u001b[0m\u001b[0;34m\u001b[0m\u001b[0m\n\u001b[1;32m    115\u001b[0m         \u001b[0;32melse\u001b[0m\u001b[0;34m:\u001b[0m\u001b[0;34m\u001b[0m\u001b[0;34m\u001b[0m\u001b[0m\n\u001b[0;32m--> 116\u001b[0;31m             \u001b[0mself\u001b[0m\u001b[0;34m.\u001b[0m\u001b[0m_space\u001b[0m\u001b[0;34m.\u001b[0m\u001b[0mprobe\u001b[0m\u001b[0;34m(\u001b[0m\u001b[0mparams\u001b[0m\u001b[0;34m)\u001b[0m\u001b[0;34m\u001b[0m\u001b[0;34m\u001b[0m\u001b[0m\n\u001b[0m\u001b[1;32m    117\u001b[0m             \u001b[0mself\u001b[0m\u001b[0;34m.\u001b[0m\u001b[0mdispatch\u001b[0m\u001b[0;34m(\u001b[0m\u001b[0mEvents\u001b[0m\u001b[0;34m.\u001b[0m\u001b[0mOPTIMIZATION_STEP\u001b[0m\u001b[0;34m)\u001b[0m\u001b[0;34m\u001b[0m\u001b[0;34m\u001b[0m\u001b[0m\n\u001b[1;32m    118\u001b[0m \u001b[0;34m\u001b[0m\u001b[0m\n",
      "\u001b[0;32m~/miniforge3/lib/python3.9/site-packages/bayes_opt/target_space.py\u001b[0m in \u001b[0;36mprobe\u001b[0;34m(self, params)\u001b[0m\n\u001b[1;32m    192\u001b[0m         \u001b[0;32mexcept\u001b[0m \u001b[0mKeyError\u001b[0m\u001b[0;34m:\u001b[0m\u001b[0;34m\u001b[0m\u001b[0;34m\u001b[0m\u001b[0m\n\u001b[1;32m    193\u001b[0m             \u001b[0mparams\u001b[0m \u001b[0;34m=\u001b[0m \u001b[0mdict\u001b[0m\u001b[0;34m(\u001b[0m\u001b[0mzip\u001b[0m\u001b[0;34m(\u001b[0m\u001b[0mself\u001b[0m\u001b[0;34m.\u001b[0m\u001b[0m_keys\u001b[0m\u001b[0;34m,\u001b[0m \u001b[0mx\u001b[0m\u001b[0;34m)\u001b[0m\u001b[0;34m)\u001b[0m\u001b[0;34m\u001b[0m\u001b[0;34m\u001b[0m\u001b[0m\n\u001b[0;32m--> 194\u001b[0;31m             \u001b[0mtarget\u001b[0m \u001b[0;34m=\u001b[0m \u001b[0mself\u001b[0m\u001b[0;34m.\u001b[0m\u001b[0mtarget_func\u001b[0m\u001b[0;34m(\u001b[0m\u001b[0;34m**\u001b[0m\u001b[0mparams\u001b[0m\u001b[0;34m)\u001b[0m\u001b[0;34m\u001b[0m\u001b[0;34m\u001b[0m\u001b[0m\n\u001b[0m\u001b[1;32m    195\u001b[0m             \u001b[0mself\u001b[0m\u001b[0;34m.\u001b[0m\u001b[0mregister\u001b[0m\u001b[0;34m(\u001b[0m\u001b[0mx\u001b[0m\u001b[0;34m,\u001b[0m \u001b[0mtarget\u001b[0m\u001b[0;34m)\u001b[0m\u001b[0;34m\u001b[0m\u001b[0;34m\u001b[0m\u001b[0m\n\u001b[1;32m    196\u001b[0m         \u001b[0;32mreturn\u001b[0m \u001b[0mtarget\u001b[0m\u001b[0;34m\u001b[0m\u001b[0;34m\u001b[0m\u001b[0m\n",
      "\u001b[0;32m/var/folders/jh/1p6pr_n9211b_s8qr8gkyx600000gn/T/ipykernel_2357/2564564248.py\u001b[0m in \u001b[0;36mBO_func\u001b[0;34m(hybridWeight1, hybridWeight2)\u001b[0m\n\u001b[1;32m     76\u001b[0m                 \u001b[0mIALS_recommenders\u001b[0m\u001b[0;34m[\u001b[0m\u001b[0mindex\u001b[0m\u001b[0;34m]\u001b[0m\u001b[0;34m,\u001b[0m\u001b[0;34m\u001b[0m\u001b[0;34m\u001b[0m\u001b[0m\n\u001b[1;32m     77\u001b[0m                 \u001b[0mrp3betaCBF_recommenders\u001b[0m\u001b[0;34m[\u001b[0m\u001b[0mindex\u001b[0m\u001b[0;34m]\u001b[0m\u001b[0;34m,\u001b[0m\u001b[0;34m\u001b[0m\u001b[0;34m\u001b[0m\u001b[0m\n\u001b[0;32m---> 78\u001b[0;31m                 \u001b[0muserRP3beta_recommenders\u001b[0m\u001b[0;34m[\u001b[0m\u001b[0mindex\u001b[0m\u001b[0;34m]\u001b[0m\u001b[0;34m\u001b[0m\u001b[0;34m\u001b[0m\u001b[0m\n\u001b[0m\u001b[1;32m     79\u001b[0m             ],\n\u001b[1;32m     80\u001b[0m             \u001b[0mverbose\u001b[0m\u001b[0;34m=\u001b[0m\u001b[0;32mFalse\u001b[0m\u001b[0;34m\u001b[0m\u001b[0;34m\u001b[0m\u001b[0m\n",
      "\u001b[0;31mIndexError\u001b[0m: list index out of range"
     ]
    }
   ],
   "source": [
    "IALS_recommenders = []\n",
    "rp3betaCBF_recommenders = []\n",
    "userRP3beta_recommenders = []\n",
    "\n",
    "for index in range(len(URMs_train)):\n",
    "    IALS_recommenders.append(\n",
    "        FeatureCombinedImplicitALSRecommender(\n",
    "            URM_train=URMs_train[index],\n",
    "            ICM_train=ICM_all,\n",
    "            verbose=True\n",
    "        )\n",
    "    )\n",
    "    IALS_recommenders[index].fit(\n",
    "        factors=int(250),\n",
    "        regularization=0.01,\n",
    "        use_gpu=False,\n",
    "        iterations=43,\n",
    "        num_threads=4,\n",
    "        confidence_scaling=linear_scaling_confidence,\n",
    "        **{\n",
    "            'URM': {\"alpha\": 50},\n",
    "            'ICM': {\"alpha\": 50}\n",
    "        }\n",
    "    )\n",
    "\n",
    "    rp3betaCBF_recommenders.append(\n",
    "        RP3betaCBFRecommender(\n",
    "            URM_train=URMs_train[index],\n",
    "            ICM_train=ICMs_combined[index],\n",
    "            verbose=False\n",
    "        )\n",
    "    )\n",
    "\n",
    "    rp3betaCBF_recommenders[index].fit(\n",
    "        topK=int(529.1628484087545),\n",
    "        alpha=0.45304737831676245,\n",
    "        beta=0.226647894170121,\n",
    "        implicit=False\n",
    "    )\n",
    "\n",
    "    # userRP3beta_recommenders.append(\n",
    "    #     UserRP3betaRecommender(\n",
    "    #         URM_train=ICMs_combined[index].T,\n",
    "    #         verbose=False\n",
    "    #     )\n",
    "    # )\n",
    "\n",
    "    # userRP3beta_recommenders[index].fit(\n",
    "    #     topK=int(252.2),\n",
    "    #     alpha=0.2658,\n",
    "    #     beta=0.2847,\n",
    "    #     implicit=False\n",
    "    # )\n",
    "\n",
    "tuning_params = {\n",
    "    \"hybridWeight1\": (0, 1),\n",
    "    \"hybridWeight2\": (0, 1)\n",
    "    #\"hybridWeight3\": (0, 1)\n",
    "}\n",
    "\n",
    "results = []\n",
    "\n",
    "\n",
    "def BO_func(\n",
    "        hybridWeight1,\n",
    "        hybridWeight2\n",
    "        #hybridWeight3\n",
    "):\n",
    "    recommenders = []\n",
    "\n",
    "    for index in range(len(URMs_train)):\n",
    "\n",
    "        recommender = GeneralizedMergedHybridRecommender(\n",
    "            URM_train=URMs_train[index],\n",
    "            recommenders=[\n",
    "                IALS_recommenders[index],\n",
    "                rp3betaCBF_recommenders[index],\n",
    "                userRP3beta_recommenders[index]\n",
    "            ],\n",
    "            verbose=False\n",
    "        )\n",
    "\n",
    "        totalWeight = hybridWeight1+hybridWeight2#+hybridWeight3\n",
    "        recommender.fit(\n",
    "            alphas=[\n",
    "                hybridWeight1/totalWeight,\n",
    "                hybridWeight2/totalWeight\n",
    "                #hybridWeight3/totalWeight\n",
    "            ]\n",
    "        )\n",
    "\n",
    "        recommenders.append(recommender)\n",
    "\n",
    "    result = evaluator_validation.evaluateRecommender(recommenders)\n",
    "    results.append(result)\n",
    "    return sum(result) / len(result)\n",
    "\n",
    "\n",
    "optimizer = BayesianOptimization(\n",
    "    f=BO_func,\n",
    "    pbounds=tuning_params,\n",
    "    verbose=5,\n",
    "    random_state=5,\n",
    ")\n",
    "\n",
    "optimizer.maximize(\n",
    "    init_points=30,\n",
    "    n_iter=50,\n",
    ")\n",
    "\n",
    "recommender = GeneralizedMergedHybridRecommender(\n",
    "            URM_train=URMs_train[0],\n",
    "            recommenders=[\n",
    "                IALS_recommenders[0],\n",
    "                rp3betaCBF_recommenders[0]\n",
    "                #userRP3beta_recommenders[0]\n",
    "            ],\n",
    "            verbose=False\n",
    "        )\n",
    "recommender.fit()"
   ]
  },
  {
   "cell_type": "code",
   "execution_count": null,
   "metadata": {},
   "outputs": [],
   "source": [
    "\n",
    "# p3alpha_recommender = P3alphaRecommender(\n",
    "#     URM_train=URM_all,\n",
    "#     verbose=False\n",
    "# )\n",
    "#\n",
    "# p3alpha_recommender.fit(\n",
    "#     topK=int(212.8832860130684),\n",
    "#     alpha=0.4729294763382114,\n",
    "#     implicit=True\n",
    "# )\n"
   ]
  },
  {
   "cell_type": "code",
   "execution_count": null,
   "metadata": {},
   "outputs": [],
   "source": [
    "# RP3 BETA (Combined) -----------------------------------------\n",
    "\n",
    "# rp3betaCombined_recommender= RP3betaCBFRecommender(\n",
    "#     URM_train=URM_all,\n",
    "#     ICM_train=ICM_combined,\n",
    "#     verbose=False\n",
    "# )\n",
    "\n",
    "# rp3betaCombined_recommender.fit(\n",
    "#     topK=int(529.1628484087545),\n",
    "#     alpha=0.45304737831676245,\n",
    "#     beta=0.226647894170121,\n",
    "#     implicit=True\n",
    "# )"
   ]
  },
  {
   "cell_type": "code",
   "execution_count": null,
   "metadata": {},
   "outputs": [
    {
     "name": "stdout",
     "output_type": "stream",
     "text": [
      "env: OPENBLAS_NUM_THREADS=1\n"
     ]
    }
   ],
   "source": [
    "%env OPENBLAS_NUM_THREADS=1"
   ]
  },
  {
   "cell_type": "code",
   "execution_count": null,
   "metadata": {},
   "outputs": [],
   "source": [
    "# IALS -----------------------------------------\n",
    "\n",
    "# IALS_recommender= FeatureCombinedImplicitALSRecommender(\n",
    "#     URM_train=URM_all,\n",
    "#     ICM_train=ICM_all,\n",
    "#     verbose=True\n",
    "# )\n",
    "\n",
    "# IALS_recommender.fit(\n",
    "#     factors=int(398.601583855084),\n",
    "#     regularization=0.01,\n",
    "#     use_gpu=False,\n",
    "#     iterations=int(94.22855449116447),\n",
    "#     num_threads=6,\n",
    "#     confidence_scaling=linear_scaling_confidence,\n",
    "#     **{\n",
    "#         'URM': {\"alpha\": 42.07374324671451},\n",
    "#         'ICM': {\"alpha\": 41.72067133975204}\n",
    "#     }\n",
    "# )\n"
   ]
  },
  {
   "cell_type": "code",
   "execution_count": null,
   "metadata": {},
   "outputs": [],
   "source": [
    "# SLIM -----------------------------------------    \n",
    "\n",
    "# SLIM_recommender = MultiThreadSLIM_ElasticNet(\n",
    "#         URM_train=ICM_combined.T,\n",
    "#         verbose=False\n",
    "#     )\n",
    "\n",
    "# SLIM_recommender.fit(\n",
    "#     alpha=0.00026894910579512645,\n",
    "#     l1_ratio=0.08074126876487486,\n",
    "#     topK=int(395.376118479588),\n",
    "#     workers=6\n",
    "# )\n",
    "\n",
    "# SLIM_recommender.URM_train = URM_all"
   ]
  },
  {
   "cell_type": "code",
   "execution_count": null,
   "metadata": {},
   "outputs": [],
   "source": [
    "# OTHER STUFF ----------------------------------\n",
    "\n",
    "# rp3betaCBF_recommender= RP3betaCBFRecommender(\n",
    "#     URM_train=URM_all,\n",
    "#     ICM_train=ICM_all,\n",
    "#     verbose=False\n",
    "# )\n",
    "#\n",
    "# rp3betaCBF_recommender.fit(\n",
    "#     topK=int(117.1),\n",
    "#     alpha=0.9882,\n",
    "#     beta=0.7703,\n",
    "#     implicit=False\n",
    "# )\n",
    "\n",
    "# itemKNN_recommender= ItemKNNCFRecommender(\n",
    "#     URM_train=URM_all,\n",
    "#     verbose=False\n",
    "# )\n",
    "#\n",
    "# itemKNN_recommender.fit(\n",
    "#     topK=100,\n",
    "#     shrink=50\n",
    "# )\n",
    "#\n",
    "# pureSVD_recommender= PureSVDItemRecommender(\n",
    "#     URM_train=URM_all,\n",
    "#     verbose=False\n",
    "# )\n",
    "#\n",
    "#\n",
    "# pureSVD_recommender.fit(\n",
    "#     num_factors=772,\n",
    "#     topK= 599\n",
    "# )"
   ]
  },
  {
   "cell_type": "code",
   "execution_count": null,
   "metadata": {},
   "outputs": [],
   "source": [
    "# Generalized Merged Hybrid -----------------------------------------\n",
    "\n",
    "# recommender = GeneralizedMergedHybridRecommender(\n",
    "#     URM_train=URM_all,\n",
    "#     recommenders=[\n",
    "#         IALS_recommender,\n",
    "#         rp3betaCombined_recommender\n",
    "#         #SLIM_recommender\n",
    "#     ],\n",
    "#     verbose=False\n",
    "# )"
   ]
  },
  {
   "cell_type": "code",
   "execution_count": null,
   "metadata": {},
   "outputs": [],
   "source": [
    "\n",
    "# recommender.fit(\n",
    "#     alphas=[\n",
    "#         0.6836750866517823,\n",
    "#         0.45969038157844144,\n",
    "#         #0.2723405593515382\n",
    "#     ]\n",
    "# )"
   ]
  },
  {
   "cell_type": "code",
   "execution_count": null,
   "metadata": {},
   "outputs": [],
   "source": [
    "# write_submission(recommender=recommender, target_users_path=\"input/data_target_users_test.csv\",\n",
    "#                     out_path='output/{}_submission.csv'.format(recommender.RECOMMENDER_NAME))"
   ]
  }
 ],
 "metadata": {
  "interpreter": {
   "hash": "132c138808ab9756e2bef2b134cfc077b14fd347b0b11605502e12e9dfc3f6d2"
  },
  "kernelspec": {
   "display_name": "Python 3.9.7 64-bit ('base': conda)",
   "language": "python",
   "name": "python3"
  },
  "language_info": {
   "codemirror_mode": {
    "name": "ipython",
    "version": 3
   },
   "file_extension": ".py",
   "mimetype": "text/x-python",
   "name": "python",
   "nbconvert_exporter": "python",
   "pygments_lexer": "ipython3",
   "version": "3.9.7"
  },
  "orig_nbformat": 4
 },
 "nbformat": 4,
 "nbformat_minor": 2
}
