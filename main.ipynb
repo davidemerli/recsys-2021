{
 "cells": [
  {
   "cell_type": "code",
   "execution_count": 1,
   "metadata": {},
   "outputs": [
    {
     "name": "stdout",
     "output_type": "stream",
     "text": [
      "env: OPENBLAS_NUM_THREADS=1\n"
     ]
    }
   ],
   "source": [
    "# from Recommenders.Hybrid.SimilarityMergedHybridRecommender import SimilarityMergedHybridRecommender\n",
    "# from src.GraphBased.P3alphaRecommender import P3alphaRecommender\n",
    "from Recommenders.GraphBased.RP3betaCBFRecommender import RP3betaCBFRecommender\n",
    "from Recommenders.KNN.ItemKNNCFRecommender import ItemKNNCFRecommender\n",
    "from Recommenders.MatrixFactorization.PureSVDRecommender import PureSVDItemRecommender\n",
    "from Recommenders.Hybrid.GeneralizedMergedHybridRecommender import (\n",
    "    GeneralizedMergedHybridRecommender,\n",
    ")\n",
    "from Recommenders.SLIM.SLIMElasticNetRecommender import MultiThreadSLIM_ElasticNet\n",
    "from Recommenders.Implicit.FeatureCombinedImplicitALSRecommender import (\n",
    "    FeatureCombinedImplicitALSRecommender,\n",
    ")\n",
    "from Recommenders.Hybrid.GeneralizedSimilarityMergedHybridRecommender import (\n",
    "    GeneralizedSimilarityMergedHybridRecommender,\n",
    ")\n",
    "from Utils.ICM_preprocessing import *\n",
    "from Utils.data_loader import load_URM, load_ICM\n",
    "from Utils.confidence_scaling import *\n",
    "from Utils.write_submission import write_submission\n",
    "from Data_manager.split_functions.split_train_validation_random_holdout import (\n",
    "    split_train_in_two_percentage_global_sample,\n",
    ")\n",
    "from Evaluation.K_Fold_Evaluator import K_Fold_Evaluator_MAP\n",
    "from bayes_opt import BayesianOptimization\n",
    "\n",
    "%env OPENBLAS_NUM_THREADS=1\n"
   ]
  },
  {
   "cell_type": "code",
   "execution_count": 2,
   "metadata": {},
   "outputs": [],
   "source": [
    "URM_all = load_URM(\"input/data_train.csv\")\n",
    "ICM_all = load_ICM(\"input/data_ICM_channel.csv\")\n",
    "\n",
    "# ICM_combined = combine(ICM=ICM_all, URM = URM_all)\n"
   ]
  },
  {
   "cell_type": "code",
   "execution_count": 3,
   "metadata": {},
   "outputs": [
    {
     "name": "stdout",
     "output_type": "stream",
     "text": [
      "Warning: 2 (0.01 %) of 13650 users have no sampled items\n",
      "Warning: 7 (0.05 %) of 13650 users have no sampled items\n",
      "Warning: 4 (0.03 %) of 13650 users have no sampled items\n",
      "Warning: 4 (0.03 %) of 13650 users have no sampled items\n",
      "Warning: 5 (0.04 %) of 13650 users have no sampled items\n"
     ]
    }
   ],
   "source": [
    "URMs_train = []\n",
    "URMs_validation = []\n",
    "\n",
    "for k in range(5):\n",
    "    URM_train, URM_validation = split_train_in_two_percentage_global_sample(\n",
    "        URM_all, train_percentage=0.80\n",
    "    )\n",
    "    URMs_train.append(URM_train)\n",
    "    URMs_validation.append(URM_validation)\n"
   ]
  },
  {
   "cell_type": "code",
   "execution_count": 4,
   "metadata": {},
   "outputs": [],
   "source": [
    "evaluator_validation = K_Fold_Evaluator_MAP(\n",
    "    URMs_validation, cutoff_list=[10], verbose=False\n",
    ")\n",
    "\n",
    "ICMs_combined = []\n",
    "for URM in URMs_train:\n",
    "    ICMs_combined.append(combine(ICM=ICM_all, URM=URM))\n"
   ]
  },
  {
   "cell_type": "code",
   "execution_count": 5,
   "metadata": {},
   "outputs": [
    {
     "name": "stderr",
     "output_type": "stream",
     "text": [
      "100%|██████████| 94/94 [14:36<00:00,  9.33s/it]\n",
      "100%|██████████| 94/94 [15:28<00:00,  9.87s/it]\n"
     ]
    },
    {
     "name": "stdout",
     "output_type": "stream",
     "text": [
      "FeatureCombinedImplicitALSRecommender: URM Detected 2 ( 0.0%) items with no interactions.\n"
     ]
    },
    {
     "name": "stderr",
     "output_type": "stream",
     "text": [
      "100%|██████████| 94/94 [16:25<00:00, 10.49s/it]\n",
      " 19%|█▉        | 18/94 [03:33<15:02, 11.87s/it]\n"
     ]
    },
    {
     "ename": "KeyboardInterrupt",
     "evalue": "",
     "output_type": "error",
     "traceback": [
      "\u001b[0;31m---------------------------------------------------------------------------\u001b[0m",
      "\u001b[0;31mKeyboardInterrupt\u001b[0m                         Traceback (most recent call last)",
      "\u001b[0;32m/var/folders/jh/1p6pr_n9211b_s8qr8gkyx600000gn/T/ipykernel_5151/783463990.py\u001b[0m in \u001b[0;36m<module>\u001b[0;34m\u001b[0m\n\u001b[1;32m     12\u001b[0m \u001b[0;34m\u001b[0m\u001b[0m\n\u001b[1;32m     13\u001b[0m     \u001b[0;31m# TODO: train this again by itself\u001b[0m\u001b[0;34m\u001b[0m\u001b[0;34m\u001b[0m\u001b[0m\n\u001b[0;32m---> 14\u001b[0;31m     IALS_recommenders[index].fit(\n\u001b[0m\u001b[1;32m     15\u001b[0m         \u001b[0mfactors\u001b[0m\u001b[0;34m=\u001b[0m\u001b[0mint\u001b[0m\u001b[0;34m(\u001b[0m\u001b[0;36m398.601583855084\u001b[0m\u001b[0;34m)\u001b[0m\u001b[0;34m,\u001b[0m\u001b[0;34m\u001b[0m\u001b[0;34m\u001b[0m\u001b[0m\n\u001b[1;32m     16\u001b[0m         \u001b[0mregularization\u001b[0m\u001b[0;34m=\u001b[0m\u001b[0;36m0.01\u001b[0m\u001b[0;34m,\u001b[0m\u001b[0;34m\u001b[0m\u001b[0;34m\u001b[0m\u001b[0m\n",
      "\u001b[0;32m~/Development/GitHub/recsys-2021/Recommenders/Implicit/FeatureCombinedImplicitALSRecommender.py\u001b[0m in \u001b[0;36mfit\u001b[0;34m(self, factors, regularization, use_native, use_cg, use_gpu, iterations, calculate_training_loss, num_threads, confidence_scaling, **confidence_args)\u001b[0m\n\u001b[1;32m     29\u001b[0m                                                         num_threads=num_threads)\n\u001b[1;32m     30\u001b[0m \u001b[0;34m\u001b[0m\u001b[0m\n\u001b[0;32m---> 31\u001b[0;31m         self.rec.fit(\n\u001b[0m\u001b[1;32m     32\u001b[0m             combine(\n\u001b[1;32m     33\u001b[0m                 confidence_scaling(\n",
      "\u001b[0;32m~/miniforge3/lib/python3.9/site-packages/implicit/cpu/als.py\u001b[0m in \u001b[0;36mfit\u001b[0;34m(self, item_users, show_progress)\u001b[0m\n\u001b[1;32m    159\u001b[0m             \u001b[0;32mfor\u001b[0m \u001b[0miteration\u001b[0m \u001b[0;32min\u001b[0m \u001b[0mrange\u001b[0m\u001b[0;34m(\u001b[0m\u001b[0mself\u001b[0m\u001b[0;34m.\u001b[0m\u001b[0miterations\u001b[0m\u001b[0;34m)\u001b[0m\u001b[0;34m:\u001b[0m\u001b[0;34m\u001b[0m\u001b[0;34m\u001b[0m\u001b[0m\n\u001b[1;32m    160\u001b[0m                 \u001b[0ms\u001b[0m \u001b[0;34m=\u001b[0m \u001b[0mtime\u001b[0m\u001b[0;34m.\u001b[0m\u001b[0mtime\u001b[0m\u001b[0;34m(\u001b[0m\u001b[0;34m)\u001b[0m\u001b[0;34m\u001b[0m\u001b[0;34m\u001b[0m\u001b[0m\n\u001b[0;32m--> 161\u001b[0;31m                 solver(\n\u001b[0m\u001b[1;32m    162\u001b[0m                     \u001b[0mCui\u001b[0m\u001b[0;34m,\u001b[0m\u001b[0;34m\u001b[0m\u001b[0;34m\u001b[0m\u001b[0m\n\u001b[1;32m    163\u001b[0m                     \u001b[0mself\u001b[0m\u001b[0;34m.\u001b[0m\u001b[0muser_factors\u001b[0m\u001b[0;34m,\u001b[0m\u001b[0;34m\u001b[0m\u001b[0;34m\u001b[0m\u001b[0m\n",
      "\u001b[0;31mKeyboardInterrupt\u001b[0m: "
     ]
    }
   ],
   "source": [
    "IALS_recommenders = []\n",
    "rp3betaCBF_recommenders = []\n",
    "#userRP3beta_recommenders = []\n",
    "itemKNN_recommenders = []\n",
    "\n",
    "for index in range(len(URMs_train)):\n",
    "    IALS_recommenders.append(\n",
    "        FeatureCombinedImplicitALSRecommender(\n",
    "            URM_train=URMs_train[index], ICM_train=ICM_all, verbose=True\n",
    "        )\n",
    "    )\n",
    "\n",
    "    # TODO: train this again by itself\n",
    "    IALS_recommenders[index].fit(\n",
    "        factors=int(398.601583855084),\n",
    "        regularization=0.01,\n",
    "        use_gpu=False,\n",
    "        iterations=int(94.22855449116447),\n",
    "        num_threads=6,\n",
    "        confidence_scaling=linear_scaling_confidence,\n",
    "        **{\n",
    "            \"URM\": {\"alpha\": 42.07374324671451}, \n",
    "            \"ICM\": {\"alpha\": 41.72067133975204}}\n",
    "    )\n",
    "\n",
    "\n",
    "    rp3betaCBF_recommenders.append(\n",
    "        RP3betaCBFRecommender(\n",
    "            URM_train=URMs_train[index], ICM_train=ICMs_combined[index], verbose=False\n",
    "        )\n",
    "    )\n",
    "\n",
    "    # TODO: train this again by itself\n",
    "    rp3betaCBF_recommenders[index].fit(\n",
    "        topK=int(529.1628484087545),\n",
    "        alpha=0.45304737831676245,\n",
    "        beta=0.226647894170121,\n",
    "        implicit=True,\n",
    "    )\n",
    "\n",
    "\n",
    "    # userRP3beta_recommenders.append(\n",
    "    #     UserRP3betaRecommender(\n",
    "    #         URM_train=ICMs_combined[index].T,\n",
    "    #         verbose=False\n",
    "    #     )\n",
    "    # )\n",
    "\n",
    "    # userRP3beta_recommenders[index].fit(\n",
    "    #     topK=int(252.2),\n",
    "    #     alpha=0.2658,\n",
    "    #     beta=0.2847,\n",
    "    #     implicit=False\n",
    "    # )\n",
    "\n",
    "\n",
    "\n",
    "    # itemKNN_recommenders.append(\n",
    "    #     ItemKNNCFRecommender(\n",
    "    #         URM_train=URMs_train[index],\n",
    "    #         verbose=False\n",
    "    #     )\n",
    "    # )\n",
    "    \n",
    "    # itemKNN_recommenders[index ].fit(\n",
    "    #     topK=700,\n",
    "    #     shrink=0\n",
    "    # )\n",
    "\n"
   ]
  },
  {
   "cell_type": "markdown",
   "metadata": {},
   "source": [
    "## Tuning hybrid weights"
   ]
  },
  {
   "cell_type": "code",
   "execution_count": null,
   "metadata": {},
   "outputs": [],
   "source": [
    "tuning_params = {\n",
    "    \"hybridWeight1\":  (0, 1),\n",
    "    \"hybridWeight2\":  (0, 1)\n",
    "    #\"hybridWeight3\": (0, 1)\n",
    "}\n",
    "\n",
    "results = []\n",
    "\n",
    "def BO_func(\n",
    "    hybridWeight1,\n",
    "    hybridWeight2\n",
    "    #hybridWeight3\n",
    "):\n",
    "    recommenders = []\n",
    "\n",
    "    for index in range(len(URMs_train)):\n",
    "        recommender = GeneralizedMergedHybridRecommender(\n",
    "            URM_train=URMs_train[index],\n",
    "            recommenders=[\n",
    "                IALS_recommenders[index],\n",
    "                rp3betaCBF_recommenders[index],\n",
    "                # userRP3beta_recommenders[index],\n",
    "                #itemKNN_recommenders[index]\n",
    "                \n",
    "            ],\n",
    "            verbose=True,\n",
    "        )\n",
    "\n",
    "        totalWeight = hybridWeight1 + hybridWeight2  # +hybridWeight3\n",
    "        recommender.fit(\n",
    "            alphas=[\n",
    "                hybridWeight1 / totalWeight,\n",
    "                hybridWeight2 / totalWeight\n",
    "                #hybridWeight3 / totalWeight\n",
    "            ]\n",
    "        )\n",
    "\n",
    "        recommenders.append(recommender)\n",
    "\n",
    "    result = evaluator_validation.evaluateRecommender(recommenders)\n",
    "    results.append(result)\n",
    "\n",
    "    return sum(result) / len(result)"
   ]
  },
  {
   "cell_type": "code",
   "execution_count": null,
   "metadata": {},
   "outputs": [
    {
     "name": "stdout",
     "output_type": "stream",
     "text": [
      "|   iter    |  target   | hybrid... | hybrid... | hybrid... |\n",
      "-------------------------------------------------------------\n",
      "| \u001b[0m 1       \u001b[0m | \u001b[0m 0.1933  \u001b[0m | \u001b[0m 0.222   \u001b[0m | \u001b[0m 0.8707  \u001b[0m | \u001b[0m 0.2067  \u001b[0m |\n",
      "| \u001b[95m 2       \u001b[0m | \u001b[95m 0.1996  \u001b[0m | \u001b[95m 0.9186  \u001b[0m | \u001b[95m 0.4884  \u001b[0m | \u001b[95m 0.6117  \u001b[0m |\n",
      "| \u001b[0m 3       \u001b[0m | \u001b[0m 0.1962  \u001b[0m | \u001b[0m 0.7659  \u001b[0m | \u001b[0m 0.5184  \u001b[0m | \u001b[0m 0.2968  \u001b[0m |\n",
      "| \u001b[95m 4       \u001b[0m | \u001b[95m 0.2057  \u001b[0m | \u001b[95m 0.1877  \u001b[0m | \u001b[95m 0.08074 \u001b[0m | \u001b[95m 0.7384  \u001b[0m |\n",
      "| \u001b[0m 5       \u001b[0m | \u001b[0m 0.205   \u001b[0m | \u001b[0m 0.4413  \u001b[0m | \u001b[0m 0.1583  \u001b[0m | \u001b[0m 0.8799  \u001b[0m |\n",
      "| \u001b[0m 6       \u001b[0m | \u001b[0m 0.1968  \u001b[0m | \u001b[0m 0.2741  \u001b[0m | \u001b[0m 0.4142  \u001b[0m | \u001b[0m 0.2961  \u001b[0m |\n",
      "| \u001b[0m 7       \u001b[0m | \u001b[0m 0.1986  \u001b[0m | \u001b[0m 0.6288  \u001b[0m | \u001b[0m 0.5798  \u001b[0m | \u001b[0m 0.5999  \u001b[0m |\n",
      "| \u001b[0m 8       \u001b[0m | \u001b[0m 0.1978  \u001b[0m | \u001b[0m 0.2658  \u001b[0m | \u001b[0m 0.2847  \u001b[0m | \u001b[0m 0.2536  \u001b[0m |\n",
      "| \u001b[0m 9       \u001b[0m | \u001b[0m 0.1993  \u001b[0m | \u001b[0m 0.3276  \u001b[0m | \u001b[0m 0.1442  \u001b[0m | \u001b[0m 0.1656  \u001b[0m |\n",
      "| \u001b[0m 10      \u001b[0m | \u001b[0m 0.1932  \u001b[0m | \u001b[0m 0.9639  \u001b[0m | \u001b[0m 0.9602  \u001b[0m | \u001b[0m 0.1884  \u001b[0m |\n",
      "| \u001b[0m 11      \u001b[0m | \u001b[0m 0.2033  \u001b[0m | \u001b[0m 0.02431 \u001b[0m | \u001b[0m 0.2046  \u001b[0m | \u001b[0m 0.6998  \u001b[0m |\n",
      "| \u001b[95m 12      \u001b[0m | \u001b[95m 0.2074  \u001b[0m | \u001b[95m 0.7795  \u001b[0m | \u001b[95m 0.02293 \u001b[0m | \u001b[95m 0.5777  \u001b[0m |\n",
      "| \u001b[0m 13      \u001b[0m | \u001b[0m 0.1991  \u001b[0m | \u001b[0m 0.001642\u001b[0m | \u001b[0m 0.5155  \u001b[0m | \u001b[0m 0.6398  \u001b[0m |\n",
      "| \u001b[0m 14      \u001b[0m | \u001b[0m 0.2037  \u001b[0m | \u001b[0m 0.9856  \u001b[0m | \u001b[0m 0.2591  \u001b[0m | \u001b[0m 0.8025  \u001b[0m |\n",
      "| \u001b[0m 15      \u001b[0m | \u001b[0m 0.1914  \u001b[0m | \u001b[0m 0.8705  \u001b[0m | \u001b[0m 0.9227  \u001b[0m | \u001b[0m 0.002214\u001b[0m |\n",
      "| \u001b[0m 16      \u001b[0m | \u001b[0m 0.1946  \u001b[0m | \u001b[0m 0.4695  \u001b[0m | \u001b[0m 0.9815  \u001b[0m | \u001b[0m 0.3989  \u001b[0m |\n",
      "| \u001b[0m 17      \u001b[0m | \u001b[0m 0.2001  \u001b[0m | \u001b[0m 0.8137  \u001b[0m | \u001b[0m 0.5465  \u001b[0m | \u001b[0m 0.7709  \u001b[0m |\n",
      "| \u001b[0m 18      \u001b[0m | \u001b[0m 0.2054  \u001b[0m | \u001b[0m 0.4849  \u001b[0m | \u001b[0m 0.02911 \u001b[0m | \u001b[0m 0.08653 \u001b[0m |\n",
      "| \u001b[0m 19      \u001b[0m | \u001b[0m 0.2037  \u001b[0m | \u001b[0m 0.1115  \u001b[0m | \u001b[0m 0.2512  \u001b[0m | \u001b[0m 0.9649  \u001b[0m |\n",
      "| \u001b[0m 20      \u001b[0m | \u001b[0m 0.1967  \u001b[0m | \u001b[0m 0.6318  \u001b[0m | \u001b[0m 0.8167  \u001b[0m | \u001b[0m 0.5661  \u001b[0m |\n",
      "| \u001b[0m 21      \u001b[0m | \u001b[0m 0.1989  \u001b[0m | \u001b[0m 0.6354  \u001b[0m | \u001b[0m 0.8119  \u001b[0m | \u001b[0m 0.9267  \u001b[0m |\n",
      "| \u001b[0m 22      \u001b[0m | \u001b[0m 0.1926  \u001b[0m | \u001b[0m 0.9126  \u001b[0m | \u001b[0m 0.8248  \u001b[0m | \u001b[0m 0.0942  \u001b[0m |\n",
      "| \u001b[0m 23      \u001b[0m | \u001b[0m 0.2066  \u001b[0m | \u001b[0m 0.361   \u001b[0m | \u001b[0m 0.03551 \u001b[0m | \u001b[0m 0.5464  \u001b[0m |\n",
      "| \u001b[0m 24      \u001b[0m | \u001b[0m 0.2057  \u001b[0m | \u001b[0m 0.7961  \u001b[0m | \u001b[0m 0.05114 \u001b[0m | \u001b[0m 0.1887  \u001b[0m |\n",
      "| \u001b[0m 25      \u001b[0m | \u001b[0m 0.2034  \u001b[0m | \u001b[0m 0.3655  \u001b[0m | \u001b[0m 0.2443  \u001b[0m | \u001b[0m 0.7951  \u001b[0m |\n",
      "| \u001b[0m 26      \u001b[0m | \u001b[0m 0.1971  \u001b[0m | \u001b[0m 0.3521  \u001b[0m | \u001b[0m 0.6389  \u001b[0m | \u001b[0m 0.4934  \u001b[0m |\n",
      "| \u001b[0m 27      \u001b[0m | \u001b[0m 0.1983  \u001b[0m | \u001b[0m 0.5835  \u001b[0m | \u001b[0m 0.9393  \u001b[0m | \u001b[0m 0.9435  \u001b[0m |\n",
      "| \u001b[0m 28      \u001b[0m | \u001b[0m 0.1945  \u001b[0m | \u001b[0m 0.1117  \u001b[0m | \u001b[0m 0.8436  \u001b[0m | \u001b[0m 0.346   \u001b[0m |\n",
      "| \u001b[0m 29      \u001b[0m | \u001b[0m 0.1995  \u001b[0m | \u001b[0m 0.1008  \u001b[0m | \u001b[0m 0.3834  \u001b[0m | \u001b[0m 0.5104  \u001b[0m |\n",
      "| \u001b[0m 30      \u001b[0m | \u001b[0m 0.1924  \u001b[0m | \u001b[0m 0.9611  \u001b[0m | \u001b[0m 0.3715  \u001b[0m | \u001b[0m 0.01237 \u001b[0m |\n",
      "| \u001b[95m 31      \u001b[0m | \u001b[95m 0.2074  \u001b[0m | \u001b[95m 0.8459  \u001b[0m | \u001b[95m 0.0     \u001b[0m | \u001b[95m 1.0     \u001b[0m |\n",
      "| \u001b[95m 32      \u001b[0m | \u001b[95m 0.2083  \u001b[0m | \u001b[95m 0.6235  \u001b[0m | \u001b[95m 0.0     \u001b[0m | \u001b[95m 0.3499  \u001b[0m |\n"
     ]
    },
    {
     "name": "stderr",
     "output_type": "stream",
     "text": [
      "/var/folders/jh/1p6pr_n9211b_s8qr8gkyx600000gn/T/ipykernel_20542/4010531221.py:32: RuntimeWarning: invalid value encountered in double_scalars\n",
      "  hybridWeight1 / totalWeight,\n",
      "/var/folders/jh/1p6pr_n9211b_s8qr8gkyx600000gn/T/ipykernel_20542/4010531221.py:33: RuntimeWarning: invalid value encountered in double_scalars\n",
      "  hybridWeight2 / totalWeight,\n",
      "/var/folders/jh/1p6pr_n9211b_s8qr8gkyx600000gn/T/ipykernel_20542/4010531221.py:34: RuntimeWarning: divide by zero encountered in double_scalars\n",
      "  hybridWeight3 / totalWeight\n",
      "/Users/massimo/Development/GitHub/recsys-2021/Recommenders/Hybrid/GeneralizedMergedHybridRecommender.py:38: RuntimeWarning: invalid value encountered in multiply\n",
      "  result = result + self.alphas[index]*self.recommenders[index]._compute_item_score(user_id_array,items_to_compute)\n"
     ]
    },
    {
     "name": "stdout",
     "output_type": "stream",
     "text": [
      "| \u001b[0m 33      \u001b[0m | \u001b[0m 0.0     \u001b[0m | \u001b[0m 0.0     \u001b[0m | \u001b[0m 0.0     \u001b[0m | \u001b[0m 1.0     \u001b[0m |\n",
      "| \u001b[0m 34      \u001b[0m | \u001b[0m 0.1975  \u001b[0m | \u001b[0m 0.08348 \u001b[0m | \u001b[0m 0.3615  \u001b[0m | \u001b[0m 0.3084  \u001b[0m |\n",
      "| \u001b[0m 35      \u001b[0m | \u001b[0m 0.2014  \u001b[0m | \u001b[0m 0.1786  \u001b[0m | \u001b[0m 0.4914  \u001b[0m | \u001b[0m 0.9944  \u001b[0m |\n",
      "| \u001b[0m 36      \u001b[0m | \u001b[0m 0.1976  \u001b[0m | \u001b[0m 1.0     \u001b[0m | \u001b[0m 1.0     \u001b[0m | \u001b[0m 0.8387  \u001b[0m |\n",
      "| \u001b[0m 37      \u001b[0m | \u001b[0m 0.2072  \u001b[0m | \u001b[0m 0.8282  \u001b[0m | \u001b[0m 0.02142 \u001b[0m | \u001b[0m 0.9766  \u001b[0m |\n",
      "| \u001b[0m 38      \u001b[0m | \u001b[0m 0.1981  \u001b[0m | \u001b[0m 0.0     \u001b[0m | \u001b[0m 1.0     \u001b[0m | \u001b[0m 1.0     \u001b[0m |\n",
      "| \u001b[0m 39      \u001b[0m | \u001b[0m 0.2035  \u001b[0m | \u001b[0m 0.3616  \u001b[0m | \u001b[0m 0.2395  \u001b[0m | \u001b[0m 0.8083  \u001b[0m |\n",
      "| \u001b[0m 40      \u001b[0m | \u001b[0m 0.1949  \u001b[0m | \u001b[0m 0.7023  \u001b[0m | \u001b[0m 0.8651  \u001b[0m | \u001b[0m 0.3669  \u001b[0m |\n"
     ]
    },
    {
     "name": "stderr",
     "output_type": "stream",
     "text": [
      "/var/folders/jh/1p6pr_n9211b_s8qr8gkyx600000gn/T/ipykernel_20542/4010531221.py:32: RuntimeWarning: invalid value encountered in double_scalars\n",
      "  hybridWeight1 / totalWeight,\n",
      "/var/folders/jh/1p6pr_n9211b_s8qr8gkyx600000gn/T/ipykernel_20542/4010531221.py:33: RuntimeWarning: invalid value encountered in double_scalars\n",
      "  hybridWeight2 / totalWeight,\n",
      "/var/folders/jh/1p6pr_n9211b_s8qr8gkyx600000gn/T/ipykernel_20542/4010531221.py:34: RuntimeWarning: invalid value encountered in double_scalars\n",
      "  hybridWeight3 / totalWeight\n"
     ]
    },
    {
     "name": "stdout",
     "output_type": "stream",
     "text": [
      "| \u001b[0m 41      \u001b[0m | \u001b[0m 0.0     \u001b[0m | \u001b[0m 0.0     \u001b[0m | \u001b[0m 0.0     \u001b[0m | \u001b[0m 0.0     \u001b[0m |\n",
      "| \u001b[0m 42      \u001b[0m | \u001b[0m 0.1916  \u001b[0m | \u001b[0m 0.5487  \u001b[0m | \u001b[0m 0.3777  \u001b[0m | \u001b[0m 0.0     \u001b[0m |\n",
      "| \u001b[0m 43      \u001b[0m | \u001b[0m 0.1909  \u001b[0m | \u001b[0m 0.0     \u001b[0m | \u001b[0m 1.0     \u001b[0m | \u001b[0m 0.0     \u001b[0m |\n",
      "| \u001b[0m 44      \u001b[0m | \u001b[0m 0.1966  \u001b[0m | \u001b[0m 0.2103  \u001b[0m | \u001b[0m 1.0     \u001b[0m | \u001b[0m 0.7108  \u001b[0m |\n",
      "| \u001b[0m 45      \u001b[0m | \u001b[0m 0.1981  \u001b[0m | \u001b[0m 0.4093  \u001b[0m | \u001b[0m 0.6674  \u001b[0m | \u001b[0m 0.6441  \u001b[0m |\n",
      "| \u001b[95m 46      \u001b[0m | \u001b[95m 0.2086  \u001b[0m | \u001b[95m 0.9974  \u001b[0m | \u001b[95m 0.0032  \u001b[0m | \u001b[95m 0.44    \u001b[0m |\n",
      "| \u001b[0m 47      \u001b[0m | \u001b[0m 0.0955  \u001b[0m | \u001b[0m 1.0     \u001b[0m | \u001b[0m 0.0     \u001b[0m | \u001b[0m 0.0     \u001b[0m |\n",
      "| \u001b[0m 48      \u001b[0m | \u001b[0m 0.1998  \u001b[0m | \u001b[0m 0.6228  \u001b[0m | \u001b[0m 0.2424  \u001b[0m | \u001b[0m 0.3031  \u001b[0m |\n",
      "| \u001b[0m 49      \u001b[0m | \u001b[0m 0.2029  \u001b[0m | \u001b[0m 0.6638  \u001b[0m | \u001b[0m 0.3712  \u001b[0m | \u001b[0m 1.0     \u001b[0m |\n",
      "| \u001b[0m 50      \u001b[0m | \u001b[0m 0.1977  \u001b[0m | \u001b[0m 0.2576  \u001b[0m | \u001b[0m 0.2815  \u001b[0m | \u001b[0m 0.2405  \u001b[0m |\n",
      "| \u001b[0m 51      \u001b[0m | \u001b[0m 0.2005  \u001b[0m | \u001b[0m 1.0     \u001b[0m | \u001b[0m 0.6406  \u001b[0m | \u001b[0m 1.0     \u001b[0m |\n",
      "| \u001b[0m 52      \u001b[0m | \u001b[0m 0.1909  \u001b[0m | \u001b[0m 0.0     \u001b[0m | \u001b[0m 0.6371  \u001b[0m | \u001b[0m 0.0     \u001b[0m |\n",
      "| \u001b[0m 53      \u001b[0m | \u001b[0m 0.1912  \u001b[0m | \u001b[0m 0.4882  \u001b[0m | \u001b[0m 1.0     \u001b[0m | \u001b[0m 0.0     \u001b[0m |\n",
      "| \u001b[0m 54      \u001b[0m | \u001b[0m 0.2003  \u001b[0m | \u001b[0m 1.0     \u001b[0m | \u001b[0m 0.2893  \u001b[0m | \u001b[0m 0.3817  \u001b[0m |\n",
      "| \u001b[0m 55      \u001b[0m | \u001b[0m 0.1968  \u001b[0m | \u001b[0m 0.9928  \u001b[0m | \u001b[0m 0.7919  \u001b[0m | \u001b[0m 0.5369  \u001b[0m |\n",
      "| \u001b[0m 56      \u001b[0m | \u001b[0m 0.2009  \u001b[0m | \u001b[0m 0.0525  \u001b[0m | \u001b[0m 0.3481  \u001b[0m | \u001b[0m 0.6431  \u001b[0m |\n",
      "| \u001b[0m 57      \u001b[0m | \u001b[0m 0.2068  \u001b[0m | \u001b[0m 0.9223  \u001b[0m | \u001b[0m 0.06294 \u001b[0m | \u001b[0m 0.962   \u001b[0m |\n",
      "| \u001b[0m 58      \u001b[0m | \u001b[0m 0.2079  \u001b[0m | \u001b[0m 1.0     \u001b[0m | \u001b[0m 0.0     \u001b[0m | \u001b[0m 0.7166  \u001b[0m |\n",
      "| \u001b[0m 59      \u001b[0m | \u001b[0m 0.1975  \u001b[0m | \u001b[0m 9.92e-05\u001b[0m | \u001b[0m 0.836   \u001b[0m | \u001b[0m 0.7304  \u001b[0m |\n",
      "| \u001b[0m 60      \u001b[0m | \u001b[0m 0.1989  \u001b[0m | \u001b[0m 0.2924  \u001b[0m | \u001b[0m 0.8544  \u001b[0m | \u001b[0m 1.0     \u001b[0m |\n",
      "| \u001b[0m 61      \u001b[0m | \u001b[0m 0.1912  \u001b[0m | \u001b[0m 0.3842  \u001b[0m | \u001b[0m 0.6688  \u001b[0m | \u001b[0m 0.0     \u001b[0m |\n",
      "| \u001b[0m 62      \u001b[0m | \u001b[0m 0.2031  \u001b[0m | \u001b[0m 0.7009  \u001b[0m | \u001b[0m 0.2572  \u001b[0m | \u001b[0m 0.7025  \u001b[0m |\n",
      "| \u001b[0m 63      \u001b[0m | \u001b[0m 0.2013  \u001b[0m | \u001b[0m 0.002846\u001b[0m | \u001b[0m 0.4718  \u001b[0m | \u001b[0m 0.9481  \u001b[0m |\n",
      "| \u001b[0m 64      \u001b[0m | \u001b[0m 0.2073  \u001b[0m | \u001b[0m 0.5646  \u001b[0m | \u001b[0m 0.0     \u001b[0m | \u001b[0m 0.7514  \u001b[0m |\n",
      "| \u001b[0m 65      \u001b[0m | \u001b[0m 0.2032  \u001b[0m | \u001b[0m 1.0     \u001b[0m | \u001b[0m 0.3612  \u001b[0m | \u001b[0m 1.0     \u001b[0m |\n",
      "| \u001b[0m 66      \u001b[0m | \u001b[0m 0.1954  \u001b[0m | \u001b[0m 0.0     \u001b[0m | \u001b[0m 0.6081  \u001b[0m | \u001b[0m 0.324   \u001b[0m |\n",
      "| \u001b[0m 67      \u001b[0m | \u001b[0m 0.1962  \u001b[0m | \u001b[0m 0.809   \u001b[0m | \u001b[0m 1.0     \u001b[0m | \u001b[0m 0.6166  \u001b[0m |\n",
      "| \u001b[0m 68      \u001b[0m | \u001b[0m 0.1953  \u001b[0m | \u001b[0m 0.5457  \u001b[0m | \u001b[0m 0.1408  \u001b[0m | \u001b[0m 0.04595 \u001b[0m |\n",
      "| \u001b[0m 69      \u001b[0m | \u001b[0m 0.1952  \u001b[0m | \u001b[0m 0.9975  \u001b[0m | \u001b[0m 0.5987  \u001b[0m | \u001b[0m 0.256   \u001b[0m |\n",
      "| \u001b[0m 70      \u001b[0m | \u001b[0m 0.1946  \u001b[0m | \u001b[0m 0.4624  \u001b[0m | \u001b[0m 0.9791  \u001b[0m | \u001b[0m 0.3966  \u001b[0m |\n",
      "| \u001b[0m 71      \u001b[0m | \u001b[0m 0.1915  \u001b[0m | \u001b[0m 0.7615  \u001b[0m | \u001b[0m 0.596   \u001b[0m | \u001b[0m 0.0     \u001b[0m |\n",
      "| \u001b[0m 72      \u001b[0m | \u001b[0m 0.2022  \u001b[0m | \u001b[0m 0.168   \u001b[0m | \u001b[0m 0.3299  \u001b[0m | \u001b[0m 0.8119  \u001b[0m |\n",
      "| \u001b[0m 73      \u001b[0m | \u001b[0m 0.198   \u001b[0m | \u001b[0m 0.03976 \u001b[0m | \u001b[0m 0.656   \u001b[0m | \u001b[0m 0.6405  \u001b[0m |\n",
      "| \u001b[0m 74      \u001b[0m | \u001b[0m 0.2048  \u001b[0m | \u001b[0m 0.1334  \u001b[0m | \u001b[0m 0.1005  \u001b[0m | \u001b[0m 0.5289  \u001b[0m |\n",
      "| \u001b[0m 75      \u001b[0m | \u001b[0m 0.1953  \u001b[0m | \u001b[0m 0.9996  \u001b[0m | \u001b[0m 0.6061  \u001b[0m | \u001b[0m 0.2636  \u001b[0m |\n",
      "| \u001b[0m 76      \u001b[0m | \u001b[0m 0.1984  \u001b[0m | \u001b[0m 0.8805  \u001b[0m | \u001b[0m 0.9763  \u001b[0m | \u001b[0m 0.9944  \u001b[0m |\n",
      "| \u001b[0m 77      \u001b[0m | \u001b[0m 0.1951  \u001b[0m | \u001b[0m 0.0     \u001b[0m | \u001b[0m 1.0     \u001b[0m | \u001b[0m 0.4975  \u001b[0m |\n",
      "| \u001b[0m 78      \u001b[0m | \u001b[0m 0.2039  \u001b[0m | \u001b[0m 0.8241  \u001b[0m | \u001b[0m 0.1313  \u001b[0m | \u001b[0m 0.3798  \u001b[0m |\n",
      "| \u001b[0m 79      \u001b[0m | \u001b[0m 0.2003  \u001b[0m | \u001b[0m 0.4241  \u001b[0m | \u001b[0m 0.3159  \u001b[0m | \u001b[0m 0.4787  \u001b[0m |\n",
      "| \u001b[0m 80      \u001b[0m | \u001b[0m 0.2008  \u001b[0m | \u001b[0m 0.4824  \u001b[0m | \u001b[0m 0.5737  \u001b[0m | \u001b[0m 1.0     \u001b[0m |\n",
      "=============================================================\n"
     ]
    }
   ],
   "source": [
    "optimizer = BayesianOptimization(\n",
    "    f=BO_func,\n",
    "    pbounds=tuning_params,\n",
    "    verbose=5,\n",
    "    random_state=5,\n",
    ")\n",
    "\n",
    "optimizer.maximize(\n",
    "    init_points=30,\n",
    "    n_iter=50,\n",
    ")"
   ]
  },
  {
   "cell_type": "code",
   "execution_count": null,
   "metadata": {},
   "outputs": [
    {
     "name": "stdout",
     "output_type": "stream",
     "text": [
      "TARGET MAP 0.20864964141248468\n",
      "HYBRID WEIGHTS 0.9974356760093824 0.0031999638023508803 0.4400192671890031\n",
      "ALPHAS 0.6923487860711341 0.0022211868968765084 0.3054300270319894\n"
     ]
    }
   ],
   "source": [
    "best = optimizer.max\n",
    "print(\"TARGET MAP\", best[\"target\"])\n",
    "\n",
    "hw1 = best[\"params\"][\"hybridWeight1\"]\n",
    "hw2 = best[\"params\"][\"hybridWeight2\"]\n",
    "#hw3 = best[\"params\"][\"hybridWeight3\"]\n",
    "\n",
    "print(\"HYBRID WEIGHTS\", hw1, hw2, hw3)\n",
    "\n",
    "totalWeight = hw1 + hw2 #+ hw3\n",
    "totalWeight\n",
    "\n",
    "alpha1, alpha2 = hw1 / totalWeight, hw2 / totalWeight#, hw3 / totalWeight\n",
    "\n",
    "print(\"ALPHAS\", alpha1, alpha2)"
   ]
  },
  {
   "cell_type": "markdown",
   "metadata": {},
   "source": [
    "## Train final model with tuned hyperparameters"
   ]
  },
  {
   "cell_type": "code",
   "execution_count": null,
   "metadata": {},
   "outputs": [],
   "source": [
    "recommender = GeneralizedMergedHybridRecommender(\n",
    "    URM_train=URMs_train[0], # maybe we can take a better option instead of taking the first one of everything?\n",
    "    recommenders=[\n",
    "        IALS_recommenders[0],\n",
    "        rp3betaCBF_recommenders[0],\n",
    "        #itemKNN_recommenders[0]\n",
    "        # userRP3beta_recommenders[index],\n",
    "    ],\n",
    "    verbose=True,\n",
    ")\n",
    "\n",
    "recommender.fit(\n",
    "    alphas=[\n",
    "        alpha1,\n",
    "        alpha2\n",
    "        #alpha3\n",
    "    ]\n",
    ")\n"
   ]
  },
  {
   "cell_type": "code",
   "execution_count": null,
   "metadata": {},
   "outputs": [
    {
     "name": "stderr",
     "output_type": "stream",
     "text": [
      "100%|██████████| 13650/13650 [01:03<00:00, 213.95it/s]\n"
     ]
    }
   ],
   "source": [
    "write_submission(recommender=recommender, target_users_path=\"input/data_target_users_test.csv\",\n",
    "                    out_path='output/{}_submission.csv'.format(recommender.RECOMMENDER_NAME))"
   ]
  },
  {
   "cell_type": "code",
   "execution_count": null,
   "metadata": {},
   "outputs": [
    {
     "name": "stdout",
     "output_type": "stream",
     "text": [
      "output/FeatureCombinedImplicitALSRP3betaCBFItemKNNCFHybridRecommender_submission.csv\n"
     ]
    }
   ],
   "source": [
    "print('output/{}_submission.csv'.format(recommender.RECOMMENDER_NAME))"
   ]
  },
  {
   "cell_type": "code",
   "execution_count": null,
   "metadata": {},
   "outputs": [],
   "source": [
    "# p3alpha_recommender = P3alphaRecommender(\n",
    "#     URM_train=URM_all,\n",
    "#     verbose=False\n",
    "# )\n",
    "#\n",
    "# p3alpha_recommender.fit(\n",
    "#     topK=int(212.8832860130684),\n",
    "#     alpha=0.4729294763382114,\n",
    "#     implicit=True\n",
    "# )\n"
   ]
  },
  {
   "cell_type": "code",
   "execution_count": null,
   "metadata": {},
   "outputs": [],
   "source": [
    "# RP3 BETA (Combined) -----------------------------------------\n",
    "\n",
    "# rp3betaCombined_recommender= RP3betaCBFRecommender(\n",
    "#     URM_train=URM_all,\n",
    "#     ICM_train=ICM_combined,\n",
    "#     verbose=False\n",
    "# )\n",
    "\n",
    "# rp3betaCombined_recommender.fit(\n",
    "#     topK=int(529.1628484087545),\n",
    "#     alpha=0.45304737831676245,\n",
    "#     beta=0.226647894170121,\n",
    "#     implicit=True\n",
    "# )\n"
   ]
  },
  {
   "cell_type": "code",
   "execution_count": null,
   "metadata": {},
   "outputs": [],
   "source": [
    "# IALS -----------------------------------------\n",
    "\n",
    "# IALS_recommender= FeatureCombinedImplicitALSRecommender(\n",
    "#     URM_train=URM_all,\n",
    "#     ICM_train=ICM_all,\n",
    "#     verbose=True\n",
    "# )\n",
    "\n",
    "# IALS_recommender.fit(\n",
    "#     factors=int(398.601583855084),\n",
    "#     regularization=0.01,\n",
    "#     use_gpu=False,\n",
    "#     iterations=int(94.22855449116447),\n",
    "#     num_threads=6,\n",
    "#     confidence_scaling=linear_scaling_confidence,\n",
    "#     **{\n",
    "#         'URM': {\"alpha\": 42.07374324671451},\n",
    "#         'ICM': {\"alpha\": 41.72067133975204}\n",
    "#     }\n",
    "# )\n"
   ]
  },
  {
   "cell_type": "code",
   "execution_count": null,
   "metadata": {},
   "outputs": [],
   "source": [
    "# SLIM -----------------------------------------\n",
    "\n",
    "# SLIM_recommender = MultiThreadSLIM_ElasticNet(\n",
    "#         URM_train=ICM_combined.T,\n",
    "#         verbose=False\n",
    "#     )\n",
    "\n",
    "# SLIM_recommender.fit(\n",
    "#     alpha=0.00026894910579512645,\n",
    "#     l1_ratio=0.08074126876487486,\n",
    "#     topK=int(395.376118479588),\n",
    "#     workers=6\n",
    "# )\n",
    "\n",
    "# SLIM_recommender.URM_train = URM_all\n"
   ]
  },
  {
   "cell_type": "code",
   "execution_count": null,
   "metadata": {},
   "outputs": [],
   "source": [
    "# OTHER STUFF ----------------------------------\n",
    "\n",
    "# rp3betaCBF_recommender= RP3betaCBFRecommender(\n",
    "#     URM_train=URM_all,\n",
    "#     ICM_train=ICM_all,\n",
    "#     verbose=False\n",
    "# )\n",
    "#\n",
    "# rp3betaCBF_recommender.fit(\n",
    "#     topK=int(117.1),\n",
    "#     alpha=0.9882,\n",
    "#     beta=0.7703,\n",
    "#     implicit=False\n",
    "# )\n",
    "\n",
    "# itemKNN_recommender= ItemKNNCFRecommender(\n",
    "#     URM_train=URM_all,\n",
    "#     verbose=False\n",
    "# )\n",
    "#\n",
    "# itemKNN_recommender.fit(\n",
    "#     topK=100,\n",
    "#     shrink=50\n",
    "# )\n",
    "#\n",
    "# pureSVD_recommender= PureSVDItemRecommender(\n",
    "#     URM_train=URM_all,\n",
    "#     verbose=False\n",
    "# )\n",
    "#\n",
    "#\n",
    "# pureSVD_recommender.fit(\n",
    "#     num_factors=772,\n",
    "#     topK= 599\n",
    "# )\n"
   ]
  },
  {
   "cell_type": "code",
   "execution_count": null,
   "metadata": {},
   "outputs": [],
   "source": [
    "# Generalized Merged Hybrid -----------------------------------------\n",
    "\n",
    "# recommender = GeneralizedMergedHybridRecommender(\n",
    "#     URM_train=URM_all,\n",
    "#     recommenders=[\n",
    "#         IALS_recommender,\n",
    "#         rp3betaCombined_recommender\n",
    "#         #SLIM_recommender\n",
    "#     ],\n",
    "#     verbose=False\n",
    "# )\n"
   ]
  },
  {
   "cell_type": "code",
   "execution_count": null,
   "metadata": {},
   "outputs": [],
   "source": [
    "# recommender.fit(\n",
    "#     alphas=[\n",
    "#         0.6836750866517823,\n",
    "#         0.45969038157844144,\n",
    "#         #0.2723405593515382\n",
    "#     ]\n",
    "# )\n"
   ]
  },
  {
   "cell_type": "code",
   "execution_count": null,
   "metadata": {},
   "outputs": [],
   "source": [
    "# write_submission(recommender=recommender, target_users_path=\"input/data_target_users_test.csv\",\n",
    "#                     out_path='output/{}_submission.csv'.format(recommender.RECOMMENDER_NAME))\n"
   ]
  }
 ],
 "metadata": {
  "interpreter": {
   "hash": "132c138808ab9756e2bef2b134cfc077b14fd347b0b11605502e12e9dfc3f6d2"
  },
  "kernelspec": {
   "display_name": "Python 3.9.7 64-bit ('base': conda)",
   "language": "python",
   "name": "python3"
  },
  "language_info": {
   "codemirror_mode": {
    "name": "ipython",
    "version": 3
   },
   "file_extension": ".py",
   "mimetype": "text/x-python",
   "name": "python",
   "nbconvert_exporter": "python",
   "pygments_lexer": "ipython3",
   "version": "3.9.7"
  },
  "orig_nbformat": 4
 },
 "nbformat": 4,
 "nbformat_minor": 2
}
