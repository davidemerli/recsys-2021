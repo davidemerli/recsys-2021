{
 "cells": [
  {
   "cell_type": "code",
   "execution_count": 9,
   "metadata": {},
   "outputs": [],
   "source": [
    "#from Recommenders.Hybrid.SimilarityMergedHybridRecommender import SimilarityMergedHybridRecommender\n",
    "#from src.GraphBased.P3alphaRecommender import P3alphaRecommender\n",
    "from Recommenders.GraphBased.RP3betaCBFRecommender import RP3betaCBFRecommender\n",
    "from Recommenders.KNN.ItemKNNCFRecommender import ItemKNNCFRecommender\n",
    "from Recommenders.MatrixFactorization.PureSVDRecommender import PureSVDItemRecommender\n",
    "from Recommenders.Hybrid.GeneralizedMergedHybridRecommender import GeneralizedMergedHybridRecommender\n",
    "from Recommenders.SLIM.SLIMElasticNetRecommender import MultiThreadSLIM_ElasticNet\n",
    "from Recommenders.Implicit.FeatureCombinedImplicitALSRecommender import FeatureCombinedImplicitALSRecommender\n",
    "from Recommenders.Hybrid.GeneralizedSimilarityMergedHybridRecommender import GeneralizedSimilarityMergedHybridRecommender\n",
    "from Utils.ICM_preprocessing import *\n",
    "from Utils.data_loader import load_URM, load_ICM\n",
    "from Utils.confidence_scaling import *\n",
    "from Utils.write_submission import write_submission"
   ]
  },
  {
   "cell_type": "code",
   "execution_count": 2,
   "metadata": {},
   "outputs": [],
   "source": [
    "URM_all = load_URM(\"input/data_train.csv\")\n",
    "ICM_all = load_ICM(\"input/data_ICM_subgenre.csv\")\n",
    "\n",
    "ICM_combined = combine(ICM=ICM_all, URM = URM_all)"
   ]
  },
  {
   "cell_type": "code",
   "execution_count": 3,
   "metadata": {},
   "outputs": [],
   "source": [
    "\n",
    "# p3alpha_recommender = P3alphaRecommender(\n",
    "#     URM_train=URM_all,\n",
    "#     verbose=False\n",
    "# )\n",
    "#\n",
    "# p3alpha_recommender.fit(\n",
    "#     topK=int(212.8832860130684),\n",
    "#     alpha=0.4729294763382114,\n",
    "#     implicit=True\n",
    "# )\n"
   ]
  },
  {
   "cell_type": "code",
   "execution_count": 4,
   "metadata": {},
   "outputs": [],
   "source": [
    "# RP3 BETA (Combined) -----------------------------------------\n",
    "\n",
    "rp3betaCombined_recommender= RP3betaCBFRecommender(\n",
    "    URM_train=URM_all,\n",
    "    ICM_train=ICM_combined,\n",
    "    verbose=False\n",
    ")\n",
    "\n",
    "rp3betaCombined_recommender.fit(\n",
    "    topK=int(529.1628484087545),\n",
    "    alpha=0.45304737831676245,\n",
    "    beta=0.226647894170121,\n",
    "    implicit=False\n",
    ")"
   ]
  },
  {
   "cell_type": "code",
   "execution_count": 5,
   "metadata": {},
   "outputs": [
    {
     "name": "stderr",
     "output_type": "stream",
     "text": [
      "WARNING:root:OpenBLAS detected. Its highly recommend to set the environment variable 'export OPENBLAS_NUM_THREADS=1' to disable its internal multithreading\n",
      "100%|██████████| 94/94 [15:48<00:00, 10.09s/it]\n"
     ]
    }
   ],
   "source": [
    "# IALS -----------------------------------------\n",
    "\n",
    "IALS_recommender= FeatureCombinedImplicitALSRecommender(\n",
    "    URM_train=URM_all,\n",
    "    ICM_train=ICM_all,\n",
    "    verbose=True\n",
    ")\n",
    "\n",
    "IALS_recommender.fit(\n",
    "    factors=int(398.601583855084),\n",
    "    regularization=0.01,\n",
    "    use_gpu=False,\n",
    "    iterations=int(94.22855449116447),\n",
    "    num_threads=6,\n",
    "    confidence_scaling=linear_scaling_confidence,\n",
    "    **{\n",
    "        'URM': {\"alpha\": 42.07374324671451},\n",
    "        'ICM': {\"alpha\": 41.72067133975204}\n",
    "    }\n",
    ")\n"
   ]
  },
  {
   "cell_type": "code",
   "execution_count": 11,
   "metadata": {},
   "outputs": [],
   "source": [
    "# SLIM -----------------------------------------    \n",
    "\n",
    "# SLIM_recommender = MultiThreadSLIM_ElasticNet(\n",
    "#         URM_train=ICM_combined.T,\n",
    "#         verbose=False\n",
    "#     )\n",
    "\n",
    "# SLIM_recommender.fit(\n",
    "#     alpha=0.00026894910579512645,\n",
    "#     l1_ratio=0.08074126876487486,\n",
    "#     topK=int(395.376118479588),\n",
    "#     workers=6\n",
    "# )\n",
    "\n",
    "# SLIM_recommender.URM_train = URM_all"
   ]
  },
  {
   "cell_type": "code",
   "execution_count": null,
   "metadata": {},
   "outputs": [],
   "source": [
    "# OTHER STUFF ----------------------------------\n",
    "\n",
    "# rp3betaCBF_recommender= RP3betaCBFRecommender(\n",
    "#     URM_train=URM_all,\n",
    "#     ICM_train=ICM_all,\n",
    "#     verbose=False\n",
    "# )\n",
    "#\n",
    "# rp3betaCBF_recommender.fit(\n",
    "#     topK=int(117.1),\n",
    "#     alpha=0.9882,\n",
    "#     beta=0.7703,\n",
    "#     implicit=False\n",
    "# )\n",
    "\n",
    "# itemKNN_recommender= ItemKNNCFRecommender(\n",
    "#     URM_train=URM_all,\n",
    "#     verbose=False\n",
    "# )\n",
    "#\n",
    "# itemKNN_recommender.fit(\n",
    "#     topK=100,\n",
    "#     shrink=50\n",
    "# )\n",
    "#\n",
    "# pureSVD_recommender= PureSVDItemRecommender(\n",
    "#     URM_train=URM_all,\n",
    "#     verbose=False\n",
    "# )\n",
    "#\n",
    "#\n",
    "# pureSVD_recommender.fit(\n",
    "#     num_factors=772,\n",
    "#     topK= 599\n",
    "# )"
   ]
  },
  {
   "cell_type": "code",
   "execution_count": null,
   "metadata": {},
   "outputs": [],
   "source": [
    "# Generalized Merged Hybrid -----------------------------------------\n",
    "\n",
    "recommender = GeneralizedMergedHybridRecommender(\n",
    "    URM_train=URM_all,\n",
    "    recommenders=[\n",
    "        IALS_recommender,\n",
    "        rp3betaCombined_recommender\n",
    "        #SLIM_recommender\n",
    "    ],\n",
    "    verbose=False\n",
    ")"
   ]
  },
  {
   "cell_type": "code",
   "execution_count": null,
   "metadata": {},
   "outputs": [],
   "source": [
    "\n",
    "recommender.fit(\n",
    "    alphas=[\n",
    "        0.6836750866517823,\n",
    "        0.45969038157844144,\n",
    "        #0.2723405593515382\n",
    "    ]\n",
    ")"
   ]
  },
  {
   "cell_type": "code",
   "execution_count": null,
   "metadata": {},
   "outputs": [],
   "source": [
    "write_submission(recommender=recommender, target_users_path=\"input/data_target_users_test.csv\",\n",
    "                    out_path='output/{}_submission.csv'.format(recommender.RECOMMENDER_NAME))"
   ]
  }
 ],
 "metadata": {
  "interpreter": {
   "hash": "132c138808ab9756e2bef2b134cfc077b14fd347b0b11605502e12e9dfc3f6d2"
  },
  "kernelspec": {
   "display_name": "Python 3.9.7 64-bit ('base': conda)",
   "language": "python",
   "name": "python3"
  },
  "language_info": {
   "codemirror_mode": {
    "name": "ipython",
    "version": 3
   },
   "file_extension": ".py",
   "mimetype": "text/x-python",
   "name": "python",
   "nbconvert_exporter": "python",
   "pygments_lexer": "ipython3",
   "version": "3.9.7"
  },
  "orig_nbformat": 4
 },
 "nbformat": 4,
 "nbformat_minor": 2
}
