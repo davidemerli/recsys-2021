{
 "cells": [
  {
   "cell_type": "code",
   "execution_count": 2,
   "metadata": {},
   "outputs": [],
   "source": [
    "import numpy as np\n",
    "import matplotlib.pyplot as pyplot\n",
    "%matplotlib inline  \n",
    "import pandas as pd\n",
    "import scipy.sparse as sps\n",
    "\n",
    "from Data_manager.Movielens.Movielens10MReader import Movielens10MReader\n",
    "from Evaluation.Evaluator import EvaluatorHoldout\n",
    "from Data_manager.split_functions.split_train_validation_random_holdout import split_train_in_two_percentage_global_sample"
   ]
  },
  {
   "cell_type": "code",
   "execution_count": 3,
   "metadata": {},
   "outputs": [],
   "source": [
    "def load_URM(file_path):\n",
    "\n",
    "    data = pd.read_csv(file_path)\n",
    "\n",
    "\n",
    "    user_list = data['row'].tolist()\n",
    "    item_list = data['col'].tolist()\n",
    "    rating_list = data['data'].tolist()\n",
    "\n",
    "    return sps.coo_matrix((rating_list, (user_list, item_list))).tocsr()"
   ]
  },
  {
   "cell_type": "code",
   "execution_count": 4,
   "metadata": {},
   "outputs": [],
   "source": [
    "URM_all = load_URM('input/data_train.csv')\n"
   ]
  },
  {
   "cell_type": "code",
   "execution_count": 5,
   "metadata": {},
   "outputs": [
    {
     "name": "stdout",
     "output_type": "stream",
     "text": [
      "Warning: 7 (0.05 %) of 13650 users have no sampled items\n",
      "Warning: 13 (0.10 %) of 13650 users have no sampled items\n",
      "EvaluatorHoldout: Ignoring 13637 ( 0.1%) Users that have less than 1 test interactions\n",
      "EvaluatorHoldout: Ignoring 13643 ( 0.1%) Users that have less than 1 test interactions\n"
     ]
    }
   ],
   "source": [
    "URM_train, URM_test = split_train_in_two_percentage_global_sample(URM_all, train_percentage = 0.80)\n",
    "URM_train, URM_validation = split_train_in_two_percentage_global_sample(URM_train, train_percentage = 0.80)\n",
    "\n",
    "evaluator_validation = EvaluatorHoldout(URM_validation, cutoff_list=[10])\n",
    "evaluator_test = EvaluatorHoldout(URM_test, cutoff_list=[10])"
   ]
  },
  {
   "cell_type": "code",
   "execution_count": 9,
   "metadata": {},
   "outputs": [],
   "source": [
    "from Recommenders.Similarity.Compute_Similarity_Python import Compute_Similarity_Python\n",
    "import numpy as np\n",
    "\n",
    "class ItemKNNCFRecommender(object):\n",
    "    \n",
    "    def __init__(self, URM):\n",
    "        self.URM = URM\n",
    "        \n",
    "            \n",
    "    def fit(self, topK=50, shrink=100, normalize=True, similarity=\"cosine\"):\n",
    "        \n",
    "        similarity_object = Compute_Similarity_Python(self.URM, shrink=shrink, \n",
    "                                                  topK=topK, normalize=normalize, \n",
    "                                                  similarity = similarity)\n",
    "        \n",
    "        self.W_sparse = similarity_object.compute_similarity()\n",
    "\n",
    "        \n",
    "    def recommend(self, user_id, at=None, exclude_seen=True):\n",
    "        # compute the scores using the dot product\n",
    "        user_profile = self.URM[user_id]\n",
    "        scores = user_profile.dot(self.W_sparse).toarray().ravel()\n",
    "\n",
    "        if exclude_seen:\n",
    "            scores = self.filter_seen(user_id, scores)\n",
    "\n",
    "        # rank items\n",
    "        ranking = scores.argsort()[::-1]\n",
    "            \n",
    "        return ranking[:at]\n",
    "    \n",
    "    \n",
    "    def filter_seen(self, user_id, scores):\n",
    "\n",
    "        start_pos = self.URM.indptr[user_id]\n",
    "        end_pos = self.URM.indptr[user_id+1]\n",
    "\n",
    "        user_profile = self.URM.indices[start_pos:end_pos]\n",
    "        \n",
    "        scores[user_profile] = -np.inf\n",
    "\n",
    "        return scores\n",
    "\n"
   ]
  },
  {
   "cell_type": "code",
   "execution_count": 10,
   "metadata": {},
   "outputs": [
    {
     "name": "stdout",
     "output_type": "stream",
     "text": [
      "Similarity column 18059 (100.0%), 1457.69 column/sec. Elapsed time 12.39 sec\n"
     ]
    }
   ],
   "source": [
    "recommender = ItemKNNCFRecommender(URM_train)\n",
    "recommender.fit(shrink=0.0, topK=50)"
   ]
  },
  {
   "cell_type": "code",
   "execution_count": 11,
   "metadata": {},
   "outputs": [
    {
     "name": "stdout",
     "output_type": "stream",
     "text": [
      "UserKNNCFRecommender: URM Detected 3 ( 0.0%) items with no interactions.\n",
      "Unable to load Cython Compute_Similarity, reverting to Python\n",
      "Similarity column 13650 (100.0%), 1494.30 column/sec. Elapsed time 9.13 sec\n",
      "EvaluatorHoldout: Processed 13636 (100.0%) in 3.53 sec. Users per second: 3867\n",
      "UserKNNCFRecommender: URM Detected 3 ( 0.0%) items with no interactions.\n",
      "Unable to load Cython Compute_Similarity, reverting to Python\n",
      "Similarity column 13650 (100.0%), 1489.22 column/sec. Elapsed time 9.17 sec\n",
      "EvaluatorHoldout: Processed 13636 (100.0%) in 4.57 sec. Users per second: 2982\n",
      "UserKNNCFRecommender: URM Detected 3 ( 0.0%) items with no interactions.\n",
      "Unable to load Cython Compute_Similarity, reverting to Python\n",
      "Similarity column 13650 (100.0%), 1465.21 column/sec. Elapsed time 9.32 sec\n",
      "EvaluatorHoldout: Processed 13636 (100.0%) in 5.48 sec. Users per second: 2490\n",
      "UserKNNCFRecommender: URM Detected 3 ( 0.0%) items with no interactions.\n",
      "Unable to load Cython Compute_Similarity, reverting to Python\n",
      "Similarity column 13650 (100.0%), 1442.81 column/sec. Elapsed time 9.46 sec\n",
      "EvaluatorHoldout: Processed 13636 (100.0%) in 6.82 sec. Users per second: 1998\n",
      "UserKNNCFRecommender: URM Detected 3 ( 0.0%) items with no interactions.\n",
      "Unable to load Cython Compute_Similarity, reverting to Python\n",
      "Similarity column 13650 (100.0%), 1368.07 column/sec. Elapsed time 9.98 sec\n",
      "EvaluatorHoldout: Processed 13636 (100.0%) in 9.65 sec. Users per second: 1413\n"
     ]
    }
   ],
   "source": [
    "from Recommenders.KNN.UserKNNCFRecommender import UserKNNCFRecommender\n",
    "\n",
    "x_tick = [10, 50, 100, 200, 500]\n",
    "MAP_per_k = []\n",
    "\n",
    "for topK in x_tick:\n",
    "    \n",
    "    recommender = UserKNNCFRecommender(URM_train)\n",
    "    recommender.fit(shrink=0.0, topK=topK)\n",
    "    \n",
    "    result_df, _ = evaluator_validation.evaluateRecommender(recommender)\n",
    "    \n",
    "    MAP_per_k.append(result_df.loc[10][\"MAP\"])"
   ]
  },
  {
   "cell_type": "code",
   "execution_count": 12,
   "metadata": {},
   "outputs": [
    {
     "data": {
      "image/png": "[encoded data removed]",
      "text/plain": [
       "<Figure size 432x288 with 1 Axes>"
      ]
     },
     "metadata": {
      "needs_background": "light"
     },
     "output_type": "display_data"
    }
   ],
   "source": [
    "pyplot.plot(x_tick, MAP_per_k)\n",
    "pyplot.ylabel('MAP')\n",
    "pyplot.xlabel('TopK')\n",
    "pyplot.show()"
   ]
  },
  {
   "cell_type": "code",
   "execution_count": 13,
   "metadata": {},
   "outputs": [
    {
     "name": "stdout",
     "output_type": "stream",
     "text": [
      "UserKNNCFRecommender: URM Detected 3 ( 0.0%) items with no interactions.\n",
      "Unable to load Cython Compute_Similarity, reverting to Python\n",
      "Similarity column 13650 (100.0%), 1374.00 column/sec. Elapsed time 9.93 sec\n",
      "EvaluatorHoldout: Processed 13636 (100.0%) in 5.64 sec. Users per second: 2416\n",
      "UserKNNCFRecommender: URM Detected 3 ( 0.0%) items with no interactions.\n",
      "Unable to load Cython Compute_Similarity, reverting to Python\n",
      "Similarity column 13650 (100.0%), 1426.69 column/sec. Elapsed time 9.57 sec\n",
      "EvaluatorHoldout: Processed 13636 (100.0%) in 5.74 sec. Users per second: 2377\n",
      "UserKNNCFRecommender: URM Detected 3 ( 0.0%) items with no interactions.\n",
      "Unable to load Cython Compute_Similarity, reverting to Python\n",
      "Similarity column 13650 (100.0%), 1450.05 column/sec. Elapsed time 9.41 sec\n",
      "EvaluatorHoldout: Processed 13636 (100.0%) in 5.74 sec. Users per second: 2376\n",
      "UserKNNCFRecommender: URM Detected 3 ( 0.0%) items with no interactions.\n",
      "Unable to load Cython Compute_Similarity, reverting to Python\n",
      "Similarity column 13650 (100.0%), 1335.27 column/sec. Elapsed time 10.22 sec\n",
      "EvaluatorHoldout: Processed 13636 (100.0%) in 5.71 sec. Users per second: 2387\n",
      "UserKNNCFRecommender: URM Detected 3 ( 0.0%) items with no interactions.\n",
      "Unable to load Cython Compute_Similarity, reverting to Python\n",
      "Similarity column 13650 (100.0%), 1342.78 column/sec. Elapsed time 10.17 sec\n",
      "EvaluatorHoldout: Processed 13636 (100.0%) in 5.64 sec. Users per second: 2416\n",
      "UserKNNCFRecommender: URM Detected 3 ( 0.0%) items with no interactions.\n",
      "Unable to load Cython Compute_Similarity, reverting to Python\n",
      "Similarity column 13650 (100.0%), 1366.13 column/sec. Elapsed time 9.99 sec\n",
      "EvaluatorHoldout: Processed 13636 (100.0%) in 5.58 sec. Users per second: 2444\n",
      "UserKNNCFRecommender: URM Detected 3 ( 0.0%) items with no interactions.\n",
      "Unable to load Cython Compute_Similarity, reverting to Python\n",
      "Similarity column 13650 (100.0%), 1422.83 column/sec. Elapsed time 9.59 sec\n",
      "EvaluatorHoldout: Processed 13636 (100.0%) in 5.53 sec. Users per second: 2467\n",
      "UserKNNCFRecommender: URM Detected 3 ( 0.0%) items with no interactions.\n",
      "Unable to load Cython Compute_Similarity, reverting to Python\n",
      "Similarity column 13650 (100.0%), 1434.77 column/sec. Elapsed time 9.51 sec\n",
      "EvaluatorHoldout: Processed 13636 (100.0%) in 5.47 sec. Users per second: 2492\n",
      "UserKNNCFRecommender: URM Detected 3 ( 0.0%) items with no interactions.\n",
      "Unable to load Cython Compute_Similarity, reverting to Python\n",
      "Similarity column 13650 (100.0%), 1426.22 column/sec. Elapsed time 9.57 sec\n",
      "EvaluatorHoldout: Processed 13636 (100.0%) in 5.43 sec. Users per second: 2512\n",
      "UserKNNCFRecommender: URM Detected 3 ( 0.0%) items with no interactions.\n",
      "Unable to load Cython Compute_Similarity, reverting to Python\n",
      "Similarity column 13650 (100.0%), 1395.75 column/sec. Elapsed time 9.78 sec\n",
      "EvaluatorHoldout: Processed 13636 (100.0%) in 5.48 sec. Users per second: 2488\n"
     ]
    }
   ],
   "source": [
    "x_tick = range(1,11)\n",
    "MAP_per_shrinkage = []\n",
    "\n",
    "for shrink in x_tick:\n",
    "    \n",
    "    recommender = UserKNNCFRecommender(URM_train)\n",
    "    recommender.fit(shrink=shrink, topK=100)\n",
    "    \n",
    "    result_df, _ = evaluator_validation.evaluateRecommender(recommender)\n",
    "    \n",
    "    MAP_per_shrinkage.append(result_df.loc[10][\"MAP\"])"
   ]
  },
  {
   "cell_type": "code",
   "execution_count": 14,
   "metadata": {},
   "outputs": [
    {
     "data": {
      "image/png": "[encoded data removed]",
      "text/plain": [
       "<Figure size 432x288 with 1 Axes>"
      ]
     },
     "metadata": {
      "needs_background": "light"
     },
     "output_type": "display_data"
    }
   ],
   "source": [
    "pyplot.plot(x_tick, MAP_per_shrinkage)\n",
    "pyplot.ylabel('MAP')\n",
    "pyplot.xlabel('Shrinkage')\n",
    "pyplot.show()"
   ]
  },
  {
   "cell_type": "code",
   "execution_count": 18,
   "metadata": {},
   "outputs": [
    {
     "name": "stdout",
     "output_type": "stream",
     "text": [
      "Similarity column 18059 (100.0%), 1302.66 column/sec. Elapsed time 13.86 sec\n"
     ]
    }
   ],
   "source": [
    "recommender = ItemKNNCFRecommender(URM_train)\n",
    "recommender.fit(shrink=5.0, topK=700)"
   ]
  },
  {
   "cell_type": "code",
   "execution_count": 21,
   "metadata": {},
   "outputs": [
    {
     "name": "stderr",
     "output_type": "stream",
     "text": [
      "getting recommendations: 100%|██████████| 13650/13650 [02:57<00:00, 77.04it/s]\n"
     ]
    },
    {
     "data": {
      "text/html": [
       "<div>\n",
       "<style scoped>\n",
       "    .dataframe tbody tr th:only-of-type {\n",
       "        vertical-align: middle;\n",
       "    }\n",
       "\n",
       "    .dataframe tbody tr th {\n",
       "        vertical-align: top;\n",
       "    }\n",
       "\n",
       "    .dataframe thead th {\n",
       "        text-align: right;\n",
       "    }\n",
       "</style>\n",
       "<table border=\"1\" class=\"dataframe\">\n",
       "  <thead>\n",
       "    <tr style=\"text-align: right;\">\n",
       "      <th></th>\n",
       "      <th>user_id</th>\n",
       "      <th>item_list</th>\n",
       "    </tr>\n",
       "  </thead>\n",
       "  <tbody>\n",
       "    <tr>\n",
       "      <th>0</th>\n",
       "      <td>0</td>\n",
       "      <td>13229 3899 3473 2665 8635 9131 15119 8207 1736...</td>\n",
       "    </tr>\n",
       "    <tr>\n",
       "      <th>1</th>\n",
       "      <td>1</td>\n",
       "      <td>3473 13914 15778 7295 16365 14400 14181 2665 1...</td>\n",
       "    </tr>\n",
       "    <tr>\n",
       "      <th>2</th>\n",
       "      <td>2</td>\n",
       "      <td>3899 17330 6214 8635 5273 5925 13134 10865 617...</td>\n",
       "    </tr>\n",
       "    <tr>\n",
       "      <th>3</th>\n",
       "      <td>3</td>\n",
       "      <td>8194 14358 3899 17788 6975 17330 2665 13229 10...</td>\n",
       "    </tr>\n",
       "    <tr>\n",
       "      <th>4</th>\n",
       "      <td>4</td>\n",
       "      <td>3473 6177 13134 14358 17330 2665 13229 16365 3...</td>\n",
       "    </tr>\n",
       "    <tr>\n",
       "      <th>...</th>\n",
       "      <td>...</td>\n",
       "      <td>...</td>\n",
       "    </tr>\n",
       "    <tr>\n",
       "      <th>13645</th>\n",
       "      <td>13645</td>\n",
       "      <td>8635 6177 10865 1259 13914 13134 2665 9441 194...</td>\n",
       "    </tr>\n",
       "    <tr>\n",
       "      <th>13646</th>\n",
       "      <td>13646</td>\n",
       "      <td>3473 8635 16846 2665 14181 13914 13134 5273 12...</td>\n",
       "    </tr>\n",
       "    <tr>\n",
       "      <th>13647</th>\n",
       "      <td>13647</td>\n",
       "      <td>8635 16365 17330 16846 5273 2665 10865 14181 1...</td>\n",
       "    </tr>\n",
       "    <tr>\n",
       "      <th>13648</th>\n",
       "      <td>13648</td>\n",
       "      <td>3899 6177 8635 6214 17330 14358 15119 14181 13...</td>\n",
       "    </tr>\n",
       "    <tr>\n",
       "      <th>13649</th>\n",
       "      <td>13649</td>\n",
       "      <td>1259 5273 4088 13134 1941 14181 17330 3899 863...</td>\n",
       "    </tr>\n",
       "  </tbody>\n",
       "</table>\n",
       "<p>13650 rows × 2 columns</p>\n",
       "</div>"
      ],
      "text/plain": [
       "      user_id                                          item_list\n",
       "0           0  13229 3899 3473 2665 8635 9131 15119 8207 1736...\n",
       "1           1  3473 13914 15778 7295 16365 14400 14181 2665 1...\n",
       "2           2  3899 17330 6214 8635 5273 5925 13134 10865 617...\n",
       "3           3  8194 14358 3899 17788 6975 17330 2665 13229 10...\n",
       "4           4  3473 6177 13134 14358 17330 2665 13229 16365 3...\n",
       "...       ...                                                ...\n",
       "13645   13645  8635 6177 10865 1259 13914 13134 2665 9441 194...\n",
       "13646   13646  3473 8635 16846 2665 14181 13914 13134 5273 12...\n",
       "13647   13647  8635 16365 17330 16846 5273 2665 10865 14181 1...\n",
       "13648   13648  3899 6177 8635 6214 17330 14358 15119 14181 13...\n",
       "13649   13649  1259 5273 4088 13134 1941 14181 17330 3899 863...\n",
       "\n",
       "[13650 rows x 2 columns]"
      ]
     },
     "execution_count": 21,
     "metadata": {},
     "output_type": "execute_result"
    }
   ],
   "source": [
    "import pandas as pd\n",
    "from tqdm import tqdm\n",
    "submission = pd.DataFrame(columns=['user_id', 'item_list'])\n",
    "\n",
    "for i in tqdm(range(13650), desc=\"getting recommendations\"):\n",
    "    item_list = recommender.recommend(i, 10)\n",
    "    submission.loc[i] = [i, ' '.join([str(i) for i in item_list])]\n",
    "\n",
    "submission"
   ]
  },
  {
   "cell_type": "code",
   "execution_count": 25,
   "metadata": {},
   "outputs": [],
   "source": [
    "from datetime import datetime\n",
    "submission.to_csv(f'output/cf_{str(datetime.now())}.csv', index=False)"
   ]
  }
 ],
 "metadata": {
  "interpreter": {
   "hash": "4e1d9a8909477db77738c33245c29c7265277ef753467dede8cf3f814cde494e"
  },
  "kernelspec": {
   "display_name": "Python 3.9.7 64-bit",
   "name": "python3"
  },
  "language_info": {
   "codemirror_mode": {
    "name": "ipython",
    "version": 3
   },
   "file_extension": ".py",
   "mimetype": "text/x-python",
   "name": "python",
   "nbconvert_exporter": "python",
   "pygments_lexer": "ipython3",
   "version": "3.10.0"
  },
  "orig_nbformat": 4
 },
 "nbformat": 4,
 "nbformat_minor": 2
}
