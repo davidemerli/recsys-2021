{
 "cells": [
  {
   "cell_type": "markdown",
   "metadata": {},
   "source": [
    "#### Import libraries"
   ]
  },
  {
   "cell_type": "code",
   "execution_count": 82,
   "metadata": {},
   "outputs": [],
   "source": [
    "import numpy as np\n",
    "import matplotlib.pyplot as pyplot\n",
    "%matplotlib inline\n",
    "import pandas as pd\n",
    "import scipy.sparse as sps\n",
    "from Evaluation.Evaluator import EvaluatorHoldout\n",
    "from Data_manager.split_functions.split_train_validation_random_holdout import split_train_in_two_percentage_global_sample"
   ]
  },
  {
   "cell_type": "markdown",
   "metadata": {},
   "source": [
    "#### Data analysis and Visualization"
   ]
  },
  {
   "cell_type": "code",
   "execution_count": 83,
   "metadata": {},
   "outputs": [],
   "source": [
    "df = pd.read_csv('input/data_train.csv')\n",
    "n_interactions = len(df)\n",
    "n_users = len(df['row'].unique())\n",
    "n_items = len(df['col'].unique())"
   ]
  },
  {
   "cell_type": "code",
   "execution_count": 84,
   "metadata": {},
   "outputs": [
    {
     "name": "stdout",
     "output_type": "stream",
     "text": [
      "\n",
      "13'650 unique users \n",
      "18'059 unique items \n",
      "5'285'664 total interactions\n"
     ]
    }
   ],
   "source": [
    "def pretty(x):\n",
    "    return '{:,}'.format(x).replace(',', \"'\")\n",
    "\n",
    "print(f\"\\n{pretty(n_users)} unique users \\n{pretty(n_items)} unique items \\n{pretty(n_interactions)} total interactions\")"
   ]
  },
  {
   "cell_type": "markdown",
   "metadata": {},
   "source": [
    "#### Personal Data loader"
   ]
  },
  {
   "cell_type": "code",
   "execution_count": 85,
   "metadata": {},
   "outputs": [],
   "source": [
    "from data_loader import load_URM\n",
    "\n",
    "URM_all = load_URM('input/data_train.csv')"
   ]
  },
  {
   "cell_type": "markdown",
   "metadata": {},
   "source": [
    "#### Train - validation - test split"
   ]
  },
  {
   "cell_type": "code",
   "execution_count": 86,
   "metadata": {},
   "outputs": [
    {
     "name": "stdout",
     "output_type": "stream",
     "text": [
      "Warning: 6 (0.04 %) of 13650 users have no sampled items\n",
      "Warning: 10 (0.07 %) of 13650 users have no sampled items\n",
      "EvaluatorHoldout: Ignoring 13640 ( 0.1%) Users that have less than 1 test interactions\n",
      "EvaluatorHoldout: Ignoring 13644 ( 0.0%) Users that have less than 1 test interactions\n"
     ]
    }
   ],
   "source": [
    "URM_train, URM_test = split_train_in_two_percentage_global_sample(URM_all, train_percentage = 0.80)\n",
    "URM_train, URM_validation = split_train_in_two_percentage_global_sample(URM_train, train_percentage = 0.80)\n",
    "\n",
    "evaluator_validation = EvaluatorHoldout(URM_validation, cutoff_list=[10])\n",
    "evaluator_test = EvaluatorHoldout(URM_test, cutoff_list=[10])"
   ]
  },
  {
   "cell_type": "markdown",
   "metadata": {},
   "source": [
    "#### Grid search for finding optimal value for TopK"
   ]
  },
  {
   "cell_type": "code",
   "execution_count": 87,
   "metadata": {},
   "outputs": [
    {
     "name": "stdout",
     "output_type": "stream",
     "text": [
      "UserKNNCFRecommender: URM Detected 2 ( 0.0%) items with no interactions.\n",
      "Unable to load Cython Compute_Similarity, reverting to Python\n",
      "Similarity column 13650 (100.0%), 1383.42 column/sec. Elapsed time 9.87 sec\n",
      "EvaluatorHoldout: Processed 13640 (100.0%) in 5.64 sec. Users per second: 2420\n",
      "UserKNNCFRecommender: URM Detected 2 ( 0.0%) items with no interactions.\n",
      "Unable to load Cython Compute_Similarity, reverting to Python\n",
      "Similarity column 13650 (100.0%), 1406.17 column/sec. Elapsed time 9.71 sec\n",
      "EvaluatorHoldout: Processed 13640 (100.0%) in 9.76 sec. Users per second: 1398\n",
      "UserKNNCFRecommender: URM Detected 2 ( 0.0%) items with no interactions.\n",
      "Unable to load Cython Compute_Similarity, reverting to Python\n",
      "Similarity column 13650 (100.0%), 1292.39 column/sec. Elapsed time 10.56 sec\n",
      "EvaluatorHoldout: Processed 13640 (100.0%) in 11.02 sec. Users per second: 1238\n",
      "UserKNNCFRecommender: URM Detected 2 ( 0.0%) items with no interactions.\n",
      "Unable to load Cython Compute_Similarity, reverting to Python\n",
      "Similarity column 13650 (100.0%), 1268.83 column/sec. Elapsed time 10.76 sec\n",
      "EvaluatorHoldout: Processed 13640 (100.0%) in 11.64 sec. Users per second: 1172\n",
      "UserKNNCFRecommender: URM Detected 2 ( 0.0%) items with no interactions.\n",
      "Unable to load Cython Compute_Similarity, reverting to Python\n",
      "Similarity column 13650 (100.0%), 1299.71 column/sec. Elapsed time 10.50 sec\n",
      "EvaluatorHoldout: Processed 13640 (100.0%) in 12.42 sec. Users per second: 1098\n",
      "UserKNNCFRecommender: URM Detected 2 ( 0.0%) items with no interactions.\n",
      "Unable to load Cython Compute_Similarity, reverting to Python\n",
      "Similarity column 13650 (100.0%), 1254.51 column/sec. Elapsed time 10.88 sec\n",
      "EvaluatorHoldout: Processed 13640 (100.0%) in 13.27 sec. Users per second: 1028\n"
     ]
    }
   ],
   "source": [
    "from Recommenders.KNN.UserKNNCFRecommender import UserKNNCFRecommender\n",
    "\n",
    "x_tick = [100, 500, 700, 800, 900, 1000]\n",
    "MAP_per_k = []\n",
    "\n",
    "for topK in x_tick:\n",
    "    \n",
    "    recommender = UserKNNCFRecommender(URM_train)\n",
    "    recommender.fit(shrink=0.0, topK=topK)\n",
    "    \n",
    "    result_df, _ = evaluator_validation.evaluateRecommender(recommender)\n",
    "    \n",
    "    MAP_per_k.append(result_df.loc[10][\"MAP\"])"
   ]
  },
  {
   "cell_type": "code",
   "execution_count": 88,
   "metadata": {},
   "outputs": [
    {
     "data": {
      "image/png": "[encoded data removed]",
      "text/plain": [
       "<Figure size 432x288 with 1 Axes>"
      ]
     },
     "metadata": {
      "needs_background": "light"
     },
     "output_type": "display_data"
    }
   ],
   "source": [
    "pyplot.plot(x_tick, MAP_per_k)\n",
    "pyplot.ylabel('MAP')\n",
    "pyplot.xlabel('TopK')\n",
    "pyplot.show()"
   ]
  },
  {
   "cell_type": "markdown",
   "metadata": {},
   "source": [
    "from the above graph, it seems that the optimal value for topK = 700"
   ]
  },
  {
   "cell_type": "markdown",
   "metadata": {},
   "source": [
    "#### Grid search for finding the optimal value for shrinkage"
   ]
  },
  {
   "cell_type": "code",
   "execution_count": 89,
   "metadata": {},
   "outputs": [
    {
     "name": "stdout",
     "output_type": "stream",
     "text": [
      "UserKNNCFRecommender: URM Detected 2 ( 0.0%) items with no interactions.\n",
      "Unable to load Cython Compute_Similarity, reverting to Python\n",
      "Similarity column 13650 (100.0%), 1495.98 column/sec. Elapsed time 9.12 sec\n",
      "EvaluatorHoldout: Processed 13640 (100.0%) in 5.49 sec. Users per second: 2486\n",
      "UserKNNCFRecommender: URM Detected 2 ( 0.0%) items with no interactions.\n",
      "Unable to load Cython Compute_Similarity, reverting to Python\n",
      "Similarity column 13650 (100.0%), 1506.66 column/sec. Elapsed time 9.06 sec\n",
      "EvaluatorHoldout: Processed 13640 (100.0%) in 5.54 sec. Users per second: 2461\n",
      "UserKNNCFRecommender: URM Detected 2 ( 0.0%) items with no interactions.\n",
      "Unable to load Cython Compute_Similarity, reverting to Python\n",
      "Similarity column 13650 (100.0%), 1402.92 column/sec. Elapsed time 9.73 sec\n",
      "EvaluatorHoldout: Processed 13640 (100.0%) in 5.69 sec. Users per second: 2399\n",
      "UserKNNCFRecommender: URM Detected 2 ( 0.0%) items with no interactions.\n",
      "Unable to load Cython Compute_Similarity, reverting to Python\n",
      "Similarity column 13650 (100.0%), 1354.68 column/sec. Elapsed time 10.08 sec\n",
      "EvaluatorHoldout: Processed 13640 (100.0%) in 5.72 sec. Users per second: 2386\n",
      "UserKNNCFRecommender: URM Detected 2 ( 0.0%) items with no interactions.\n",
      "Unable to load Cython Compute_Similarity, reverting to Python\n",
      "Similarity column 13650 (100.0%), 1358.95 column/sec. Elapsed time 10.04 sec\n",
      "EvaluatorHoldout: Processed 13640 (100.0%) in 5.46 sec. Users per second: 2497\n"
     ]
    }
   ],
   "source": [
    "x_tick = range(1,6)\n",
    "MAP_per_shrinkage = []\n",
    "\n",
    "for shrink in x_tick:\n",
    "    \n",
    "    recommender = UserKNNCFRecommender(URM_train)\n",
    "    recommender.fit(shrink=shrink, topK=100)\n",
    "    \n",
    "    result_df, _ = evaluator_validation.evaluateRecommender(recommender)\n",
    "    \n",
    "    MAP_per_shrinkage.append(result_df.loc[10][\"MAP\"])"
   ]
  },
  {
   "cell_type": "code",
   "execution_count": 90,
   "metadata": {},
   "outputs": [
    {
     "data": {
      "image/png": "[encoded data removed]",
      "text/plain": [
       "<Figure size 432x288 with 1 Axes>"
      ]
     },
     "metadata": {
      "needs_background": "light"
     },
     "output_type": "display_data"
    }
   ],
   "source": [
    "pyplot.plot(x_tick, MAP_per_shrinkage)\n",
    "pyplot.ylabel('MAP')\n",
    "pyplot.xlabel('Shrinkage')\n",
    "pyplot.show()"
   ]
  },
  {
   "cell_type": "markdown",
   "metadata": {},
   "source": [
    "from the above graph, it seems that the optimal value for shrinkage = 0"
   ]
  },
  {
   "cell_type": "code",
   "execution_count": 91,
   "metadata": {},
   "outputs": [
    {
     "name": "stdout",
     "output_type": "stream",
     "text": [
      "ItemKNNCFRecommender: URM Detected 2 ( 0.0%) items with no interactions.\n",
      "Unable to load Cython Compute_Similarity, reverting to Python\n",
      "Similarity column 18059 (100.0%), 1305.78 column/sec. Elapsed time 13.83 sec\n"
     ]
    }
   ],
   "source": [
    "from Recommenders.KNN.ItemKNNCFRecommender import ItemKNNCFRecommender\n",
    "recommender = ItemKNNCFRecommender(URM_train)\n",
    "recommender.fit(shrink=0.0, topK=700)"
   ]
  },
  {
   "cell_type": "code",
   "execution_count": 92,
   "metadata": {},
   "outputs": [
    {
     "name": "stderr",
     "output_type": "stream",
     "text": [
      "getting recommendations: 100%|██████████| 13650/13650 [00:30<00:00, 447.98it/s]\n"
     ]
    },
    {
     "data": {
      "text/html": [
       "<div>\n",
       "<style scoped>\n",
       "    .dataframe tbody tr th:only-of-type {\n",
       "        vertical-align: middle;\n",
       "    }\n",
       "\n",
       "    .dataframe tbody tr th {\n",
       "        vertical-align: top;\n",
       "    }\n",
       "\n",
       "    .dataframe thead th {\n",
       "        text-align: right;\n",
       "    }\n",
       "</style>\n",
       "<table border=\"1\" class=\"dataframe\">\n",
       "  <thead>\n",
       "    <tr style=\"text-align: right;\">\n",
       "      <th></th>\n",
       "      <th>user_id</th>\n",
       "      <th>item_list</th>\n",
       "    </tr>\n",
       "  </thead>\n",
       "  <tbody>\n",
       "    <tr>\n",
       "      <th>0</th>\n",
       "      <td>0</td>\n",
       "      <td>3899 13229 17788 2665 16365 3768 640 9131 1313...</td>\n",
       "    </tr>\n",
       "    <tr>\n",
       "      <th>1</th>\n",
       "      <td>1</td>\n",
       "      <td>3473 5925 9871 14400 8502 13914 1137 2665 1793...</td>\n",
       "    </tr>\n",
       "    <tr>\n",
       "      <th>2</th>\n",
       "      <td>2</td>\n",
       "      <td>3473 14181 3899 5273 17330 1551 13134 6177 621...</td>\n",
       "    </tr>\n",
       "    <tr>\n",
       "      <th>3</th>\n",
       "      <td>3</td>\n",
       "      <td>8194 15082 16359 3473 15551 3899 16365 17330 7...</td>\n",
       "    </tr>\n",
       "    <tr>\n",
       "      <th>4</th>\n",
       "      <td>4</td>\n",
       "      <td>3473 6214 13229 5273 8635 2665 5925 6177 15119...</td>\n",
       "    </tr>\n",
       "    <tr>\n",
       "      <th>...</th>\n",
       "      <td>...</td>\n",
       "      <td>...</td>\n",
       "    </tr>\n",
       "    <tr>\n",
       "      <th>13645</th>\n",
       "      <td>13645</td>\n",
       "      <td>3899 17330 1259 6177 13134 13914 9441 10865 11...</td>\n",
       "    </tr>\n",
       "    <tr>\n",
       "      <th>13646</th>\n",
       "      <td>13646</td>\n",
       "      <td>3473 6177 3899 8635 13134 14358 16846 5273 125...</td>\n",
       "    </tr>\n",
       "    <tr>\n",
       "      <th>13647</th>\n",
       "      <td>13647</td>\n",
       "      <td>3473 6177 8635 16365 2665 16846 17330 6975 131...</td>\n",
       "    </tr>\n",
       "    <tr>\n",
       "      <th>13648</th>\n",
       "      <td>13648</td>\n",
       "      <td>6177 3473 3899 6214 8635 13134 2665 15119 1418...</td>\n",
       "    </tr>\n",
       "    <tr>\n",
       "      <th>13649</th>\n",
       "      <td>13649</td>\n",
       "      <td>5925 5273 17330 4088 14181 1137 7309 9871 5403...</td>\n",
       "    </tr>\n",
       "  </tbody>\n",
       "</table>\n",
       "<p>13650 rows × 2 columns</p>\n",
       "</div>"
      ],
      "text/plain": [
       "      user_id                                          item_list\n",
       "0           0  3899 13229 17788 2665 16365 3768 640 9131 1313...\n",
       "1           1  3473 5925 9871 14400 8502 13914 1137 2665 1793...\n",
       "2           2  3473 14181 3899 5273 17330 1551 13134 6177 621...\n",
       "3           3  8194 15082 16359 3473 15551 3899 16365 17330 7...\n",
       "4           4  3473 6214 13229 5273 8635 2665 5925 6177 15119...\n",
       "...       ...                                                ...\n",
       "13645   13645  3899 17330 1259 6177 13134 13914 9441 10865 11...\n",
       "13646   13646  3473 6177 3899 8635 13134 14358 16846 5273 125...\n",
       "13647   13647  3473 6177 8635 16365 2665 16846 17330 6975 131...\n",
       "13648   13648  6177 3473 3899 6214 8635 13134 2665 15119 1418...\n",
       "13649   13649  5925 5273 17330 4088 14181 1137 7309 9871 5403...\n",
       "\n",
       "[13650 rows x 2 columns]"
      ]
     },
     "execution_count": 92,
     "metadata": {},
     "output_type": "execute_result"
    }
   ],
   "source": [
    "import pandas as pd\n",
    "from tqdm import tqdm\n",
    "submission = pd.DataFrame(columns=['user_id', 'item_list'])\n",
    "\n",
    "for i in tqdm(range(n_users), desc=\"getting recommendations\"):\n",
    "    item_list = recommender.recommend(i, 10)\n",
    "    submission.loc[i] = [i, ' '.join([str(i) for i in item_list])]\n",
    "\n",
    "submission"
   ]
  },
  {
   "cell_type": "code",
   "execution_count": 93,
   "metadata": {},
   "outputs": [],
   "source": [
    "from datetime import datetime\n",
    "submission.to_csv(f'output/cf_{str(datetime.now())}.csv', index=False)"
   ]
  }
 ],
 "metadata": {
  "interpreter": {
   "hash": "4e1d9a8909477db77738c33245c29c7265277ef753467dede8cf3f814cde494e"
  },
  "kernelspec": {
   "display_name": "Python 3.9.7 64-bit",
   "name": "python3"
  },
  "language_info": {
   "codemirror_mode": {
    "name": "ipython",
    "version": 3
   },
   "file_extension": ".py",
   "mimetype": "text/x-python",
   "name": "python",
   "nbconvert_exporter": "python",
   "pygments_lexer": "ipython3",
   "version": "3.9.7"
  },
  "orig_nbformat": 4
 },
 "nbformat": 4,
 "nbformat_minor": 2
}
