{
  "nbformat": 4,
  "nbformat_minor": 0,
  "metadata": {
    "orig_nbformat": 4,
    "colab": {
      "name": "data-explorer.ipynb",
      "provenance": []
    },
    "language_info": {
      "name": "python"
    },
    "kernelspec": {
      "name": "python3",
      "display_name": "Python 3"
    }
  },
  "cells": [
    {
      "cell_type": "code",
      "metadata": {
        "colab": {
          "base_uri": "https://localhost:8080/"
        },
        "id": "X7KPJvRymm4R",
        "outputId": "2f37fe0a-8b5a-40f1-e5d8-5ad7c40a7355"
      },
      "source": [
        "!pip install kaggle --upgrade"
      ],
      "execution_count": 4,
      "outputs": [
        {
          "output_type": "stream",
          "name": "stdout",
          "text": [
            "Requirement already satisfied: kaggle in /usr/local/lib/python3.7/dist-packages (1.5.12)\n",
            "Requirement already satisfied: certifi in /usr/local/lib/python3.7/dist-packages (from kaggle) (2021.10.8)\n",
            "Requirement already satisfied: requests in /usr/local/lib/python3.7/dist-packages (from kaggle) (2.23.0)\n",
            "Requirement already satisfied: six>=1.10 in /usr/local/lib/python3.7/dist-packages (from kaggle) (1.15.0)\n",
            "Requirement already satisfied: python-dateutil in /usr/local/lib/python3.7/dist-packages (from kaggle) (2.8.2)\n",
            "Requirement already satisfied: python-slugify in /usr/local/lib/python3.7/dist-packages (from kaggle) (5.0.2)\n",
            "Requirement already satisfied: tqdm in /usr/local/lib/python3.7/dist-packages (from kaggle) (4.62.3)\n",
            "Requirement already satisfied: urllib3 in /usr/local/lib/python3.7/dist-packages (from kaggle) (1.24.3)\n",
            "Requirement already satisfied: text-unidecode>=1.3 in /usr/local/lib/python3.7/dist-packages (from python-slugify->kaggle) (1.3)\n",
            "Requirement already satisfied: chardet<4,>=3.0.2 in /usr/local/lib/python3.7/dist-packages (from requests->kaggle) (3.0.4)\n",
            "Requirement already satisfied: idna<3,>=2.5 in /usr/local/lib/python3.7/dist-packages (from requests->kaggle) (2.10)\n"
          ]
        }
      ]
    },
    {
      "cell_type": "code",
      "metadata": {
        "id": "tdjAEjNGp3D1"
      },
      "source": [
        "!mkdir ~/.kaggle\n",
        "!echo '{\"username\":\"davidemerli\",\"key\":\"eede9373e39be06137b8fe3038db617e\"}' > ~/.kaggle/kaggle.json\n",
        "!chmod 600 ~/.kaggle/kaggle.json"
      ],
      "execution_count": 2,
      "outputs": []
    },
    {
      "cell_type": "code",
      "metadata": {
        "colab": {
          "base_uri": "https://localhost:8080/"
        },
        "id": "jA5XzGGwmqsu",
        "outputId": "14db9a1e-61b7-48d7-b7e4-23e02e8468c7"
      },
      "source": [
        "!kaggle competitions download -c recommender-system-2021-challenge-polimi"
      ],
      "execution_count": 5,
      "outputs": [
        {
          "output_type": "stream",
          "name": "stdout",
          "text": [
            "Warning: Looks like you're using an outdated API Version, please consider updating (server 1.5.12 / client 1.5.4)\n",
            "Downloading data_target_users_test.csv to /content\n",
            "  0% 0.00/82.5k [00:00<?, ?B/s]\n",
            "100% 82.5k/82.5k [00:00<00:00, 51.9MB/s]\n",
            "Downloading data_train.csv.zip to /content\n",
            " 48% 7.00M/14.5M [00:00<00:00, 70.9MB/s]\n",
            "100% 14.5M/14.5M [00:00<00:00, 92.9MB/s]\n",
            "Downloading alg_sample_submission.csv to /content\n",
            "  0% 0.00/349k [00:00<?, ?B/s]\n",
            "100% 349k/349k [00:00<00:00, 113MB/s]\n",
            "Downloading data_ICM_genre.csv to /content\n",
            "  0% 0.00/218k [00:00<?, ?B/s]\n",
            "100% 218k/218k [00:00<00:00, 167MB/s]\n",
            "Downloading data_ICM_channel.csv to /content\n",
            "  0% 0.00/332k [00:00<?, ?B/s]\n",
            "100% 332k/332k [00:00<00:00, 103MB/s]\n",
            "Downloading data_ICM_subgenre.csv to /content\n",
            "  0% 0.00/237k [00:00<?, ?B/s]\n",
            "100% 237k/237k [00:00<00:00, 74.4MB/s]\n",
            "Downloading data_ICM_event.csv.zip to /content\n",
            "  0% 0.00/1.40M [00:00<?, ?B/s]\n",
            "100% 1.40M/1.40M [00:00<00:00, 91.6MB/s]\n"
          ]
        }
      ]
    },
    {
      "cell_type": "code",
      "metadata": {
        "id": "bXJClmiNr4I1"
      },
      "source": [
        "!unzip -q data_train.csv.zip"
      ],
      "execution_count": 6,
      "outputs": []
    }
  ]
}